{
 "cells": [
  {
   "cell_type": "markdown",
   "metadata": {},
   "source": [
    "## Stateless Problem: Upper-Confidence Bound (UCB) Algorithm\n",
    "\n",
    "上置信界"
   ]
  },
  {
   "cell_type": "code",
   "execution_count": 1,
   "metadata": {},
   "outputs": [
    {
     "data": {
      "text/plain": [
       "(array([0.26631461, 0.70173377, 0.2953646 , 0.73779701, 0.47427784,\n",
       "        0.24967037, 0.98262074, 0.65507951, 0.66494959, 0.31302049]),\n",
       " [[1], [1], [1], [1], [1], [1], [1], [1], [1], [1]])"
      ]
     },
     "execution_count": 1,
     "metadata": {},
     "output_type": "execute_result"
    }
   ],
   "source": [
    "import numpy as np\n",
    "\n",
    "# 每个老虎机中奖概率均匀分布, 共10个\n",
    "probs = np.random.uniform(size=10)\n",
    "\n",
    "# 记录每个老虎机的返回值\n",
    "rewards = [[1] for _ in range(10)]\n",
    "\n",
    "probs, rewards"
   ]
  },
  {
   "cell_type": "code",
   "execution_count": 2,
   "metadata": {},
   "outputs": [
    {
     "data": {
      "text/plain": [
       "0"
      ]
     },
     "execution_count": 2,
     "metadata": {},
     "output_type": "execute_result"
    }
   ],
   "source": [
    "import random\n",
    "\n",
    "# 概率递减的贪婪算法\n",
    "def choose_one():\n",
    "  # modified code here\n",
    "  # 求出已经完成了多少了\n",
    "  play_count = sum([len(i) for i in rewards])\n",
    "  play_count = np.array(play_count)\n",
    "  \n",
    "  # 求出上置信界\n",
    "  ucb = play_count.sum() ** 0.5 / play_count * 2\n",
    "  ucb = ucb ** 0.5\n",
    "\n",
    "  # 计算每个老虎机的平均奖励\n",
    "  rewards_mean = [np.mean(i) for i in rewards]\n",
    "  rewards_mean = np.array(rewards_mean)\n",
    "  \n",
    "  # ucb 期望求和\n",
    "  ucb += rewards_mean\n",
    "  \n",
    "  # 选择ucb最大的拉杆\n",
    "  return ucb.argmax()\n",
    "\n",
    "  # modified code end\n",
    "\n",
    "choose_one()"
   ]
  },
  {
   "cell_type": "code",
   "execution_count": 3,
   "metadata": {},
   "outputs": [
    {
     "data": {
      "text/plain": [
       "[[1, 0], [1], [1], [1], [1], [1], [1], [1], [1], [1]]"
      ]
     },
     "execution_count": 3,
     "metadata": {},
     "output_type": "execute_result"
    }
   ],
   "source": [
    "def try_and_play():\n",
    "  i = choose_one()\n",
    "  \n",
    "  # act\n",
    "  reward = 0\n",
    "  if random.random() < probs[i]:\n",
    "    reward = 1\n",
    "    \n",
    "  # 记录结果\n",
    "  rewards[i].append(reward)\n",
    "  \n",
    "try_and_play()\n",
    "\n",
    "rewards"
   ]
  },
  {
   "cell_type": "code",
   "execution_count": 4,
   "metadata": {},
   "outputs": [
    {
     "data": {
      "text/plain": [
       "(4913.103691959661, 4897)"
      ]
     },
     "execution_count": 4,
     "metadata": {},
     "output_type": "execute_result"
    }
   ],
   "source": [
    "def get_result():\n",
    "  # 玩 N 次\n",
    "  for _ in range(5000):\n",
    "    try_and_play()\n",
    "    \n",
    "  # 期望的最好结果\n",
    "  target = probs.max() * 5000\n",
    "  \n",
    "  # 实际结果\n",
    "  result = sum([sum(i) for i in rewards])\n",
    "  \n",
    "  return target, result\n",
    "\n",
    "get_result()"
   ]
  },
  {
   "cell_type": "markdown",
   "metadata": {},
   "source": []
  }
 ],
 "metadata": {
  "kernelspec": {
   "display_name": "RL_learning2",
   "language": "python",
   "name": "python3"
  },
  "language_info": {
   "codemirror_mode": {
    "name": "ipython",
    "version": 3
   },
   "file_extension": ".py",
   "mimetype": "text/x-python",
   "name": "python",
   "nbconvert_exporter": "python",
   "pygments_lexer": "ipython3",
   "version": "3.9.21"
  }
 },
 "nbformat": 4,
 "nbformat_minor": 2
}
