{
 "cells": [
  {
   "cell_type": "markdown",
   "metadata": {},
   "source": [
    "## Stateless Problem: Descent Greedy Algorithm"
   ]
  },
  {
   "cell_type": "code",
   "execution_count": 1,
   "metadata": {},
   "outputs": [
    {
     "data": {
      "text/plain": [
       "(array([0.95238523, 0.50167377, 0.59288052, 0.94667491, 0.5171544 ,\n",
       "        0.18022183, 0.90209422, 0.21248386, 0.64152631, 0.35440309]),\n",
       " [[1], [1], [1], [1], [1], [1], [1], [1], [1], [1]])"
      ]
     },
     "execution_count": 1,
     "metadata": {},
     "output_type": "execute_result"
    }
   ],
   "source": [
    "import numpy as np\n",
    "\n",
    "# 每个老虎机中奖概率均匀分布, 共10个\n",
    "probs = np.random.uniform(size=10)\n",
    "\n",
    "# 记录每个老虎机的返回值\n",
    "rewards = [[1] for _ in range(10)]\n",
    "\n",
    "probs, rewards"
   ]
  },
  {
   "cell_type": "code",
   "execution_count": null,
   "metadata": {},
   "outputs": [
    {
     "data": {
      "text/plain": [
       "0"
      ]
     },
     "execution_count": 2,
     "metadata": {},
     "output_type": "execute_result"
    }
   ],
   "source": [
    "import random\n",
    "\n",
    "# 概率递减的贪婪算法\n",
    "def choose_one():\n",
    "  # modified code here\n",
    "  # 求出已经完成了多少了\n",
    "  play_count = sum([len(i) for i in rewards])\n",
    "  \n",
    "  # 随机选择的概率下降\n",
    "  if random.random() < 1 / play_count:\n",
    "    return random.randint(0, 9)\n",
    "  # modified code end\n",
    "  \n",
    "  # 计算每个老虎机的平均奖励\n",
    "  rewards_mean = [np.mean(i) for i in rewards]\n",
    "  \n",
    "  # 选择期望奖励估值最大的拉杆\n",
    "  return np.argmax(rewards_mean)\n",
    "\n",
    "choose_one()"
   ]
  },
  {
   "cell_type": "code",
   "execution_count": 3,
   "metadata": {},
   "outputs": [
    {
     "data": {
      "text/plain": [
       "[[1, 1], [1], [1], [1], [1], [1], [1], [1], [1], [1]]"
      ]
     },
     "execution_count": 3,
     "metadata": {},
     "output_type": "execute_result"
    }
   ],
   "source": [
    "def try_and_play():\n",
    "  i = choose_one()\n",
    "  \n",
    "  # act\n",
    "  reward = 0\n",
    "  if random.random() < probs[i]:\n",
    "    reward = 1\n",
    "    \n",
    "  # 记录结果\n",
    "  rewards[i].append(reward)\n",
    "  \n",
    "try_and_play()\n",
    "\n",
    "rewards"
   ]
  },
  {
   "cell_type": "code",
   "execution_count": 4,
   "metadata": {},
   "outputs": [
    {
     "data": {
      "text/plain": [
       "(4761.926151968946, 4760)"
      ]
     },
     "execution_count": 4,
     "metadata": {},
     "output_type": "execute_result"
    }
   ],
   "source": [
    "def get_result():\n",
    "  # 玩 N 次\n",
    "  for _ in range(5000):\n",
    "    try_and_play()\n",
    "    \n",
    "  # 期望的最好结果\n",
    "  target = probs.max() * 5000\n",
    "  \n",
    "  # 实际结果\n",
    "  result = sum([sum(i) for i in rewards])\n",
    "  \n",
    "  return target, result\n",
    "\n",
    "get_result()"
   ]
  },
  {
   "cell_type": "markdown",
   "metadata": {},
   "source": []
  }
 ],
 "metadata": {
  "kernelspec": {
   "display_name": "RL_learning2",
   "language": "python",
   "name": "python3"
  },
  "language_info": {
   "codemirror_mode": {
    "name": "ipython",
    "version": 3
   },
   "file_extension": ".py",
   "mimetype": "text/x-python",
   "name": "python",
   "nbconvert_exporter": "python",
   "pygments_lexer": "ipython3",
   "version": "3.9.21"
  }
 },
 "nbformat": 4,
 "nbformat_minor": 2
}
