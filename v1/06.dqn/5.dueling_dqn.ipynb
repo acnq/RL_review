{
 "cells": [
  {
   "cell_type": "markdown",
   "metadata": {},
   "source": [
    "## DQN algorithm: Double DQN"
   ]
  },
  {
   "cell_type": "code",
   "execution_count": 7,
   "metadata": {},
   "outputs": [
    {
     "data": {
      "text/plain": [
       "array([-0.7351283 , -0.67792803,  0.85054547], dtype=float32)"
      ]
     },
     "execution_count": 7,
     "metadata": {},
     "output_type": "execute_result"
    }
   ],
   "source": [
    "import gym\n",
    "\n",
    "# 定义环境\n",
    "class MyWrapper(gym.Wrapper):\n",
    "  def __init__(self):\n",
    "    env = gym.make('Pendulum-v1', render_mode='rgb_array')\n",
    "    super().__init__(env)\n",
    "    self.env = env\n",
    "    self.step_n = 0\n",
    "  \n",
    "  def reset(self):\n",
    "    state, _ = self.env.reset()\n",
    "    self.step_n = 0\n",
    "    return state\n",
    "    \n",
    "  def step(self, action):\n",
    "    state, reward, terminated, truncated, info = self.env.step(action)\n",
    "    done = terminated or truncated\n",
    "    self.step_n += 1\n",
    "    if self.step_n >= 200:\n",
    "      done = True\n",
    "    return state, reward, done, info \n",
    "  \n",
    "env = MyWrapper()\n",
    "env.reset()"
   ]
  },
  {
   "cell_type": "code",
   "execution_count": 8,
   "metadata": {},
   "outputs": [
    {
     "data": {
      "image/png": "[encoded data removed]",
      "text/plain": [
       "<Figure size 640x480 with 1 Axes>"
      ]
     },
     "metadata": {},
     "output_type": "display_data"
    }
   ],
   "source": [
    "from matplotlib import pyplot as plt\n",
    "\n",
    "%matplotlib inline\n",
    "\n",
    "# 打印游戏\n",
    "def show():\n",
    "  plt.imshow(env.render())\n",
    "  plt.show()\n",
    "  \n",
    "show()"
   ]
  },
  {
   "cell_type": "code",
   "execution_count": 9,
   "metadata": {},
   "outputs": [],
   "source": [
    "# 测试游戏环境\n",
    "# code changed"
   ]
  },
  {
   "cell_type": "code",
   "execution_count": 10,
   "metadata": {},
   "outputs": [
    {
     "data": {
      "text/plain": [
       "torch.Size([5, 11])"
      ]
     },
     "execution_count": 10,
     "metadata": {},
     "output_type": "execute_result"
    }
   ],
   "source": [
    "import torch\n",
    "\n",
    "# code changed -----------------------------\n",
    "# Dueling DQN和其他DQN模型不同的点，是她的网络结构\n",
    "\n",
    "class VAnet(torch.nn.Module):\n",
    "  def __init__(self):\n",
    "    super().__init__()\n",
    "    \n",
    "    self.fc = torch.nn.Sequential(\n",
    "      torch.nn.Linear(3, 128),\n",
    "      torch.nn.ReLU(),\n",
    "    )\n",
    "    \n",
    "    self.fc_A = torch.nn.Linear(128, 11)\n",
    "    self.fc_V = torch.nn.Linear(128, 1)\n",
    "    \n",
    "  def forward(self, x):\n",
    "    # [5, 11] -> [5, 128] -> [5, 11]\n",
    "    A = self.fc_A(self.fc(x))\n",
    "    \n",
    "    # [5, 11] -> [5, 128] -> [5, 11]\n",
    "    V = self.fc_V(self.fc(x))\n",
    "    \n",
    "    # [5, 11] -> [5] -> [5, 1]\n",
    "    A_mean = A.mean(dim=1).reshape(-1, 1)\n",
    "    \n",
    "    # [5, 11] - [5, 1] = [5, 11]\n",
    "    A -= A_mean\n",
    "    \n",
    "    # Q = A + V\n",
    "    # [5, 11] + [5, 1] = [5, 11]\n",
    "    Q = A + V\n",
    "    \n",
    "    return Q\n",
    "    \n",
    "VAnet()(torch.randn(5, 3)).shape   \n",
    "# code chang end -----------------------------"
   ]
  },
  {
   "cell_type": "code",
   "execution_count": 11,
   "metadata": {},
   "outputs": [
    {
     "data": {
      "text/plain": [
       "(VAnet(\n",
       "   (fc): Sequential(\n",
       "     (0): Linear(in_features=3, out_features=128, bias=True)\n",
       "     (1): ReLU()\n",
       "   )\n",
       "   (fc_A): Linear(in_features=128, out_features=11, bias=True)\n",
       "   (fc_V): Linear(in_features=128, out_features=1, bias=True)\n",
       " ),\n",
       " VAnet(\n",
       "   (fc): Sequential(\n",
       "     (0): Linear(in_features=3, out_features=128, bias=True)\n",
       "     (1): ReLU()\n",
       "   )\n",
       "   (fc_A): Linear(in_features=128, out_features=11, bias=True)\n",
       "   (fc_V): Linear(in_features=128, out_features=1, bias=True)\n",
       " ))"
      ]
     },
     "execution_count": 11,
     "metadata": {},
     "output_type": "execute_result"
    }
   ],
   "source": [
    "import torch\n",
    "\n",
    "# 计算动作的模型，也是真正用于预测的模型\n",
    "model = VAnet()\n",
    "\n",
    "# 经验模型，用于评估一个状态的分数\n",
    "next_model = VAnet()\n",
    "\n",
    "# model参数复制给next_model\n",
    "next_model.load_state_dict(model.state_dict())\n",
    "\n",
    "model, next_model"
   ]
  },
  {
   "cell_type": "code",
   "execution_count": 12,
   "metadata": {},
   "outputs": [
    {
     "data": {
      "text/plain": [
       "(10, 2.0)"
      ]
     },
     "execution_count": 12,
     "metadata": {},
     "output_type": "execute_result"
    }
   ],
   "source": [
    "import random\n",
    "\n",
    "# 得到一个动作\n",
    "def get_action(state):\n",
    "  # 走神经网络，得到一个动作\n",
    "  state = torch.FloatTensor(state).reshape(1, 3)\n",
    "  action = model(state).argmax().item()\n",
    "  \n",
    "  if random.random() < 0.01:\n",
    "    action = random.choice(range(11))\n",
    "    \n",
    "  # 离散动作连续化\n",
    "  action_c = action\n",
    "  action_c /= 10\n",
    "  action_c *= 4\n",
    "  action_c -= 2\n",
    "  \n",
    "  return action, action_c\n",
    "\n",
    "get_action([0.29292667, 0.9561349, 1.0957013])"
   ]
  },
  {
   "cell_type": "code",
   "execution_count": 13,
   "metadata": {},
   "outputs": [
    {
     "data": {
      "text/plain": [
       "((200, 0), 200)"
      ]
     },
     "execution_count": 13,
     "metadata": {},
     "output_type": "execute_result"
    }
   ],
   "source": [
    "#样本池\n",
    "datas = []\n",
    "\n",
    "\n",
    "#向样本池中添加N条数据,删除M条最古老的数据\n",
    "def update_data():\n",
    "  old_count = len(datas)\n",
    "\n",
    "  #玩到新增了N个数据为止\n",
    "  while len(datas) - old_count < 200:\n",
    "    #初始化游戏\n",
    "    state = env.reset()\n",
    "\n",
    "    #玩到游戏结束为止\n",
    "    over = False\n",
    "    while not over: \n",
    "      #根据当前状态得到一个动作\n",
    "      action, action_c = get_action(state)\n",
    "\n",
    "      #执行动作,得到反馈\n",
    "      next_state, reward, over, _ = env.step([action_c])\n",
    "\n",
    "      #记录数据样本\n",
    "      datas.append((state, action, reward, next_state, over))\n",
    "\n",
    "      #更新游戏状态,开始下一个动作\n",
    "      state = next_state\n",
    "\n",
    "  update_count = len(datas) - old_count\n",
    "  drop_count = max(len(datas) - 5000, 0)\n",
    "\n",
    "  #数据上限,超出时从最古老的开始删除\n",
    "  while len(datas) > 5000:\n",
    "    datas.pop(0)\n",
    "\n",
    "  return update_count, drop_count\n",
    "\n",
    "update_data(), len(datas)"
   ]
  },
  {
   "cell_type": "code",
   "execution_count": 16,
   "metadata": {},
   "outputs": [
    {
     "data": {
      "text/plain": [
       "(torch.Size([64, 3]),\n",
       " torch.Size([64, 1]),\n",
       " torch.Size([64, 1]),\n",
       " torch.Size([64, 3]),\n",
       " torch.Size([64, 1]))"
      ]
     },
     "execution_count": 16,
     "metadata": {},
     "output_type": "execute_result"
    }
   ],
   "source": [
    "# 获取一批数据样本\n",
    "def get_sample():\n",
    "  # 从样本池中采样\n",
    "  samples = random.sample(datas, 64)\n",
    "  \n",
    "  # [b, 3]\n",
    "  state = torch.FloatTensor([i[0] for i in samples]).reshape(-1, 3)\n",
    "  # [b, 1]\n",
    "  action = torch.LongTensor([i[1] for i in samples]).reshape(-1, 1)\n",
    "  # [b, 1]\n",
    "  reward = torch.FloatTensor([i[2] for i in samples]).reshape(-1, 1)\n",
    "  # [b, 3]\n",
    "  next_state = torch.FloatTensor([i[3] for i in samples]).reshape(-1, 3)\n",
    "  # [b, 1]\n",
    "  over = torch.LongTensor([i[4] for i in samples]).reshape(-1, 1)\n",
    "  \n",
    "  return state, action, reward, next_state, over\n",
    "\n",
    "state, action, reward, next_state, over = get_sample()\n",
    "\n",
    "state.shape, action.shape, reward.shape, next_state.shape, over.shape"
   ]
  },
  {
   "cell_type": "code",
   "execution_count": 15,
   "metadata": {},
   "outputs": [
    {
     "data": {
      "text/plain": [
       "torch.Size([64, 1])"
      ]
     },
     "execution_count": 15,
     "metadata": {},
     "output_type": "execute_result"
    }
   ],
   "source": [
    "def get_value(state, action):\n",
    "  # 使用状态计算出动作的logits\n",
    "  # [b, 3] -> [b, 11]\n",
    "  value = model(state)\n",
    "  \n",
    "  #根据实际使用的action取出每一个值\n",
    "  #这个值就是模型评估的在该状态下,执行动作的分数\n",
    "  #在执行动作前,显然并不知道会得到的反馈和next_state\n",
    "  #所以这里不能也不需要考虑next_state和reward\n",
    "  #[b, 11] -> [b, 1]\n",
    "  value = value.gather(dim=1, index=action)\n",
    "  return value\n",
    "\n",
    "get_value(state, action).shape"
   ]
  },
  {
   "cell_type": "code",
   "execution_count": 17,
   "metadata": {},
   "outputs": [
    {
     "data": {
      "text/plain": [
       "torch.Size([64, 1])"
      ]
     },
     "execution_count": 17,
     "metadata": {},
     "output_type": "execute_result"
    }
   ],
   "source": [
    "def get_target(reward, next_state, over):\n",
    "  #上面已经把模型认为的状态下执行动作的分数给评估出来了\n",
    "  #下面使用next_state和reward计算真实的分数\n",
    "  #针对一个状态,它到底应该多少分,可以使用以往模型积累的经验评估\n",
    "  #这也是没办法的办法,因为显然没有精确解,这里使用延迟更新的next_model评估\n",
    "\n",
    "  #使用next_state计算下一个状态的分数\n",
    "  #[b, 3] -> [b, 11]\n",
    "  with torch.no_grad():\n",
    "    target = next_model(next_state)\n",
    "    \n",
    "  \"\"\"code changed here\"\"\"\n",
    "  #取所有动作中分数最大的\n",
    "  #[b, 11] -> [b, 1]\n",
    "  target = target.max(dim=1)[0]\n",
    "  target = target.reshape(-1, 1)\n",
    "  \n",
    "  # # model 计算下一个状态的分数\n",
    "  # # [b, c] -> [b, 11]\n",
    "  # with torch.no_grad():\n",
    "  #   model_target = model(next_state)\n",
    "  \n",
    "  # # 取分数最高的下标\n",
    "  # # [b, 11] -> [b, 1]\n",
    "  # model_target = model_target.max(dim=1)[1]\n",
    "  # model_target = model_target.reshape(-1, 1)\n",
    "  \n",
    "  # # 以这个下标取next_value中的值\n",
    "  # # [b, 11] -> [b]\n",
    "  # target = target.gather(dim=1, index=model_target)\n",
    "  \"\"\"code change end \"\"\"\n",
    "  # 下一个状态的分数乘以一个系数,相当于权重\n",
    "  target *= 0.98\n",
    "  \n",
    "  #如果next_state已经游戏结束,则next_state的分数是0\n",
    "  #因为如果下一步已经游戏结束,显然不需要再继续玩下去,也就不需要考虑next_state了.\n",
    "  #[b, 1] * [b, 1] -> [b, 1]\n",
    "  target *= (1 - over)\n",
    "  \n",
    "  #加上reward就是最终的分数\n",
    "  #[b, 1] + [b, 1] -> [b, 1]\n",
    "  target += reward\n",
    "  \n",
    "  return target\n",
    "\n",
    "get_target(reward, next_state, over).shape"
   ]
  },
  {
   "cell_type": "code",
   "execution_count": 18,
   "metadata": {},
   "outputs": [
    {
     "data": {
      "text/plain": [
       "-1454.6130783162394"
      ]
     },
     "execution_count": 18,
     "metadata": {},
     "output_type": "execute_result"
    }
   ],
   "source": [
    "from IPython import display\n",
    "\n",
    "def test(play):\n",
    "  #初始化游戏\n",
    "  state = env.reset()\n",
    "  \n",
    "  #记录反馈值的和,这个值越大越好\n",
    "  reward_sum = 0\n",
    "  \n",
    "  #玩到游戏结束为止\n",
    "  over = False\n",
    "  while not over:\n",
    "    #根据当前状态得到一个动作\n",
    "    _, action_c = get_action(state)\n",
    "    \n",
    "    #执行动作,得到反馈\n",
    "    state, reward, over, _ = env.step([action_c])\n",
    "    reward_sum += reward\n",
    "    \n",
    "    # 打印动画\n",
    "    if play and random.random() < 0.2: # 跳帧\n",
    "      display.clear_output(wait=True)\n",
    "      show()\n",
    "      \n",
    "  return reward_sum\n",
    "\n",
    "test(play=False)"
   ]
  },
  {
   "cell_type": "code",
   "execution_count": 19,
   "metadata": {},
   "outputs": [
    {
     "name": "stdout",
     "output_type": "stream",
     "text": [
      "0 400 200 0 -1411.7335588697729\n",
      "20 4400 200 0 -741.506375300602\n",
      "40 5000 200 200 -276.9076142868852\n",
      "60 5000 200 200 -381.1744234930866\n",
      "80 5000 200 200 -567.0502475282378\n",
      "100 5000 200 200 -239.75270132695223\n",
      "120 5000 200 200 -199.77343314496187\n",
      "140 5000 200 200 -332.9146369661461\n",
      "160 5000 200 200 -380.1801178501353\n",
      "180 5000 200 200 -927.1737383111379\n"
     ]
    }
   ],
   "source": [
    "def train():\n",
    "  model.train()\n",
    "  optimizer = torch.optim.Adam(model.parameters(), lr=2e-2)\n",
    "  loss_fn = torch.nn.MSELoss()\n",
    "  \n",
    "  # 训练N次\n",
    "  for epoch in range(200):\n",
    "    # 更新N条数据\n",
    "    update_count, drop_count = update_data()\n",
    "    \n",
    "    # 每次更新过数据后，学习N次\n",
    "    for i in range(200):\n",
    "      # 采取一批数据\n",
    "      state, action, reward, next_state, over = get_sample()\n",
    "      \n",
    "      # 计算一批样本的value和target\n",
    "      value = get_value(state, action)\n",
    "      target = get_target(reward, next_state, over)\n",
    "      \n",
    "      # 更新参数\n",
    "      loss = loss_fn(value, target)\n",
    "      optimizer.zero_grad()\n",
    "      loss.backward()\n",
    "      optimizer.step()\n",
    "      \n",
    "      # 把model的参数复制给next_model\n",
    "      if (i + 1) % 50 == 0:\n",
    "        next_model.load_state_dict(model.state_dict())\n",
    "    \n",
    "    if epoch % 20 == 0:\n",
    "      test_result = sum([test(play=False) for _ in range(20)]) / 20\n",
    "      print(epoch, len(datas), update_count, drop_count, test_result)\n",
    "      \n",
    "train()"
   ]
  },
  {
   "cell_type": "code",
   "execution_count": 21,
   "metadata": {},
   "outputs": [
    {
     "data": {
      "image/png": "[encoded data removed]",
      "text/plain": [
       "<Figure size 640x480 with 1 Axes>"
      ]
     },
     "metadata": {},
     "output_type": "display_data"
    },
    {
     "data": {
      "text/plain": [
       "-6.931199115904614"
      ]
     },
     "execution_count": 21,
     "metadata": {},
     "output_type": "execute_result"
    }
   ],
   "source": [
    "test(play=True)"
   ]
  }
 ],
 "metadata": {
  "kernelspec": {
   "display_name": "RL_learning2",
   "language": "python",
   "name": "python3"
  },
  "language_info": {
   "codemirror_mode": {
    "name": "ipython",
    "version": 3
   },
   "file_extension": ".py",
   "mimetype": "text/x-python",
   "name": "python",
   "nbconvert_exporter": "python",
   "pygments_lexer": "ipython3",
   "version": "3.9.21"
  }
 },
 "nbformat": 4,
 "nbformat_minor": 2
}
