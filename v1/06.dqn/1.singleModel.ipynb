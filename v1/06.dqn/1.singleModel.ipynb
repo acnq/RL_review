{
 "cells": [
  {
   "cell_type": "markdown",
   "metadata": {},
   "source": [
    "## DQN algorithm: Single Model"
   ]
  },
  {
   "cell_type": "code",
   "execution_count": 2,
   "metadata": {},
   "outputs": [
    {
     "data": {
      "text/plain": [
       "array([ 0.01677735, -0.01249304,  0.00958698, -0.01668741], dtype=float32)"
      ]
     },
     "execution_count": 2,
     "metadata": {},
     "output_type": "execute_result"
    }
   ],
   "source": [
    "import gym\n",
    "\n",
    "# define environment\n",
    "class MyWrapper(gym.Wrapper):\n",
    "  def __init__(self):\n",
    "    env = gym.make('CartPole-v1', render_mode='rgb_array')\n",
    "    super().__init__(env)\n",
    "    self.env = env\n",
    "    self.step_n = 0\n",
    "    \n",
    "  def reset(self):\n",
    "    state, _ = self.env.reset()\n",
    "    self.step_n = 0\n",
    "    return state\n",
    "  \n",
    "  def step(self, action):\n",
    "    state, reward, terminated, truncated, info = self.env.step(action)\n",
    "    done = terminated or truncated\n",
    "    self.step_n += 1\n",
    "    if self.step_n >= 200:\n",
    "      done = True\n",
    "    return state, reward, done, info\n",
    "  \n",
    "env = MyWrapper()\n",
    "env.reset()"
   ]
  },
  {
   "cell_type": "code",
   "execution_count": 3,
   "metadata": {},
   "outputs": [
    {
     "data": {
      "image/png": "[encoded data removed]",
      "text/plain": [
       "<Figure size 640x480 with 1 Axes>"
      ]
     },
     "metadata": {},
     "output_type": "display_data"
    }
   ],
   "source": [
    "from matplotlib import pyplot as plt \n",
    "\n",
    "%matplotlib inline\n",
    "\n",
    "# 打印游戏\n",
    "def show():\n",
    "  plt.imshow(env.render())\n",
    "  plt.show()\n",
    "  \n",
    "show()"
   ]
  },
  {
   "cell_type": "code",
   "execution_count": 4,
   "metadata": {},
   "outputs": [
    {
     "name": "stdout",
     "output_type": "stream",
     "text": [
      "这个游戏的状态用4个数字表示\n",
      "state= [-0.00904684 -0.01857979  0.03750759 -0.0460096 ]\n",
      "这个游戏一共有两个动作，0&1\n",
      "env.action_space= Discrete(2)\n",
      "随机一个动作\n",
      "action= 0\n",
      "执行一个动作，得到下一个状态，奖励，是否结束\n",
      "state= [-0.00941844 -0.21421894  0.0365874   0.25826737]\n",
      "reward= 1.0\n",
      "over= False\n"
     ]
    }
   ],
   "source": [
    "# 测试游戏环境\n",
    "def test_env():\n",
    "  state = env.reset()\n",
    "  print('这个游戏的状态用4个数字表示')\n",
    "  print('state=', state)\n",
    "  \n",
    "  print('这个游戏一共有两个动作，0&1')\n",
    "  print('env.action_space=', env.action_space)\n",
    "  \n",
    "  print('随机一个动作')\n",
    "  action = env.action_space.sample()\n",
    "  print('action=', action)\n",
    "  \n",
    "  print('执行一个动作，得到下一个状态，奖励，是否结束')\n",
    "  state, reward, over, _ = env.step(action)\n",
    "  \n",
    "  print('state=', state)\n",
    "  \n",
    "  print('reward=', reward)\n",
    "  \n",
    "  print('over=', over)\n",
    "  \n",
    "test_env()\n",
    "  \n",
    "  "
   ]
  },
  {
   "cell_type": "code",
   "execution_count": 5,
   "metadata": {},
   "outputs": [
    {
     "data": {
      "text/plain": [
       "Sequential(\n",
       "  (0): Linear(in_features=4, out_features=128, bias=True)\n",
       "  (1): ReLU()\n",
       "  (2): Linear(in_features=128, out_features=2, bias=True)\n",
       ")"
      ]
     },
     "execution_count": 5,
     "metadata": {},
     "output_type": "execute_result"
    }
   ],
   "source": [
    "import torch\n",
    "\n",
    "# 计算动作模型\n",
    "model = torch.nn.Sequential(\n",
    "  torch.nn.Linear(4, 128),\n",
    "  torch.nn.ReLU(),\n",
    "  torch.nn.Linear(128, 2),\n",
    ")\n",
    "\n",
    "model"
   ]
  },
  {
   "cell_type": "code",
   "execution_count": 6,
   "metadata": {},
   "outputs": [
    {
     "data": {
      "text/plain": [
       "1"
      ]
     },
     "execution_count": 6,
     "metadata": {},
     "output_type": "execute_result"
    }
   ],
   "source": [
    "import random\n",
    "\n",
    "# 得到一个动作\n",
    "def get_action(state):\n",
    "  if random.random() < 0.01:\n",
    "    return random.choice([0, 1])\n",
    "  # 走神经网络，得到一个动作\n",
    "  state = torch.FloatTensor(state).reshape(1, 4)\n",
    "  \n",
    "  return model(state).argmax().item()\n",
    "\n",
    "get_action([0.0013847, -0.01194451, 0.04260966, 0.00688801])"
   ]
  },
  {
   "cell_type": "code",
   "execution_count": 7,
   "metadata": {},
   "outputs": [
    {
     "data": {
      "text/plain": [
       "((205, 0), 205)"
      ]
     },
     "execution_count": 7,
     "metadata": {},
     "output_type": "execute_result"
    }
   ],
   "source": [
    "# 样本池\n",
    "datas = []\n",
    "\n",
    "# 向样本池中添加N条数据，删除M条最古老的数据\n",
    "def update_data():\n",
    "  old_count = len(datas)\n",
    "  \n",
    "  # 玩到新增N=200个数据为止\n",
    "  while len(datas) - old_count < 200:\n",
    "    # 初始化游戏\n",
    "    state = env.reset()\n",
    "    \n",
    "    # 玩到游戏结束为止\n",
    "    over = False\n",
    "    while not over:\n",
    "      # 根据当前状态得到一个动作\n",
    "      action = get_action(state)\n",
    "      \n",
    "      # 执行动作，得到反馈\n",
    "      next_state, reward, over, _= env.step(action)\n",
    "      \n",
    "      # 记录数据样本\n",
    "      datas.append((state, action, reward, next_state, over))\n",
    "      \n",
    "      # 更新游戏状态，开始下一个动作\n",
    "      state = next_state\n",
    "  \n",
    "  update_count = len(datas) - old_count\n",
    "  drop_count = max(len(datas) - 10000, 0) \n",
    "  \n",
    "  # 数据上限，超出时从最古老的开始删\n",
    "  while len(datas) > 10000:\n",
    "    datas.pop(0)\n",
    "  \n",
    "  return update_count, drop_count\n",
    "  \n",
    "update_data(), len(datas)"
   ]
  },
  {
   "cell_type": "code",
   "execution_count": 8,
   "metadata": {},
   "outputs": [
    {
     "name": "stderr",
     "output_type": "stream",
     "text": [
      "C:\\Users\\fanyu\\AppData\\Local\\Temp\\ipykernel_9244\\393180581.py:7: UserWarning: Creating a tensor from a list of numpy.ndarrays is extremely slow. Please consider converting the list to a single numpy.ndarray with numpy.array() before converting to a tensor. (Triggered internally at  C:\\actions-runner\\_work\\pytorch\\pytorch\\builder\\windows\\pytorch\\torch\\csrc\\utils\\tensor_new.cpp:204.)\n",
      "  state = torch.FloatTensor([i[0] for i in samples])\n"
     ]
    },
    {
     "data": {
      "text/plain": [
       "(tensor([[ 0.0418,  0.0290, -0.0109, -0.0345],\n",
       "         [ 0.0469,  0.4195, -0.0182, -0.6269],\n",
       "         [ 0.1727,  1.7500, -0.1677, -2.6959],\n",
       "         [-0.0314,  0.5604, -0.0110, -0.8861],\n",
       "         [ 0.0564,  0.7723,  0.0079, -1.1589]]),\n",
       " tensor([1, 1, 1, 1, 1, 1, 1, 1, 1, 1, 1, 1, 1, 1, 1, 1, 1, 1, 1, 1, 1, 1, 1, 1,\n",
       "         1, 1, 1, 1, 1, 1, 1, 1, 1, 1, 1, 1, 1, 1, 1, 1, 1, 1, 1, 1, 1, 1, 1, 1,\n",
       "         1, 1, 1, 1, 1, 1, 1, 1, 1, 1, 1, 1, 1, 1, 1, 1]),\n",
       " tensor([1., 1., 1., 1., 1., 1., 1., 1., 1., 1., 1., 1., 1., 1., 1., 1., 1., 1.,\n",
       "         1., 1., 1., 1., 1., 1., 1., 1., 1., 1., 1., 1., 1., 1., 1., 1., 1., 1.,\n",
       "         1., 1., 1., 1., 1., 1., 1., 1., 1., 1., 1., 1., 1., 1., 1., 1., 1., 1.,\n",
       "         1., 1., 1., 1., 1., 1., 1., 1., 1., 1.]),\n",
       " tensor([[ 0.0424,  0.2243, -0.0116, -0.3306],\n",
       "         [ 0.0553,  0.6149, -0.0308, -0.9253],\n",
       "         [ 0.2077,  1.9459, -0.2216, -3.0347],\n",
       "         [-0.0202,  0.7556, -0.0287, -1.1822],\n",
       "         [ 0.0718,  0.9673, -0.0153, -1.4491]]),\n",
       " tensor([0, 0, 1, 0, 0, 0, 0, 0, 1, 1, 0, 0, 1, 1, 0, 0, 0, 0, 0, 0, 0, 0, 0, 1,\n",
       "         0, 0, 0, 0, 0, 0, 0, 0, 0, 0, 0, 1, 0, 0, 0, 0, 1, 0, 0, 0, 0, 1, 0, 0,\n",
       "         0, 0, 0, 0, 1, 0, 0, 0, 0, 0, 0, 0, 0, 0, 0, 0]))"
      ]
     },
     "execution_count": 8,
     "metadata": {},
     "output_type": "execute_result"
    }
   ],
   "source": [
    "# 获取一批数据样本\n",
    "def get_sample():\n",
    "  # 样本池中采样\n",
    "  samples = random.sample(datas, 64)\n",
    "  \n",
    "  # [b, 4]\n",
    "  state = torch.FloatTensor([i[0] for i in samples])\n",
    "  \n",
    "  # [b]\n",
    "  action = torch.LongTensor([i[1] for i in samples])\n",
    "  \n",
    "  # [b]\n",
    "  reward = torch.FloatTensor([i[2] for i in samples])\n",
    "  \n",
    "  # [b, 4]\n",
    "  next_state = torch.FloatTensor([i[3] for i in samples])\n",
    "  \n",
    "  # [b]\n",
    "  over = torch.LongTensor([i[4] for i in samples])\n",
    "  \n",
    "  return state, action, reward, next_state, over\n",
    "  \n",
    "state, action, reward, next_state, over = get_sample()  \n",
    "  \n",
    "state[:5], action, reward, next_state[:5], over"
   ]
  },
  {
   "cell_type": "code",
   "execution_count": null,
   "metadata": {},
   "outputs": [
    {
     "data": {
      "text/plain": [
       "tensor([0.1219, 0.1030, 0.3462, 0.1140, 0.1589, 0.1047, 0.2013, 0.1188, 0.3240,\n",
       "        0.3110, 0.1543, 0.1212, 0.3438, 0.3083, 0.1032, 0.0971, 0.1295, 0.2054,\n",
       "        0.1698, 0.2439, 0.2743, 0.1229, 0.0907, 0.3336, 0.1094, 0.2464, 0.1118,\n",
       "        0.1589, 0.1315, 0.2475, 0.2463, 0.2557, 0.0949, 0.1150, 0.2784, 0.3138,\n",
       "        0.2847, 0.1292, 0.0973, 0.2176, 0.3101, 0.1041, 0.1233, 0.2825, 0.3120,\n",
       "        0.3238, 0.2361, 0.1055, 0.2809, 0.1543, 0.1575, 0.0968, 0.3214, 0.2012,\n",
       "        0.0993, 0.0969, 0.1515, 0.1628, 0.2582, 0.1226, 0.1157, 0.2180, 0.1219,\n",
       "        0.2482], grad_fn=<IndexBackward0>)"
      ]
     },
     "execution_count": 9,
     "metadata": {},
     "output_type": "execute_result"
    }
   ],
   "source": [
    "def get_value(state, action):\n",
    "  # 状态计算出动作的logits\n",
    "  # [b, c] -> [b, 2]\n",
    "  value = model(state)\n",
    "  \n",
    "  # 根据实际使用的action取出每一个值\n",
    "  # 这个值就是模型评估的在该状态下,执行动作的分数\n",
    "  # 在执行动作前,显然并不知道会得到的反馈和next_state\n",
    "  # 所以这里不能也不需要考虑next_state和reward\n",
    "  # [b, 2] -> [b]\n",
    "  value = value[range(64), action]\n",
    "  return value\n",
    "\n",
    "get_value(state, action)"
   ]
  },
  {
   "cell_type": "code",
   "execution_count": 10,
   "metadata": {},
   "outputs": [
    {
     "data": {
      "text/plain": [
       "tensor([1.1036, 1.1282, 1.0000, 1.1474, 1.2013, 1.1002, 1.2359, 1.1516, 1.0000,\n",
       "        1.0000, 1.1983, 1.1034, 1.0000, 1.0000, 1.1289, 1.1202, 1.1664, 1.2414,\n",
       "        1.2132, 1.2729, 1.2995, 1.1030, 1.1120, 1.0000, 1.0962, 1.2745, 1.0971,\n",
       "        1.2009, 1.1697, 1.2759, 1.2752, 1.2823, 1.1172, 1.0968, 1.3040, 1.0000,\n",
       "        1.3111, 1.1664, 1.1188, 1.2506, 1.0000, 1.0954, 1.1558, 1.3076, 1.3393,\n",
       "        1.0000, 1.2667, 1.1011, 1.3069, 1.1949, 1.2017, 1.1192, 1.0000, 1.2384,\n",
       "        1.0898, 1.1217, 1.1951, 1.2029, 1.2849, 1.1592, 1.0987, 1.2516, 1.1033,\n",
       "        1.2769])"
      ]
     },
     "execution_count": 10,
     "metadata": {},
     "output_type": "execute_result"
    }
   ],
   "source": [
    "def get_target(reward, next_state, over):\n",
    "  # 上面已经把模型认为的状态下执行动作的分数给评估出来了\n",
    "  # 下面使用next_state和reward计算真实的分数\n",
    "  # 针对一个状态,它到底应该多少分,可以使用以往模型积累的经验评估\n",
    "  # 这也是没办法的办法,因为显然没有精确解,这里使用延迟更新的next_model评估\n",
    "\n",
    "  #使用next_state计算下一个状态的分数\n",
    "  #[b, 4] -> [b, 2]\n",
    "  with torch.no_grad():\n",
    "    target = model(next_state)\n",
    "    \n",
    "  #取所有动作中分数最大的\n",
    "  #[b, 2] -> [b]\n",
    "  target = target.max(dim=1)[0]\n",
    "  \n",
    "  # 如果next_state已经游戏结束,则next_state的分数是0\n",
    "  # 因为如果下一步已经游戏结束,显然不需要再继续玩下去,也就不需要考虑next_state了.\n",
    "  # [b]\n",
    "  for i in range(64):\n",
    "    if over[i]:\n",
    "      target[i] = 0\n",
    "      \n",
    "  #下一个状态的分数乘以一个系数,相当于权重\n",
    "  #[b] * [b] -> [b]\n",
    "  target *= 0.98\n",
    "  \n",
    "  #加上reward就是最终的分数\n",
    "  #[b] + [b] -> [b]\n",
    "  target += reward\n",
    "  \n",
    "  return target\n",
    "\n",
    "get_target(reward, next_state, over)"
   ]
  },
  {
   "cell_type": "code",
   "execution_count": 11,
   "metadata": {},
   "outputs": [
    {
     "data": {
      "text/plain": [
       "9.0"
      ]
     },
     "execution_count": 11,
     "metadata": {},
     "output_type": "execute_result"
    }
   ],
   "source": [
    "from IPython import display\n",
    "\n",
    "def test(play):\n",
    "  # 初始化游戏\n",
    "  state = env.reset()\n",
    "  \n",
    "  # 记录反馈值的和，这个值越大越好\n",
    "  reward_sum = 0\n",
    "  \n",
    "  # 玩到游戏结束为止\n",
    "  over = False\n",
    "  while not over:\n",
    "    # 根据当前状态得到一个动作\n",
    "    action = get_action(state)\n",
    "    \n",
    "    # 执行动作，得到反馈\n",
    "    state, reward, over, _ = env.step(action)\n",
    "    reward_sum += reward\n",
    "    \n",
    "    # 打印动画\n",
    "    if play:\n",
    "      display.clear_output(wait=True)\n",
    "      show()\n",
    "      \n",
    "  return reward_sum\n",
    "  \n",
    "test(play=False)"
   ]
  },
  {
   "cell_type": "code",
   "execution_count": 12,
   "metadata": {},
   "outputs": [
    {
     "name": "stdout",
     "output_type": "stream",
     "text": [
      "0 406 201 0 9.45\n",
      "50 10000 271 271 156.4\n",
      "100 10000 316 316 180.45\n",
      "150 10000 200 200 178.4\n",
      "200 10000 200 200 197.25\n",
      "250 10000 366 366 180.4\n",
      "300 10000 200 200 200.0\n",
      "350 10000 350 350 198.75\n",
      "400 10000 200 200 143.1\n",
      "450 10000 200 200 179.75\n"
     ]
    }
   ],
   "source": [
    "def train():\n",
    "  model.train()\n",
    "  optimizer = torch.optim.Adam(model.parameters(), lr=2e-3)\n",
    "  loss_fn = torch.nn.MSELoss()\n",
    "  \n",
    "  # 训练N次\n",
    "  for epoch in range(500):\n",
    "    # 更新N条数据\n",
    "    update_count, drop_count = update_data()\n",
    "    \n",
    "    # 每次更新过数据后，学习N次\n",
    "    for i in range(200):\n",
    "      # 采样一批数据\n",
    "      state, action, reward, next_state, over = get_sample()\n",
    "      \n",
    "      # 计算一批样本的value和target\n",
    "      value = get_value(state, action)\n",
    "      target = get_target(reward, next_state, over)\n",
    "      \n",
    "      # 更新参数\n",
    "      loss = loss_fn(value, target)\n",
    "      optimizer.zero_grad()\n",
    "      loss.backward()\n",
    "      optimizer.step()\n",
    "      \n",
    "    if epoch % 50 == 0:\n",
    "      test_result = sum([test(play=False) for _ in range(20)]) / 20\n",
    "      print(epoch, len(datas), update_count, drop_count, test_result)\n",
    "    \n",
    "train()"
   ]
  },
  {
   "cell_type": "code",
   "execution_count": 14,
   "metadata": {},
   "outputs": [
    {
     "data": {
      "image/png": "[encoded data removed]",
      "text/plain": [
       "<Figure size 640x480 with 1 Axes>"
      ]
     },
     "metadata": {},
     "output_type": "display_data"
    },
    {
     "data": {
      "text/plain": [
       "190.0"
      ]
     },
     "execution_count": 14,
     "metadata": {},
     "output_type": "execute_result"
    }
   ],
   "source": [
    "test(play=True)"
   ]
  }
 ],
 "metadata": {
  "kernelspec": {
   "display_name": "RL_learning2",
   "language": "python",
   "name": "python3"
  },
  "language_info": {
   "codemirror_mode": {
    "name": "ipython",
    "version": 3
   },
   "file_extension": ".py",
   "mimetype": "text/x-python",
   "name": "python",
   "nbconvert_exporter": "python",
   "pygments_lexer": "ipython3",
   "version": "3.9.21"
  }
 },
 "nbformat": 4,
 "nbformat_minor": 2
}
