{
 "cells": [
  {
   "cell_type": "code",
   "execution_count": 1,
   "metadata": {},
   "outputs": [
    {
     "data": {
      "text/plain": [
       "'ground'"
      ]
     },
     "execution_count": 1,
     "metadata": {},
     "output_type": "execute_result"
    }
   ],
   "source": [
    "# 获取一个格子的状态\n",
    "def get_state(row, col):\n",
    "  if row != 3:\n",
    "    return 'ground'\n",
    "  if row == 3 and col == 0:\n",
    "    return 'ground'\n",
    "  if row == 3 and col == 11:\n",
    "    return 'terminal'\n",
    "  \n",
    "  return 'trap'\n",
    "\n",
    "get_state(0, 0)"
   ]
  },
  {
   "cell_type": "code",
   "execution_count": null,
   "metadata": {},
   "outputs": [],
   "source": [
    "# 在一个格子里做一个动作\n",
    "def move(row, col, action):\n",
    "  # 如果当前已经在陷阱或者重点，则不能执行任何动作\n",
    "  if get_state(row, col) in ['trap', 'terminal']:\n",
    "    return row, col, 0\n",
    "  # ↑\n",
    "  if action == 0:\n",
    "    row -= 1\n",
    "  # ↓\n",
    "  if action == 1:\n",
    "    row += 1\n",
    "  # ←\n",
    "  if action == 2:\n",
    "    col -= 1\n",
    "  # →\n",
    "  if action == 3:\n",
    "    col += 1\n",
    "    \n",
    "  # 不允许走到地图外面\n",
    "  row = max(0, row)\n",
    "  row = min(3, row)\n",
    "  col = max(0, col)\n",
    "  "
   ]
  }
 ],
 "metadata": {
  "kernelspec": {
   "display_name": "RL_learning2",
   "language": "python",
   "name": "python3"
  },
  "language_info": {
   "codemirror_mode": {
    "name": "ipython",
    "version": 3
   },
   "file_extension": ".py",
   "mimetype": "text/x-python",
   "name": "python",
   "nbconvert_exporter": "python",
   "pygments_lexer": "ipython3",
   "version": "3.9.21"
  }
 },
 "nbformat": 4,
 "nbformat_minor": 2
}
