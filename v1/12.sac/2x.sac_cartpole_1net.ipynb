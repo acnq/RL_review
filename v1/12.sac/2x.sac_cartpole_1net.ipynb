{
 "cells": [
  {
   "cell_type": "markdown",
   "metadata": {},
   "source": [
    "## Soft Actor-Critic: SAC with 1 Net in Cartpole"
   ]
  },
  {
   "cell_type": "code",
   "execution_count": 1,
   "metadata": {},
   "outputs": [
    {
     "data": {
      "text/plain": [
       "array([-0.04482345, -0.02106024, -0.00408525, -0.01498255], dtype=float32)"
      ]
     },
     "execution_count": 1,
     "metadata": {},
     "output_type": "execute_result"
    }
   ],
   "source": [
    "import gym\n",
    "\n",
    "# 定义环境\n",
    "class MyWrapper(gym.Wrapper):\n",
    "  def __init__(self):\n",
    "    env = gym.make('CartPole-v1', render_mode='rgb_array')\n",
    "    super().__init__(env)\n",
    "    self.env = env\n",
    "    self.step_n = 0\n",
    "  \n",
    "  def reset(self):\n",
    "    state, _ = self.env.reset()\n",
    "    self.step_n = 0\n",
    "    return state\n",
    "    \n",
    "  def step(self, action):\n",
    "    state, reward, terminated, truncated, info = self.env.step(action)\n",
    "    done = terminated or truncated\n",
    "    self.step_n += 1\n",
    "    if self.step_n >= 200:\n",
    "      done = True\n",
    "    return state, reward, done, info \n",
    "  \n",
    "env = MyWrapper()\n",
    "env.reset()"
   ]
  },
  {
   "cell_type": "code",
   "execution_count": 2,
   "metadata": {},
   "outputs": [
    {
     "data": {
      "image/png": "[encoded data removed]",
      "text/plain": [
       "<Figure size 640x480 with 1 Axes>"
      ]
     },
     "metadata": {},
     "output_type": "display_data"
    }
   ],
   "source": [
    "from matplotlib import pyplot as plt\n",
    "\n",
    "%matplotlib inline\n",
    "\n",
    "# 打印游戏\n",
    "def show():\n",
    "  plt.imshow(env.render())\n",
    "  plt.show()\n",
    "  \n",
    "show()"
   ]
  },
  {
   "cell_type": "code",
   "execution_count": 3,
   "metadata": {},
   "outputs": [
    {
     "data": {
      "text/plain": [
       "tensor([[0.5630, 0.4370],\n",
       "        [0.3885, 0.6115]], grad_fn=<SoftmaxBackward0>)"
      ]
     },
     "execution_count": 3,
     "metadata": {},
     "output_type": "execute_result"
    }
   ],
   "source": [
    "import torch\n",
    "\n",
    "# 定义模型\n",
    "model_action = torch.nn.Sequential(\n",
    "\ttorch.nn.Linear(4, 128),\n",
    "\ttorch.nn.ReLU(),\n",
    "  torch.nn.Linear(128, 2),\n",
    "  torch.nn.Softmax(dim=1),\n",
    ")\n",
    "\n",
    "model_action(torch.randn(2, 4))"
   ]
  },
  {
   "cell_type": "code",
   "execution_count": 4,
   "metadata": {},
   "outputs": [
    {
     "data": {
      "text/plain": [
       "tensor([[-0.4456, -0.0895],\n",
       "        [ 0.0692, -0.1535]], grad_fn=<AddmmBackward0>)"
      ]
     },
     "execution_count": 4,
     "metadata": {},
     "output_type": "execute_result"
    }
   ],
   "source": [
    "model_value = torch.nn.Sequential(\n",
    "\ttorch.nn.Linear(4, 128),\n",
    "\ttorch.nn.ReLU(),\n",
    "\ttorch.nn.Linear(128, 2),\n",
    ")\n",
    "\n",
    "\n",
    "model_value_next = torch.nn.Sequential(\n",
    "\ttorch.nn.Linear(4, 128),\n",
    "\ttorch.nn.ReLU(),\n",
    "\ttorch.nn.Linear(128, 2),\n",
    ")\n",
    "\n",
    "model_value_next.load_state_dict(model_value.state_dict())\n",
    "\n",
    "model_value(torch.randn(2, 4))"
   ]
  },
  {
   "cell_type": "code",
   "execution_count": 5,
   "metadata": {},
   "outputs": [
    {
     "data": {
      "text/plain": [
       "0"
      ]
     },
     "execution_count": 5,
     "metadata": {},
     "output_type": "execute_result"
    }
   ],
   "source": [
    "import random\n",
    "\n",
    "# 得到一个动作\n",
    "def get_action(state):\n",
    "  # 走神经网络，得到一个动作\n",
    "  state = torch.FloatTensor(state).reshape(1, 4)\n",
    "  prob = model_action(state)\n",
    "  \n",
    "  # 根据概率选择一个动作\n",
    "  action = random.choices(range(2), weights=prob[0].tolist(), k=1)[0]\n",
    "  \n",
    "  return action\n",
    "\n",
    "get_action([1, 2, 3, 4])"
   ]
  },
  {
   "cell_type": "code",
   "execution_count": 6,
   "metadata": {},
   "outputs": [
    {
     "data": {
      "text/plain": [
       "((215, 0), 215)"
      ]
     },
     "execution_count": 6,
     "metadata": {},
     "output_type": "execute_result"
    }
   ],
   "source": [
    "# 样本池\n",
    "datas = []\n",
    "\n",
    "#向样本池中添加N条数据,删除M条最古老的数据\n",
    "def update_data():\n",
    "\told_count = len(datas)\n",
    "\n",
    "\t# 玩到新增N条数据为止\n",
    "\twhile len(datas) - old_count < 200:\n",
    "    # 初始化游戏\n",
    "\t\tstate = env.reset()\n",
    "  \n",
    "\t\t# 玩到结束\n",
    "\t\tover = False\n",
    "\t\twhile not over:\n",
    "\t\t\taction = get_action(state)\n",
    "\t\t\t\n",
    "\t\t\tnext_state, reward, over, _ = env.step(action)\n",
    "\t\t\t\n",
    "\t\t\tdatas.append((state, action, reward, next_state, over))\n",
    "\t\t\t\n",
    "\t\t\tstate = next_state\n",
    "\t\t\n",
    "\tupdate_count = len(datas) - old_count\n",
    "\tdrop_count = max(len(datas) - 10000, 0)\n",
    "\n",
    "\t# 数据上限,超出时从最古老的开始删除\n",
    "\twhile len(datas) > 10000:\n",
    "\t\tdatas.pop(0)\n",
    "    \n",
    "\treturn update_count, drop_count\n",
    "\n",
    "update_data(), len(datas)"
   ]
  },
  {
   "cell_type": "code",
   "execution_count": 7,
   "metadata": {},
   "outputs": [
    {
     "name": "stderr",
     "output_type": "stream",
     "text": [
      "C:\\Users\\fanyu\\AppData\\Local\\Temp\\ipykernel_3656\\956863396.py:7: UserWarning: Creating a tensor from a list of numpy.ndarrays is extremely slow. Please consider converting the list to a single numpy.ndarray with numpy.array() before converting to a tensor. (Triggered internally at  C:\\actions-runner\\_work\\pytorch\\pytorch\\builder\\windows\\pytorch\\torch\\csrc\\utils\\tensor_new.cpp:204.)\n",
      "  state = torch.FloatTensor([i[0] for i in samples]).reshape(-1, 4)\n"
     ]
    },
    {
     "data": {
      "text/plain": [
       "(tensor([[ 0.0125,  0.2256,  0.0447, -0.2115],\n",
       "         [ 0.0150,  0.9271,  0.1396, -0.4426],\n",
       "         [ 0.0175, -0.8054,  0.0332,  1.2741],\n",
       "         [ 0.0166, -0.4140,  0.0231,  0.6732],\n",
       "         [-0.0015,  0.0168, -0.0013, -0.0496]]),\n",
       " tensor([[1],\n",
       "         [0],\n",
       "         [0],\n",
       "         [0],\n",
       "         [1]]),\n",
       " tensor([[1.],\n",
       "         [1.],\n",
       "         [1.],\n",
       "         [1.],\n",
       "         [1.]]),\n",
       " tensor([[ 1.7023e-02,  4.2007e-01,  4.0477e-02, -4.8974e-01],\n",
       "         [ 3.3515e-02,  7.3027e-01,  1.3071e-01, -1.0933e-01],\n",
       "         [ 1.3800e-03, -1.0009e+00,  5.8704e-02,  1.5770e+00],\n",
       "         [ 8.3231e-03, -6.0939e-01,  3.6575e-02,  9.7303e-01],\n",
       "         [-1.1373e-03,  2.1189e-01, -2.2850e-03, -3.4268e-01]]),\n",
       " tensor([[0],\n",
       "         [0],\n",
       "         [0],\n",
       "         [0],\n",
       "         [0]]))"
      ]
     },
     "execution_count": 7,
     "metadata": {},
     "output_type": "execute_result"
    }
   ],
   "source": [
    "# 获取一批数据样本\n",
    "def get_sample():\n",
    "  # 从样本池中采样\n",
    "  samples = random.sample(datas, 64)\n",
    "  \n",
    "  # [b, 3]\n",
    "  state = torch.FloatTensor([i[0] for i in samples]).reshape(-1, 4)\n",
    "  # [b, 1]\n",
    "  action = torch.LongTensor([i[1] for i in samples]).reshape(-1, 1)\n",
    "  # [b, 1]\n",
    "  reward = torch.FloatTensor([i[2] for i in samples]).reshape(-1, 1)\n",
    "  # [b, 3]\n",
    "  next_state = torch.FloatTensor([i[3] for i in samples]).reshape(-1, 4)\n",
    "  # [b, 1]\n",
    "  over = torch.LongTensor([i[4] for i in samples]).reshape(-1, 1)\n",
    "  \n",
    "  return state, action, reward, next_state, over\n",
    "\n",
    "state, action, reward, next_state, over = get_sample()\n",
    "\n",
    "state[:5], action[:5], reward[:5], next_state[:5], over[:5]"
   ]
  },
  {
   "cell_type": "code",
   "execution_count": 8,
   "metadata": {},
   "outputs": [
    {
     "data": {
      "text/plain": [
       "16.0"
      ]
     },
     "execution_count": 8,
     "metadata": {},
     "output_type": "execute_result"
    }
   ],
   "source": [
    "from IPython import display\n",
    "\n",
    "def test(play):\n",
    "  #初始化游戏\n",
    "  state = env.reset()\n",
    "  \n",
    "  #记录反馈值的和,这个值越大越好\n",
    "  reward_sum = 0\n",
    "  \n",
    "  #玩到游戏结束为止\n",
    "  over = False\n",
    "  while not over:\n",
    "    #根据当前状态得到一个动作\n",
    "    action = get_action(state)\n",
    "    \n",
    "    #执行动作,得到反馈\n",
    "    state, reward, over, _ = env.step(action)\n",
    "    reward_sum += reward\n",
    "    \n",
    "    # 打印动画\n",
    "    if play and random.random() < 0.2: # 跳帧\n",
    "      display.clear_output(wait=True)\n",
    "      show()\n",
    "      \n",
    "  return reward_sum\n",
    "\n",
    "test(play=False)"
   ]
  },
  {
   "cell_type": "code",
   "execution_count": 9,
   "metadata": {},
   "outputs": [],
   "source": [
    "def soft_update(model, model_next):\n",
    "  for param, param_next in zip(model.parameters(), model_next.parameters()):\n",
    "    # 小比例更新\n",
    "    value = param_next.data * 0.995 + param.data * 0.005\n",
    "    param_next.data.copy_(value)\n",
    "    \n",
    "soft_update(torch.nn.Linear(4, 64), torch.nn.Linear(4, 64))"
   ]
  },
  {
   "cell_type": "code",
   "execution_count": 10,
   "metadata": {},
   "outputs": [],
   "source": [
    "# import math\n",
    "\n",
    "# # 可学习参数\n",
    "# alpha = torch.tensor(math.log(0.01))\n",
    "# alpha.requires_grad = True\n",
    "\n",
    "# alpha"
   ]
  },
  {
   "cell_type": "code",
   "execution_count": 11,
   "metadata": {},
   "outputs": [
    {
     "data": {
      "text/plain": [
       "torch.Size([64, 1])"
      ]
     },
     "execution_count": 11,
     "metadata": {},
     "output_type": "execute_result"
    }
   ],
   "source": [
    "def get_target(reward, next_state, over):\n",
    "  # 首先使用model_action计算动作和动作的熵\n",
    "  # [b, 4] -> [b, 2]\n",
    "  prob = model_action(next_state)\n",
    "  \n",
    "  # 计算动作熵\n",
    "  # [b, 2]\n",
    "  entropy = prob * torch.log(prob + 1e-8)\n",
    "  \n",
    "  # 所有动作熵求和\n",
    "  # [b, 2] -> [b, 1]\n",
    "  entropy = -entropy.sum(dim=1, keepdim=True)\n",
    "  \n",
    "  # 评估next_state价值\n",
    "  # [b, 4] -> [b, 2]\n",
    "  target = model_value_next(next_state)\n",
    "  \n",
    "  # 求target期望\n",
    "  # [b, 2] * [b, 2] -> [b, 2]\n",
    "  target = (prob * target)\n",
    "  \n",
    "  # [b, 2] -> [b, 1]\n",
    "  target = target.sum(dim=1, keepdim=True)\n",
    "  \n",
    "  # 还原alpha\n",
    "  # target 加上动作熵，alpha作为权重系数\n",
    "  # [b, 1] + [b, 1] -> [b, 1]\n",
    "  target += 0.002 * entropy\n",
    "  \n",
    "  # [b, 2] \n",
    "  target *= 0.99\n",
    "  target *= (1 - over)\n",
    "  target += reward\n",
    "  \n",
    "  return target\n",
    "\n",
    "get_target(reward, next_state, over).shape"
   ]
  },
  {
   "cell_type": "code",
   "execution_count": 12,
   "metadata": {},
   "outputs": [
    {
     "data": {
      "text/plain": [
       "torch.Size([64, 1])"
      ]
     },
     "execution_count": 12,
     "metadata": {},
     "output_type": "execute_result"
    }
   ],
   "source": [
    "def get_value(state, action):\n",
    "  # 评估state的价值\n",
    "  value = model_value(state)\n",
    "  \n",
    "  # 取出相应动作的分数\n",
    "  value = value.gather(1, action)\n",
    "  \n",
    "  return value\n",
    "\n",
    "get_value(state, action).shape"
   ]
  },
  {
   "cell_type": "code",
   "execution_count": 13,
   "metadata": {},
   "outputs": [
    {
     "data": {
      "text/plain": [
       "tensor(0.0772, grad_fn=<NegBackward0>)"
      ]
     },
     "execution_count": 13,
     "metadata": {},
     "output_type": "execute_result"
    }
   ],
   "source": [
    "def get_loss_action(state):\n",
    "\t# 计算动作的概率\n",
    "\t# [b, 4] -> [b, 2]\n",
    "\tprob = model_action(state)\n",
    "\n",
    "\t# 计算动作熵\n",
    "\t# [b, 2]\n",
    "\tentropy = prob * (prob + 1e-8).log()\n",
    "\n",
    "\t# 所有动作熵求和\n",
    "\t# [b, 2] -> [b, 1]\n",
    "\tentropy = -entropy.sum(dim=1, keepdim=True)\n",
    "\n",
    "\t\n",
    "\t# 使用1个value网络评估action的价值\n",
    "\t# [b, 4] -> [b, 2]\n",
    "\tvalue = model_value(state)\n",
    "\n",
    "\t# 动作概率对价值加权\n",
    "\t# [b, 2] * [b, 2] -> [b, 2]\n",
    "\tvalue *= prob\n",
    "\t\n",
    "\t# 所有动作价值求和\n",
    "\t# [b, 2] -> [b, 1]\n",
    "\tvalue = value.sum(dim=1, keepdim=True)\n",
    "\n",
    "\t# 这里的操作是在target上加上了动作的熵,这个值越大越好\n",
    "  # [b, 1] + [b, 1] -> [b, 1]\n",
    "\tloss_action = value + 0.002 * entropy\n",
    "  \n",
    "\t# 因为是计算loss,所以对这个值符号取反\n",
    "\treturn -loss_action.mean()\n",
    "\n",
    "get_loss_action(state)"
   ]
  },
  {
   "cell_type": "code",
   "execution_count": 16,
   "metadata": {},
   "outputs": [
    {
     "name": "stdout",
     "output_type": "stream",
     "text": [
      "0 861 9.7\n",
      "20 5152 195.2\n",
      "40 9517 200.0\n",
      "60 10000 198.1\n",
      "80 10000 151.3\n",
      "100 10000 172.4\n",
      "120 10000 189.7\n",
      "140 10000 110.4\n",
      "160 10000 200.0\n",
      "180 10000 200.0\n"
     ]
    }
   ],
   "source": [
    "def train():\n",
    "  optimizer_action = torch.optim.Adam(model_action.parameters(), lr=1e-3)\n",
    "  optimizer_value = torch.optim.Adam(model_value.parameters(), lr=1e-2)\n",
    "  \n",
    "  loss_fn = torch.nn.MSELoss()\n",
    "  \n",
    "  # 玩N局游戏，每句游戏训练一次\n",
    "  for epoch in range(200):\n",
    "    # 更新N条数据\n",
    "    update_data()\n",
    "    \n",
    "    # 每次更新过后，学习N次\n",
    "    for i in range(200):\n",
    "      # 采样一批数据\n",
    "      state, action, reward, next_state, over = get_sample()\n",
    "      \n",
    "      # 计算value和target, target已经考虑了动作和熵\n",
    "      # [b, 1]\n",
    "      target = get_target(reward, next_state, over)\n",
    "      target = target.detach()\n",
    "      \n",
    "      # 计算1个value\n",
    "      value = get_value(state, action)\n",
    "\n",
    "      \n",
    "      # 计算loss,value的目标都是要贴近target\n",
    "      loss_value = loss_fn(value, target)\n",
    "      \n",
    "      # 更新参数\n",
    "      optimizer_value.zero_grad()\n",
    "      loss_value.backward()\n",
    "      optimizer_value.step()\n",
    "      \n",
    "      # 使用model_value计算model_action的loss, 更新参数\n",
    "      loss_action = get_loss_action(state)\n",
    "      optimizer_action.zero_grad()\n",
    "      loss_action.backward()\n",
    "      optimizer_action.step()\n",
    "      \n",
    "      # 小比例更新\n",
    "      soft_update(model_value, model_value_next)\n",
    "      \n",
    "    if epoch % 20 == 0:\n",
    "      test_result = sum([test(play=False) for _ in range(10)]) / 10\n",
    "      print(epoch, len(datas), test_result)\n",
    "      \n",
    "train()"
   ]
  },
  {
   "cell_type": "code",
   "execution_count": 17,
   "metadata": {},
   "outputs": [
    {
     "data": {
      "image/png": "[encoded data removed]",
      "text/plain": [
       "<Figure size 640x480 with 1 Axes>"
      ]
     },
     "metadata": {},
     "output_type": "display_data"
    },
    {
     "data": {
      "text/plain": [
       "200.0"
      ]
     },
     "execution_count": 17,
     "metadata": {},
     "output_type": "execute_result"
    }
   ],
   "source": [
    "test(play=True)"
   ]
  }
 ],
 "metadata": {
  "kernelspec": {
   "display_name": "RL_learning2",
   "language": "python",
   "name": "python3"
  },
  "language_info": {
   "codemirror_mode": {
    "name": "ipython",
    "version": 3
   },
   "file_extension": ".py",
   "mimetype": "text/x-python",
   "name": "python",
   "nbconvert_exporter": "python",
   "pygments_lexer": "ipython3",
   "version": "3.9.21"
  }
 },
 "nbformat": 4,
 "nbformat_minor": 2
}
