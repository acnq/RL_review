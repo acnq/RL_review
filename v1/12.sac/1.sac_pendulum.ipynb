{
 "cells": [
  {
   "cell_type": "markdown",
   "metadata": {},
   "source": [
    "## Soft Actor-Critic: SAC in Pendulum"
   ]
  },
  {
   "cell_type": "code",
   "execution_count": 15,
   "metadata": {},
   "outputs": [
    {
     "data": {
      "text/plain": [
       "array([ 0.7815967 , -0.62378407, -0.6761425 ], dtype=float32)"
      ]
     },
     "execution_count": 15,
     "metadata": {},
     "output_type": "execute_result"
    }
   ],
   "source": [
    "import gym\n",
    "\n",
    "# 定义环境\n",
    "class MyWrapper(gym.Wrapper):\n",
    "  def __init__(self):\n",
    "    env = gym.make('Pendulum-v1', render_mode='rgb_array')\n",
    "    super().__init__(env)\n",
    "    self.env = env\n",
    "    self.step_n = 0\n",
    "  \n",
    "  def reset(self):\n",
    "    state, _ = self.env.reset()\n",
    "    self.step_n = 0\n",
    "    return state\n",
    "    \n",
    "  def step(self, action):\n",
    "    state, reward, terminated, truncated, info = self.env.step(action)\n",
    "    done = terminated or truncated\n",
    "    self.step_n += 1\n",
    "    if self.step_n >= 200:\n",
    "      done = True\n",
    "    return state, reward, done, info \n",
    "  \n",
    "env = MyWrapper()\n",
    "env.reset()"
   ]
  },
  {
   "cell_type": "code",
   "execution_count": 16,
   "metadata": {},
   "outputs": [
    {
     "data": {
      "image/png": "[encoded data removed]",
      "text/plain": [
       "<Figure size 640x480 with 1 Axes>"
      ]
     },
     "metadata": {},
     "output_type": "display_data"
    }
   ],
   "source": [
    "from matplotlib import pyplot as plt\n",
    "\n",
    "%matplotlib inline\n",
    "\n",
    "# 打印游戏\n",
    "def show():\n",
    "  plt.imshow(env.render())\n",
    "  plt.show()\n",
    "  \n",
    "show()"
   ]
  },
  {
   "cell_type": "code",
   "execution_count": 17,
   "metadata": {},
   "outputs": [
    {
     "data": {
      "text/plain": [
       "(tensor([[-1.8131],\n",
       "         [ 1.3329]], grad_fn=<MulBackward0>),\n",
       " tensor([[0.1239],\n",
       "         [1.2621]], grad_fn=<NegBackward0>))"
      ]
     },
     "execution_count": 17,
     "metadata": {},
     "output_type": "execute_result"
    }
   ],
   "source": [
    "import torch\n",
    "\n",
    "# 定义模型\n",
    "class ModelAction(torch.nn.Module):\n",
    "  def __init__(self):\n",
    "    super().__init__()\n",
    "    self.fc_state = torch.nn.Sequential(\n",
    "\t\t\ttorch.nn.Linear(3, 128),\n",
    "\t\t\ttorch.nn.ReLU(),\n",
    "\t\t)\n",
    "    \n",
    "    self.fc_mu = torch.nn.Linear(128, 1)\n",
    "    self.fc_std = torch.nn.Sequential(\n",
    "\t\t\ttorch.nn.Linear(128, 1),\n",
    "\t\t\ttorch.nn.Softplus(),\n",
    "\t\t)\n",
    "    \n",
    "  def forward(self, state):\n",
    "    # [b, 3] -> [b, 128]\n",
    "    state = self.fc_state(state)\n",
    "    \n",
    "    # [b, 128] -> [b, 1]\n",
    "    mu = self.fc_mu(state)\n",
    "    \n",
    "    # [b, 128] -> [b, 1]\n",
    "    std = self.fc_std(state)\n",
    "    \n",
    "    # 根据mu, std定义b个正态分布\n",
    "    dist = torch.distributions.Normal(mu, std)\n",
    "    \n",
    "    # 采样b个样本\n",
    "    # 这里用的是rsample,表示重采样,\n",
    "    # 其实就是先从一个标准正态分布中采样,然后乘以标准差,加上均值\n",
    "    sample = dist.rsample()\n",
    "    \n",
    "    # 样本压缩到-1,1之间，求动作\n",
    "    action = torch.tanh(sample)\n",
    "    \n",
    "    # 求概率对数\n",
    "    log_prob = dist.log_prob(sample)\n",
    "    \n",
    "    # 这个值描述动作的熵\n",
    "    entropy = log_prob - (1 - action.tanh() ** 2 + 1e-7).log()\n",
    "    entropy = - entropy\n",
    "    \n",
    "    return action * 2, entropy\n",
    "\n",
    "model_action = ModelAction()\n",
    "\n",
    "model_action(torch.randn(2, 3))"
   ]
  },
  {
   "cell_type": "code",
   "execution_count": 18,
   "metadata": {},
   "outputs": [
    {
     "data": {
      "text/plain": [
       "tensor([[0.1632],\n",
       "        [0.2217]], grad_fn=<AddmmBackward0>)"
      ]
     },
     "execution_count": 18,
     "metadata": {},
     "output_type": "execute_result"
    }
   ],
   "source": [
    "class ModelValue(torch.nn.Module):\n",
    "  def __init__(self):\n",
    "    super().__init__()\n",
    "    self.sequential = torch.nn.Sequential(\n",
    "\t\t\ttorch.nn.Linear(4, 128),\n",
    "\t\t\ttorch.nn.ReLU(),\n",
    "\t\t\ttorch.nn.Linear(128, 128),\n",
    "\t\t\ttorch.nn.ReLU(),\n",
    "\t\t\ttorch.nn.Linear(128, 1),\n",
    "\t\t)\n",
    "    \n",
    "  def forward(self, state, action):\n",
    "    # [b, 3 + 1] -> [b, 4]\n",
    "    state = torch.cat([state, action], dim=1)\n",
    "    \n",
    "    # [b, 4] -> [b, 1]\n",
    "    return self.sequential(state)\n",
    "\n",
    "\n",
    "model_value1 = ModelValue()\n",
    "model_value2 = ModelValue()\n",
    "\n",
    "model_value_next1 = ModelValue()\n",
    "model_value_next2 = ModelValue()\n",
    "\n",
    "model_value_next1.load_state_dict(model_value1.state_dict())\n",
    "model_value_next2.load_state_dict(model_value2.state_dict())\n",
    "\n",
    "model_value1(torch.randn(2, 3), torch.randn(2, 1))"
   ]
  },
  {
   "cell_type": "code",
   "execution_count": 19,
   "metadata": {},
   "outputs": [
    {
     "data": {
      "text/plain": [
       "-1.2476619482040405"
      ]
     },
     "execution_count": 19,
     "metadata": {},
     "output_type": "execute_result"
    }
   ],
   "source": [
    "import random\n",
    "import numpy as np \n",
    "\n",
    "# 得到一个动作\n",
    "def get_action(state):\n",
    "  # 走神经网络，得到一个动作\n",
    "  state = torch.FloatTensor(state).reshape(1, 3)\n",
    "  action, _ = model_action(state)\n",
    "  return action.item()\n",
    "\n",
    "get_action([1, 2, 3])"
   ]
  },
  {
   "cell_type": "code",
   "execution_count": 20,
   "metadata": {},
   "outputs": [
    {
     "data": {
      "text/plain": [
       "(200,\n",
       " (array([-0.27600995,  0.96115476, -0.0632143 ], dtype=float32),\n",
       "  -0.6187177300453186,\n",
       "  -3.4248981594729884,\n",
       "  array([-0.3030414 ,  0.9529774 ,  0.56484413], dtype=float32),\n",
       "  False))"
      ]
     },
     "execution_count": 20,
     "metadata": {},
     "output_type": "execute_result"
    }
   ],
   "source": [
    "# 样本池\n",
    "datas = []\n",
    "\n",
    "def update_data():\n",
    "  state = env.reset()\n",
    "  \n",
    "  # 玩到结束\n",
    "  over = False\n",
    "  while not over:\n",
    "    action = get_action(state)\n",
    "    \n",
    "    next_state, reward, over, _ = env.step([action])\n",
    "    \n",
    "    datas.append((state, action, reward, next_state, over))\n",
    "    \n",
    "    state = next_state\n",
    "    \n",
    "  while len(datas) > 10000:\n",
    "    datas.pop(0)\n",
    "    \n",
    "update_data()\n",
    "\n",
    "len(datas), datas[0]"
   ]
  },
  {
   "cell_type": "code",
   "execution_count": 21,
   "metadata": {},
   "outputs": [
    {
     "data": {
      "text/plain": [
       "(tensor([[-0.7982,  0.6023,  3.3471],\n",
       "         [-0.9969, -0.0788,  0.7452],\n",
       "         [-0.7932, -0.6090,  1.3482],\n",
       "         [-0.9924, -0.1234,  0.0771],\n",
       "         [-0.8539,  0.5204, -2.3178]]),\n",
       " tensor([[-1.6147],\n",
       "         [-1.3824],\n",
       "         [-0.8090],\n",
       "         [-1.5489],\n",
       "         [ 1.5554]]),\n",
       " tensor([[-7.3487],\n",
       "         [-9.4374],\n",
       "         [-6.3668],\n",
       "         [-9.1104],\n",
       "         [-7.2699]]),\n",
       " tensor([[-0.8922,  0.4516,  3.5566],\n",
       "         [-0.9947, -0.1027,  0.4787],\n",
       "         [-0.7692, -0.6390,  0.7701],\n",
       "         [-0.9938, -0.1111, -0.2478],\n",
       "         [-0.8068,  0.5908, -1.6942]]),\n",
       " tensor([[0],\n",
       "         [0],\n",
       "         [0],\n",
       "         [0],\n",
       "         [0]]))"
      ]
     },
     "execution_count": 21,
     "metadata": {},
     "output_type": "execute_result"
    }
   ],
   "source": [
    "# 获取一批数据样本\n",
    "def get_sample():\n",
    "  # 从样本池中采样\n",
    "  samples = random.sample(datas, 64)\n",
    "  \n",
    "  # [b, 3]\n",
    "  state = torch.FloatTensor([i[0] for i in samples]).reshape(-1, 3)\n",
    "  # [b, 1]\n",
    "  action = torch.FloatTensor([i[1] for i in samples]).reshape(-1, 1)\n",
    "  # [b, 1]\n",
    "  reward = torch.FloatTensor([i[2] for i in samples]).reshape(-1, 1)\n",
    "  # [b, 3]\n",
    "  next_state = torch.FloatTensor([i[3] for i in samples]).reshape(-1, 3)\n",
    "  # [b, 1]\n",
    "  over = torch.LongTensor([i[4] for i in samples]).reshape(-1, 1)\n",
    "  \n",
    "  return state, action, reward, next_state, over\n",
    "\n",
    "state, action, reward, next_state, over = get_sample()\n",
    "\n",
    "state[:5], action[:5], reward[:5], next_state[:5], over[:5]"
   ]
  },
  {
   "cell_type": "code",
   "execution_count": 22,
   "metadata": {},
   "outputs": [
    {
     "data": {
      "text/plain": [
       "-1382.936360530765"
      ]
     },
     "execution_count": 22,
     "metadata": {},
     "output_type": "execute_result"
    }
   ],
   "source": [
    "from IPython import display\n",
    "\n",
    "def test(play):\n",
    "  #初始化游戏\n",
    "  state = env.reset()\n",
    "  \n",
    "  #记录反馈值的和,这个值越大越好\n",
    "  reward_sum = 0\n",
    "  \n",
    "  #玩到游戏结束为止\n",
    "  over = False\n",
    "  while not over:\n",
    "    #根据当前状态得到一个动作\n",
    "    action = get_action(state)\n",
    "    \n",
    "    #执行动作,得到反馈\n",
    "    state, reward, over, _ = env.step([action])\n",
    "    reward_sum += reward\n",
    "    \n",
    "    # 打印动画\n",
    "    if play and random.random() < 0.2: # 跳帧\n",
    "      display.clear_output(wait=True)\n",
    "      show()\n",
    "      \n",
    "  return reward_sum\n",
    "\n",
    "test(play=False)"
   ]
  },
  {
   "cell_type": "code",
   "execution_count": 23,
   "metadata": {},
   "outputs": [],
   "source": [
    "def soft_update(model, model_next):\n",
    "  for param, param_next in zip(model.parameters(), model_next.parameters()):\n",
    "    # 小比例更新\n",
    "    value = param_next.data * 0.995 + param.data * 0.005\n",
    "    param_next.data.copy_(value)\n",
    "    \n",
    "soft_update(torch.nn.Linear(4, 64), torch.nn.Linear(4, 64))"
   ]
  },
  {
   "cell_type": "code",
   "execution_count": 24,
   "metadata": {},
   "outputs": [
    {
     "data": {
      "text/plain": [
       "tensor(-4.6052, requires_grad=True)"
      ]
     },
     "execution_count": 24,
     "metadata": {},
     "output_type": "execute_result"
    }
   ],
   "source": [
    "import math\n",
    "\n",
    "# 可学习参数\n",
    "alpha = torch.tensor(math.log(0.01))\n",
    "alpha.requires_grad = True\n",
    "\n",
    "alpha"
   ]
  },
  {
   "cell_type": "code",
   "execution_count": 25,
   "metadata": {},
   "outputs": [
    {
     "data": {
      "text/plain": [
       "torch.Size([64, 1])"
      ]
     },
     "execution_count": 25,
     "metadata": {},
     "output_type": "execute_result"
    }
   ],
   "source": [
    "def get_target(reward, next_state, over):\n",
    "  # 首先使用model_action计算动作和动作的熵\n",
    "  # [b, 3] -> [b, 1], [b, 1]\n",
    "  action, entropy = model_action(next_state)\n",
    "  \n",
    "  # 评估next_state的价值\n",
    "  # [b, 4], [b, 1] -> [b, 1]\n",
    "  target1 = model_value_next1(next_state, action)\n",
    "  target2 = model_value_next2(next_state, action)\n",
    "  \n",
    "  # 取价值小的，出于稳定性\n",
    "  # [b, 1]\n",
    "  target = torch.min(target1, target2)\n",
    "  \n",
    "  # 还原alpha\n",
    "  # target 加上动作熵，alpha作为权重系数\n",
    "  # [b, 1] - [b, 1] -> [b, 1]\n",
    "  target += alpha.exp() * entropy\n",
    "  \n",
    "  # [b, 1] \n",
    "  target *= 0.99\n",
    "  target *= (1 - over)\n",
    "  target += reward\n",
    "  \n",
    "  return target\n",
    "\n",
    "get_target(reward, next_state, over).shape"
   ]
  },
  {
   "cell_type": "code",
   "execution_count": 26,
   "metadata": {},
   "outputs": [
    {
     "data": {
      "text/plain": [
       "(tensor(-0.1200, grad_fn=<MeanBackward0>),\n",
       " tensor([[0.3246],\n",
       "         [0.2849],\n",
       "         [2.9171],\n",
       "         [0.6608],\n",
       "         [0.6094],\n",
       "         [0.6170],\n",
       "         [0.4520],\n",
       "         [0.9625],\n",
       "         [0.4627],\n",
       "         [0.5246],\n",
       "         [0.8586],\n",
       "         [0.5969],\n",
       "         [0.8905],\n",
       "         [1.0649],\n",
       "         [0.3295],\n",
       "         [0.9705],\n",
       "         [0.7470],\n",
       "         [0.8180],\n",
       "         [0.4797],\n",
       "         [1.0617],\n",
       "         [1.8362],\n",
       "         [1.6010],\n",
       "         [0.6076],\n",
       "         [1.7960],\n",
       "         [0.4299],\n",
       "         [0.8737],\n",
       "         [0.6102],\n",
       "         [0.3741],\n",
       "         [0.9156],\n",
       "         [0.9290],\n",
       "         [0.4875],\n",
       "         [0.8953],\n",
       "         [0.6804],\n",
       "         [3.7379],\n",
       "         [1.1271],\n",
       "         [0.4343],\n",
       "         [0.7882],\n",
       "         [0.2557],\n",
       "         [0.8297],\n",
       "         [0.2646],\n",
       "         [1.2123],\n",
       "         [0.2456],\n",
       "         [2.8014],\n",
       "         [0.5856],\n",
       "         [0.7515],\n",
       "         [1.7529],\n",
       "         [0.3800],\n",
       "         [0.5936],\n",
       "         [1.4304],\n",
       "         [0.2900],\n",
       "         [0.8196],\n",
       "         [0.5673],\n",
       "         [0.4261],\n",
       "         [0.8542],\n",
       "         [0.5562],\n",
       "         [0.6980],\n",
       "         [0.3738],\n",
       "         [0.7122],\n",
       "         [0.8657],\n",
       "         [0.5091],\n",
       "         [0.8112],\n",
       "         [0.4520],\n",
       "         [0.3169],\n",
       "         [0.2109]], grad_fn=<NegBackward0>))"
      ]
     },
     "execution_count": 26,
     "metadata": {},
     "output_type": "execute_result"
    }
   ],
   "source": [
    "def get_loss_action(state):\n",
    "\t# 计算action和熵\n",
    "\t# [b, 3] -> [b, 1], [b, 1]\n",
    "\taction, entropy = model_action(state)\n",
    "\n",
    "\t# 使用两个value网络评估action的价值\n",
    "\t#[b, 3],[b, 1] -> [b, 1]\n",
    "\tvalue1 = model_value1(state, action)\n",
    "\tvalue2 = model_value2(state, action)\n",
    "\n",
    "\t# 取价值小的,出于稳定性考虑\n",
    "\t# [b, 1]\n",
    "\tvalue = torch.min(value1, value2)\n",
    "\n",
    "\t# alpha还原后乘以熵,这个值期望的是越大越好,但是这里是计算loss,所以符号取反\n",
    "\t# [1] - [b, 1] -> [b, 1]\n",
    "\tloss_action = -alpha.exp() * entropy\n",
    "  \n",
    "\t# 减去value,所以value越大越好,这样loss就会越小\n",
    "\tloss_action -= value\n",
    "\n",
    "\treturn loss_action.mean(), entropy\n",
    "\n",
    "get_loss_action(state)"
   ]
  },
  {
   "cell_type": "code",
   "execution_count": 27,
   "metadata": {},
   "outputs": [
    {
     "name": "stdout",
     "output_type": "stream",
     "text": [
      "0 400 0.009392817504703999 -1141.5906349283891\n",
      "10 2400 0.005700817331671715 -1415.2724479062367\n",
      "20 4400 0.0036922188010066748 -1225.0485882951084\n",
      "30 6400 0.002197560155764222 -232.00750740014547\n",
      "40 8400 0.0018453639931976795 -205.73016228564157\n",
      "50 10000 0.0023835767060518265 -158.8075163819215\n",
      "60 10000 0.004255387466400862 -194.9617557357606\n",
      "70 10000 0.008861870504915714 -136.16699843842542\n",
      "80 10000 0.018415069207549095 -157.46599463742544\n",
      "90 10000 0.02513747289776802 -170.46528175559496\n"
     ]
    }
   ],
   "source": [
    "def train():\n",
    "  optimizer_action = torch.optim.Adam(model_action.parameters(), lr=3e-4)\n",
    "  optimizer_value1 = torch.optim.Adam(model_value1.parameters(), lr=3e-3)\n",
    "  optimizer_value2 = torch.optim.Adam(model_value2.parameters(), lr=3e-3)\n",
    "  \n",
    "  # alpha 也要更新\n",
    "  optimizer_alpha = torch.optim.Adam([alpha], lr=3e-4)\n",
    "  \n",
    "  loss_fn = torch.nn.MSELoss()\n",
    "  \n",
    "  # 玩N局游戏，每句游戏训练一次\n",
    "  for epoch in range(100):\n",
    "    # 更新N条数据\n",
    "    update_data()\n",
    "    \n",
    "    # 每次更新过后，学习N次\n",
    "    for i in range(200):\n",
    "      # 采样一批数据\n",
    "      state, action, reward, next_state, over = get_sample()\n",
    "      \n",
    "      # 对reward 偏移，便于训练\n",
    "      reward = (reward + 8) / 8 \n",
    "      \n",
    "      # 计算value和target, target已经考虑了动作和熵\n",
    "      # [b, 1]\n",
    "      target = get_target(reward, next_state, over)\n",
    "      target = target.detach()\n",
    "      \n",
    "      # 计算两个value\n",
    "      value1 = model_value1(state, action)\n",
    "      value2 = model_value2(state, action)\n",
    "      \n",
    "      # 计算两个loss,两个value的目标都是要贴近target\n",
    "      loss_value1 = loss_fn(value1, target)\n",
    "      loss_value2 = loss_fn(value2, target)\n",
    "      \n",
    "      # 更新参数\n",
    "      optimizer_value1.zero_grad()\n",
    "      loss_value1.backward()\n",
    "      optimizer_value1.step()\n",
    "      \n",
    "      optimizer_value2.zero_grad()\n",
    "      loss_value2.backward()\n",
    "      optimizer_value2.step()\n",
    "      \n",
    "      # 使用model_value计算model_action的loss, 更新参数\n",
    "      loss_action, entropy = get_loss_action(state)\n",
    "      optimizer_action.zero_grad()\n",
    "      loss_action.backward()\n",
    "      optimizer_action.step()\n",
    "      \n",
    "      # 熵乘以alpha就是alpha的loss\n",
    "      # [b, 1] -> [1]\n",
    "      loss_alpha = (entropy + 1).detach() * alpha.exp()\n",
    "      loss_alpha = loss_alpha.mean()\n",
    "      \n",
    "      # 更新alpha值\n",
    "      optimizer_alpha.zero_grad()\n",
    "      loss_alpha.backward()\n",
    "      optimizer_alpha.step()\n",
    "      \n",
    "      # 小比例更新\n",
    "      soft_update(model_value1, model_value_next1)\n",
    "      soft_update(model_value2, model_value_next2)\n",
    "      \n",
    "    if epoch % 10 == 0:\n",
    "      test_result = sum([test(play=False) for _ in range(10)]) / 10\n",
    "      print(epoch, len(datas), alpha.exp().item(), test_result)\n",
    "      \n",
    "train()"
   ]
  },
  {
   "cell_type": "code",
   "execution_count": 28,
   "metadata": {},
   "outputs": [
    {
     "data": {
      "image/png": "[encoded data removed]",
      "text/plain": [
       "<Figure size 640x480 with 1 Axes>"
      ]
     },
     "metadata": {},
     "output_type": "display_data"
    },
    {
     "data": {
      "text/plain": [
       "-133.78148801670076"
      ]
     },
     "execution_count": 28,
     "metadata": {},
     "output_type": "execute_result"
    }
   ],
   "source": [
    "test(play=True)"
   ]
  }
 ],
 "metadata": {
  "kernelspec": {
   "display_name": "RL_learning2",
   "language": "python",
   "name": "python3"
  },
  "language_info": {
   "codemirror_mode": {
    "name": "ipython",
    "version": 3
   },
   "file_extension": ".py",
   "mimetype": "text/x-python",
   "name": "python",
   "nbconvert_exporter": "python",
   "pygments_lexer": "ipython3",
   "version": "3.9.21"
  }
 },
 "nbformat": 4,
 "nbformat_minor": 2
}
