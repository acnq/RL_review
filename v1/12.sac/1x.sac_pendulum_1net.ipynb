{
 "cells": [
  {
   "cell_type": "markdown",
   "metadata": {},
   "source": [
    "## Soft Actor-Critic: SAC with 1 Net in Pendulum"
   ]
  },
  {
   "cell_type": "code",
   "execution_count": 1,
   "metadata": {},
   "outputs": [
    {
     "data": {
      "text/plain": [
       "array([-0.16774695, -0.98583007,  0.25403628], dtype=float32)"
      ]
     },
     "execution_count": 1,
     "metadata": {},
     "output_type": "execute_result"
    }
   ],
   "source": [
    "import gym\n",
    "\n",
    "# 定义环境\n",
    "class MyWrapper(gym.Wrapper):\n",
    "  def __init__(self):\n",
    "    env = gym.make('Pendulum-v1', render_mode='rgb_array')\n",
    "    super().__init__(env)\n",
    "    self.env = env\n",
    "    self.step_n = 0\n",
    "  \n",
    "  def reset(self):\n",
    "    state, _ = self.env.reset()\n",
    "    self.step_n = 0\n",
    "    return state\n",
    "    \n",
    "  def step(self, action):\n",
    "    state, reward, terminated, truncated, info = self.env.step(action)\n",
    "    done = terminated or truncated\n",
    "    self.step_n += 1\n",
    "    if self.step_n >= 200:\n",
    "      done = True\n",
    "    return state, reward, done, info \n",
    "  \n",
    "env = MyWrapper()\n",
    "env.reset()"
   ]
  },
  {
   "cell_type": "code",
   "execution_count": 2,
   "metadata": {},
   "outputs": [
    {
     "data": {
      "image/png": "[encoded data removed]",
      "text/plain": [
       "<Figure size 640x480 with 1 Axes>"
      ]
     },
     "metadata": {},
     "output_type": "display_data"
    }
   ],
   "source": [
    "from matplotlib import pyplot as plt\n",
    "\n",
    "%matplotlib inline\n",
    "\n",
    "# 打印游戏\n",
    "def show():\n",
    "  plt.imshow(env.render())\n",
    "  plt.show()\n",
    "  \n",
    "show()"
   ]
  },
  {
   "cell_type": "code",
   "execution_count": 3,
   "metadata": {},
   "outputs": [
    {
     "data": {
      "text/plain": [
       "(tensor([[-0.1350],\n",
       "         [-1.8410]], grad_fn=<MulBackward0>),\n",
       " tensor([[1.1032],\n",
       "         [3.8129]], grad_fn=<NegBackward0>))"
      ]
     },
     "execution_count": 3,
     "metadata": {},
     "output_type": "execute_result"
    }
   ],
   "source": [
    "import torch\n",
    "\n",
    "# 定义模型\n",
    "class ModelAction(torch.nn.Module):\n",
    "  def __init__(self):\n",
    "    super().__init__()\n",
    "    self.fc_state = torch.nn.Sequential(\n",
    "\t\t\ttorch.nn.Linear(3, 128),\n",
    "\t\t\ttorch.nn.ReLU(),\n",
    "\t\t)\n",
    "    \n",
    "    self.fc_mu = torch.nn.Linear(128, 1)\n",
    "    self.fc_std = torch.nn.Sequential(\n",
    "\t\t\ttorch.nn.Linear(128, 1),\n",
    "\t\t\ttorch.nn.Softplus(),\n",
    "\t\t)\n",
    "    \n",
    "  def forward(self, state):\n",
    "    # [b, 3] -> [b, 128]\n",
    "    state = self.fc_state(state)\n",
    "    \n",
    "    # [b, 128] -> [b, 1]\n",
    "    mu = self.fc_mu(state)\n",
    "    \n",
    "    # [b, 128] -> [b, 1]\n",
    "    std = self.fc_std(state)\n",
    "    \n",
    "    # 根据mu, std定义b个正态分布\n",
    "    dist = torch.distributions.Normal(mu, std)\n",
    "    \n",
    "    # 采样b个样本\n",
    "    # 这里用的是rsample,表示重采样,\n",
    "    # 其实就是先从一个标准正态分布中采样,然后乘以标准差,加上均值\n",
    "    sample = dist.rsample()\n",
    "    \n",
    "    # 样本压缩到-1,1之间，求动作\n",
    "    action = torch.tanh(sample)\n",
    "    \n",
    "    # 求概率对数\n",
    "    log_prob = dist.log_prob(sample)\n",
    "    \n",
    "    # 这个值描述动作的熵\n",
    "    entropy = log_prob - (1 - action.tanh() ** 2 + 1e-7).log()\n",
    "    entropy = - entropy\n",
    "    \n",
    "    return action * 2, entropy\n",
    "\n",
    "model_action = ModelAction()\n",
    "\n",
    "model_action(torch.randn(2, 3))"
   ]
  },
  {
   "cell_type": "code",
   "execution_count": 4,
   "metadata": {},
   "outputs": [
    {
     "data": {
      "text/plain": [
       "tensor([[-0.1160],\n",
       "        [-0.0749]], grad_fn=<AddmmBackward0>)"
      ]
     },
     "execution_count": 4,
     "metadata": {},
     "output_type": "execute_result"
    }
   ],
   "source": [
    "class ModelValue(torch.nn.Module):\n",
    "  def __init__(self):\n",
    "    super().__init__()\n",
    "    self.sequential = torch.nn.Sequential(\n",
    "\t\t\ttorch.nn.Linear(4, 128),\n",
    "\t\t\ttorch.nn.ReLU(),\n",
    "\t\t\ttorch.nn.Linear(128, 128),\n",
    "\t\t\ttorch.nn.ReLU(),\n",
    "\t\t\ttorch.nn.Linear(128, 1),\n",
    "\t\t)\n",
    "    \n",
    "  def forward(self, state, action):\n",
    "    # [b, 3 + 1] -> [b, 4]\n",
    "    state = torch.cat([state, action], dim=1)\n",
    "    \n",
    "    # [b, 4] -> [b, 1]\n",
    "    return self.sequential(state)\n",
    "\n",
    "\n",
    "model_value = ModelValue()\n",
    "model_value_next = ModelValue()\n",
    "model_value_next.load_state_dict(model_value.state_dict())\n",
    "\n",
    "model_value(torch.randn(2, 3), torch.randn(2, 1))"
   ]
  },
  {
   "cell_type": "code",
   "execution_count": 5,
   "metadata": {},
   "outputs": [
    {
     "data": {
      "text/plain": [
       "-1.4442546367645264"
      ]
     },
     "execution_count": 5,
     "metadata": {},
     "output_type": "execute_result"
    }
   ],
   "source": [
    "import random\n",
    "import numpy as np \n",
    "\n",
    "# 得到一个动作\n",
    "def get_action(state):\n",
    "  # 走神经网络，得到一个动作\n",
    "  state = torch.FloatTensor(state).reshape(1, 3)\n",
    "  action, _ = model_action(state)\n",
    "  return action.item()\n",
    "\n",
    "get_action([1, 2, 3])"
   ]
  },
  {
   "cell_type": "code",
   "execution_count": 6,
   "metadata": {},
   "outputs": [
    {
     "data": {
      "text/plain": [
       "(200,\n",
       " (array([ 0.9659122 ,  0.25886992, -0.3923112 ], dtype=float32),\n",
       "  0.5372892022132874,\n",
       "  -0.08424598187650034,\n",
       "  array([ 0.9674172 ,  0.25318757, -0.11756539], dtype=float32),\n",
       "  False))"
      ]
     },
     "execution_count": 6,
     "metadata": {},
     "output_type": "execute_result"
    }
   ],
   "source": [
    "# 样本池\n",
    "datas = []\n",
    "\n",
    "def update_data():\n",
    "  state = env.reset()\n",
    "  \n",
    "  # 玩到结束\n",
    "  over = False\n",
    "  while not over:\n",
    "    action = get_action(state)\n",
    "    \n",
    "    next_state, reward, over, _ = env.step([action])\n",
    "    \n",
    "    datas.append((state, action, reward, next_state, over))\n",
    "    \n",
    "    state = next_state\n",
    "    \n",
    "  while len(datas) > 10000:\n",
    "    datas.pop(0)\n",
    "    \n",
    "update_data()\n",
    "\n",
    "len(datas), datas[0]"
   ]
  },
  {
   "cell_type": "code",
   "execution_count": 7,
   "metadata": {},
   "outputs": [
    {
     "name": "stderr",
     "output_type": "stream",
     "text": [
      "C:\\Users\\fanyu\\AppData\\Local\\Temp\\ipykernel_17032\\2582340429.py:7: UserWarning: Creating a tensor from a list of numpy.ndarrays is extremely slow. Please consider converting the list to a single numpy.ndarray with numpy.array() before converting to a tensor. (Triggered internally at  C:\\actions-runner\\_work\\pytorch\\pytorch\\builder\\windows\\pytorch\\torch\\csrc\\utils\\tensor_new.cpp:204.)\n",
      "  state = torch.FloatTensor([i[0] for i in samples]).reshape(-1, 3)\n"
     ]
    },
    {
     "data": {
      "text/plain": [
       "(tensor([[-0.9926, -0.1216,  8.0000],\n",
       "         [-0.8669, -0.4985,  8.0000],\n",
       "         [ 0.4022,  0.9156,  7.0662],\n",
       "         [ 0.8826,  0.4702,  6.1493],\n",
       "         [ 0.3733, -0.9277,  6.7710]]),\n",
       " tensor([[1.9961],\n",
       "         [1.9241],\n",
       "         [1.9973],\n",
       "         [1.9843],\n",
       "         [1.9791]]),\n",
       " tensor([[-15.5224],\n",
       "         [-13.2664],\n",
       "         [ -6.3355],\n",
       "         [ -4.0249],\n",
       "         [ -6.0003]]),\n",
       " tensor([[-0.8669, -0.4985,  8.0000],\n",
       "         [-0.6077, -0.7942,  7.9147],\n",
       "         [ 0.0139,  0.9999,  8.0000],\n",
       "         [ 0.6753,  0.7376,  6.7995],\n",
       "         [ 0.6451, -0.7641,  6.3721]]),\n",
       " tensor([[0],\n",
       "         [0],\n",
       "         [0],\n",
       "         [0],\n",
       "         [0]]))"
      ]
     },
     "execution_count": 7,
     "metadata": {},
     "output_type": "execute_result"
    }
   ],
   "source": [
    "# 获取一批数据样本\n",
    "def get_sample():\n",
    "  # 从样本池中采样\n",
    "  samples = random.sample(datas, 64)\n",
    "  \n",
    "  # [b, 3]\n",
    "  state = torch.FloatTensor([i[0] for i in samples]).reshape(-1, 3)\n",
    "  # [b, 1]\n",
    "  action = torch.FloatTensor([i[1] for i in samples]).reshape(-1, 1)\n",
    "  # [b, 1]\n",
    "  reward = torch.FloatTensor([i[2] for i in samples]).reshape(-1, 1)\n",
    "  # [b, 3]\n",
    "  next_state = torch.FloatTensor([i[3] for i in samples]).reshape(-1, 3)\n",
    "  # [b, 1]\n",
    "  over = torch.LongTensor([i[4] for i in samples]).reshape(-1, 1)\n",
    "  \n",
    "  return state, action, reward, next_state, over\n",
    "\n",
    "state, action, reward, next_state, over = get_sample()\n",
    "\n",
    "state[:5], action[:5], reward[:5], next_state[:5], over[:5]"
   ]
  },
  {
   "cell_type": "code",
   "execution_count": 8,
   "metadata": {},
   "outputs": [
    {
     "data": {
      "text/plain": [
       "-1474.5824845183108"
      ]
     },
     "execution_count": 8,
     "metadata": {},
     "output_type": "execute_result"
    }
   ],
   "source": [
    "from IPython import display\n",
    "\n",
    "def test(play):\n",
    "  #初始化游戏\n",
    "  state = env.reset()\n",
    "  \n",
    "  #记录反馈值的和,这个值越大越好\n",
    "  reward_sum = 0\n",
    "  \n",
    "  #玩到游戏结束为止\n",
    "  over = False\n",
    "  while not over:\n",
    "    #根据当前状态得到一个动作\n",
    "    action = get_action(state)\n",
    "    \n",
    "    #执行动作,得到反馈\n",
    "    state, reward, over, _ = env.step([action])\n",
    "    reward_sum += reward\n",
    "    \n",
    "    # 打印动画\n",
    "    if play and random.random() < 0.2: # 跳帧\n",
    "      display.clear_output(wait=True)\n",
    "      show()\n",
    "      \n",
    "  return reward_sum\n",
    "\n",
    "test(play=False)"
   ]
  },
  {
   "cell_type": "code",
   "execution_count": 9,
   "metadata": {},
   "outputs": [],
   "source": [
    "def soft_update(model, model_next):\n",
    "  for param, param_next in zip(model.parameters(), model_next.parameters()):\n",
    "    # 小比例更新\n",
    "    value = param_next.data * 0.995 + param.data * 0.005\n",
    "    param_next.data.copy_(value)\n",
    "    \n",
    "soft_update(torch.nn.Linear(4, 64), torch.nn.Linear(4, 64))"
   ]
  },
  {
   "cell_type": "code",
   "execution_count": 10,
   "metadata": {},
   "outputs": [],
   "source": [
    "# alpha "
   ]
  },
  {
   "cell_type": "code",
   "execution_count": 11,
   "metadata": {},
   "outputs": [
    {
     "data": {
      "text/plain": [
       "torch.Size([64, 1])"
      ]
     },
     "execution_count": 11,
     "metadata": {},
     "output_type": "execute_result"
    }
   ],
   "source": [
    "def get_target(reward, next_state, over):\n",
    "  # 首先使用model_action计算动作和动作的熵\n",
    "  # [b, 3] -> [b, 1], [b, 1]\n",
    "  action, entropy = model_action(next_state)\n",
    "  \n",
    "  # 评估next_state的价值\n",
    "  # [b, 4], [b, 1] -> [b, 1]\n",
    "  target = model_value_next(next_state, action)\n",
    "  \n",
    "  \n",
    "  # 还原alpha,\n",
    "  target += 0.005 * entropy\n",
    "  \n",
    "  # [b, 1] \n",
    "  target *= 0.99\n",
    "  target *= (1 - over)\n",
    "  target += reward\n",
    "  \n",
    "  return target\n",
    "\n",
    "get_target(reward, next_state, over).shape"
   ]
  },
  {
   "cell_type": "code",
   "execution_count": 12,
   "metadata": {},
   "outputs": [
    {
     "data": {
      "text/plain": [
       "tensor(-0.2910, grad_fn=<MeanBackward0>)"
      ]
     },
     "execution_count": 12,
     "metadata": {},
     "output_type": "execute_result"
    }
   ],
   "source": [
    "def get_loss_action(state):\n",
    "\t# 计算action和熵\n",
    "\t# [b, 3] -> [b, 1], [b, 1]\n",
    "\taction, entropy = model_action(state)\n",
    "\n",
    "\t# 使用两个value网络评估action的价值\n",
    "\t#[b, 3],[b, 1] -> [b, 1]\n",
    "\tvalue = model_value(state, action)\n",
    "\n",
    "\t# 熵,这个值期望的是越大越好,但是这里是计算loss,所以符号取反\n",
    "\t# [1] - [b, 1] -> [b, 1]\n",
    "\tloss_action = -0.005 * entropy\n",
    "  \n",
    "\t# 减去value,所以value越大越好,这样loss就会越小\n",
    "\tloss_action -= value\n",
    "\n",
    "\treturn loss_action.mean()\n",
    "\n",
    "get_loss_action(state)"
   ]
  },
  {
   "cell_type": "code",
   "execution_count": 13,
   "metadata": {},
   "outputs": [
    {
     "name": "stdout",
     "output_type": "stream",
     "text": [
      "0 400 -1301.0504323525515\n",
      "20 4400 -785.7459317748038\n",
      "40 8400 -207.50821797930047\n",
      "60 10000 -473.11297732464766\n",
      "80 10000 -145.54039523189257\n",
      "100 10000 -162.23843811218413\n",
      "120 10000 -192.92690805043628\n",
      "140 10000 -140.31122568767037\n",
      "160 10000 -229.13106844934882\n",
      "180 10000 -127.72825020520841\n"
     ]
    }
   ],
   "source": [
    "def train():\n",
    "  optimizer_action = torch.optim.Adam(model_action.parameters(), lr=3e-4)\n",
    "  optimizer_value = torch.optim.Adam(model_value.parameters(), lr=3e-3)\n",
    "  \n",
    "  loss_fn = torch.nn.MSELoss()\n",
    "  \n",
    "  # 玩N局游戏，每句游戏训练一次\n",
    "  for epoch in range(200):\n",
    "    # 更新N条数据\n",
    "    update_data()\n",
    "    \n",
    "    # 每次更新过后，学习N次\n",
    "    for i in range(200):\n",
    "      # 采样一批数据\n",
    "      state, action, reward, next_state, over = get_sample()\n",
    "      \n",
    "      # 对reward 偏移，便于训练\n",
    "      reward = (reward + 8) / 8 \n",
    "      \n",
    "      # 计算value和target, target已经考虑了动作和熵\n",
    "      # [b, 1]\n",
    "      target = get_target(reward, next_state, over)\n",
    "      target = target.detach()\n",
    "      \n",
    "      # 计算1个value\n",
    "      value = model_value(state, action)\n",
    "      \n",
    "      # 计算1个loss,value的目标都是要贴近target\n",
    "      loss_value = loss_fn(value, target)\n",
    "      \n",
    "      # 更新参数\n",
    "      optimizer_value.zero_grad()\n",
    "      loss_value.backward()\n",
    "      optimizer_value.step()\n",
    "      \n",
    "      # 使用model_value计算model_action的loss, 更新参数\n",
    "      loss_action = get_loss_action(state)\n",
    "      optimizer_action.zero_grad()\n",
    "      loss_action.backward()\n",
    "      optimizer_action.step()\n",
    "      \n",
    "      # 小比例更新\n",
    "      soft_update(model_value, model_value_next)\n",
    "      \n",
    "    if epoch % 20 == 0:\n",
    "      test_result = sum([test(play=False) for _ in range(10)]) / 10\n",
    "      print(epoch, len(datas), test_result)\n",
    "      \n",
    "train()"
   ]
  },
  {
   "cell_type": "code",
   "execution_count": 14,
   "metadata": {},
   "outputs": [
    {
     "data": {
      "image/png": "[encoded data removed]",
      "text/plain": [
       "<Figure size 640x480 with 1 Axes>"
      ]
     },
     "metadata": {},
     "output_type": "display_data"
    },
    {
     "data": {
      "text/plain": [
       "-116.23862153175149"
      ]
     },
     "execution_count": 14,
     "metadata": {},
     "output_type": "execute_result"
    }
   ],
   "source": [
    "test(play=True)"
   ]
  }
 ],
 "metadata": {
  "kernelspec": {
   "display_name": "RL_learning2",
   "language": "python",
   "name": "python3"
  },
  "language_info": {
   "codemirror_mode": {
    "name": "ipython",
    "version": 3
   },
   "file_extension": ".py",
   "mimetype": "text/x-python",
   "name": "python",
   "nbconvert_exporter": "python",
   "pygments_lexer": "ipython3",
   "version": "3.9.21"
  }
 },
 "nbformat": 4,
 "nbformat_minor": 2
}
