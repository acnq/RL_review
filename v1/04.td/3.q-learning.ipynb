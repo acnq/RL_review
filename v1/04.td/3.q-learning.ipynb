{
 "cells": [
  {
   "cell_type": "markdown",
   "metadata": {},
   "source": [
    "## Temporal Difference: Q-learning"
   ]
  },
  {
   "cell_type": "code",
   "execution_count": 1,
   "metadata": {},
   "outputs": [
    {
     "data": {
      "text/plain": [
       "'ground'"
      ]
     },
     "execution_count": 1,
     "metadata": {},
     "output_type": "execute_result"
    }
   ],
   "source": [
    "# 获取一个格子的状态\n",
    "def get_state(row, col):\n",
    "  if row != 3:\n",
    "    return 'ground'\n",
    "  if row == 3 and col == 0:\n",
    "    return 'ground'\n",
    "  if row == 3 and col == 11:\n",
    "    return 'terminal'\n",
    "  \n",
    "  return 'trap'\n",
    "\n",
    "get_state(0, 0)"
   ]
  },
  {
   "cell_type": "code",
   "execution_count": 2,
   "metadata": {},
   "outputs": [
    {
     "data": {
      "text/plain": [
       "(0, 1, -1)"
      ]
     },
     "execution_count": 2,
     "metadata": {},
     "output_type": "execute_result"
    }
   ],
   "source": [
    "# 在一个格子里做一个动作\n",
    "def move(row, col, action):\n",
    "  # 如果当前已经在陷阱或者重点，则不能执行任何动作\n",
    "  if get_state(row, col) in ['trap', 'terminal']:\n",
    "    return row, col, 0\n",
    "  # ↑\n",
    "  if action == 0:\n",
    "    row -= 1\n",
    "  # ↓\n",
    "  if action == 1:\n",
    "    row += 1\n",
    "  # ←\n",
    "  if action == 2:\n",
    "    col -= 1\n",
    "  # →\n",
    "  if action == 3:\n",
    "    col += 1\n",
    "    \n",
    "  # 不允许走到地图外面\n",
    "  row = max(0, row)\n",
    "  row = min(3, row)\n",
    "  col = max(0, col)\n",
    "  col = min(11, col)\n",
    "  \n",
    "  # 陷阱-100，否则都是-1\n",
    "  reward = -1\n",
    "  if get_state(row, col) == 'trap':\n",
    "    reward = -100\n",
    "    \n",
    "  return row, col, reward\n",
    "  \n",
    "move(0, 0, 3)\n",
    "\n"
   ]
  },
  {
   "cell_type": "code",
   "execution_count": 3,
   "metadata": {},
   "outputs": [
    {
     "data": {
      "text/plain": [
       "(4, 12, 4)"
      ]
     },
     "execution_count": 3,
     "metadata": {},
     "output_type": "execute_result"
    }
   ],
   "source": [
    "import numpy as np\n",
    "\n",
    "# 初始化每个格子里采取每个动作的分数，\n",
    "# 均为0， 因为没有先验知识\n",
    "Q = np.zeros([4, 12, 4]) # 全局变量\n",
    "\n",
    "## new code begin here\n",
    "## new code end here\n",
    "\n",
    "Q.shape"
   ]
  },
  {
   "cell_type": "code",
   "execution_count": 4,
   "metadata": {},
   "outputs": [
    {
     "data": {
      "text/plain": [
       "0"
      ]
     },
     "execution_count": 4,
     "metadata": {},
     "output_type": "execute_result"
    }
   ],
   "source": [
    "import random\n",
    "\n",
    "# 根据状态选择动作，e-greedy\n",
    "def get_action(row, col):\n",
    "  # 小概率随机选择\n",
    "  if random.random() < 0.1: # epsilon\n",
    "    return random.choice(range(4))\n",
    "  #\n",
    "  # 否则选择分数最高的动作\n",
    "  return Q[row, col].argmax()\n",
    "\n",
    "get_action(0, 0)"
   ]
  },
  {
   "cell_type": "code",
   "execution_count": 5,
   "metadata": {},
   "outputs": [
    {
     "data": {
      "text/plain": [
       "-0.1"
      ]
     },
     "execution_count": 5,
     "metadata": {},
     "output_type": "execute_result"
    }
   ],
   "source": [
    "# new code begin here\n",
    "def get_update(row, col, action, reward, next_row, next_col):\n",
    "  # target 为下一个格子最高分数，不在关注动作\n",
    "  target = 0.9 * Q[next_row, next_col].max()\n",
    "  # 加上本步分数\n",
    "  target += reward\n",
    "\n",
    "  # value 为当前state和action的分数\n",
    "  value = Q[row, col, action]\n",
    "    \n",
    "\n",
    "  #根据时序差分算法,当前state,action的分数 = 下一个state,action的分数*gamma + reward\n",
    "  #此处是求两者的差,越接近0越好\n",
    "  update = target - value\n",
    "    \n",
    "  # 学习率 0.1\n",
    "  update *= 0.1\n",
    "  \n",
    "  return update\n",
    "\n",
    "get_update(0, 0, 3, -1, 0, 1)"
   ]
  },
  {
   "cell_type": "code",
   "execution_count": 6,
   "metadata": {},
   "outputs": [
    {
     "name": "stdout",
     "output_type": "stream",
     "text": [
      "0 -117\n",
      "100 -123\n",
      "200 -21\n",
      "300 -23\n",
      "400 -12\n",
      "500 -110\n",
      "600 -15\n",
      "700 -17\n",
      "800 -15\n",
      "900 -13\n",
      "1000 -12\n",
      "1100 -15\n",
      "1200 -105\n",
      "1300 -13\n",
      "1400 -15\n"
     ]
    }
   ],
   "source": [
    "# 训练 training\n",
    "def train():\n",
    "  for epoch in range(1500):\n",
    "    # init curr loc\n",
    "    row = random.choice(range(4))\n",
    "    col = 0\n",
    "    \n",
    "    # init first action \n",
    "    action = get_action(row, col)\n",
    "    \n",
    "    # 计算反馈和，应当逐渐减小\n",
    "    reward_sum = 0\n",
    "    \n",
    "    # new code begin here\n",
    "    # new code end here \n",
    "    \n",
    "    # 循环直到终止\n",
    "    while get_state(row, col) not in ['terminal', 'trap']:\n",
    "      \n",
    "      # 执行动作\n",
    "      next_row, next_col, reward = move(row, col, action)\n",
    "      reward_sum += reward\n",
    "      \n",
    "      # 求新位置的动作\n",
    "      next_action = get_action(next_row, next_col)\n",
    "      \n",
    "      # new code begin here ------------\n",
    "      # 计算分数\n",
    "      update = get_update(row, col, action, reward, next_row, next_col)\n",
    "\n",
    "      # 更新分数\n",
    "      Q[row, col, action] += update\n",
    "      \n",
    "      # 更新当前位置\n",
    "      row = next_row\n",
    "      col = next_col\n",
    "      action = next_action\n",
    "      \n",
    "    if epoch % 100 == 0:\n",
    "      print(epoch, reward_sum)\n",
    "      # new code end here   ------------\n",
    "    \n",
    "train()"
   ]
  },
  {
   "cell_type": "code",
   "execution_count": 7,
   "metadata": {},
   "outputs": [
    {
     "name": "stdout",
     "output_type": "stream",
     "text": [
      "□□□□□□□□□□□□\n",
      "□↑□□□□□□□□□□\n",
      "□□□□□□□□□□□□\n",
      "□○○○○○○○○○○❤\n"
     ]
    }
   ],
   "source": [
    "#打印游戏，方便测试\n",
    "def show(row, col, action):\n",
    "  graph = [\n",
    "      '□', '□', '□', '□', '□', '□', '□', '□', '□', '□', '□', '□', '□', '□',\n",
    "      '□', '□', '□', '□', '□', '□', '□', '□', '□', '□', '□', '□', '□', '□',\n",
    "      '□', '□', '□', '□', '□', '□', '□', '□', '□', '○', '○', '○', '○', '○',\n",
    "      '○', '○', '○', '○', '○', '❤'\n",
    "  ]\n",
    "\n",
    "  action = {0: '↑', 1: '↓', 2: '←', 3: '→'}[action]\n",
    "\n",
    "  graph[row * 12 + col] = action\n",
    "\n",
    "  graph = ''.join(graph)\n",
    "\n",
    "  for i in range(0, 4 * 12, 12):\n",
    "    print(graph[i:i + 12])\n",
    "\n",
    "\n",
    "show(1, 1, 0)"
   ]
  },
  {
   "cell_type": "code",
   "execution_count": 10,
   "metadata": {},
   "outputs": [
    {
     "name": "stdout",
     "output_type": "stream",
     "text": [
      "□□□□□□□□□□□□\n",
      "□□□□□□□□□□□□\n",
      "□□□□□□□□□□□↓\n",
      "□○○○○○○○○○○❤\n"
     ]
    }
   ],
   "source": [
    "from IPython import display\n",
    "import time\n",
    "\n",
    "def test():\n",
    "  # 起点\n",
    "  row = random.choice(range(4))\n",
    "  col = 0\n",
    "  \n",
    "  # 最多玩N = 200步\n",
    "  for _ in range(200):\n",
    "    # 获取当前状态，终止态则终止\n",
    "    if get_state(row, col) in ['trap', 'terminal']:\n",
    "      break\n",
    "    \n",
    "    # 选择最优动作\n",
    "    action = Q[row, col].argmax()\n",
    "    \n",
    "    # 打印此动作\n",
    "    display.clear_output(wait=True)\n",
    "    time.sleep(0.1)\n",
    "    show(row, col, action)\n",
    "    \n",
    "    # 执行动作\n",
    "    row, col, reward = move(row, col, action)\n",
    "\n",
    "test()\n",
    "    "
   ]
  },
  {
   "cell_type": "code",
   "execution_count": 11,
   "metadata": {},
   "outputs": [
    {
     "name": "stdout",
     "output_type": "stream",
     "text": [
      "→→→→→→↓→→→↓↓\n",
      "→→→↓→↓→↓→→→↓\n",
      "→→→→→→→→→→→↓\n",
      "↑↑↑↑↑↑↑↑↑↑↑↑\n"
     ]
    }
   ],
   "source": [
    "# 打印所有格子上的动作倾向\n",
    "for row in range(4):\n",
    "  line = ''\n",
    "  for col in range(12):\n",
    "    action = Q[row, col].argmax()\n",
    "    action = {0: '↑', 1: '↓', 2: '←', 3: '→'}[action]\n",
    "    line += action\n",
    "    \n",
    "  print(line)"
   ]
  }
 ],
 "metadata": {
  "kernelspec": {
   "display_name": "RL_learning2",
   "language": "python",
   "name": "python3"
  },
  "language_info": {
   "codemirror_mode": {
    "name": "ipython",
    "version": 3
   },
   "file_extension": ".py",
   "mimetype": "text/x-python",
   "name": "python",
   "nbconvert_exporter": "python",
   "pygments_lexer": "ipython3",
   "version": "3.9.21"
  }
 },
 "nbformat": 4,
 "nbformat_minor": 2
}
