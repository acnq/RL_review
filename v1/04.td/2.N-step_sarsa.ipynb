{
 "cells": [
  {
   "cell_type": "markdown",
   "metadata": {},
   "source": [
    "## Temporal Difference: N-Step Sarsa"
   ]
  },
  {
   "cell_type": "code",
   "execution_count": 1,
   "metadata": {},
   "outputs": [
    {
     "data": {
      "text/plain": [
       "'ground'"
      ]
     },
     "execution_count": 1,
     "metadata": {},
     "output_type": "execute_result"
    }
   ],
   "source": [
    "# 获取一个格子的状态\n",
    "def get_state(row, col):\n",
    "  if row != 3:\n",
    "    return 'ground'\n",
    "  if row == 3 and col == 0:\n",
    "    return 'ground'\n",
    "  if row == 3 and col == 11:\n",
    "    return 'terminal'\n",
    "  \n",
    "  return 'trap'\n",
    "\n",
    "get_state(0, 0)"
   ]
  },
  {
   "cell_type": "code",
   "execution_count": 2,
   "metadata": {},
   "outputs": [
    {
     "data": {
      "text/plain": [
       "(0, 1, -1)"
      ]
     },
     "execution_count": 2,
     "metadata": {},
     "output_type": "execute_result"
    }
   ],
   "source": [
    "# 在一个格子里做一个动作\n",
    "def move(row, col, action):\n",
    "  # 如果当前已经在陷阱或者重点，则不能执行任何动作\n",
    "  if get_state(row, col) in ['trap', 'terminal']:\n",
    "    return row, col, 0\n",
    "  # ↑\n",
    "  if action == 0:\n",
    "    row -= 1\n",
    "  # ↓\n",
    "  if action == 1:\n",
    "    row += 1\n",
    "  # ←\n",
    "  if action == 2:\n",
    "    col -= 1\n",
    "  # →\n",
    "  if action == 3:\n",
    "    col += 1\n",
    "    \n",
    "  # 不允许走到地图外面\n",
    "  row = max(0, row)\n",
    "  row = min(3, row)\n",
    "  col = max(0, col)\n",
    "  col = min(11, col)\n",
    "  \n",
    "  # 陷阱-100，否则都是-1\n",
    "  reward = -1\n",
    "  if get_state(row, col) == 'trap':\n",
    "    reward = -100\n",
    "    \n",
    "  return row, col, reward\n",
    "  \n",
    "move(0, 0, 3)\n",
    "\n"
   ]
  },
  {
   "cell_type": "code",
   "execution_count": 5,
   "metadata": {},
   "outputs": [
    {
     "data": {
      "text/plain": [
       "(4, 12, 4)"
      ]
     },
     "execution_count": 5,
     "metadata": {},
     "output_type": "execute_result"
    }
   ],
   "source": [
    "import numpy as np\n",
    "\n",
    "# 初始化每个格子里采取每个动作的分数，\n",
    "# 均为0， 因为没有先验知识\n",
    "Q = np.zeros([4, 12, 4]) # 全局变量\n",
    "\n",
    "## new code begin here\n",
    "# 初始化3个list, 用来存储状态，动作，反馈的历史数据\n",
    "state_list = []\n",
    "action_list = []\n",
    "reward_list = []\n",
    "## new code end here\n",
    "\n",
    "Q.shape"
   ]
  },
  {
   "cell_type": "code",
   "execution_count": 6,
   "metadata": {},
   "outputs": [
    {
     "data": {
      "text/plain": [
       "0"
      ]
     },
     "execution_count": 6,
     "metadata": {},
     "output_type": "execute_result"
    }
   ],
   "source": [
    "import random\n",
    "\n",
    "# 根据状态选择动作，e-greedy\n",
    "def get_action(row, col):\n",
    "  # 小概率随机选择\n",
    "  if random.random() < 0.1: # epsilon\n",
    "    return random.choice(range(4))\n",
    "  #\n",
    "  # 否则选择分数最高的动作\n",
    "  return Q[row, col].argmax()\n",
    "\n",
    "get_action(0, 0)"
   ]
  },
  {
   "cell_type": "code",
   "execution_count": 8,
   "metadata": {},
   "outputs": [],
   "source": [
    "# new code begin here\n",
    "# 获取5个时间步的分数\n",
    "def get_update_list(next_row, next_col, next_action):\n",
    "  # 初始化最后一个state和最后一个action对应的target分数\n",
    "  target = Q[next_row, next_col, next_action]\n",
    "\n",
    "  # 计算每一步的target\n",
    "  #每一步的tagret等于下一步的tagret*0.9，再加上本步的reward\n",
    "  #时间从后往前回溯，越以前的tagret会累加的信息越多\n",
    "  #[4, 3, 2, 1, 0]\n",
    "  target_list = []\n",
    "  for i in reversed(range(5)):\n",
    "    target = 0.9 * target + reward_list[i]\n",
    "    target_list.append(target)\n",
    "    \n",
    "  # 回正时间顺序\n",
    "  target_list = list(reversed(target_list))\n",
    "  \n",
    "  # 计算每一步value\n",
    "  value_list = []\n",
    "  for i in range(5):\n",
    "    row, col = state_list[i]\n",
    "    action = action_list[i]\n",
    "    value_list.append(Q[row, col, action])\n",
    "  \n",
    "  # 计算每一步的更新量\n",
    "  update_list = []\n",
    "  for i in range(5):\n",
    "    #根据时序差分算法,当前state,action的分数 = 下一个state,action的分数*gamma + reward\n",
    "    #此处是求两者的差,越接近0越好\n",
    "    update = target_list[i] - value_list[i]\n",
    "    \n",
    "    # 学习率 0.1\n",
    "    update *= 0.1\n",
    "    \n",
    "    update_list.append(update)\n",
    "  \n",
    "  # 更新list中每个状态的动作的分数\n",
    "  return update_list"
   ]
  },
  {
   "cell_type": "code",
   "execution_count": 9,
   "metadata": {},
   "outputs": [
    {
     "name": "stdout",
     "output_type": "stream",
     "text": [
      "0 -199\n",
      "100 -23\n",
      "200 -20\n",
      "300 -19\n",
      "400 -19\n",
      "500 -15\n",
      "600 -52\n",
      "700 -19\n",
      "800 -24\n",
      "900 -19\n",
      "1000 -15\n",
      "1100 -19\n",
      "1200 -24\n",
      "1300 -15\n",
      "1400 -22\n"
     ]
    }
   ],
   "source": [
    "# 训练 training\n",
    "def train():\n",
    "  for epoch in range(1500):\n",
    "    # init curr loc\n",
    "    row = random.choice(range(4))\n",
    "    col = 0\n",
    "    \n",
    "    # init first action \n",
    "    action = get_action(row, col)\n",
    "    \n",
    "    # 计算反馈和，应当逐渐减小\n",
    "    reward_sum = 0\n",
    "    \n",
    "    # new code begin here\n",
    "    # 初始化3个列表 \n",
    "    state_list.clear()\n",
    "    action_list.clear()\n",
    "    reward_list.clear()\n",
    "    # new code end here \n",
    "    \n",
    "    # 循环直到终止\n",
    "    while get_state(row, col) not in ['terminal', 'trap']:\n",
    "      \n",
    "      # 执行动作\n",
    "      next_row, next_col, reward = move(row, col, action)\n",
    "      reward_sum += reward\n",
    "      \n",
    "      # 求新位置的动作\n",
    "      next_action = get_action(next_row, next_col)\n",
    "      \n",
    "      # new code begin here ------------\n",
    "      # 记录历史数据\n",
    "      state_list.append([row, col])\n",
    "      action_list.append(action)\n",
    "      reward_list.append(reward)\n",
    "      \n",
    "      # 累积5步后更新分数\n",
    "      if len(state_list) == 5:\n",
    "        # 计算分数\n",
    "        update_list = get_update_list(next_row, next_col, next_action)\n",
    "\n",
    "        # 只更新第一步的分数\n",
    "        row, col = state_list[0]\n",
    "        action = action_list[0]\n",
    "        update = update_list[0]\n",
    "        \n",
    "        Q[row, col, action] += update\n",
    "        \n",
    "        # 移除第一步，保持列表长度\n",
    "        state_list.pop(0)\n",
    "        action_list.pop(0)\n",
    "        reward_list.pop(0)\n",
    "      \n",
    "      # 更新当前位置\n",
    "      row = next_row\n",
    "      col = next_col\n",
    "      action = next_action\n",
    "      \n",
    "    # 走到终点以后，更新剩下的步数update\n",
    "    for i in range(len(state_list)):\n",
    "      row, col = state_list[i]\n",
    "      action = action_list[i]\n",
    "      update = update_list[i]\n",
    "      Q[row, col, action] += update\n",
    "      \n",
    "    if epoch % 100 == 0:\n",
    "      print(epoch, reward_sum)\n",
    "      # new code end here   ------------\n",
    "    \n",
    "train()"
   ]
  },
  {
   "cell_type": "code",
   "execution_count": 10,
   "metadata": {},
   "outputs": [
    {
     "name": "stdout",
     "output_type": "stream",
     "text": [
      "□□□□□□□□□□□□\n",
      "□↑□□□□□□□□□□\n",
      "□□□□□□□□□□□□\n",
      "□○○○○○○○○○○❤\n"
     ]
    }
   ],
   "source": [
    "#打印游戏，方便测试\n",
    "def show(row, col, action):\n",
    "  graph = [\n",
    "      '□', '□', '□', '□', '□', '□', '□', '□', '□', '□', '□', '□', '□', '□',\n",
    "      '□', '□', '□', '□', '□', '□', '□', '□', '□', '□', '□', '□', '□', '□',\n",
    "      '□', '□', '□', '□', '□', '□', '□', '□', '□', '○', '○', '○', '○', '○',\n",
    "      '○', '○', '○', '○', '○', '❤'\n",
    "  ]\n",
    "\n",
    "  action = {0: '↑', 1: '↓', 2: '←', 3: '→'}[action]\n",
    "\n",
    "  graph[row * 12 + col] = action\n",
    "\n",
    "  graph = ''.join(graph)\n",
    "\n",
    "  for i in range(0, 4 * 12, 12):\n",
    "    print(graph[i:i + 12])\n",
    "\n",
    "\n",
    "show(1, 1, 0)"
   ]
  },
  {
   "cell_type": "code",
   "execution_count": 11,
   "metadata": {},
   "outputs": [
    {
     "name": "stdout",
     "output_type": "stream",
     "text": [
      "□□□□□□□□□□□□\n",
      "□□□□□□□□□□□□\n",
      "□□□□□□□□□□□↓\n",
      "□○○○○○○○○○○❤\n"
     ]
    }
   ],
   "source": [
    "from IPython import display\n",
    "import time\n",
    "\n",
    "def test():\n",
    "  # 起点\n",
    "  row = random.choice(range(4))\n",
    "  col = 0\n",
    "  \n",
    "  # 最多玩N = 200步\n",
    "  for _ in range(200):\n",
    "    # 获取当前状态，终止态则终止\n",
    "    if get_state(row, col) in ['trap', 'terminal']:\n",
    "      break\n",
    "    \n",
    "    # 选择最优动作\n",
    "    action = Q[row, col].argmax()\n",
    "    \n",
    "    # 打印此动作\n",
    "    display.clear_output(wait=True)\n",
    "    time.sleep(0.1)\n",
    "    show(row, col, action)\n",
    "    \n",
    "    # 执行动作\n",
    "    row, col, reward = move(row, col, action)\n",
    "\n",
    "test()\n",
    "    "
   ]
  },
  {
   "cell_type": "code",
   "execution_count": 12,
   "metadata": {},
   "outputs": [
    {
     "name": "stdout",
     "output_type": "stream",
     "text": [
      "→→→→→→→→→→→↓\n",
      "↑↑↑↑←→↑↑↑↑←↓\n",
      "↑←↑→↑←↑→↑←→↓\n",
      "↑↑↑↑↑↑↑↑↑↑↑↑\n"
     ]
    }
   ],
   "source": [
    "# 打印所有格子上的动作倾向\n",
    "for row in range(4):\n",
    "  line = ''\n",
    "  for col in range(12):\n",
    "    action = Q[row, col].argmax()\n",
    "    action = {0: '↑', 1: '↓', 2: '←', 3: '→'}[action]\n",
    "    line += action\n",
    "    \n",
    "  print(line)"
   ]
  }
 ],
 "metadata": {
  "kernelspec": {
   "display_name": "RL_learning2",
   "language": "python",
   "name": "python3"
  },
  "language_info": {
   "codemirror_mode": {
    "name": "ipython",
    "version": 3
   },
   "file_extension": ".py",
   "mimetype": "text/x-python",
   "name": "python",
   "nbconvert_exporter": "python",
   "pygments_lexer": "ipython3",
   "version": "3.9.21"
  }
 },
 "nbformat": 4,
 "nbformat_minor": 2
}
