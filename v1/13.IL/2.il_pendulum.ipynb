{
 "cells": [
  {
   "cell_type": "markdown",
   "metadata": {},
   "source": [
    "## Imitative Learning: IL in Pendulum"
   ]
  },
  {
   "cell_type": "code",
   "execution_count": 1,
   "metadata": {},
   "outputs": [
    {
     "data": {
      "text/plain": [
       "array([-0.1670376 ,  0.9859505 , -0.00312404], dtype=float32)"
      ]
     },
     "execution_count": 1,
     "metadata": {},
     "output_type": "execute_result"
    }
   ],
   "source": [
    "import gym\n",
    "\n",
    "# 定义环境\n",
    "class MyWrapper(gym.Wrapper):\n",
    "  def __init__(self):\n",
    "    env = gym.make('Pendulum-v1', render_mode='rgb_array')\n",
    "    super().__init__(env)\n",
    "    self.env = env\n",
    "    self.step_n = 0\n",
    "  \n",
    "  def reset(self):\n",
    "    state, _ = self.env.reset()\n",
    "    self.step_n = 0\n",
    "    return state\n",
    "    \n",
    "  def step(self, action):\n",
    "    state, reward, terminated, truncated, info = self.env.step(action)\n",
    "    done = terminated or truncated\n",
    "    self.step_n += 1\n",
    "    if self.step_n >= 200:\n",
    "      done = True\n",
    "    return state, reward, done, info \n",
    "  \n",
    "env = MyWrapper()\n",
    "env.reset()"
   ]
  },
  {
   "cell_type": "code",
   "execution_count": 2,
   "metadata": {},
   "outputs": [
    {
     "data": {
      "image/png": "[encoded data removed]",
      "text/plain": [
       "<Figure size 640x480 with 1 Axes>"
      ]
     },
     "metadata": {},
     "output_type": "display_data"
    }
   ],
   "source": [
    "from matplotlib import pyplot as plt\n",
    "\n",
    "%matplotlib inline\n",
    "\n",
    "# 打印游戏\n",
    "def show():\n",
    "  plt.imshow(env.render())\n",
    "  plt.show()\n",
    "  \n",
    "show()"
   ]
  },
  {
   "cell_type": "code",
   "execution_count": 6,
   "metadata": {},
   "outputs": [
    {
     "data": {
      "image/png": "[encoded data removed]",
      "text/plain": [
       "<Figure size 640x480 with 1 Axes>"
      ]
     },
     "metadata": {},
     "output_type": "display_data"
    },
    {
     "data": {
      "text/plain": [
       "(0.4911009669303894, -1434.963844743415)"
      ]
     },
     "execution_count": 6,
     "metadata": {},
     "output_type": "execute_result"
    }
   ],
   "source": [
    "import torch\n",
    "import random\n",
    "from IPython import display\n",
    "\n",
    "# 教师模型使用PPO\n",
    "class Model(torch.nn.Module):\n",
    "\tdef __init__(self):\n",
    "\t\tsuper().__init__()\n",
    "\t\t# 定义模型\n",
    "\t\tself.fc_statu = torch.nn.Sequential(\n",
    "\t\t\ttorch.nn.Linear(3, 128),\n",
    "\t\t\ttorch.nn.ReLU(),\n",
    "\t\t)\n",
    "\n",
    "\t\tself.fc_mu = torch.nn.Sequential(\n",
    "\t\t\ttorch.nn.Linear(128, 1),\n",
    "\t\t\ttorch.nn.Tanh(),\n",
    "\t\t)\n",
    "\n",
    "\t\tself.fc_std = torch.nn.Sequential(\n",
    "\t\t\ttorch.nn.Linear(128, 1),\n",
    "\t\t\ttorch.nn.Softplus(),\n",
    "\t\t)\n",
    "\n",
    "\tdef forward(self, state):\n",
    "\t\tstate = self.fc_statu(state)\n",
    "\t\tmu = self.fc_mu(state) * 2.0\n",
    "\t\tstd = self.fc_std(state)\n",
    "\n",
    "\t\treturn mu, std\n",
    "  \n",
    "class PPO:\n",
    "  \n",
    "\tdef __init__(self):\n",
    "\t\t# 定义模型\n",
    "\t\tself.model = Model()\n",
    "\t\tself.model_td = torch.nn.Sequential(\n",
    "\t\t\ttorch.nn.Linear(3, 128),\n",
    "\t\t\ttorch.nn.ReLU(),\n",
    "\t\t\ttorch.nn.Linear(128, 1),\n",
    "\t\t)\n",
    "\n",
    "\t\tself.optimizer = torch.optim.Adam(self.model.parameters(), lr=1e-4)\n",
    "\t\tself.optimizer_td = torch.optim.Adam(self.model_td.parameters(), lr=5e-3)\n",
    "\t\tself.loss_fn = torch.nn.MSELoss()\n",
    "  \n",
    "  # 得到一个动作\n",
    "\tdef get_action(self, state):\n",
    "\t\t# 走神经网络，得到一个动作\n",
    "\t\tstate = torch.FloatTensor(state).reshape(1, 3)\n",
    "\t\t# [1, 4] -> [1, 2]\n",
    "\t\tmu, std = self.model(state)\n",
    "\t\t\n",
    "\t\t# 根据概率选择一个动作\n",
    "\t\t# action = random.choices(range(2), weights=prob[0].tolist(), k=1)[0]\n",
    "\t\taction = torch.distributions.Normal(mu, std).sample().item()\n",
    "  \n",
    "\t\treturn action\n",
    "\n",
    "\t# 得到一局游戏的数据\n",
    "\tdef get_data(self):\n",
    "\t\tstates = []\n",
    "\t\trewards = []\n",
    "\t\tactions = []\n",
    "\t\tnext_states = []\n",
    "\t\tovers = []\n",
    "\t\t\n",
    "\t\t\n",
    "\t\t# 初始化游戏\n",
    "\t\tstate = env.reset()\n",
    "\t\t\n",
    "\t\t# 玩到游戏结束为止\n",
    "\t\tover = False\n",
    "\t\twhile not over:\n",
    "\t\t\t# 根据当前状态得到一个动作\n",
    "\t\t\taction = self.get_action(state)\n",
    "\t\t\t\n",
    "\t\t\t# 执行动作，得到反馈\n",
    "\t\t\tnext_state, reward, over, _ = env.step([action])\n",
    "\t\t\t\n",
    "\t\t\t# 记录数据样本\n",
    "\t\t\tstates.append(state)\n",
    "\t\t\trewards.append(reward)\n",
    "\t\t\tactions.append(action)\n",
    "\t\t\tnext_states.append(next_state)\n",
    "\t\t\tovers.append(over)\n",
    "\t\t\t\n",
    "\t\t\t# 更新游戏状态，开始下一个动作\n",
    "\t\t\tstate = next_state\n",
    "\t\t\t\n",
    "\t\t# [b, 4]\n",
    "\t\tstates = torch.FloatTensor(states).reshape(-1, 3)\n",
    "\t\t# [b, 1]\n",
    "\t\trewards = torch.FloatTensor(rewards).reshape(-1, 1)\n",
    "\t\t# [b, 1]\n",
    "\t\tactions = torch.FloatTensor(actions).reshape(-1, 1)\n",
    "\t\t# [b, 4]\n",
    "\t\tnext_states = torch.FloatTensor(next_states).reshape(-1, 3)\n",
    "\t\t# [b, 1]\n",
    "\t\tovers = torch.LongTensor(overs).reshape(-1, 1)\n",
    "\t\t\n",
    "\t\treturn states, rewards, actions, next_states, overs\n",
    "\n",
    "\tdef test(self, play):\n",
    "\t\t#初始化游戏\n",
    "\t\tstate = env.reset()\n",
    "\t\t\n",
    "\t\t#记录反馈值的和,这个值越大越好\n",
    "\t\treward_sum = 0\n",
    "\t\t\n",
    "\t\t#玩到游戏结束为止\n",
    "\t\tover = False\n",
    "\t\twhile not over:\n",
    "\t\t\t#根据当前状态得到一个动作\n",
    "\t\t\taction = self.get_action(state)\n",
    "\t\t\t\n",
    "\t\t\t#执行动作,得到反馈\n",
    "\t\t\tstate, reward, over, _ = env.step([action])\n",
    "\t\t\treward_sum += reward\n",
    "\t\t\t\n",
    "\t\t\t# 打印动画\n",
    "\t\t\tif play and random.random() < 0.2: # 跳帧\n",
    "\t\t\t\tdisplay.clear_output(wait=True)\n",
    "\t\t\t\tshow()\n",
    "\t\t\t\t\n",
    "\t\treturn reward_sum\n",
    "\n",
    "\t# 优势函数\n",
    "\tdef _get_advantages(self, deltas):\n",
    "\t\tadvantages = []\n",
    "\t\t\n",
    "\t\t# 反向遍历deltas\n",
    "\t\ts = 0.0\n",
    "\t\tfor delta in deltas[::-1]:\n",
    "\t\t\ts = 0.9 * 0.9 * s + delta\n",
    "\t\t\tadvantages.append(s)\n",
    "\t\t\t\n",
    "\t\t# 逆序\n",
    "\t\tadvantages.reverse()\n",
    "\t\treturn advantages\n",
    "\n",
    "\tdef train(self, states, rewards, actions, next_states, overs):\n",
    "\t\t# 偏移reward, 便于训练\n",
    "\t\trewards = (rewards + 8) / 8\n",
    "\t\n",
    "\t\t# 计算values, targets\n",
    "\t\t# [b, 3] -> [b, 1]\n",
    "\t\tvalues = self.model_td(states)\n",
    "\t\t\n",
    "\t\t# [b, 3] -> [b, 1]\n",
    "\t\ttargets = self.model_td(next_states).detach()\n",
    "\t\ttargets = targets * 0.98\n",
    "\t\ttargets *= (1 - overs)\n",
    "\t\ttargets += rewards\n",
    "\t\t\n",
    "\t\t# 计算优势,这里的advantages有点像是策略梯度里的reward_sum\n",
    "    # 只是这里计算的不是reward,而是target和value的差\n",
    "\t\t# [b, 1]\n",
    "\t\tdeltas = (targets - values).squeeze(dim=1).tolist()\n",
    "\t\tadvantages = self._get_advantages(deltas)\n",
    "\t\tadvantages = torch.FloatTensor(advantages).reshape(-1, 1)\n",
    "\t\t\n",
    "\t\t# 取出每步动作的概率\n",
    "\t\t# [b, 3] -> [b, 1],[b, 1]\n",
    "\t\tmu, std = self.model(states)\n",
    "\t\t# [b, 1] \n",
    "\t\told_probs = torch.distributions.Normal(mu, std)\n",
    "\t\told_probs = old_probs.log_prob(actions).exp().detach()\n",
    "\t\t\n",
    "\t\t# 每个批量反复训练10次\n",
    "\t\tfor _ in range(10):\n",
    "\t\t\t# 重新计算每一步动作的概率\n",
    "\t\t\t# [b, 3] -> [b, 1],[b, 1]\n",
    "\t\t\tmu, std = self.model(states)\n",
    "\t\t\t\n",
    "\t\t\t# [b, 1]\n",
    "\t\t\tnew_probs = torch.distributions.Normal(mu, std)\n",
    "\t\t\tnew_probs = new_probs.log_prob(actions).exp()\n",
    "\t\t\t\n",
    "\t\t\t# 求出概率变化\n",
    "\t\t\t# [b, 1] - [b, 1] -> [b, 1]\n",
    "\t\t\tratios = new_probs / old_probs\n",
    "\t\t\t\n",
    "\t\t\t# 计算截断和不接段的两份loss, 取小的\n",
    "\t\t\t# [b, 1] * [b, 1] -> [b, 1]\n",
    "\t\t\tsurr1 = ratios * advantages\n",
    "\t\t\t# [b, 1] * [b, 1] -> [b, 1]\n",
    "\t\t\tsurr2 = torch.clamp(ratios, 0.8, 1.2) * advantages\n",
    "\t\t\t\n",
    "\t\t\tloss = -torch.min(surr1, surr2)\n",
    "\t\t\tloss = loss.mean()\n",
    "\t\t\t\n",
    "\t\t\t# 重新计算value和时序差分\n",
    "\t\t\tvalues = self.model_td(states)\n",
    "\t\t\tloss_td = self.loss_fn(values, targets.detach())\n",
    "\t\t\t\n",
    "\t\t\t# 更新参数\n",
    "\t\t\tself.optimizer.zero_grad()\n",
    "\t\t\tloss.backward()\n",
    "\t\t\tself.optimizer.step()\n",
    "\t\t\t\n",
    "\t\t\tself.optimizer_td.zero_grad()\n",
    "\t\t\tloss_td.backward()\n",
    "\t\t\tself.optimizer_td.step()\n",
    "\n",
    "teacher = PPO()\n",
    "\n",
    "teacher.train(*teacher.get_data())\n",
    "\n",
    "teacher.get_action([1, 2, 3]), teacher.test(play=True)"
   ]
  },
  {
   "cell_type": "code",
   "execution_count": 7,
   "metadata": {},
   "outputs": [
    {
     "name": "stdout",
     "output_type": "stream",
     "text": [
      "0 -1467.9182524682278\n",
      "500 -1026.235160767892\n",
      "1000 -846.9602784434285\n",
      "1500 -791.1909766823553\n",
      "2000 -234.67914328274986\n",
      "2500 -606.2074787818119\n",
      "3000 -283.9636230962822\n",
      "3500 -403.9531178763735\n",
      "4000 -260.7852205296382\n",
      "4500 -203.51747635389287\n",
      "5000 -223.9104561987594\n",
      "5500 -453.75639094014497\n"
     ]
    },
    {
     "data": {
      "text/plain": [
       "-129.24272953488318"
      ]
     },
     "execution_count": 7,
     "metadata": {},
     "output_type": "execute_result"
    }
   ],
   "source": [
    "for i in range(6000):\n",
    "  teacher.train(*teacher.get_data())\n",
    "  \n",
    "  if i % 500 == 0:\n",
    "    test_result = sum([teacher.test(play=False) for _ in range(10)]) / 10\n",
    "    print(i, test_result)\n",
    "    \n",
    "teacher.test(play=False)"
   ]
  },
  {
   "cell_type": "code",
   "execution_count": 8,
   "metadata": {},
   "outputs": [],
   "source": [
    "# 使用训练好的模型获取一批教师数据\n",
    "# teacher_states, _, teacher_actions, _, _ = teacher.get_data()\n",
    "\n",
    "# # 删除教师，只留下教师的数据就可以了\n",
    "# del teacher\n",
    "\n",
    "# teacher_states.shape, teacher_actions.shape"
   ]
  },
  {
   "cell_type": "code",
   "execution_count": 9,
   "metadata": {},
   "outputs": [
    {
     "data": {
      "text/plain": [
       "<__main__.PPO at 0x1c048495910>"
      ]
     },
     "execution_count": 9,
     "metadata": {},
     "output_type": "execute_result"
    }
   ],
   "source": [
    "# 初始化学生模型\n",
    "student = PPO()\n",
    "\n",
    "student"
   ]
  },
  {
   "cell_type": "code",
   "execution_count": 10,
   "metadata": {},
   "outputs": [
    {
     "data": {
      "text/plain": [
       "tensor([[0.4116],\n",
       "        [0.4133]], grad_fn=<SigmoidBackward0>)"
      ]
     },
     "execution_count": 10,
     "metadata": {},
     "output_type": "execute_result"
    }
   ],
   "source": [
    "# 定义鉴别器网络，鉴定一批数据来自teacher还是student\n",
    "class Discriminator(torch.nn.Module):\n",
    "  def __init__(self):\n",
    "    super().__init__()\n",
    "    self.sequential = torch.nn.Sequential(\n",
    "\t\t\ttorch.nn.Linear(4, 128),\n",
    "\t\t\ttorch.nn.ReLU(),\n",
    "\t\t\ttorch.nn.Linear(128, 1),\n",
    "\t\t\ttorch.nn.Sigmoid(),\n",
    "\t\t)\n",
    "    \n",
    "  def forward(self, states, actions):\n",
    "    cat = torch.cat([states, actions], dim=1)\n",
    "    return self.sequential(cat)\n",
    "  \n",
    "discriminator = Discriminator()\n",
    "discriminator(torch.randn(2, 3), torch.randn(2, 1))"
   ]
  },
  {
   "cell_type": "code",
   "execution_count": 12,
   "metadata": {},
   "outputs": [
    {
     "name": "stdout",
     "output_type": "stream",
     "text": [
      "0 -1091.0237938032947\n",
      "500 -796.0676713060788\n",
      "1000 -487.0981558064067\n",
      "1500 -385.6273912898046\n",
      "2000 -329.6237126713896\n",
      "2500 -571.0229324748318\n",
      "3000 -762.7206487031491\n",
      "3500 -593.4407173620395\n",
      "4000 -225.75847406634654\n",
      "4500 -564.6573307759596\n",
      "5000 -475.94372739062345\n",
      "5500 -210.36022811779912\n",
      "6000 -396.3382141752695\n",
      "6500 -357.41760472769533\n",
      "7000 -286.68580052559753\n",
      "7500 -369.63717632683154\n",
      "8000 -223.50062705605995\n",
      "8500 -424.453621712881\n",
      "9000 -211.17240857864627\n",
      "9500 -168.5075723366022\n",
      "10000 -423.3808219999113\n",
      "10500 -316.771882874716\n",
      "11000 -741.5991516145277\n",
      "11500 -292.51651786307855\n",
      "12000 -539.1569266821782\n",
      "12500 -318.5252306929846\n",
      "13000 -434.4081511754263\n",
      "13500 -223.07811073639542\n",
      "14000 -387.991451229187\n",
      "14500 -471.97400327251705\n",
      "15000 -243.58421667249044\n",
      "15500 -198.69883104129715\n",
      "16000 -249.20695928267423\n",
      "16500 -220.3196588192788\n",
      "17000 -657.4817188202938\n",
      "17500 -732.9497119834148\n",
      "18000 -220.01413193840472\n",
      "18500 -120.24537506436972\n",
      "19000 -272.743758890207\n",
      "19500 -177.78945234473142\n"
     ]
    }
   ],
   "source": [
    "# 模仿学习\n",
    "def imi_learn():\n",
    "  optimizer = torch.optim.Adam(discriminator.parameters(), lr=1e-3)\n",
    "  bce_loss = torch.nn.BCELoss()\n",
    "  \n",
    "  for i  in range(20000):\n",
    "    #使用训练好的模型获取一批教师数据\n",
    "    with torch.no_grad():\n",
    "      teacher_states, _, teacher_actions, _, _ = teacher.get_data()\n",
    "      \n",
    "    # 使用Student模型获取一句游戏的数据，不需要reward\n",
    "    states, _, actions, next_states, overs = student.get_data()\n",
    "    \n",
    "    # 使用鉴别器鉴定两批数据的来源\n",
    "    prob_teacher = discriminator(teacher_states, teacher_actions)\n",
    "    prob_student = discriminator(states, actions)\n",
    "    \n",
    "    # 老师0，学生1，计算二分类loss\n",
    "    loss_teacher = bce_loss(prob_teacher, torch.zeros_like(prob_teacher))\n",
    "    loss_student = bce_loss(prob_student, torch.ones_like(prob_student))\n",
    "    loss = loss_teacher + loss_student\n",
    "    \n",
    "    # 调整鉴别器\n",
    "    optimizer.zero_grad()\n",
    "    loss.backward()\n",
    "    optimizer.step()\n",
    "    \n",
    "    # 使用一批数据来自学生的概率作为reward,取log,再符号取反\n",
    "    # 因为鉴别器会把学生数据的概率贴近1,所以目标是让鉴别器无法分辨,这是一种对抗网络的思路\n",
    "    rewards = -prob_student.log().detach()\n",
    "    \n",
    "    # 消除模型中reward偏移\n",
    "    rewards = rewards * 8 - 8\n",
    "    \n",
    "    # 更新学生模型参数,使用PPO模型本身的更新方式\n",
    "    student.train(states, rewards, actions, next_states, overs)\n",
    "    \n",
    "    if i % 500 == 0:\n",
    "      test_result = sum([student.test(play=False) for _ in range(10)]) / 10\n",
    "      print(i, test_result)\n",
    "      \n",
    "imi_learn()"
   ]
  },
  {
   "cell_type": "code",
   "execution_count": 13,
   "metadata": {},
   "outputs": [
    {
     "data": {
      "image/png": "[encoded data removed]",
      "text/plain": [
       "<Figure size 640x480 with 1 Axes>"
      ]
     },
     "metadata": {},
     "output_type": "display_data"
    },
    {
     "data": {
      "text/plain": [
       "-128.16508216178687"
      ]
     },
     "execution_count": 13,
     "metadata": {},
     "output_type": "execute_result"
    }
   ],
   "source": [
    "student.test(play=True)"
   ]
  }
 ],
 "metadata": {
  "kernelspec": {
   "display_name": "RL_learning2",
   "language": "python",
   "name": "python3"
  },
  "language_info": {
   "codemirror_mode": {
    "name": "ipython",
    "version": 3
   },
   "file_extension": ".py",
   "mimetype": "text/x-python",
   "name": "python",
   "nbconvert_exporter": "python",
   "pygments_lexer": "ipython3",
   "version": "3.9.21"
  }
 },
 "nbformat": 4,
 "nbformat_minor": 2
}
