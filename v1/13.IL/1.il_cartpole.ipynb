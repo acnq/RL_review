{
 "cells": [
  {
   "cell_type": "markdown",
   "metadata": {},
   "source": [
    "## Imitative Learning: IL  in cartpole\n",
    "模仿学习"
   ]
  },
  {
   "cell_type": "code",
   "execution_count": 1,
   "metadata": {},
   "outputs": [
    {
     "data": {
      "text/plain": [
       "array([-0.03096395, -0.03150868,  0.04155564,  0.03748439], dtype=float32)"
      ]
     },
     "execution_count": 1,
     "metadata": {},
     "output_type": "execute_result"
    }
   ],
   "source": [
    "import gym\n",
    "\n",
    "# 定义环境\n",
    "class MyWrapper(gym.Wrapper):\n",
    "  def __init__(self):\n",
    "    env = gym.make('CartPole-v1', render_mode='rgb_array')\n",
    "    super().__init__(env)\n",
    "    self.env = env\n",
    "    self.step_n = 0\n",
    "  \n",
    "  def reset(self):\n",
    "    state, _ = self.env.reset()\n",
    "    self.step_n = 0\n",
    "    return state\n",
    "    \n",
    "  def step(self, action):\n",
    "    state, reward, terminated, truncated, info = self.env.step(action)\n",
    "    done = terminated or truncated\n",
    "    self.step_n += 1\n",
    "    if self.step_n >= 200:\n",
    "      done = True\n",
    "    return state, reward, done, info \n",
    "  \n",
    "env = MyWrapper()\n",
    "env.reset()"
   ]
  },
  {
   "cell_type": "code",
   "execution_count": 2,
   "metadata": {},
   "outputs": [
    {
     "data": {
      "image/png": "[encoded data removed]",
      "text/plain": [
       "<Figure size 640x480 with 1 Axes>"
      ]
     },
     "metadata": {},
     "output_type": "display_data"
    }
   ],
   "source": [
    "from matplotlib import pyplot as plt\n",
    "\n",
    "%matplotlib inline\n",
    "\n",
    "# 打印游戏\n",
    "def show():\n",
    "  plt.imshow(env.render())\n",
    "  plt.show()\n",
    "  \n",
    "show()"
   ]
  },
  {
   "cell_type": "code",
   "execution_count": 4,
   "metadata": {},
   "outputs": [
    {
     "data": {
      "text/plain": [
       "(0, 9.0)"
      ]
     },
     "execution_count": 4,
     "metadata": {},
     "output_type": "execute_result"
    }
   ],
   "source": [
    "import torch\n",
    "import random\n",
    "from IPython import display\n",
    "\n",
    "# 教师模型使用PPO\n",
    "class PPO:\n",
    "\tdef __init__(self):\n",
    "\t\t# 定义模型\n",
    "\t\tself.model = torch.nn.Sequential(\n",
    "\t\t\ttorch.nn.Linear(4, 128),\n",
    "\t\t\ttorch.nn.ReLU(),\n",
    "\t\t\ttorch.nn.Linear(128, 2),\n",
    "\t\t\ttorch.nn.Softmax(dim=1),\n",
    "\t\t)\n",
    "\n",
    "\t\tself.model_td = sequential = torch.nn.Sequential(\n",
    "\t\t\ttorch.nn.Linear(4, 128),\n",
    "\t\t\ttorch.nn.ReLU(),\n",
    "\t\t\ttorch.nn.Linear(128, 1)\n",
    "\t\t)\n",
    "\t\tself.optimizer = torch.optim.Adam(self.model.parameters(), lr=1e-3)\n",
    "\t\tself.optimizer_td = torch.optim.Adam(self.model_td.parameters(), lr=1e-2)\n",
    "\t\tself.loss_fn = torch.nn.MSELoss()\n",
    "  \n",
    "  # 得到一个动作\n",
    "\tdef get_action(self, state):\n",
    "\t\t# 走神经网络，得到一个动作\n",
    "\t\tstate = torch.FloatTensor(state).reshape(1, 4)\n",
    "\t\t# [1, 4] -> [1, 2]\n",
    "\t\tprob = self.model(state)\n",
    "\t\t\n",
    "\t\t# 根据概率选择一个动作\n",
    "\t\taction = random.choices(range(2), weights=prob[0].tolist(), k=1)[0]\n",
    "\t\t\n",
    "\t\treturn action\n",
    "\n",
    "\t# 优势函数\n",
    "\tdef _get_advantages(self, deltas):\n",
    "\t\tadvantages = []\n",
    "\t\t\n",
    "\t\t# 反向遍历deltas\n",
    "\t\ts = 0.0\n",
    "\t\tfor delta in deltas[::-1]:\n",
    "\t\t\ts = 0.98 * 0.95 * s + delta\n",
    "\t\t\tadvantages.append(s)\n",
    "\t\t\t\n",
    "\t\t# 逆序\n",
    "\t\tadvantages.reverse()\n",
    "\t\treturn advantages\n",
    "\n",
    "\tdef train(self, states, rewards, actions, next_states, overs):\n",
    "\t\t# 玩一局游戏，得到数据\n",
    "\t\t# states -> [b, 4]\n",
    "\t\t# rewards -> [b, 1]\n",
    "\t\t# actions -> [b, 1]\n",
    "\t\t# next_states -> [b, 4]\n",
    "\t\t# overs -> [b, 1]\n",
    "\t\n",
    "\t\t# 计算values, targets\n",
    "\t\t# [b, 4] -> [b, 1]\n",
    "\t\tvalues = self.model_td(states)\n",
    "\t\t\n",
    "\t\t# [b, 4] -> [b, 1]\n",
    "\t\ttargets = self.model_td(next_states) * 0.98\n",
    "\t\ttargets *= (1 - overs)\n",
    "\t\ttargets += rewards\n",
    "\t\t\n",
    "\t\t# [b, 1]\n",
    "\t\tdeltas = (targets - values).squeeze(dim=1).tolist()\n",
    "\t\tadvantages = self._get_advantages(deltas)\n",
    "\t\tadvantages = torch.FloatTensor(advantages).reshape(-1, 1)\n",
    "\t\t\n",
    "\t\t# 取出每步动作的概率\n",
    "\t\t# [b, 2] -> [b, 2] -> [b, 1]\n",
    "\t\told_probs = self.model(states)\n",
    "\t\told_probs = old_probs.gather(dim=1, index=actions)\n",
    "\t\told_probs = old_probs.detach()\n",
    "\t\t\n",
    "\t\t# 每个批量反复训练10次\n",
    "\t\tfor _ in range(10):\n",
    "\t\t\t#[b, 4] -> [b, 2]\n",
    "\t\t\tnew_probs = self.model(states)\n",
    "\n",
    "\t\t\t# [b, 2] -> [b, 1]\n",
    "\t\t\tnew_probs = new_probs.gather(dim=1, index=actions)\n",
    "\t\t\tnew_probs = new_probs\n",
    "\t\t\t\n",
    "\t\t\t# [b, 1] - [b, 1] -> [b, 1]\n",
    "\t\t\tratios = new_probs / old_probs\n",
    "\t\t\t\n",
    "\t\t\t# 计算截断和不接段的两份loss, 取小的\n",
    "\t\t\t# [b, 1] * [b, 1] -> [b, 1]\n",
    "\t\t\tsurr1 = ratios * advantages\n",
    "  \n",
    "\t\t\t# [b, 1] * [b, 1] -> [b, 1]\n",
    "\t\t\tsurr2 = torch.clamp(ratios, 0.8, 1.2) * advantages\n",
    "\t\t\t\n",
    "\t\t\tloss = -torch.min(surr1, surr2)\n",
    "\t\t\tloss = loss.mean()\n",
    "\t\t\t\n",
    "\t\t\t# 重新计算value和时序差分\n",
    "\t\t\tvalues = self.model_td(states)\n",
    "\t\t\tloss_td = self.loss_fn(values, targets.detach())\n",
    "\t\t\t\n",
    "\t\t\t# 更新参数\n",
    "\t\t\tself.optimizer.zero_grad()\n",
    "\t\t\tloss.backward()\n",
    "\t\t\tself.optimizer.step()\n",
    "\t\t\t\n",
    "\t\t\tself.optimizer_td.zero_grad()\n",
    "\t\t\tloss_td.backward()\n",
    "\t\t\tself.optimizer_td.step()\n",
    "      \n",
    "  # 得到一局游戏的数据\n",
    "\tdef get_data(self):\n",
    "\t\tstates = []\n",
    "\t\trewards = []\n",
    "\t\tactions = []\n",
    "\t\tnext_states = []\n",
    "\t\tovers = []\n",
    "\t\t\n",
    "\t\t\n",
    "\t\t# 初始化游戏\n",
    "\t\tstate = env.reset()\n",
    "\t\t\n",
    "\t\t# 玩到游戏结束为止\n",
    "\t\tover = False\n",
    "\t\twhile not over:\n",
    "\t\t\t# 根据当前状态得到一个动作\n",
    "\t\t\taction = self.get_action(state)\n",
    "\t\t\t\n",
    "\t\t\t# 执行动作，得到反馈\n",
    "\t\t\tnext_state, reward, over, _ = env.step(action)\n",
    "\t\t\t\n",
    "\t\t\t# 记录数据样本\n",
    "\t\t\tstates.append(state)\n",
    "\t\t\trewards.append(reward)\n",
    "\t\t\tactions.append(action)\n",
    "\t\t\tnext_states.append(next_state)\n",
    "\t\t\tovers.append(over)\n",
    "\t\t\t\n",
    "\t\t\t# 更新游戏状态，开始下一个动作\n",
    "\t\t\tstate = next_state\n",
    "\t\t\t\n",
    "\t\t# [b, 4]\n",
    "\t\tstates = torch.FloatTensor(states).reshape(-1, 4)\n",
    "\t\t# [b, 1]\n",
    "\t\trewards = torch.FloatTensor(rewards).reshape(-1, 1)\n",
    "\t\t# [b, 1]\n",
    "\t\tactions = torch.LongTensor(actions).reshape(-1, 1)\n",
    "\t\t# [b, 4]\n",
    "\t\tnext_states = torch.FloatTensor(next_states).reshape(-1, 4)\n",
    "\t\t# [b, 1]\n",
    "\t\tovers = torch.LongTensor(overs).reshape(-1, 1)\n",
    "\t\t\n",
    "\t\treturn states, rewards, actions, next_states, overs\n",
    "\n",
    "\tdef test(self, play):\n",
    "\t\t#初始化游戏\n",
    "\t\tstate = env.reset()\n",
    "\t\t\n",
    "\t\t#记录反馈值的和,这个值越大越好\n",
    "\t\treward_sum = 0\n",
    "\t\t\n",
    "\t\t#玩到游戏结束为止\n",
    "\t\tover = False\n",
    "\t\twhile not over:\n",
    "\t\t\t#根据当前状态得到一个动作\n",
    "\t\t\taction = self.get_action(state)\n",
    "\t\t\t\n",
    "\t\t\t#执行动作,得到反馈\n",
    "\t\t\tstate, reward, over, _ = env.step(action)\n",
    "\t\t\treward_sum += reward\n",
    "\t\t\t\n",
    "\t\t\t# 打印动画\n",
    "\t\t\tif play and random.random() < 0.2: # 跳帧\n",
    "\t\t\t\tdisplay.clear_output(wait=True)\n",
    "\t\t\t\tshow()\n",
    "\t\t\t\t\n",
    "\t\treturn reward_sum\n",
    "\n",
    "teacher = PPO()\n",
    "\n",
    "teacher.train(*teacher.get_data())\n",
    "\n",
    "teacher.get_action([1, 2, 3, 4]), teacher.test(play=True)"
   ]
  },
  {
   "cell_type": "code",
   "execution_count": 5,
   "metadata": {},
   "outputs": [
    {
     "name": "stdout",
     "output_type": "stream",
     "text": [
      "0 16.2\n",
      "50 183.8\n",
      "100 200.0\n",
      "150 200.0\n",
      "200 200.0\n",
      "250 200.0\n",
      "300 200.0\n",
      "350 200.0\n",
      "400 200.0\n",
      "450 200.0\n"
     ]
    },
    {
     "data": {
      "text/plain": [
       "200.0"
      ]
     },
     "execution_count": 5,
     "metadata": {},
     "output_type": "execute_result"
    }
   ],
   "source": [
    "for i in range(500):\n",
    "  teacher.train(*teacher.get_data())\n",
    "  \n",
    "  if i % 50 == 0:\n",
    "    test_result = sum([teacher.test(play=False) for _ in range(10)]) / 10\n",
    "    print(i, test_result)\n",
    "    \n",
    "teacher.test(play=False)"
   ]
  },
  {
   "cell_type": "code",
   "execution_count": 7,
   "metadata": {},
   "outputs": [
    {
     "data": {
      "text/plain": [
       "(torch.Size([200, 4]), torch.Size([200, 1]))"
      ]
     },
     "execution_count": 7,
     "metadata": {},
     "output_type": "execute_result"
    }
   ],
   "source": [
    "# 使用训练好的模型获取一批教师数据\n",
    "teacher_states, _, teacher_actions, _, _ = teacher.get_data()\n",
    "\n",
    "# 删除教师，只留下教师的数据就可以了\n",
    "del teacher\n",
    "\n",
    "teacher_states.shape, teacher_actions.shape"
   ]
  },
  {
   "cell_type": "code",
   "execution_count": 8,
   "metadata": {},
   "outputs": [
    {
     "data": {
      "text/plain": [
       "<__main__.PPO at 0x157f846caf0>"
      ]
     },
     "execution_count": 8,
     "metadata": {},
     "output_type": "execute_result"
    }
   ],
   "source": [
    "# 初始化学生模型\n",
    "student = PPO()\n",
    "\n",
    "student"
   ]
  },
  {
   "cell_type": "code",
   "execution_count": 9,
   "metadata": {},
   "outputs": [
    {
     "data": {
      "text/plain": [
       "tensor([[0.5866],\n",
       "        [0.5859]], grad_fn=<SigmoidBackward0>)"
      ]
     },
     "execution_count": 9,
     "metadata": {},
     "output_type": "execute_result"
    }
   ],
   "source": [
    "# 定义鉴别器网络，鉴定一批数据来自teacher还是student\n",
    "class Discriminator(torch.nn.Module):\n",
    "  def __init__(self):\n",
    "    super().__init__()\n",
    "    self.sequential = torch.nn.Sequential(\n",
    "\t\t\ttorch.nn.Linear(6, 128),\n",
    "\t\t\ttorch.nn.ReLU(),\n",
    "\t\t\ttorch.nn.Linear(128, 1),\n",
    "\t\t\ttorch.nn.Sigmoid(),\n",
    "\t\t)\n",
    "    \n",
    "  def forward(self, states, actions):\n",
    "    one_hot = torch.nn.functional.one_hot(actions.squeeze(dim=1), num_classes=2)\n",
    "    cat = torch.cat([states, one_hot], dim=1)\n",
    "    return self.sequential(cat)\n",
    "  \n",
    "discriminator = Discriminator()\n",
    "discriminator(torch.randn(2, 4), torch.ones(2, 1).long())"
   ]
  },
  {
   "cell_type": "code",
   "execution_count": 10,
   "metadata": {},
   "outputs": [
    {
     "name": "stdout",
     "output_type": "stream",
     "text": [
      "0 19.4\n",
      "50 195.7\n",
      "100 182.1\n",
      "150 196.3\n",
      "200 200.0\n",
      "250 200.0\n",
      "300 200.0\n",
      "350 200.0\n",
      "400 200.0\n",
      "450 200.0\n"
     ]
    }
   ],
   "source": [
    "# 模仿学习\n",
    "def imi_learn():\n",
    "  optimizer = torch.optim.Adam(discriminator.parameters(), lr=1e-3)\n",
    "  bce_loss = torch.nn.BCELoss()\n",
    "  \n",
    "  for i  in range(500):\n",
    "    # 使用Student模型获取一句游戏的数据，不需要reward\n",
    "    states, _, actions, next_states, overs = student.get_data()\n",
    "    \n",
    "    # 使用鉴别器鉴定两批数据的来源\n",
    "    prob_teacher = discriminator(teacher_states, teacher_actions)\n",
    "    prob_student = discriminator(states, actions)\n",
    "    \n",
    "    # 老师0，学生1，计算二分类loss\n",
    "    loss_teacher = bce_loss(prob_teacher, torch.zeros_like(prob_teacher))\n",
    "    loss_student = bce_loss(prob_student, torch.ones_like(prob_student))\n",
    "    loss = loss_teacher + loss_student\n",
    "    \n",
    "    # 调整鉴别器\n",
    "    optimizer.zero_grad()\n",
    "    loss.backward()\n",
    "    optimizer.step()\n",
    "    \n",
    "    # 使用一批数据来自学生的概率作为reward,取log,再符号取反\n",
    "    # 因为鉴别器会把学生数据的概率贴近1,所以目标是让鉴别器无法分辨,这是一种对抗网络的思路\n",
    "    rewards = -prob_student.log().detach()\n",
    "    \n",
    "    # 更新学生模型参数,使用PPO模型本身的更新方式\n",
    "    student.train(states, rewards, actions, next_states, overs)\n",
    "    \n",
    "    if i % 50 == 0:\n",
    "      test_result = sum([student.test(play=False) for _ in range(10)]) / 10\n",
    "      print(i, test_result)\n",
    "      \n",
    "imi_learn()"
   ]
  },
  {
   "cell_type": "code",
   "execution_count": 11,
   "metadata": {},
   "outputs": [
    {
     "data": {
      "image/png": "[encoded data removed]",
      "text/plain": [
       "<Figure size 640x480 with 1 Axes>"
      ]
     },
     "metadata": {},
     "output_type": "display_data"
    },
    {
     "data": {
      "text/plain": [
       "200.0"
      ]
     },
     "execution_count": 11,
     "metadata": {},
     "output_type": "execute_result"
    }
   ],
   "source": [
    "student.test(play=True)"
   ]
  }
 ],
 "metadata": {
  "kernelspec": {
   "display_name": "RL_learning2",
   "language": "python",
   "name": "python3"
  },
  "language_info": {
   "codemirror_mode": {
    "name": "ipython",
    "version": 3
   },
   "file_extension": ".py",
   "mimetype": "text/x-python",
   "name": "python",
   "nbconvert_exporter": "python",
   "pygments_lexer": "ipython3",
   "version": "3.9.21"
  }
 },
 "nbformat": 4,
 "nbformat_minor": 2
}
