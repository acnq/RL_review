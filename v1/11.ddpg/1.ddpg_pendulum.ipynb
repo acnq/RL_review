{
 "cells": [
  {
   "cell_type": "markdown",
   "metadata": {},
   "source": [
    "## Deep Deterministic Policy Gradiant: DDPG  in pendulum"
   ]
  },
  {
   "cell_type": "code",
   "execution_count": 2,
   "metadata": {},
   "outputs": [
    {
     "data": {
      "text/plain": [
       "array([ 0.9907573 , -0.13564652, -0.31195584], dtype=float32)"
      ]
     },
     "execution_count": 2,
     "metadata": {},
     "output_type": "execute_result"
    }
   ],
   "source": [
    "import gym\n",
    "\n",
    "# 定义环境\n",
    "class MyWrapper(gym.Wrapper):\n",
    "  def __init__(self):\n",
    "    env = gym.make('Pendulum-v1', render_mode='rgb_array')\n",
    "    super().__init__(env)\n",
    "    self.env = env\n",
    "    self.step_n = 0\n",
    "  \n",
    "  def reset(self):\n",
    "    state, _ = self.env.reset()\n",
    "    self.step_n = 0\n",
    "    return state\n",
    "    \n",
    "  def step(self, action):\n",
    "    state, reward, terminated, truncated, info = self.env.step(action)\n",
    "    done = terminated or truncated\n",
    "    self.step_n += 1\n",
    "    if self.step_n >= 200:\n",
    "      done = True\n",
    "    return state, reward, done, info \n",
    "  \n",
    "env = MyWrapper()\n",
    "env.reset()"
   ]
  },
  {
   "cell_type": "code",
   "execution_count": 3,
   "metadata": {},
   "outputs": [
    {
     "data": {
      "image/png": "[encoded data removed]",
      "text/plain": [
       "<Figure size 640x480 with 1 Axes>"
      ]
     },
     "metadata": {},
     "output_type": "display_data"
    }
   ],
   "source": [
    "from matplotlib import pyplot as plt\n",
    "\n",
    "%matplotlib inline\n",
    "\n",
    "# 打印游戏\n",
    "def show():\n",
    "  plt.imshow(env.render())\n",
    "  plt.show()\n",
    "  \n",
    "show()"
   ]
  },
  {
   "cell_type": "code",
   "execution_count": 5,
   "metadata": {},
   "outputs": [
    {
     "data": {
      "text/plain": [
       "tensor([[0.1094]], grad_fn=<MulBackward0>)"
      ]
     },
     "execution_count": 5,
     "metadata": {},
     "output_type": "execute_result"
    }
   ],
   "source": [
    "import torch\n",
    "\n",
    "# 定义模型\n",
    "class Model(torch.nn.Module):\n",
    "  def __init__(self):\n",
    "    super().__init__()\n",
    "    self.sequential = torch.nn.Sequential(\n",
    "      torch.nn.Linear(3, 64),\n",
    "      torch.nn.ReLU(),\n",
    "      torch.nn.Linear(64, 64),\n",
    "      torch.nn.ReLU(),\n",
    "      torch.nn.Linear(64, 1),\n",
    "      torch.nn.Tanh(),\n",
    "    )\n",
    "    \n",
    "  def forward(self, state):\n",
    "    return self.sequential(state) * 2.0\n",
    "\n",
    "model_action = Model()\n",
    "model_action_next = Model()\n",
    "\n",
    "model_action_next.load_state_dict(model_action.state_dict())\n",
    "\n",
    "model_action(torch.randn(1, 3))"
   ]
  },
  {
   "cell_type": "code",
   "execution_count": 6,
   "metadata": {},
   "outputs": [
    {
     "data": {
      "text/plain": [
       "tensor([[-0.0166]], grad_fn=<AddmmBackward0>)"
      ]
     },
     "execution_count": 6,
     "metadata": {},
     "output_type": "execute_result"
    }
   ],
   "source": [
    "model_value = torch.nn.Sequential(\n",
    "  torch.nn.Linear(4, 64),\n",
    "  torch.nn.ReLU(),\n",
    "  torch.nn.Linear(64, 64),\n",
    "  torch.nn.ReLU(),\n",
    "  torch.nn.Linear(64, 1),\n",
    ")\n",
    "\n",
    "model_value_next = torch.nn.Sequential(\n",
    "  torch.nn.Linear(4, 64),\n",
    "  torch.nn.ReLU(),\n",
    "  torch.nn.Linear(64, 64),\n",
    "  torch.nn.ReLU(),\n",
    "  torch.nn.Linear(64, 1),\n",
    ")\n",
    "\n",
    "model_value_next.load_state_dict(model_value.state_dict())\n",
    "\n",
    "model_value(torch.randn(1, 4))"
   ]
  },
  {
   "cell_type": "code",
   "execution_count": null,
   "metadata": {},
   "outputs": [
    {
     "data": {
      "text/plain": [
       "0.6358529471571284"
      ]
     },
     "execution_count": 7,
     "metadata": {},
     "output_type": "execute_result"
    }
   ],
   "source": [
    "import random\n",
    "import numpy as np \n",
    "\n",
    "# 得到一个动作\n",
    "def get_action(state):\n",
    "  # 走神经网络，得到一个动作\n",
    "  state = torch.FloatTensor(state).reshape(1, 3)\n",
    "  action = model_action(state).item()\n",
    "  # 增加噪声作为探索\n",
    "  action += random.normalvariate(mu=0, sigma=0.01)\n",
    "  return action\n",
    "\n",
    "get_action([1, 2, 3])"
   ]
  },
  {
   "cell_type": "code",
   "execution_count": 8,
   "metadata": {},
   "outputs": [
    {
     "data": {
      "text/plain": [
       "(200,\n",
       " (array([0.64718384, 0.762334  , 0.0779994 ], dtype=float32),\n",
       "  0.17261362244120607,\n",
       "  -0.7521743513515019,\n",
       "  array([0.6210662 , 0.7837581 , 0.67564195], dtype=float32),\n",
       "  False))"
      ]
     },
     "execution_count": 8,
     "metadata": {},
     "output_type": "execute_result"
    }
   ],
   "source": [
    "# 样本池\n",
    "datas = []\n",
    "\n",
    "def update_data():\n",
    "  state = env.reset()\n",
    "  \n",
    "  # 玩到结束\n",
    "  over = False\n",
    "  while not over:\n",
    "    action = get_action(state)\n",
    "    \n",
    "    next_state, reward, over, _ = env.step([action])\n",
    "    \n",
    "    datas.append((state, action, reward, next_state, over))\n",
    "    \n",
    "    state = next_state\n",
    "    \n",
    "  while len(datas) > 10000:\n",
    "    datas.pop(0)\n",
    "    \n",
    "update_data()\n",
    "\n",
    "len(datas), datas[0]"
   ]
  },
  {
   "cell_type": "code",
   "execution_count": 14,
   "metadata": {},
   "outputs": [
    {
     "data": {
      "text/plain": [
       "(tensor([[ 0.0998, -0.9950,  6.0456],\n",
       "         [ 0.9057, -0.4239,  3.1504],\n",
       "         [-0.9962, -0.0876, -7.4009],\n",
       "         [ 0.9940, -0.1096,  2.7138],\n",
       "         [ 0.9646,  0.2636,  2.8436]]),\n",
       " tensor([[ 0.0851],\n",
       "         [ 0.2411],\n",
       "         [-0.1909],\n",
       "         [ 0.2903],\n",
       "         [ 0.3769]]),\n",
       " tensor([[ -5.8183],\n",
       "         [ -1.1842],\n",
       "         [-14.8038],\n",
       "         [ -0.7486],\n",
       "         [ -0.8799]]),\n",
       " tensor([[ 0.3575, -0.9339,  5.3121],\n",
       "         [ 0.9570, -0.2901,  2.8686],\n",
       "         [-0.9591,  0.2832, -7.4952],\n",
       "         [ 0.9997,  0.0239,  2.6751],\n",
       "         [ 0.9124,  0.4093,  3.0979]]),\n",
       " tensor([[0],\n",
       "         [0],\n",
       "         [0],\n",
       "         [0],\n",
       "         [0]]))"
      ]
     },
     "execution_count": 14,
     "metadata": {},
     "output_type": "execute_result"
    }
   ],
   "source": [
    "# 获取一批数据样本\n",
    "def get_sample():\n",
    "  # 从样本池中采样\n",
    "  samples = random.sample(datas, 64)\n",
    "  \n",
    "  # [b, 3]\n",
    "  state = torch.FloatTensor([i[0] for i in samples]).reshape(-1, 3)\n",
    "  # [b, 1]\n",
    "  action = torch.FloatTensor([i[1] for i in samples]).reshape(-1, 1)\n",
    "  # [b, 1]\n",
    "  reward = torch.FloatTensor([i[2] for i in samples]).reshape(-1, 1)\n",
    "  # [b, 3]\n",
    "  next_state = torch.FloatTensor([i[3] for i in samples]).reshape(-1, 3)\n",
    "  # [b, 1]\n",
    "  over = torch.LongTensor([i[4] for i in samples]).reshape(-1, 1)\n",
    "  \n",
    "  return state, action, reward, next_state, over\n",
    "\n",
    "state, action, reward, next_state, over = get_sample()\n",
    "\n",
    "state[:5], action[:5], reward[:5], next_state[:5], over[:5]"
   ]
  },
  {
   "cell_type": "code",
   "execution_count": 15,
   "metadata": {},
   "outputs": [
    {
     "data": {
      "text/plain": [
       "-1254.533422420098"
      ]
     },
     "execution_count": 15,
     "metadata": {},
     "output_type": "execute_result"
    }
   ],
   "source": [
    "from IPython import display\n",
    "\n",
    "def test(play):\n",
    "  #初始化游戏\n",
    "  state = env.reset()\n",
    "  \n",
    "  #记录反馈值的和,这个值越大越好\n",
    "  reward_sum = 0\n",
    "  \n",
    "  #玩到游戏结束为止\n",
    "  over = False\n",
    "  while not over:\n",
    "    #根据当前状态得到一个动作\n",
    "    action = get_action(state)\n",
    "    \n",
    "    #执行动作,得到反馈\n",
    "    state, reward, over, _ = env.step([action])\n",
    "    reward_sum += reward\n",
    "    \n",
    "    # 打印动画\n",
    "    if play and random.random() < 0.2: # 跳帧\n",
    "      display.clear_output(wait=True)\n",
    "      show()\n",
    "      \n",
    "  return reward_sum\n",
    "\n",
    "test(play=False)"
   ]
  },
  {
   "cell_type": "code",
   "execution_count": 18,
   "metadata": {},
   "outputs": [
    {
     "data": {
      "text/plain": [
       "(tensor([[ 1.0034e-02],\n",
       "         [ 3.1280e-02],\n",
       "         [-9.9666e-03],\n",
       "         [ 2.0110e-02],\n",
       "         [-9.3386e-05]], grad_fn=<SliceBackward0>),\n",
       " tensor([[ -5.7971],\n",
       "         [ -1.1566],\n",
       "         [-14.8165],\n",
       "         [ -0.7346],\n",
       "         [ -0.8881]], grad_fn=<SliceBackward0>))"
      ]
     },
     "execution_count": 18,
     "metadata": {},
     "output_type": "execute_result"
    }
   ],
   "source": [
    "def get_value(state, action):\n",
    "  # 直接评估综合了state和action的value\n",
    "  # [b, 3 + 1] -> [b, 4]\n",
    "  input = torch.cat([state, action], dim=1)\n",
    "  \n",
    "  # [b, 4] -> [b, 1]\n",
    "  return model_value(input)\n",
    "\n",
    "def get_target(next_state, reward, over):\n",
    "  # 对next_state 的评估需要先把它对应的动作计算出来，这里用model_action_next来计算\n",
    "  # [b, 3] -> [b, 1]\n",
    "  action = model_action_next(next_state)\n",
    "  \n",
    "  # 和value的计算一样，action拼合进next_state\n",
    "  # [b, 3 + 1] -> [b, 4]\n",
    "  input = torch.cat([next_state, action], dim=1)\n",
    "  \n",
    "  # [b, 4] -> [b, 1]\n",
    "  target = model_value_next(input) * 0.98\n",
    "  \n",
    "  # [b, 1] * [b, 1] -> [b, 1]\n",
    "  target *= (1 - over)\n",
    "  \n",
    "  # [b, 1] + [b, 1] -> [b, 1]\n",
    "  target += reward\n",
    "  \n",
    "  return target\n",
    "\n",
    "get_value(state, action)[:5], get_target(next_state, reward, over)[:5]"
   ]
  },
  {
   "cell_type": "code",
   "execution_count": 19,
   "metadata": {},
   "outputs": [
    {
     "data": {
      "text/plain": [
       "tensor(0.0330, grad_fn=<NegBackward0>)"
      ]
     },
     "execution_count": 19,
     "metadata": {},
     "output_type": "execute_result"
    }
   ],
   "source": [
    "def get_loss_action(state):\n",
    "  # 首先计算动作\n",
    "  # [b, 3] -> [b, 1]\n",
    "  action = model_action(state)\n",
    "  \n",
    "  # 像value计算那里一样，拼合state和acton综合计算\n",
    "  # [b, 3 + 1] -> [b, 4]\n",
    "  input = torch.cat([state, action], dim=1)\n",
    "  \n",
    "  # 使用网络评估动作价值，价值越高越好\n",
    "  # 价值越高，loss越小，\n",
    "  # [b, 4] -> [b, 1] -> [1]\n",
    "  loss = -model_value(input).mean()\n",
    "  \n",
    "  return loss\n",
    "\n",
    "get_loss_action(state)"
   ]
  },
  {
   "cell_type": "code",
   "execution_count": 20,
   "metadata": {},
   "outputs": [],
   "source": [
    "def soft_update(model, model_next):\n",
    "  for param, param_next in zip(model.parameters(), model_next.parameters()):\n",
    "    # 以一个小比例更新\n",
    "    value = param_next.data * 0.995 + param.data * 0.005\n",
    "    param_next.data.copy_(value)\n",
    "    \n",
    "soft_update(torch.nn.Linear(4, 64), torch.nn.Linear(4, 64))"
   ]
  },
  {
   "cell_type": "code",
   "execution_count": 21,
   "metadata": {},
   "outputs": [
    {
     "name": "stdout",
     "output_type": "stream",
     "text": [
      "0 400 -1666.9655100675614\n",
      "20 4400 -1011.609982571709\n",
      "40 8400 -1026.213337137478\n",
      "60 10000 -888.042446341991\n",
      "80 10000 -237.94136840537072\n",
      "100 10000 -196.89120242090263\n",
      "120 10000 -120.97536023142997\n",
      "140 10000 -178.04878409834123\n",
      "160 10000 -129.91273884185952\n",
      "180 10000 -132.08058878771524\n"
     ]
    }
   ],
   "source": [
    "def train():\n",
    "  model_action.train()\n",
    "  model_value.train()\n",
    "  optimizer_action = torch.optim.Adam(model_action.parameters(), lr=5e-4)\n",
    "  optimizer_value = torch.optim.Adam(model_value.parameters(), lr=5e-3)\n",
    "  loss_fn = torch.nn.MSELoss()\n",
    "  \n",
    "  # 玩N局游戏，每句游戏训练一次\n",
    "  for epoch in range(200):\n",
    "    # 更新N条数据\n",
    "    update_data()\n",
    "    \n",
    "    # 每次更新过后，学习N次\n",
    "    for i in range(200):\n",
    "      # 采样一批数据\n",
    "      state, action, reward, next_state, over = get_sample()\n",
    "      \n",
    "      # 计算value和target\n",
    "      value = get_value(state, action)\n",
    "      target = get_target(next_state, reward, over)\n",
    "      \n",
    "      # 求差，计算loss, 更新参数\n",
    "      loss_value = loss_fn(value, target)\n",
    "      \n",
    "      optimizer_value.zero_grad()\n",
    "      loss_value.backward()\n",
    "      optimizer_value.step()\n",
    "      \n",
    "      # 使用value网络评估action网络的loss, 更新参数\n",
    "      loss_action = get_loss_action(state)\n",
    "      \n",
    "      optimizer_action.zero_grad()\n",
    "      loss_action.backward()\n",
    "      optimizer_action.step()\n",
    "      \n",
    "      # 小比例更新\n",
    "      soft_update(model_action, model_action_next)\n",
    "      soft_update(model_value, model_value_next)\n",
    "      \n",
    "    if epoch % 20 == 0:\n",
    "      test_result = sum([test(play=False) for _ in range(10)]) / 10\n",
    "      print(epoch, len(datas), test_result)\n",
    "      \n",
    "train()"
   ]
  },
  {
   "cell_type": "code",
   "execution_count": 22,
   "metadata": {},
   "outputs": [
    {
     "data": {
      "image/png": "[encoded data removed]",
      "text/plain": [
       "<Figure size 640x480 with 1 Axes>"
      ]
     },
     "metadata": {},
     "output_type": "display_data"
    },
    {
     "data": {
      "text/plain": [
       "-116.51879707573413"
      ]
     },
     "execution_count": 22,
     "metadata": {},
     "output_type": "execute_result"
    }
   ],
   "source": [
    "test(play=True)"
   ]
  }
 ],
 "metadata": {
  "kernelspec": {
   "display_name": "RL_learning2",
   "language": "python",
   "name": "python3"
  },
  "language_info": {
   "codemirror_mode": {
    "name": "ipython",
    "version": 3
   },
   "file_extension": ".py",
   "mimetype": "text/x-python",
   "name": "python",
   "nbconvert_exporter": "python",
   "pygments_lexer": "ipython3",
   "version": "3.9.21"
  }
 },
 "nbformat": 4,
 "nbformat_minor": 2
}
