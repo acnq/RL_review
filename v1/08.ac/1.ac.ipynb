{
 "cells": [
  {
   "cell_type": "markdown",
   "metadata": {},
   "source": [
    "## Actor-Critic: Actor_Critic Algorithm"
   ]
  },
  {
   "cell_type": "code",
   "execution_count": 1,
   "metadata": {},
   "outputs": [
    {
     "data": {
      "text/plain": [
       "array([ 0.0119127 , -0.03810552,  0.03287515,  0.02317588], dtype=float32)"
      ]
     },
     "execution_count": 1,
     "metadata": {},
     "output_type": "execute_result"
    }
   ],
   "source": [
    "import gym\n",
    "\n",
    "# 定义环境\n",
    "class MyWrapper(gym.Wrapper):\n",
    "  def __init__(self):\n",
    "    env = gym.make('CartPole-v1', render_mode='rgb_array')\n",
    "    super().__init__(env)\n",
    "    self.env = env\n",
    "    self.step_n = 0\n",
    "  \n",
    "  def reset(self):\n",
    "    state, _ = self.env.reset()\n",
    "    self.step_n = 0\n",
    "    return state\n",
    "    \n",
    "  def step(self, action):\n",
    "    state, reward, terminated, truncated, info = self.env.step(action)\n",
    "    done = terminated or truncated\n",
    "    self.step_n += 1\n",
    "    if self.step_n >= 200:\n",
    "      done = True\n",
    "    return state, reward, done, info \n",
    "  \n",
    "env = MyWrapper()\n",
    "env.reset()"
   ]
  },
  {
   "cell_type": "code",
   "execution_count": 2,
   "metadata": {},
   "outputs": [
    {
     "data": {
      "image/png": "[encoded data removed]",
      "text/plain": [
       "<Figure size 640x480 with 1 Axes>"
      ]
     },
     "metadata": {},
     "output_type": "display_data"
    }
   ],
   "source": [
    "from matplotlib import pyplot as plt\n",
    "\n",
    "%matplotlib inline\n",
    "\n",
    "# 打印游戏\n",
    "def show():\n",
    "  plt.imshow(env.render())\n",
    "  plt.show()\n",
    "  \n",
    "show()"
   ]
  },
  {
   "cell_type": "code",
   "execution_count": null,
   "metadata": {},
   "outputs": [
    {
     "data": {
      "text/plain": [
       "(tensor([[0.3118, 0.6882],\n",
       "         [0.4748, 0.5252]], grad_fn=<SoftmaxBackward0>),\n",
       " tensor([[0.1352],\n",
       "         [0.1400]], grad_fn=<AddmmBackward0>))"
      ]
     },
     "execution_count": 3,
     "metadata": {},
     "output_type": "execute_result"
    }
   ],
   "source": [
    "import torch\n",
    "\n",
    "# 定义模型\n",
    "model = torch.nn.Sequential(\n",
    "  torch.nn.Linear(4, 128),\n",
    "  torch.nn.ReLU(),\n",
    "  torch.nn.Linear(128, 2),\n",
    "  torch.nn.Softmax(dim=1),\n",
    ")\n",
    "\n",
    "\"code changed here\"\n",
    "model_td = sequential = torch.nn.Sequential(\n",
    "  torch.nn.Linear(4, 128),\n",
    "  torch.nn.ReLU(),\n",
    "  torch.nn.Linear(128, 1)\n",
    ")\n",
    "\n",
    "model(torch.randn(2, 4)), model_td(torch.randn(2, 4))\n",
    "\"code changed end\""
   ]
  },
  {
   "cell_type": "code",
   "execution_count": 4,
   "metadata": {},
   "outputs": [
    {
     "data": {
      "text/plain": [
       "1"
      ]
     },
     "execution_count": 4,
     "metadata": {},
     "output_type": "execute_result"
    }
   ],
   "source": [
    "import random\n",
    "\n",
    "# 得到一个动作\n",
    "def get_action(state):\n",
    "  # 走神经网络，得到一个动作\n",
    "  state = torch.FloatTensor(state).reshape(1, 4)\n",
    "\n",
    "  # [1, 4] -> [1, 2]\n",
    "  prob = model(state)\n",
    "  \n",
    "  # 根据概率选择一个动作\n",
    "  action = random.choices(range(2), weights=prob[0].tolist(), k=1)[0]\n",
    "  \n",
    "  return action\n",
    "\n",
    "get_action([1, 2, 3, 4])"
   ]
  },
  {
   "cell_type": "code",
   "execution_count": 5,
   "metadata": {},
   "outputs": [
    {
     "name": "stderr",
     "output_type": "stream",
     "text": [
      "C:\\Users\\fanyu\\AppData\\Local\\Temp\\ipykernel_29384\\3095393415.py:38: UserWarning: Creating a tensor from a list of numpy.ndarrays is extremely slow. Please consider converting the list to a single numpy.ndarray with numpy.array() before converting to a tensor. (Triggered internally at  C:\\actions-runner\\_work\\pytorch\\pytorch\\builder\\windows\\pytorch\\torch\\csrc\\utils\\tensor_new.cpp:204.)\n",
      "  states = torch.FloatTensor(states).reshape(-1, 4)\n"
     ]
    },
    {
     "data": {
      "text/plain": [
       "(tensor([[-3.8261e-03, -7.3109e-03,  3.1384e-02,  3.6311e-02],\n",
       "         [-3.9723e-03,  1.8735e-01,  3.2110e-02, -2.4631e-01],\n",
       "         [-2.2538e-04,  3.8200e-01,  2.7184e-02, -5.2869e-01],\n",
       "         [ 7.4145e-03,  5.7673e-01,  1.6610e-02, -8.1269e-01],\n",
       "         [ 1.8949e-02,  7.7162e-01,  3.5677e-04, -1.1001e+00],\n",
       "         [ 3.4381e-02,  9.6673e-01, -2.1645e-02, -1.3927e+00],\n",
       "         [ 5.3716e-02,  1.1621e+00, -4.9499e-02, -1.6920e+00],\n",
       "         [ 7.6958e-02,  9.6760e-01, -8.3339e-02, -1.4152e+00],\n",
       "         [ 9.6310e-02,  1.1637e+00, -1.1164e-01, -1.7327e+00],\n",
       "         [ 1.1958e-01,  1.3599e+00, -1.4630e-01, -2.0579e+00],\n",
       "         [ 1.4678e-01,  1.5561e+00, -1.8746e-01, -2.3921e+00]]),\n",
       " tensor([[1.],\n",
       "         [1.],\n",
       "         [1.],\n",
       "         [1.],\n",
       "         [1.],\n",
       "         [1.],\n",
       "         [1.],\n",
       "         [1.],\n",
       "         [1.],\n",
       "         [1.],\n",
       "         [1.]]),\n",
       " tensor([[1],\n",
       "         [1],\n",
       "         [1],\n",
       "         [1],\n",
       "         [1],\n",
       "         [1],\n",
       "         [0],\n",
       "         [1],\n",
       "         [1],\n",
       "         [1],\n",
       "         [0]]),\n",
       " tensor([[-3.9723e-03,  1.8735e-01,  3.2110e-02, -2.4631e-01],\n",
       "         [-2.2538e-04,  3.8200e-01,  2.7184e-02, -5.2869e-01],\n",
       "         [ 7.4145e-03,  5.7673e-01,  1.6610e-02, -8.1269e-01],\n",
       "         [ 1.8949e-02,  7.7162e-01,  3.5677e-04, -1.1001e+00],\n",
       "         [ 3.4381e-02,  9.6673e-01, -2.1645e-02, -1.3927e+00],\n",
       "         [ 5.3716e-02,  1.1621e+00, -4.9499e-02, -1.6920e+00],\n",
       "         [ 7.6958e-02,  9.6760e-01, -8.3339e-02, -1.4152e+00],\n",
       "         [ 9.6310e-02,  1.1637e+00, -1.1164e-01, -1.7327e+00],\n",
       "         [ 1.1958e-01,  1.3599e+00, -1.4630e-01, -2.0579e+00],\n",
       "         [ 1.4678e-01,  1.5561e+00, -1.8746e-01, -2.3921e+00],\n",
       "         [ 1.7790e-01,  1.3631e+00, -2.3530e-01, -2.1624e+00]]),\n",
       " tensor([[0],\n",
       "         [0],\n",
       "         [0],\n",
       "         [0],\n",
       "         [0],\n",
       "         [0],\n",
       "         [0],\n",
       "         [0],\n",
       "         [0],\n",
       "         [0],\n",
       "         [1]]))"
      ]
     },
     "execution_count": 5,
     "metadata": {},
     "output_type": "execute_result"
    }
   ],
   "source": [
    "# 得到一局游戏的数据\n",
    "def get_data():\n",
    "  states = []\n",
    "  rewards = []\n",
    "  actions = []\n",
    "  \"code changed here\"\n",
    "  next_states = []\n",
    "  overs = []\n",
    "  \"code change end\"\n",
    "  \n",
    "  \n",
    "  # 初始化游戏\n",
    "  state = env.reset()\n",
    "  \n",
    "  # 玩到游戏结束为止\n",
    "  over = False\n",
    "  while not over:\n",
    "    # 根据当前状态得到一个动作\n",
    "    action = get_action(state)\n",
    "    \n",
    "    # 执行动作，得到反馈\n",
    "    next_state, reward, over, _ = env.step(action)\n",
    "    \n",
    "    # 记录数据样本\n",
    "    states.append(state)\n",
    "    rewards.append(reward)\n",
    "    actions.append(action)\n",
    "    \"code changed here\"\n",
    "    next_states.append(next_state)\n",
    "    overs.append(over)\n",
    "    \"code change end\"\n",
    "    \n",
    "    # 更新游戏状态，开始下一个动作\n",
    "    state = next_state\n",
    "    \n",
    "  \"code changed here\"\n",
    "  # [b, 4]\n",
    "  states = torch.FloatTensor(states).reshape(-1, 4)\n",
    "  # [b, 1]\n",
    "  rewards = torch.FloatTensor(rewards).reshape(-1, 1)\n",
    "  # [b, 1]\n",
    "  actions = torch.LongTensor(actions).reshape(-1, 1)\n",
    "  # [b, 4]\n",
    "  next_states = torch.FloatTensor(next_states).reshape(-1, 4)\n",
    "  # [b, 1]\n",
    "  overs = torch.LongTensor(overs).reshape(-1, 1)\n",
    "  \"code end here\"\n",
    "  \n",
    "  return states, rewards, actions, next_states, overs\n",
    "\n",
    "get_data()"
   ]
  },
  {
   "cell_type": "code",
   "execution_count": 6,
   "metadata": {},
   "outputs": [
    {
     "data": {
      "text/plain": [
       "28.0"
      ]
     },
     "execution_count": 6,
     "metadata": {},
     "output_type": "execute_result"
    }
   ],
   "source": [
    "from IPython import display\n",
    "\n",
    "def test(play):\n",
    "  #初始化游戏\n",
    "  state = env.reset()\n",
    "  \n",
    "  #记录反馈值的和,这个值越大越好\n",
    "  reward_sum = 0\n",
    "  \n",
    "  #玩到游戏结束为止\n",
    "  over = False\n",
    "  while not over:\n",
    "    #根据当前状态得到一个动作\n",
    "    action = get_action(state)\n",
    "    \n",
    "    #执行动作,得到反馈\n",
    "    state, reward, over, _ = env.step(action)\n",
    "    reward_sum += reward\n",
    "    \n",
    "    # 打印动画\n",
    "    if play and random.random() < 0.2: # 跳帧\n",
    "      display.clear_output(wait=True)\n",
    "      show()\n",
    "      \n",
    "  return reward_sum\n",
    "\n",
    "test(play=False)"
   ]
  },
  {
   "cell_type": "code",
   "execution_count": 7,
   "metadata": {},
   "outputs": [
    {
     "name": "stdout",
     "output_type": "stream",
     "text": [
      "0 20.4\n",
      "100 23.0\n",
      "200 48.7\n",
      "300 93.4\n",
      "400 116.2\n",
      "500 166.5\n",
      "600 191.0\n",
      "700 198.9\n",
      "800 200.0\n",
      "900 200.0\n"
     ]
    }
   ],
   "source": [
    "def train():\n",
    "  optimizer = torch.optim.Adam(model.parameters(), lr=1e-3)\n",
    "  optimizer_td = torch.optim.Adam(model_td.parameters(), lr=1e-2)\n",
    "  loss_fn = torch.nn.MSELoss()\n",
    "  \n",
    "  # 玩N局游戏，每句游戏训练一次\n",
    "  for epoch in range(1000):\n",
    "    # 玩一局游戏，得到数据\n",
    "    # states -> [b, 4]\n",
    "    # rewards -> [b, 1]\n",
    "    # actions -> [b, 1]\n",
    "    # next_states -> [b, 4]\n",
    "    # overs -> [b, 1]\n",
    "    states, rewards, actions, next_states, overs = get_data()\n",
    "    \n",
    "    # 计算values, targets\n",
    "    # [b, 4] -> [b, 1]\n",
    "    values = model_td(states)\n",
    "    \n",
    "    # [b, 4] -> [b, 1]\n",
    "    targets = model_td(next_states) * 0.98\n",
    "    # [b, 1] * [b, 1] -> [b, 1]\n",
    "    targets *= (1 - overs)\n",
    "    # [b, 1] + [b, 1] -> [b, 1]\n",
    "    targets += rewards\n",
    "    \n",
    "    # 时序差分误差\n",
    "    # [b, 1] - [b, 1] -> [b, 1]\n",
    "    delta = (targets - values).detach()\n",
    "    \n",
    "    # 重新计算对应动作的概率\n",
    "    # [b, 4] -> [b, 2]\n",
    "    probs = model(states)\n",
    "    # [b, 2] -> [b, 1]\n",
    "    probs = probs.gather(dim=1, index=actions)\n",
    "    \n",
    "    # 根据策略梯度算法的导函数实现\n",
    "    # 只是把公式中的reward_sum替换为时序差分的误差\n",
    "    # [b, 1] * [b, 1] -> [b, 1] -> scalar\n",
    "    loss = (-probs.log() * delta).mean()\n",
    "    \n",
    "    # 时序差分的loss就是简单的value和target求mse loss即可\n",
    "    loss_td = loss_fn(values, targets.detach())\n",
    "    \n",
    "    optimizer.zero_grad()\n",
    "    loss.backward()\n",
    "    optimizer.step()\n",
    "    \n",
    "    optimizer_td.zero_grad()\n",
    "    loss_td.backward()\n",
    "    optimizer_td.step()\n",
    "    \n",
    "    if epoch % 100 == 0:\n",
    "      test_result = sum([test(play=False) for _ in range(10)]) / 10\n",
    "      print(epoch, test_result)\n",
    "      \n",
    "train()"
   ]
  },
  {
   "cell_type": "code",
   "execution_count": 8,
   "metadata": {},
   "outputs": [
    {
     "data": {
      "image/png": "[encoded data removed]",
      "text/plain": [
       "<Figure size 640x480 with 1 Axes>"
      ]
     },
     "metadata": {},
     "output_type": "display_data"
    },
    {
     "data": {
      "text/plain": [
       "200.0"
      ]
     },
     "execution_count": 8,
     "metadata": {},
     "output_type": "execute_result"
    }
   ],
   "source": [
    "test(play=True)"
   ]
  }
 ],
 "metadata": {
  "kernelspec": {
   "display_name": "RL_learning2",
   "language": "python",
   "name": "python3"
  },
  "language_info": {
   "codemirror_mode": {
    "name": "ipython",
    "version": 3
   },
   "file_extension": ".py",
   "mimetype": "text/x-python",
   "name": "python",
   "nbconvert_exporter": "python",
   "pygments_lexer": "ipython3",
   "version": "3.9.21"
  }
 },
 "nbformat": 4,
 "nbformat_minor": 2
}
