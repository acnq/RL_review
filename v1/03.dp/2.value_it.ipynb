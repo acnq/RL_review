{
 "cells": [
  {
   "cell_type": "markdown",
   "metadata": {},
   "source": [
    "## Dynamic Programming: Value Iteration"
   ]
  },
  {
   "cell_type": "code",
   "execution_count": 1,
   "metadata": {},
   "outputs": [
    {
     "data": {
      "text/plain": [
       "'ground'"
      ]
     },
     "execution_count": 1,
     "metadata": {},
     "output_type": "execute_result"
    }
   ],
   "source": [
    "# 获取一个格子的状态\n",
    "def get_state(row, col):\n",
    "  if row != 3:\n",
    "    return 'ground'\n",
    "  \n",
    "  if row == 3 and col == 0:\n",
    "    return 'ground'\n",
    "  \n",
    "  if row == 3 and col == 11:\n",
    "    return 'terminal'\n",
    "  \n",
    "  return 'trap'\n",
    "\n",
    "get_state(0, 0)"
   ]
  },
  {
   "cell_type": "code",
   "execution_count": 2,
   "metadata": {},
   "outputs": [
    {
     "data": {
      "text/plain": [
       "(0, 0, -1)"
      ]
     },
     "execution_count": 2,
     "metadata": {},
     "output_type": "execute_result"
    }
   ],
   "source": [
    "# 在一个格子里面做一个动作\n",
    "def move(row, col, action):\n",
    "  # 中止状态\n",
    "  if get_state(row, col) in ['trap', 'terminal']:\n",
    "    return row, col, 0\n",
    "  \n",
    "  # ↑\n",
    "  if action == 0:\n",
    "    row -= 1\n",
    "    \n",
    "  # ↓\n",
    "  if action == 1:\n",
    "    row += 1\n",
    "    \n",
    "  # ←\n",
    "  if action == 2:\n",
    "    col -= 1\n",
    "    \n",
    "  # →\n",
    "  if action == 3:\n",
    "    col += 1\n",
    "    \n",
    "  # 不允许走到地图外\n",
    "  row = max(0, row)\n",
    "  row = min(3, row)\n",
    "  col = max(0, col)\n",
    "  col = min(11, col)\n",
    "  \n",
    "  #是陷阱的话，奖励是-100，否则都是-1\n",
    "  #这样强迫了机器尽快结束游戏,因为每走一步都要扣一分\n",
    "  #结束最好是以走到终点的形式,避免被扣100分\n",
    "  reward = -1\n",
    "  if get_state(row, col) == 'trap':\n",
    "    reward = -100\n",
    "    \n",
    "  return row, col, reward\n",
    "\n",
    "move(0, 0, 0)"
   ]
  },
  {
   "cell_type": "code",
   "execution_count": null,
   "metadata": {},
   "outputs": [
    {
     "data": {
      "text/plain": [
       "(array([[0., 0., 0., 0., 0., 0., 0., 0., 0., 0., 0., 0.],\n",
       "        [0., 0., 0., 0., 0., 0., 0., 0., 0., 0., 0., 0.],\n",
       "        [0., 0., 0., 0., 0., 0., 0., 0., 0., 0., 0., 0.],\n",
       "        [0., 0., 0., 0., 0., 0., 0., 0., 0., 0., 0., 0.]]),\n",
       " array([[0.25, 0.25, 0.25, 0.25],\n",
       "        [0.25, 0.25, 0.25, 0.25],\n",
       "        [0.25, 0.25, 0.25, 0.25],\n",
       "        [0.25, 0.25, 0.25, 0.25],\n",
       "        [0.25, 0.25, 0.25, 0.25],\n",
       "        [0.25, 0.25, 0.25, 0.25],\n",
       "        [0.25, 0.25, 0.25, 0.25],\n",
       "        [0.25, 0.25, 0.25, 0.25],\n",
       "        [0.25, 0.25, 0.25, 0.25],\n",
       "        [0.25, 0.25, 0.25, 0.25],\n",
       "        [0.25, 0.25, 0.25, 0.25],\n",
       "        [0.25, 0.25, 0.25, 0.25]]))"
      ]
     },
     "execution_count": 3,
     "metadata": {},
     "output_type": "execute_result"
    }
   ],
   "source": [
    "import numpy as np\n",
    "\n",
    "# init every grid value\n",
    "values = np.zeros([4, 12])\n",
    "\n",
    "# 初始化动作概率\n",
    "pi = np.ones([4, 12, 4]) * 0.25\n",
    "\n",
    "values, pi[0]"
   ]
  },
  {
   "cell_type": "code",
   "execution_count": 5,
   "metadata": {},
   "outputs": [
    {
     "data": {
      "text/plain": [
       "-1.0"
      ]
     },
     "execution_count": 5,
     "metadata": {},
     "output_type": "execute_result"
    }
   ],
   "source": [
    "# 计算在一个状态下执行动作的分数\n",
    "def get_qsa(row, col, action):\n",
    "  # 在当前状态下执行动作,得到下一个状态和reward\n",
    "  next_row, next_col, reward = move(row, col, action)\n",
    "  \n",
    "  # 计算下一个状态的分数,取values当中记录的分数即可,0.9是折扣因子\n",
    "  value = values[next_row, next_col] * 0.9\n",
    "  \n",
    "  # 如果下个状态是终点或者陷阱,则下一个状态的分数是0\n",
    "  if get_state(next_row, next_col) in ['trap', 'terminal']:\n",
    "    value = 0\n",
    "    \n",
    "  # 动作的分数本身就是reward,加上下一个状态的分数\n",
    "  return value + reward\n",
    "\n",
    "get_qsa(0, 0, 0)"
   ]
  },
  {
   "cell_type": "code",
   "execution_count": 6,
   "metadata": {},
   "outputs": [
    {
     "data": {
      "text/plain": [
       "array([[-1., -1., -1., -1., -1., -1., -1., -1., -1., -1., -1., -1.],\n",
       "       [-1., -1., -1., -1., -1., -1., -1., -1., -1., -1., -1., -1.],\n",
       "       [-1., -1., -1., -1., -1., -1., -1., -1., -1., -1., -1., -1.],\n",
       "       [-1.,  0.,  0.,  0.,  0.,  0.,  0.,  0.,  0.,  0.,  0.,  0.]])"
      ]
     },
     "execution_count": 6,
     "metadata": {},
     "output_type": "execute_result"
    }
   ],
   "source": [
    "# 策略评估\n",
    "def get_values():\n",
    "  \n",
    "  # 初始化一个新的values, 重新评估所有格子的分数\n",
    "  new_values = np.zeros([4, 12])\n",
    "  \n",
    "  # 遍历所有格子\n",
    "  for row in range(4):\n",
    "    for col in range(12):\n",
    "      \n",
    "      # 计算当前格子4个动作分别的分数\n",
    "      action_value = np.zeros(4)\n",
    "      \n",
    "      # 遍历所有动作\n",
    "      for action in range(4):\n",
    "        action_value[action] = get_qsa(row, col, action)\n",
    "        \n",
    "      # # 每个动作的分数和它概率相乘\n",
    "      # action_value *= pi[row, col]\n",
    "      \n",
    "      # # 最后这个格子的分数，等于该格子下所有动作的分数求和\n",
    "      # new_values[row, col] = action_value.sum()\n",
    "      # new code begin here\n",
    "      \n",
    "      # 求每个格子的分数，等于该格子下所有动作的最大分数\n",
    "      new_values[row, col] = action_value.max()\n",
    "      \n",
    "      # new code end here\n",
    "  \n",
    "  return new_values\n",
    "\n",
    "get_values()"
   ]
  },
  {
   "cell_type": "code",
   "execution_count": 7,
   "metadata": {},
   "outputs": [
    {
     "data": {
      "text/plain": [
       "array([[[0.25      , 0.25      , 0.25      , 0.25      ],\n",
       "        [0.25      , 0.25      , 0.25      , 0.25      ],\n",
       "        [0.25      , 0.25      , 0.25      , 0.25      ],\n",
       "        [0.25      , 0.25      , 0.25      , 0.25      ],\n",
       "        [0.25      , 0.25      , 0.25      , 0.25      ],\n",
       "        [0.25      , 0.25      , 0.25      , 0.25      ],\n",
       "        [0.25      , 0.25      , 0.25      , 0.25      ],\n",
       "        [0.25      , 0.25      , 0.25      , 0.25      ],\n",
       "        [0.25      , 0.25      , 0.25      , 0.25      ],\n",
       "        [0.25      , 0.25      , 0.25      , 0.25      ],\n",
       "        [0.25      , 0.25      , 0.25      , 0.25      ],\n",
       "        [0.25      , 0.25      , 0.25      , 0.25      ]],\n",
       "\n",
       "       [[0.25      , 0.25      , 0.25      , 0.25      ],\n",
       "        [0.25      , 0.25      , 0.25      , 0.25      ],\n",
       "        [0.25      , 0.25      , 0.25      , 0.25      ],\n",
       "        [0.25      , 0.25      , 0.25      , 0.25      ],\n",
       "        [0.25      , 0.25      , 0.25      , 0.25      ],\n",
       "        [0.25      , 0.25      , 0.25      , 0.25      ],\n",
       "        [0.25      , 0.25      , 0.25      , 0.25      ],\n",
       "        [0.25      , 0.25      , 0.25      , 0.25      ],\n",
       "        [0.25      , 0.25      , 0.25      , 0.25      ],\n",
       "        [0.25      , 0.25      , 0.25      , 0.25      ],\n",
       "        [0.25      , 0.25      , 0.25      , 0.25      ],\n",
       "        [0.25      , 0.25      , 0.25      , 0.25      ]],\n",
       "\n",
       "       [[0.25      , 0.25      , 0.25      , 0.25      ],\n",
       "        [0.33333333, 0.        , 0.33333333, 0.33333333],\n",
       "        [0.33333333, 0.        , 0.33333333, 0.33333333],\n",
       "        [0.33333333, 0.        , 0.33333333, 0.33333333],\n",
       "        [0.33333333, 0.        , 0.33333333, 0.33333333],\n",
       "        [0.33333333, 0.        , 0.33333333, 0.33333333],\n",
       "        [0.33333333, 0.        , 0.33333333, 0.33333333],\n",
       "        [0.33333333, 0.        , 0.33333333, 0.33333333],\n",
       "        [0.33333333, 0.        , 0.33333333, 0.33333333],\n",
       "        [0.33333333, 0.        , 0.33333333, 0.33333333],\n",
       "        [0.33333333, 0.        , 0.33333333, 0.33333333],\n",
       "        [0.25      , 0.25      , 0.25      , 0.25      ]],\n",
       "\n",
       "       [[0.33333333, 0.33333333, 0.33333333, 0.        ],\n",
       "        [0.25      , 0.25      , 0.25      , 0.25      ],\n",
       "        [0.25      , 0.25      , 0.25      , 0.25      ],\n",
       "        [0.25      , 0.25      , 0.25      , 0.25      ],\n",
       "        [0.25      , 0.25      , 0.25      , 0.25      ],\n",
       "        [0.25      , 0.25      , 0.25      , 0.25      ],\n",
       "        [0.25      , 0.25      , 0.25      , 0.25      ],\n",
       "        [0.25      , 0.25      , 0.25      , 0.25      ],\n",
       "        [0.25      , 0.25      , 0.25      , 0.25      ],\n",
       "        [0.25      , 0.25      , 0.25      , 0.25      ],\n",
       "        [0.25      , 0.25      , 0.25      , 0.25      ],\n",
       "        [0.25      , 0.25      , 0.25      , 0.25      ]]])"
      ]
     },
     "execution_count": 7,
     "metadata": {},
     "output_type": "execute_result"
    }
   ],
   "source": [
    "# policy improvement\n",
    "def get_pi():\n",
    "  # 重新初始化每个格子下采用动作的概率,重新评估\n",
    "  new_pi = np.zeros([4, 12, 4])\n",
    "  \n",
    "  # 遍历所有格子\n",
    "  for row in range(4):\n",
    "    for col in range(12):\n",
    "      \n",
    "      # 计算当前格子4个动作分别的分数\n",
    "      action_value = np.zeros(4)\n",
    "      \n",
    "      # 遍历所有动作\n",
    "      for action in range(4):\n",
    "        action_value[action] = get_qsa(row, col, action)\n",
    "        \n",
    "      # 计算当前状态下，达到最大分数的动作有几个\n",
    "      count = (action_value == action_value.max()).sum()\n",
    "      \n",
    "      # 让这些动作均分概率\n",
    "      for action in range(4):\n",
    "        if action_value[action] == action_value.max():\n",
    "          new_pi[row, col, action] = 1 / count\n",
    "        else:\n",
    "          new_pi[row, col, action] = 0\n",
    "          \n",
    "  return new_pi\n",
    "\n",
    "get_pi()\n"
   ]
  },
  {
   "cell_type": "code",
   "execution_count": 8,
   "metadata": {},
   "outputs": [
    {
     "data": {
      "text/plain": [
       "(array([[-7.71232075, -7.45813417, -7.17570464, -6.86189404, -6.5132156 ,\n",
       "         -6.12579511, -5.6953279 , -5.217031  , -4.68559   , -4.0951    ,\n",
       "         -3.439     , -2.71      ],\n",
       "        [-7.45813417, -7.17570464, -6.86189404, -6.5132156 , -6.12579511,\n",
       "         -5.6953279 , -5.217031  , -4.68559   , -4.0951    , -3.439     ,\n",
       "         -2.71      , -1.9       ],\n",
       "        [-7.17570464, -6.86189404, -6.5132156 , -6.12579511, -5.6953279 ,\n",
       "         -5.217031  , -4.68559   , -4.0951    , -3.439     , -2.71      ,\n",
       "         -1.9       , -1.        ],\n",
       "        [-7.45813417,  0.        ,  0.        ,  0.        ,  0.        ,\n",
       "          0.        ,  0.        ,  0.        ,  0.        ,  0.        ,\n",
       "          0.        ,  0.        ]]),\n",
       " array([[[0.  , 0.5 , 0.  , 0.5 ],\n",
       "         [0.  , 0.5 , 0.  , 0.5 ],\n",
       "         [0.  , 0.5 , 0.  , 0.5 ],\n",
       "         [0.  , 0.5 , 0.  , 0.5 ],\n",
       "         [0.  , 0.5 , 0.  , 0.5 ],\n",
       "         [0.  , 0.5 , 0.  , 0.5 ],\n",
       "         [0.  , 0.5 , 0.  , 0.5 ],\n",
       "         [0.  , 0.5 , 0.  , 0.5 ],\n",
       "         [0.  , 0.5 , 0.  , 0.5 ],\n",
       "         [0.  , 0.5 , 0.  , 0.5 ],\n",
       "         [0.  , 0.5 , 0.  , 0.5 ],\n",
       "         [0.  , 1.  , 0.  , 0.  ]],\n",
       " \n",
       "        [[0.  , 0.5 , 0.  , 0.5 ],\n",
       "         [0.  , 0.5 , 0.  , 0.5 ],\n",
       "         [0.  , 0.5 , 0.  , 0.5 ],\n",
       "         [0.  , 0.5 , 0.  , 0.5 ],\n",
       "         [0.  , 0.5 , 0.  , 0.5 ],\n",
       "         [0.  , 0.5 , 0.  , 0.5 ],\n",
       "         [0.  , 0.5 , 0.  , 0.5 ],\n",
       "         [0.  , 0.5 , 0.  , 0.5 ],\n",
       "         [0.  , 0.5 , 0.  , 0.5 ],\n",
       "         [0.  , 0.5 , 0.  , 0.5 ],\n",
       "         [0.  , 0.5 , 0.  , 0.5 ],\n",
       "         [0.  , 1.  , 0.  , 0.  ]],\n",
       " \n",
       "        [[0.  , 0.  , 0.  , 1.  ],\n",
       "         [0.  , 0.  , 0.  , 1.  ],\n",
       "         [0.  , 0.  , 0.  , 1.  ],\n",
       "         [0.  , 0.  , 0.  , 1.  ],\n",
       "         [0.  , 0.  , 0.  , 1.  ],\n",
       "         [0.  , 0.  , 0.  , 1.  ],\n",
       "         [0.  , 0.  , 0.  , 1.  ],\n",
       "         [0.  , 0.  , 0.  , 1.  ],\n",
       "         [0.  , 0.  , 0.  , 1.  ],\n",
       "         [0.  , 0.  , 0.  , 1.  ],\n",
       "         [0.  , 0.  , 0.  , 1.  ],\n",
       "         [0.  , 1.  , 0.  , 0.  ]],\n",
       " \n",
       "        [[1.  , 0.  , 0.  , 0.  ],\n",
       "         [0.25, 0.25, 0.25, 0.25],\n",
       "         [0.25, 0.25, 0.25, 0.25],\n",
       "         [0.25, 0.25, 0.25, 0.25],\n",
       "         [0.25, 0.25, 0.25, 0.25],\n",
       "         [0.25, 0.25, 0.25, 0.25],\n",
       "         [0.25, 0.25, 0.25, 0.25],\n",
       "         [0.25, 0.25, 0.25, 0.25],\n",
       "         [0.25, 0.25, 0.25, 0.25],\n",
       "         [0.25, 0.25, 0.25, 0.25],\n",
       "         [0.25, 0.25, 0.25, 0.25],\n",
       "         [0.25, 0.25, 0.25, 0.25]]]))"
      ]
     },
     "execution_count": 8,
     "metadata": {},
     "output_type": "execute_result"
    }
   ],
   "source": [
    "# 迭代策略评估和策略改进，寻找最优解\n",
    "for _ in range(10):\n",
    "  for _ in range(100):\n",
    "    values = get_values()\n",
    "  pi = get_pi()\n",
    "  \n",
    "values, pi"
   ]
  },
  {
   "cell_type": "code",
   "execution_count": 9,
   "metadata": {},
   "outputs": [
    {
     "name": "stdout",
     "output_type": "stream",
     "text": [
      "□□□□□□□□□□□□\n",
      "□↑□□□□□□□□□□\n",
      "□□□□□□□□□□□□\n",
      "□○○○○○○○○○○❤\n"
     ]
    }
   ],
   "source": [
    "# 打印游戏，方便测试\n",
    "def show(row, col, action):\n",
    "  graph = [\n",
    "    '□', '□', '□', '□', '□', '□', '□', '□', '□', '□', '□', '□', '□', '□',\n",
    "    '□', '□', '□', '□', '□', '□', '□', '□', '□', '□', '□', '□', '□', '□',\n",
    "    '□', '□', '□', '□', '□', '□', '□', '□', '□', '○', '○', '○', '○', '○',\n",
    "    '○', '○', '○', '○', '○', '❤'\n",
    "  ]\n",
    "  \n",
    "  action = {0: '↑', 1: '↓', 2: '←', 3: '→'}[action]\n",
    "  \n",
    "  graph[row * 12 + col] = action\n",
    "  \n",
    "  graph = ''.join(graph)\n",
    "  \n",
    "  for i in range(0, 4 * 12, 12):\n",
    "    print(graph[i:i + 12])\n",
    "    \n",
    "show(1, 1, 0)"
   ]
  },
  {
   "cell_type": "code",
   "execution_count": 10,
   "metadata": {},
   "outputs": [
    {
     "name": "stdout",
     "output_type": "stream",
     "text": [
      "□□□□□□□□□□□□\n",
      "□□□□□□□□□□□□\n",
      "□□□□□□□□□□□↓\n",
      "□○○○○○○○○○○❤\n"
     ]
    }
   ],
   "source": [
    "from IPython import display\n",
    "import time\n",
    "\n",
    "def test():\n",
    "  # 起点\n",
    "  row = 0\n",
    "  col = 0\n",
    "  \n",
    "  # 最多玩N步\n",
    "  for _ in range(200):\n",
    "    \n",
    "    # 选择一个动作\n",
    "    action = np.random.choice(np.arange(4), size=1, p=pi[row, col])[0]\n",
    "    \n",
    "    # 打印这个动作\n",
    "    display.clear_output(wait=True)\n",
    "    time.sleep(0.1)\n",
    "    show(row, col, action)\n",
    "    \n",
    "    # 执行这个动作\n",
    "    row, col, reward = move(row, col, action)\n",
    "    \n",
    "    # 获取当前状态，陷阱或者终点则终止\n",
    "    if get_state(row, col) in ['trap', 'terminal']:\n",
    "      break\n",
    "    \n",
    "test()"
   ]
  },
  {
   "cell_type": "code",
   "execution_count": 11,
   "metadata": {},
   "outputs": [
    {
     "name": "stdout",
     "output_type": "stream",
     "text": [
      "↓↓↓↓↓↓↓↓↓↓↓↓\n",
      "↓↓↓↓↓↓↓↓↓↓↓↓\n",
      "→→→→→→→→→→→↓\n",
      "↑↑↑↑↑↑↑↑↑↑↑↑\n"
     ]
    }
   ],
   "source": [
    "# 打印每个格子的动作倾向\n",
    "for row in range(4):\n",
    "  line = ''\n",
    "  for col in range(12):\n",
    "    action = pi[row, col].argmax()\n",
    "    action = {0: '↑', 1: '↓', 2: '←', 3: '→'}[action]\n",
    "    line += action\n",
    "  print(line)"
   ]
  }
 ],
 "metadata": {
  "kernelspec": {
   "display_name": "RL_learning2",
   "language": "python",
   "name": "python3"
  },
  "language_info": {
   "codemirror_mode": {
    "name": "ipython",
    "version": 3
   },
   "file_extension": ".py",
   "mimetype": "text/x-python",
   "name": "python",
   "nbconvert_exporter": "python",
   "pygments_lexer": "ipython3",
   "version": "3.9.21"
  }
 },
 "nbformat": 4,
 "nbformat_minor": 2
}
