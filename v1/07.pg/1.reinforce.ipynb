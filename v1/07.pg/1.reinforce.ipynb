{
 "cells": [
  {
   "cell_type": "markdown",
   "metadata": {},
   "source": [
    "## Policy Gradient: REINFORCE algorithm\n",
    "REwarc Increment = Nonnegative Factor * Offset Reinforcement * Characteristic Eligibility\n",
    "\n",
    "target funct:\n",
    "$$\n",
    "J(θ) = \\mathbb{E}_{S_0}[V^{π_θ}(S_0)]\n",
    "$$\n",
    "\n",
    "derivative of the above:\n",
    "$$\n",
    "\\begin{aligned}\n",
    "∇_θJ(θ) &∝ \\sum_{s \\in S} v^{π_θ}(s) \\sum_{a \\in A} Q^{π_θ}(s, a)∇_θπ_θ(a | s) \\\\ \n",
    "  &= \\sum_{s \\in S} v^{π_θ}(s) \\sum_{a \\in A}π_θ(a | s) Q^{π_θ}(s, a)\\frac{∇_θπ_θ(a | s)}{π_θ(a | s)} \\\\ \n",
    "  &= \\mathbb{E}_{π_θ}[ Q^{π_θ}(s, a)∇_θ \\logπ_θ(a | s)]\n",
    "\\end{aligned}\n",
    "$$\n",
    "\n",
    "MC sampling:\n",
    "$$\n",
    "J(θ) = \\mathbb{E}_{π_0}[\\sum_{t=0}^T(\\sum_{t'=t}^Tγ^{t'-t}r_{t'})∇_θ \\logπ_θ(a_t | s_t)]\n",
    "$$"
   ]
  },
  {
   "cell_type": "code",
   "execution_count": 1,
   "metadata": {},
   "outputs": [
    {
     "data": {
      "text/plain": [
       "array([-0.02876046, -0.02922363,  0.01167002, -0.03860232], dtype=float32)"
      ]
     },
     "execution_count": 1,
     "metadata": {},
     "output_type": "execute_result"
    }
   ],
   "source": [
    "import gym\n",
    "\n",
    "# 定义环境\n",
    "class MyWrapper(gym.Wrapper):\n",
    "  def __init__(self):\n",
    "    env = gym.make('CartPole-v1', render_mode='rgb_array')\n",
    "    super().__init__(env)\n",
    "    self.env = env\n",
    "    self.step_n = 0\n",
    "  \n",
    "  def reset(self):\n",
    "    state, _ = self.env.reset()\n",
    "    self.step_n = 0\n",
    "    return state\n",
    "    \n",
    "  def step(self, action):\n",
    "    state, reward, terminated, truncated, info = self.env.step(action)\n",
    "    done = terminated or truncated\n",
    "    self.step_n += 1\n",
    "    if self.step_n >= 200:\n",
    "      done = True\n",
    "    return state, reward, done, info \n",
    "  \n",
    "env = MyWrapper()\n",
    "env.reset()"
   ]
  },
  {
   "cell_type": "code",
   "execution_count": 2,
   "metadata": {},
   "outputs": [
    {
     "data": {
      "image/png": "[encoded data removed]",
      "text/plain": [
       "<Figure size 640x480 with 1 Axes>"
      ]
     },
     "metadata": {},
     "output_type": "display_data"
    }
   ],
   "source": [
    "from matplotlib import pyplot as plt\n",
    "\n",
    "%matplotlib inline\n",
    "\n",
    "# 打印游戏\n",
    "def show():\n",
    "  plt.imshow(env.render())\n",
    "  plt.show()\n",
    "  \n",
    "show()"
   ]
  },
  {
   "cell_type": "code",
   "execution_count": 3,
   "metadata": {},
   "outputs": [
    {
     "data": {
      "text/plain": [
       "tensor([[0.5691, 0.4309],\n",
       "        [0.5040, 0.4960]], grad_fn=<SoftmaxBackward0>)"
      ]
     },
     "execution_count": 3,
     "metadata": {},
     "output_type": "execute_result"
    }
   ],
   "source": [
    "import torch\n",
    "\n",
    "# 定义模型\n",
    "model = torch.nn.Sequential(\n",
    "  torch.nn.Linear(4, 128),\n",
    "  torch.nn.ReLU(),\n",
    "  torch.nn.Linear(128, 2),\n",
    "  torch.nn.Softmax(dim=1),\n",
    ")\n",
    "\n",
    "model(torch.randn(2, 4))"
   ]
  },
  {
   "cell_type": "code",
   "execution_count": 5,
   "metadata": {},
   "outputs": [
    {
     "data": {
      "text/plain": [
       "0"
      ]
     },
     "execution_count": 5,
     "metadata": {},
     "output_type": "execute_result"
    }
   ],
   "source": [
    "import random\n",
    "\n",
    "# 得到一个动作\n",
    "def get_action(state):\n",
    "  # 走神经网络，得到一个动作\n",
    "  state = torch.FloatTensor(state).reshape(1, 4)\n",
    "\n",
    "  # [1, 4] -> [1, 2]\n",
    "  prob = model(state)\n",
    "  \n",
    "  # 根据概率选择一个动作\n",
    "  action = random.choices(range(2), weights=prob[0].tolist(), k=1)[0]\n",
    "  \n",
    "  return action\n",
    "\n",
    "get_action([1, 2, 3, 4])"
   ]
  },
  {
   "cell_type": "code",
   "execution_count": 7,
   "metadata": {},
   "outputs": [
    {
     "data": {
      "text/plain": [
       "([array([ 0.03561369,  0.02899127, -0.00988229,  0.04989661], dtype=float32),\n",
       "  array([ 0.03619351,  0.22425352, -0.00888436, -0.2458878 ], dtype=float32),\n",
       "  array([ 0.04067858,  0.02925958, -0.01380212,  0.04397959], dtype=float32),\n",
       "  array([ 0.04126377,  0.2245767 , -0.01292252, -0.2530259 ], dtype=float32),\n",
       "  array([ 0.04575531,  0.41988078, -0.01798304, -0.54975665], dtype=float32),\n",
       "  array([ 0.05415292,  0.61525065, -0.02897817, -0.8480508 ], dtype=float32),\n",
       "  array([ 0.06645793,  0.8107556 , -0.04593919, -1.1497035 ], dtype=float32),\n",
       "  array([ 0.08267305,  0.6162624 , -0.06893326, -0.87177277], dtype=float32),\n",
       "  array([ 0.09499829,  0.8122507 , -0.08636872, -1.1853074 ], dtype=float32),\n",
       "  array([ 0.11124331,  1.00838   , -0.11007486, -1.5037658 ], dtype=float32),\n",
       "  array([ 0.13141091,  0.8147527 , -0.14015017, -1.2473792 ], dtype=float32),\n",
       "  array([ 0.14770597,  0.6216781 , -0.16509776, -1.0016763 ], dtype=float32),\n",
       "  array([ 0.16013953,  0.42910084, -0.1851313 , -0.76505685], dtype=float32),\n",
       "  array([ 0.16872154,  0.23694499, -0.20043243, -0.5358666 ], dtype=float32)],\n",
       " [1.0, 1.0, 1.0, 1.0, 1.0, 1.0, 1.0, 1.0, 1.0, 1.0, 1.0, 1.0, 1.0, 1.0],\n",
       " [1, 0, 1, 1, 1, 1, 0, 1, 1, 0, 0, 0, 0, 1])"
      ]
     },
     "execution_count": 7,
     "metadata": {},
     "output_type": "execute_result"
    }
   ],
   "source": [
    "# 得到一局游戏的数据\n",
    "def get_data():\n",
    "  states = []\n",
    "  rewards = []\n",
    "  actions = []\n",
    "  \n",
    "  # 初始化游戏\n",
    "  state = env.reset()\n",
    "  \n",
    "  # 玩到游戏结束为止\n",
    "  over = False\n",
    "  while not over:\n",
    "    # 根据当前状态得到一个动作\n",
    "    action = get_action(state)\n",
    "    \n",
    "    # 执行动作，得到反馈\n",
    "    next_state, reward, over, _ = env.step(action)\n",
    "    \n",
    "    # 记录数据样本\n",
    "    states.append(state)\n",
    "    rewards.append(reward)\n",
    "    actions.append(action)\n",
    "    \n",
    "    # 更新游戏状态，开始下一个动作\n",
    "    state = next_state\n",
    "    \n",
    "  return states, rewards, actions\n",
    "\n",
    "get_data()"
   ]
  },
  {
   "cell_type": "code",
   "execution_count": 9,
   "metadata": {},
   "outputs": [
    {
     "data": {
      "text/plain": [
       "22.0"
      ]
     },
     "execution_count": 9,
     "metadata": {},
     "output_type": "execute_result"
    }
   ],
   "source": [
    "from IPython import display\n",
    "\n",
    "def test(play):\n",
    "  #初始化游戏\n",
    "  state = env.reset()\n",
    "  \n",
    "  #记录反馈值的和,这个值越大越好\n",
    "  reward_sum = 0\n",
    "  \n",
    "  #玩到游戏结束为止\n",
    "  over = False\n",
    "  while not over:\n",
    "    #根据当前状态得到一个动作\n",
    "    action = get_action(state)\n",
    "    \n",
    "    #执行动作,得到反馈\n",
    "    state, reward, over, _ = env.step(action)\n",
    "    reward_sum += reward\n",
    "    \n",
    "    # 打印动画\n",
    "    if play and random.random() < 0.2: # 跳帧\n",
    "      display.clear_output(wait=True)\n",
    "      show()\n",
    "      \n",
    "  return reward_sum\n",
    "\n",
    "test(play=False)"
   ]
  },
  {
   "cell_type": "code",
   "execution_count": 13,
   "metadata": {},
   "outputs": [
    {
     "name": "stdout",
     "output_type": "stream",
     "text": [
      "0 133.5\n",
      "100 124.3\n",
      "200 104.1\n",
      "300 129.7\n",
      "400 193.6\n",
      "500 192.4\n",
      "600 198.6\n",
      "700 200.0\n",
      "800 193.2\n",
      "900 197.2\n"
     ]
    }
   ],
   "source": [
    "def train():\n",
    "  optimizer = torch.optim.Adam(model.parameters(), lr=1e-3)\n",
    "  \n",
    "  # 玩N局游戏，每句游戏训练一次\n",
    "  for epoch in range(1000):\n",
    "    # 玩一局游戏，得到数据\n",
    "    states, rewards, actions = get_data()\n",
    "    \n",
    "    optimizer.zero_grad()\n",
    "    \n",
    "    # 反馈和，初始化为0\n",
    "    reward_sum = 0\n",
    "    \n",
    "    # 从最后一步开始算\n",
    "    for i in reversed(range(len(states))):\n",
    "      \n",
    "      #反馈的和,从最后一步的反馈开始计算\n",
    "      #每往前一步,>>和<<都衰减0.02,然后再加上当前步的反馈\n",
    "      reward_sum *= 0.98\n",
    "      reward_sum += rewards[i]\n",
    "      \n",
    "      #重新计算对应动作的概率\n",
    "      state = torch.FloatTensor(states[i]).reshape(1, 4)\n",
    "      # [1, 4] -> [1, 2]\n",
    "      prob = model(state)\n",
    "      # [1, 2] -> scalar\n",
    "      prob = prob[0, actions[i]]\n",
    "      \n",
    "      # 根据求导公式\n",
    "      loss = -prob.log() * reward_sum\n",
    "      \n",
    "      # 累计梯度\n",
    "      loss.backward(retain_graph=True)\n",
    "    \n",
    "    optimizer.step()      \n",
    "    \n",
    "    if epoch % 100 == 0:\n",
    "      test_result = sum([test(play=False) for _ in range(10)]) / 10\n",
    "      print(epoch, test_result)\n",
    "      \n",
    "train()"
   ]
  },
  {
   "cell_type": "code",
   "execution_count": 14,
   "metadata": {},
   "outputs": [
    {
     "data": {
      "image/png": "[encoded data removed]",
      "text/plain": [
       "<Figure size 640x480 with 1 Axes>"
      ]
     },
     "metadata": {},
     "output_type": "display_data"
    },
    {
     "data": {
      "text/plain": [
       "200.0"
      ]
     },
     "execution_count": 14,
     "metadata": {},
     "output_type": "execute_result"
    }
   ],
   "source": [
    "test(play=True)"
   ]
  }
 ],
 "metadata": {
  "kernelspec": {
   "display_name": "RL_learning2",
   "language": "python",
   "name": "python3"
  },
  "language_info": {
   "codemirror_mode": {
    "name": "ipython",
    "version": 3
   },
   "file_extension": ".py",
   "mimetype": "text/x-python",
   "name": "python",
   "nbconvert_exporter": "python",
   "pygments_lexer": "ipython3",
   "version": "3.9.21"
  }
 },
 "nbformat": 4,
 "nbformat_minor": 2
}
