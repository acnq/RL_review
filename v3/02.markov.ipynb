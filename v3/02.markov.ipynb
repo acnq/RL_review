{
 "cells": [
  {
   "cell_type": "markdown",
   "id": "81ce7bb8",
   "metadata": {},
   "source": [
    "# 3. MDP Markove Decision Process"
   ]
  },
  {
   "cell_type": "markdown",
   "id": "80594461",
   "metadata": {},
   "source": [
    "## 3.1. Introduction\n",
    "\n",
    "## 3.2. Markov Process\n",
    "\n",
    "### 3.2.1. Stochastic Process\n",
    "\n",
    "$P(S_{t+1} | S_1, ..., S_t), \\{S_t\\} \\in \\mathcal{S}$\n",
    "\n",
    "### 3.2.2. Markov Property\n",
    "$P(S_{t+1}|S_t) = P(S_{t+1} | S_1, ..., S_t)$\n",
    "\n",
    "### 3.2.3. Markov Process\n",
    "$\\langle\\mathcal{S}, \\mathcal{P}\\rangle$\n",
    "$\\mathcal{S} = \\{s_i\\}_{i=1}^n$\n",
    "$\\mathcal{P} = \\left[\n",
    "  \\begin{aligned}\n",
    "  &P(s_1 | s_1) ... P(s_n | s_1) \\\\\n",
    "  &... \\\\ \n",
    "  &P(s_1 | s_n) ... P(s_n | s_n)\n",
    "  \\end{aligned}\n",
    "\\right]$\n",
    "\n",
    "$P(s_j | s_i) = P(S_{t+1} = s_j | S_t = s_i)$\n",
    "易知，$\\mathcal{P}$的每一行和为1\n",
    "\n",
    "## 3.3. Markov Reward Process\n",
    "\n",
    "$\\langle \\mathcal{S, P}, r, \\gamma \\rangle$\n",
    "\n",
    "### 3.3.1. Return\n",
    "\n",
    "$G_t = \\sum_{k = 0}^{\\infin}\\gamma^kR_{t+k}$"
   ]
  },
  {
   "cell_type": "code",
   "execution_count": 3,
   "id": "86e82013",
   "metadata": {},
   "outputs": [
    {
     "name": "stdout",
     "output_type": "stream",
     "text": [
      "根据本序列计算得到回报为：-2.5。\n"
     ]
    }
   ],
   "source": [
    "import numpy as np\n",
    "np.random.seed(0)\n",
    "\n",
    "P = [\n",
    "  [0.9, 0.1, 0.0, 0.0, 0.0, 0.0],\n",
    "  [0.5, 0.0, 0.5, 0.0, 0.0, 0.0],\n",
    "  [0.0, 0.0, 0.0, 0.6, 0.0, 0.4],\n",
    "  [0.0, 0.0, 0.0, 0.0, 0.3, 0.7],\n",
    "  [0.0, 0.2, 0.3, 0.5, 0.0, 0.0],\n",
    "  [0.0, 0.0, 0.0, 0.0, 0.0, 1.0],\n",
    "]\n",
    "\n",
    "P = np.array(P)\n",
    "\n",
    "rewards = [-1, -2, -2, 10, 1, 0]\n",
    "gamma = 0.5\n",
    "\n",
    "# 给定一条序列,计算从某个索引（起始状态）开始到序列最后（终止状态）得到的回报\n",
    "def compute_return(start_index, chain, gamma):\n",
    "  G = 0\n",
    "  for i in reversed(range(start_index, len(chain))):\n",
    "    G = gamma * G + rewards[chain[i] - 1]\n",
    "  return G\n",
    "\n",
    "# 一个状态序列,s1-s2-s3-s6\n",
    "chain = [1, 2, 3, 6]\n",
    "start_index = 0\n",
    "G = compute_return(start_index, chain, gamma)\n",
    "print(\"根据本序列计算得到回报为：%s。\" % G)"
   ]
  },
  {
   "cell_type": "markdown",
   "id": "25914b3f",
   "metadata": {},
   "source": [
    "### 3.3.2. Value Function\n",
    "\n",
    "$V(s) = \\mathbb{E}[G_t | S_t = s]$\n",
    "\n",
    "$$\n",
    "\\begin{aligned}\n",
    "V(s) &= \\mathbb{E}[\\sum_{i = 0}^{\\infin}\\gamma^{i} R_{t + i} | S_t = s] \\\\ \n",
    "    &= \\mathbb{E}[R_t + \\gamma(\\sum_{i = 1}^\\infin \\gamma^{i - 1} R_{t + i}) | S_t = s] \\\\\n",
    "    &= \\mathbb{E}[R_t + \\gamma G_{t + 1} | S_t = s] \\\\\n",
    "    &= \\mathbb{E}[R_t + \\gamma V(S_{t + 1}) | S_t = s] \\\\ \n",
    "    &= r(s) + \\gamma \\sum_{s' \\in S}p(s' | s) V(s')\n",
    "  \\end{aligned}\n",
    "$$\n",
    "\n",
    "令$\\mathcal{S} = \\{s_i\\}_{i=1}^n$, $\\mathcal{V} = [V(s_i)]_{i=1}^T, \\mathcal{R} = [r(s_i)]_{i=1}^n$, 有\n",
    "$\\mathcal{V} = \\mathcal{R} + \\gamma\\mathcal{PV}$\n",
    "\n",
    "马上又解析解\n",
    "$\\mathcal{V} = (I - \\gamma \\mathcal{P})^{-1}\\mathcal{R}$, 但是复杂度有$O(n^3)$, （主要花在求逆上），会比较慢"
   ]
  },
  {
   "cell_type": "code",
   "execution_count": 4,
   "id": "d5b54a56",
   "metadata": {},
   "outputs": [
    {
     "name": "stdout",
     "output_type": "stream",
     "text": [
      "MRP中每个状态价值分别为\n",
      " [[-2.01950168]\n",
      " [-2.21451846]\n",
      " [ 1.16142785]\n",
      " [10.53809283]\n",
      " [ 3.58728554]\n",
      " [ 0.        ]]\n"
     ]
    }
   ],
   "source": [
    "def compute(P, rewards, gamma, states_num):\n",
    "  ''' 利用贝尔曼方程的矩阵形式计算解析解,states_num是MRP的状态数 '''\n",
    "  rewards = np.array(rewards).reshape((-1, 1)) # 改成列向量\n",
    "  value = np.dot(np.linalg.inv(np.eye(states_num, states_num) - gamma * P),\n",
    "                  rewards)\n",
    "  return value\n",
    "\n",
    "V = compute(P, rewards, gamma, 6)\n",
    "print(\"MRP中每个状态价值分别为\\n\", V)"
   ]
  },
  {
   "cell_type": "markdown",
   "id": "58ad0636",
   "metadata": {},
   "source": [
    "## 3.4. Markov Decision Process (MDP)\n",
    "\n",
    "$\\langle \\mathcal{S, A}, P, r, \\gamma \\rangle$\n",
    "\n",
    "### 3.4.1. Policy\n",
    "$\\pi(a | s) = P(A_t =a| S_t = s)$\n",
    "\n",
    "### 3.4.2. State-Value Function\n",
    "$V^\\pi(s) = \\mathbb{E}_\\pi[G_t | S_t = s]$\n",
    "\n",
    "### 3.4.3. Action-Value Function\n",
    "$Q^\\pi(s, a) = \\mathbb{E}_\\pi[G_t |S_t = s, A_t = a]$\n",
    "\n",
    "$V^\\pi(s) = \\sum_{a\\in A}\\pi(a | s) Q^\\pi(s, a)$\n",
    "\n",
    "$Q^\\pi(s, a) = r(s, a) + \\gamma\\sum_{s' \\in S}P(s'|s, a) V^\\pi(s')$\n",
    "\n",
    "### 3.4.4. Bellman Expectation Equation\n",
    "\n",
    "$$\n",
    "\\begin{aligned}\n",
    "V^\\pi(s) &= \\mathbb{E}_\\pi[R_t + \\gamma V^\\pi(S_{t+1}) | S_t =s] \\\\\n",
    "  &= \\sum_{a\\in A}\\pi(a | s)(r(s, a) + \\gamma\\sum_{s' \\in S}P(s'|s, a) V^\\pi(s')) \\\\ \n",
    "Q^\\pi(s, a) &= \\mathbb{E}_\\pi[R_t + \\gamma Q^\\pi(S_{t+1}) | S_t =s, A_t = a] \\\\\n",
    "  &= r(s, a) + \\gamma \\sum_{s' \\in S}P(s'|s, a) \\sum_{a'\\in A}\\pi(a' | s') Q^\\pi(s', a')\n",
    "\\end{aligned}\n",
    "$$"
   ]
  },
  {
   "cell_type": "code",
   "execution_count": 5,
   "id": "852c901c",
   "metadata": {},
   "outputs": [],
   "source": [
    "S = [\"s1\", \"s2\", \"s3\", \"s4\", \"s5\"]  # 状态集合\n",
    "A = [\"保持s1\", \"前往s1\", \"前往s2\", \"前往s3\", \"前往s4\", \"前往s5\", \"概率前往\"]  # 动作集合\n",
    "# 状态转移函数\n",
    "P = {\n",
    "  \"s1-保持s1-s1\": 1.0,\n",
    "  \"s1-前往s2-s2\": 1.0,\n",
    "  \"s2-前往s1-s1\": 1.0,\n",
    "  \"s2-前往s3-s3\": 1.0,\n",
    "  \"s3-前往s4-s4\": 1.0,\n",
    "  \"s3-前往s5-s5\": 1.0,\n",
    "  \"s4-前往s5-s5\": 1.0,\n",
    "  \"s4-概率前往-s2\": 0.2,\n",
    "  \"s4-概率前往-s3\": 0.4,\n",
    "  \"s4-概率前往-s4\": 0.4,\n",
    "}\n",
    "# 奖励函数\n",
    "R = {\n",
    "  \"s1-保持s1\": -1,\n",
    "  \"s1-前往s2\": 0,\n",
    "  \"s2-前往s1\": -1,\n",
    "  \"s2-前往s3\": -2,\n",
    "  \"s3-前往s4\": -2,\n",
    "  \"s3-前往s5\": 0,\n",
    "  \"s4-前往s5\": 10,\n",
    "  \"s4-概率前往\": 1,\n",
    "}\n",
    "gamma = 0.5  # 折扣因子\n",
    "MDP = (S, A, P, R, gamma)\n",
    "\n",
    "# 策略1,随机策略\n",
    "Pi_1 = {\n",
    "  \"s1-保持s1\": 0.5,\n",
    "  \"s1-前往s2\": 0.5,\n",
    "  \"s2-前往s1\": 0.5,\n",
    "  \"s2-前往s3\": 0.5,\n",
    "  \"s3-前往s4\": 0.5,\n",
    "  \"s3-前往s5\": 0.5,\n",
    "  \"s4-前往s5\": 0.5,\n",
    "  \"s4-概率前往\": 0.5,\n",
    "}\n",
    "# 策略2\n",
    "Pi_2 = {\n",
    "  \"s1-保持s1\": 0.6,\n",
    "  \"s1-前往s2\": 0.4,\n",
    "  \"s2-前往s1\": 0.3,\n",
    "  \"s2-前往s3\": 0.7,\n",
    "  \"s3-前往s4\": 0.5,\n",
    "  \"s3-前往s5\": 0.5,\n",
    "  \"s4-前往s5\": 0.1,\n",
    "  \"s4-概率前往\": 0.9,\n",
    "}\n",
    "\n",
    "# 把输入的两个字符串通过“-”连接,便于使用上述定义的P、R变量\n",
    "def join(str1, str2):\n",
    "  return str1 + '-' + str2"
   ]
  },
  {
   "cell_type": "markdown",
   "id": "ced579fe",
   "metadata": {},
   "source": [
    "边缘化 marginalization\n",
    "\n",
    "$r'(s) = \\sum_{a \\in \\mathcal{A}}\\pi(a|s) r(s, a)$\n",
    "\n",
    "$p'(s'|s) = \\sum_{a \\in \\mathcal{A}}\\pi(a|s)P(s' | s, a)$\n"
   ]
  },
  {
   "cell_type": "code",
   "execution_count": 6,
   "id": "a175bccf",
   "metadata": {},
   "outputs": [
    {
     "name": "stdout",
     "output_type": "stream",
     "text": [
      "MDP中每个状态价值分别为\n",
      " [[-1.22555411]\n",
      " [-1.67666232]\n",
      " [ 0.51890482]\n",
      " [ 6.0756193 ]\n",
      " [ 0.        ]]\n"
     ]
    }
   ],
   "source": [
    "gamma = 0.5\n",
    "# 转化后的MRP的状态转移矩阵\n",
    "P_from_mdp_to_mrp = [\n",
    "  [0.5, 0.5, 0.0, 0.0, 0.0],\n",
    "  [0.5, 0.0, 0.5, 0.0, 0.0],\n",
    "  [0.0, 0.0, 0.0, 0.5, 0.5],\n",
    "  [0.0, 0.1, 0.2, 0.2, 0.5],\n",
    "  [0.0, 0.0, 0.0, 0.0, 1.0],\n",
    "]\n",
    "P_from_mdp_to_mrp = np.array(P_from_mdp_to_mrp)\n",
    "R_from_mdp_to_mrp = [-0.5, -1.5, -1.0, 5.5, 0]\n",
    "\n",
    "V = compute(P_from_mdp_to_mrp, R_from_mdp_to_mrp, gamma, 5)\n",
    "print(\"MDP中每个状态价值分别为\\n\", V)"
   ]
  },
  {
   "cell_type": "markdown",
   "id": "790d8305",
   "metadata": {},
   "source": [
    "## 3.5. Monte-Carlo Methods\n",
    "\n",
    "$V^\\pi(s) = \\mathbb{E}_\\pi[G_t |S_t = s] \\approx \\frac1N\\sum_{i=1}^NG_t^{(i)}$\n",
    "\n",
    "- $N(s) \\rightarrow N(s) + 1$\n",
    "- $V(s) \\rightarrow V(s) + \\frac1{N(s)}(G - V(S))$\n"
   ]
  },
  {
   "cell_type": "code",
   "execution_count": 7,
   "id": "662e3738",
   "metadata": {},
   "outputs": [
    {
     "name": "stdout",
     "output_type": "stream",
     "text": [
      "第一条序列\n",
      " [('s1', '前往s2', 0, 's2'), ('s2', '前往s3', -2, 's3'), ('s3', '前往s5', 0, 's5')]\n",
      "第二条序列\n",
      " [('s4', '概率前往', 1, 's4'), ('s4', '前往s5', 10, 's5')]\n",
      "第五条序列\n",
      " [('s2', '前往s3', -2, 's3'), ('s3', '前往s4', -2, 's4'), ('s4', '前往s5', 10, 's5')]\n"
     ]
    }
   ],
   "source": [
    "def sample(MDP, Pi, timestep_max, number):\n",
    "  ''' 采样函数,策略Pi,限制最长时间步timestep_max,总共采样序列数number '''\n",
    "  S, A, P, R, gamma = MDP\n",
    "  episodes = []\n",
    "  for _ in range(number):\n",
    "    episode = []\n",
    "    timestep = 0\n",
    "    s = S[np.random.randint(4)]  # 随机选择一个除s5以外的状态s作为起点\n",
    "    # 当前状态为终止状态或者时间步太长时,一次采样结束\n",
    "    while s != \"s5\" and timestep <= timestep_max:\n",
    "      timestep += 1\n",
    "      rand, temp = np.random.rand(), 0\n",
    "      # 在状态s下根据策略选择动作\n",
    "      for a_opt in A:\n",
    "        temp += Pi.get(join(s, a_opt), 0)\n",
    "        if temp > rand:\n",
    "          a = a_opt\n",
    "          r = R.get(join(s, a), 0)\n",
    "          break\n",
    "      rand, temp = np.random.rand(), 0\n",
    "      # 根据状态转移概率得到下一个状态s_next\n",
    "      for s_opt in S:\n",
    "        temp += P.get(join(join(s, a), s_opt), 0)\n",
    "        if temp > rand:\n",
    "          s_next = s_opt\n",
    "          break\n",
    "      episode.append((s, a, r, s_next))\n",
    "      # 把（s,a,r,s_next）元组放入序列中\n",
    "      s = s_next\n",
    "      # s_next变成当前状态,开始接下来的循环\n",
    "    episodes.append(episode)\n",
    "  return episodes\n",
    "\n",
    "# 采样5次,每个序列最长不超过20步\n",
    "episodes = sample(MDP, Pi_1, 20, 5)\n",
    "print('第一条序列\\n', episodes[0])\n",
    "print('第二条序列\\n', episodes[1])\n",
    "print('第五条序列\\n', episodes[4])"
   ]
  },
  {
   "cell_type": "code",
   "execution_count": 8,
   "id": "bccd1414",
   "metadata": {},
   "outputs": [
    {
     "name": "stdout",
     "output_type": "stream",
     "text": [
      "使用蒙特卡洛方法计算MDP的状态价值为\n",
      " {'s1': -1.228923788722258, 's2': -1.6955696284402704, 's3': 0.4823809701532294, 's4': 5.967514743019431, 's5': 0}\n"
     ]
    }
   ],
   "source": [
    "# 对所有采样序列计算所有状态的价值\n",
    "def MC(episodes, V, N, gamma):\n",
    "  for episode in episodes:\n",
    "    G = 0\n",
    "    for i in range(len(episode) - 1, -1, -1):\n",
    "      #一个序列从后往前计算\n",
    "      (s, a, r, r_next) = episode[i]\n",
    "      G = r + gamma * G\n",
    "      N[s] = N[s] + 1\n",
    "      V[s] = V[s] + (G - V[s]) / N[s]\n",
    "      \n",
    "timestep_max = 20\n",
    "episodes = sample(MDP, Pi_1, timestep_max, 1000)\n",
    "gamma = 0.5\n",
    "V = {\"s1\": 0, \"s2\": 0, \"s3\": 0, \"s4\": 0, \"s5\": 0}\n",
    "N = {\"s1\": 0, \"s2\": 0, \"s3\": 0, \"s4\": 0, \"s5\": 0}\n",
    "MC(episodes, V, N, gamma)\n",
    "print(\"使用蒙特卡洛方法计算MDP的状态价值为\\n\", V)"
   ]
  },
  {
   "cell_type": "markdown",
   "id": "2d20807a",
   "metadata": {},
   "source": [
    "## 3.6. occupancy measure 占用度量\n",
    "\n",
    "$P_t^\\pi(S)$: 策略$\\pi$使得智能体在$t$时刻状态为$s$的概率\n",
    "\n",
    "状态访问分布：$v^\\pi(s) = (1 - \\gamma)\\sum_{t=0}^{\\infin}\\gamma^tP_t^\\pi(s)$\n",
    "\n",
    "$v^\\pi(s') = (1 - \\gamma)v_0(s') + \\gamma \\int P(s'|s, a)\\pi(a | s) v^\\pi(s) dsda$\n",
    "\n",
    "占用度量：动作状态对被访问到的概率\n",
    "\n",
    "$\\rho^\\pi(s, a) = (1 - \\gamma)\\sum_{t=0}^\\infin\\gamma^tP_t^\\pi(s)\\pi(a|s)$ \n",
    "$\\rho^\\pi(s, a) = v^\\pi(s)\\pi(a|s)$\n",
    "\n",
    "$\\rho^{\\pi_1} = \\rho^{\\pi_2} \\iff \\pi_1 = \\pi_2$ \n",
    "\n",
    "$\\pi_\\rho = \\frac{\\rho(s, a)}{\\sum_{a'}\\rho(s, a')}$\n"
   ]
  },
  {
   "cell_type": "code",
   "execution_count": 9,
   "id": "e4a7c126",
   "metadata": {},
   "outputs": [
    {
     "name": "stdout",
     "output_type": "stream",
     "text": [
      "0.112567796310472 0.23199480615618912\n"
     ]
    }
   ],
   "source": [
    "def occupancy(episodes, s, a, timestep_max, gamma):\n",
    "  ''' 计算状态动作对（s,a）出现的频率,以此来估算策略的占用度量 '''\n",
    "  rho = 0\n",
    "  total_times = np.zeros(timestep_max) # 记录每个时间步t各被经历过几次\n",
    "  occur_times = np.zeros(timestep_max) # 记录(s_t,a_t)=(s,a)的次数\n",
    "  for episode in episodes:\n",
    "    for i in range(len(episode)):\n",
    "      (s_opt, a_opt, r, s_next) = episode[i]\n",
    "      total_times[i] += 1\n",
    "      if s == s_opt and a == a_opt:\n",
    "        occur_times[i] += 1\n",
    "  for i in reversed(range(timestep_max)):\n",
    "    if total_times[i]:\n",
    "      rho += gamma ** i * occur_times[i] / total_times[i]\n",
    "  return (1 - gamma) * rho\n",
    "\n",
    "gamma = 0.5\n",
    "timestep_max = 1000\n",
    "\n",
    "episodes_1 = sample(MDP, Pi_1, timestep_max, 1000)\n",
    "episodes_2 = sample(MDP, Pi_2, timestep_max, 1000)\n",
    "rho_1 = occupancy(episodes_1, \"s4\", \"概率前往\", timestep_max, gamma)\n",
    "rho_2 = occupancy(episodes_2, \"s4\", \"概率前往\", timestep_max, gamma)\n",
    "print(rho_1, rho_2)\n",
    "  "
   ]
  },
  {
   "cell_type": "markdown",
   "id": "01e12932",
   "metadata": {},
   "source": [
    "## 3.7. Optimal Policy\n",
    "\n",
    "$V^*(s) = \\max_{\\pi}V^\\pi(s), \\forall s \\in S$\n",
    "\n",
    "$Q^*(s, a) = \\max_{\\pi}Q^\\pi(s, a), \\forall s \\in \\mathcal{S}, a \\in \\mathcal{A}$\n",
    "\n",
    "$Q^*(s, a) = r(s, a) + \\gamma\\sum_{s' \\in S}P(s'|s, a)V^*(s')$\n",
    "\n",
    "$V^*(s) = \\max_{a\\in\\mathcal{A}}Q^*(s, a)$\n",
    "\n",
    "### 3.7.1. Bellman Optimality Equation\n",
    "\n",
    "$V^*(s) = \\max_{a\\in\\mathcal{A}}\\{r(s, a) + \\gamma\\sum_{s'\\in\\mathcal{A}}p(s'|s, a)V^*(s')\\}$\n",
    "\n",
    "$Q^*(s, a) = r(s, a) + \\gamma\\sum_{s'\\in\\mathcal{S}}p(s'|s, a)\\max_{a'\\in\\mathcal{A}}Q^*(s', a')$"
   ]
  }
 ],
 "metadata": {
  "kernelspec": {
   "display_name": "rl_new",
   "language": "python",
   "name": "python3"
  },
  "language_info": {
   "codemirror_mode": {
    "name": "ipython",
    "version": 3
   },
   "file_extension": ".py",
   "mimetype": "text/x-python",
   "name": "python",
   "nbconvert_exporter": "python",
   "pygments_lexer": "ipython3",
   "version": "3.12.11"
  }
 },
 "nbformat": 4,
 "nbformat_minor": 5
}
