{
 "cells": [
  {
   "cell_type": "markdown",
   "metadata": {},
   "source": [
    "## Others: MPC environment Learning\n",
    "\n",
    "直接学习游戏环境"
   ]
  },
  {
   "cell_type": "code",
   "execution_count": 1,
   "metadata": {},
   "outputs": [
    {
     "data": {
      "image/png": "[encoded data removed]",
      "text/plain": [
       "<Figure size 300x300 with 1 Axes>"
      ]
     },
     "metadata": {},
     "output_type": "display_data"
    }
   ],
   "source": [
    "import gym\n",
    "\n",
    "# 定义环境\n",
    "class MyWrapper(gym.Wrapper):\n",
    "  \n",
    "  def __init__(self):\n",
    "    env = gym.make('Pendulum-v1', render_mode='rgb_array')\n",
    "    super().__init__(env)\n",
    "    self.env = env\n",
    "    self.step_n = 0\n",
    "    \n",
    "  def reset(self):\n",
    "    state, _ = self.env.reset()\n",
    "    self.step_n = 0\n",
    "    return state\n",
    "  \n",
    "  def step(self, action):\n",
    "    state, reward, terminated, truncated, info = self.env.step([action * 2])\n",
    "    over = terminated or truncated\n",
    "\n",
    "    # 偏移reward便于训练\n",
    "    reward = (reward + 8) / 8\n",
    "    \n",
    "    #限制最大步数\n",
    "    self.step_n += 1\n",
    "    if self.step_n >= 200:\n",
    "      over = True\n",
    "\n",
    "    return state, reward, over\n",
    "  \n",
    "  # 打印游戏图像\n",
    "  def show(self):\n",
    "    from matplotlib import pyplot as plt\n",
    "    plt.figure(figsize=(3, 3))\n",
    "    plt.imshow(self.env.render())\n",
    "    plt.show()\n",
    "    \n",
    "env = MyWrapper()\n",
    "\n",
    "env.reset()\n",
    "\n",
    "env.show()\n"
   ]
  },
  {
   "cell_type": "code",
   "execution_count": 3,
   "metadata": {},
   "outputs": [
    {
     "data": {
      "text/plain": [
       "(tensor([[ 0.0084, -0.0384, -0.0356],\n",
       "         [ 0.1060,  0.0120,  0.0362],\n",
       "         [ 0.0514,  0.0227, -0.0210],\n",
       "         [ 0.0929,  0.0025,  0.0108],\n",
       "         [ 0.0269, -0.0055, -0.0166]], grad_fn=<AddBackward0>),\n",
       " tensor([[0.0716],\n",
       "         [0.0668],\n",
       "         [0.0638],\n",
       "         [0.0457],\n",
       "         [0.0264]], grad_fn=<TanhBackward0>))"
      ]
     },
     "execution_count": 3,
     "metadata": {},
     "output_type": "execute_result"
    }
   ],
   "source": [
    "import torch\n",
    "\n",
    "class FakeEnv(torch.nn.Module):\n",
    "  def __init__(self):\n",
    "    super().__init__()\n",
    "    self.s = torch.nn.Sequential(\n",
    "      torch.nn.Linear(4, 64),\n",
    "      torch.nn.ReLU(),\n",
    "      torch.nn.Linear(64, 64),\n",
    "      torch.nn.ReLU(),\n",
    "      torch.nn.Linear(64, 64),\n",
    "      torch.nn.ReLU(),\n",
    "    )\n",
    "    \n",
    "    self.next_state = torch.nn.Linear(64, 3)\n",
    "    self.reward = torch.nn.Sequential(\n",
    "      torch.nn.Linear(64, 1),\n",
    "      torch.nn.Tanh(),\n",
    "    )\n",
    "    \n",
    "  def forward(self, state, action):\n",
    "    state = self.s(torch.cat([state, action], dim=1))\n",
    "    return self.next_state(state) + state[:, :3], self.reward(state)\n",
    "  \n",
    "fake_env = FakeEnv()\n",
    "fake_env(torch.randn(5, 3), torch.randn(5, 1))"
   ]
  },
  {
   "cell_type": "code",
   "execution_count": 4,
   "metadata": {},
   "outputs": [
    {
     "data": {
      "text/plain": [
       "-0.7024876886597863"
      ]
     },
     "execution_count": 4,
     "metadata": {},
     "output_type": "execute_result"
    }
   ],
   "source": [
    "import random\n",
    "\n",
    "# 环境学习阶段使用随机动作即可\n",
    "def get_action(state):\n",
    "  return random.normalvariate(mu=0, sigma=1)\n",
    "\n",
    "get_action(None)"
   ]
  },
  {
   "cell_type": "code",
   "execution_count": 5,
   "metadata": {},
   "outputs": [
    {
     "data": {
      "text/plain": [
       "77.1291064517978"
      ]
     },
     "execution_count": 5,
     "metadata": {},
     "output_type": "execute_result"
    }
   ],
   "source": [
    "from IPython import display\n",
    "\n",
    "#玩一局游戏并记录数据\n",
    "def play(show=False):\n",
    "  data = []\n",
    "  reward_sum = 0\n",
    "\n",
    "  state = env.reset()\n",
    "  over = False\n",
    "  while not over:\n",
    "    action = get_action(state)\n",
    "\n",
    "    next_state, reward, over = env.step(action)\n",
    "\n",
    "    data.append((state, action, reward, next_state, over))\n",
    "    reward_sum += reward\n",
    "    \n",
    "    state = next_state\n",
    "\n",
    "    if show:\n",
    "      display.clear_output(wait=True)\n",
    "      env.show()\n",
    "\n",
    "  return data, reward_sum\n",
    "\n",
    "play()[-1]"
   ]
  },
  {
   "cell_type": "code",
   "execution_count": 6,
   "metadata": {},
   "outputs": [
    {
     "name": "stderr",
     "output_type": "stream",
     "text": [
      "C:\\Users\\fanyu\\AppData\\Local\\Temp\\ipykernel_23256\\2246764732.py:25: UserWarning: Creating a tensor from a list of numpy.ndarrays is extremely slow. Please consider converting the list to a single numpy.ndarray with numpy.array() before converting to a tensor. (Triggered internally at  C:\\actions-runner\\_work\\pytorch\\pytorch\\builder\\windows\\pytorch\\torch\\csrc\\utils\\tensor_new.cpp:204.)\n",
      "  state = torch.FloatTensor([i[0] for i in data]).reshape(-1, 3)\n"
     ]
    },
    {
     "data": {
      "text/plain": [
       "(200,\n",
       " (array([0.9194921 , 0.39310846, 0.18502283], dtype=float32),\n",
       "  0.06731753165078298,\n",
       "  0.979166827440908,\n",
       "  array([0.90937704, 0.41597277, 0.5000494 ], dtype=float32),\n",
       "  False))"
      ]
     },
     "execution_count": 6,
     "metadata": {},
     "output_type": "execute_result"
    }
   ],
   "source": [
    "class Pool:\n",
    "  \n",
    "  def __init__(self):\n",
    "    self.pool = []\n",
    "    \n",
    "  def __len__(self):\n",
    "    return len(self.pool)\n",
    "  \n",
    "  def __getitem__(self, i):\n",
    "    return self.pool[i]\n",
    "  \n",
    "  # 更新动作\n",
    "  def update(self):\n",
    "    # 每次更新至少N条数据\n",
    "    old_len = len(self.pool)\n",
    "    while len(pool) - old_len < 200:\n",
    "      self.pool.extend(play()[0])\n",
    "      \n",
    "    # 保留最新N条数据\n",
    "    self.pool = self.pool[-2_0000:]\n",
    "    \n",
    "  def sample(self):\n",
    "    data = random.sample(self.pool, 64)\n",
    "    \n",
    "    state = torch.FloatTensor([i[0] for i in data]).reshape(-1, 3)\n",
    "    action = torch.FloatTensor([i[1] for i in data]).reshape(-1, 1)\n",
    "    reward = torch.FloatTensor([i[2] for i in data]).reshape(-1, 1)\n",
    "    next_state = torch.FloatTensor([i[3] for i in data]).reshape(-1, 3)\n",
    "    over = torch.LongTensor([i[4] for i in data]).reshape(-1, 1)\n",
    "    \n",
    "    return state, action, reward, next_state, over\n",
    "  \n",
    "pool = Pool()\n",
    "pool.update()\n",
    "pool.sample()\n",
    "\n",
    "len(pool), pool[0]"
   ]
  },
  {
   "cell_type": "code",
   "execution_count": 7,
   "metadata": {},
   "outputs": [
    {
     "name": "stdout",
     "output_type": "stream",
     "text": [
      "0 400 0.003181927604600787 0.0034012047108262777 31.8041189821367\n",
      "20 4400 0.0007851131376810372 0.0004804400377906859 83.6320370555817\n",
      "40 8400 0.00026375585002824664 0.00011461160465842113 65.4264554441749\n",
      "60 12400 0.00023713901464361697 4.737813651445322e-05 25.866866852724083\n",
      "80 16400 0.00020518794190138578 5.912105189054273e-05 32.15939923203713\n",
      "100 20000 0.00036483866279013455 3.773035132326186e-05 68.62097613226628\n",
      "120 20000 0.00024295394541695714 4.223985888529569e-05 101.87787300467411\n",
      "140 20000 0.00017163337906822562 8.130764763336629e-05 86.48948391753653\n",
      "160 20000 0.0001980587258003652 7.471700519090518e-05 79.3494763263025\n",
      "180 20000 0.00019719100964721292 0.00022928501130081713 92.10102040634871\n"
     ]
    }
   ],
   "source": [
    "#训练\n",
    "def train(epochs, test_epoch):\n",
    "  fake_env.train()\n",
    "  optimizer = torch.optim.Adam(fake_env.parameters(), lr=1e-3)\n",
    "  loss_fn = torch.nn.MSELoss()\n",
    "\n",
    "\t# 共更新N轮数据\n",
    "  for epoch in range(epochs):\n",
    "    # 更新N条数据\n",
    "    pool.update()\n",
    "    \n",
    "    # 每次更新过数据后,学习N次\n",
    "    for i in range(200):\n",
    "      # 采样一批\n",
    "      state, action, reward, next_state, over = pool.sample()\n",
    "\n",
    "      # 模型计算\n",
    "      p_next_state, p_reward = fake_env(state, action)\n",
    "      \n",
    "      loss_next_state = loss_fn(p_next_state, next_state)\n",
    "      loss_reward = loss_fn(p_reward, reward)\n",
    "      (loss_next_state + loss_reward).backward()\n",
    "      optimizer.step()\n",
    "      optimizer.zero_grad()\n",
    "\n",
    "    if epoch % test_epoch == 0:\n",
    "      print(epoch, len(pool), loss_next_state.item(), loss_reward.item(), play()[-1])\n",
    "\n",
    "# 环境学习阶段\n",
    "train(200, 20)"
   ]
  },
  {
   "cell_type": "code",
   "execution_count": 8,
   "metadata": {},
   "outputs": [
    {
     "data": {
      "text/plain": [
       "1.107590675354004"
      ]
     },
     "execution_count": 8,
     "metadata": {},
     "output_type": "execute_result"
    }
   ],
   "source": [
    "# 使用虚拟环境获取最优动作\n",
    "def get_action(state):\n",
    "  # 初始化N步动作的分布\n",
    "  mu = torch.zeros(1, 15)\n",
    "  sigma = torch.ones(1, 15)\n",
    "  \n",
    "  state = torch.FloatTensor(state).reshape(1, -1).repeat(50, 1)\n",
    "  state_clone = state.clone()\n",
    "  \n",
    "  # 反复优化N次动作的分布\n",
    "  for _ in range(5):\n",
    "    # 根据N步动作的分布抽样生成N份动作链\n",
    "    action = mu + torch.randn(50, 15) * sigma\n",
    "    reward_sum = torch.zeros(50, 1)\n",
    "    state = state_clone\n",
    "    \n",
    "    # 按顺序执行N步的动作,计算Q\n",
    "    for i in range(15):\n",
    "      state, reward = fake_env(state, action[:, i].unsqueeze(dim=1))\n",
    "      reward_sum += reward * 0.95**i\n",
    "      \n",
    "    # 求分数最高的N份动作链\n",
    "    sort = reward_sum.flatten().sort(descending=True).indices\n",
    "    action = action[sort][:10]\n",
    "    \n",
    "    # 修正动作链的分布\n",
    "    mu = 0.5 * mu + 0.5 * action.mean(dim=0, keepdim=True)\n",
    "    sigma = 0.5 * sigma + 0.5 * action.std(dim=0, keepdim=True)\n",
    "    \n",
    "  # 返回最优动作\n",
    "  return mu[0, 0].item()\n",
    "\n",
    "get_action(torch.randn(1, 3))"
   ]
  },
  {
   "cell_type": "code",
   "execution_count": 9,
   "metadata": {},
   "outputs": [
    {
     "name": "stdout",
     "output_type": "stream",
     "text": [
      "0 20000 0.00010139610822079703 4.871291093877517e-05 183.53315529713532\n",
      "1 20000 8.721261838218197e-05 2.8925816877745092e-05 184.24537246671989\n",
      "2 20000 8.041139517445117e-05 5.4372339945985004e-05 184.00248252633259\n",
      "3 20000 0.0001704087044345215 1.9289416741230525e-05 183.70960643420906\n",
      "4 20000 5.855770723428577e-05 4.656168312067166e-05 153.47261320513527\n",
      "5 20000 6.776364898541942e-05 7.72590356064029e-05 184.2846848241581\n",
      "6 20000 0.0001712477533146739 0.0001044537712004967 169.04552849301615\n",
      "7 20000 0.00016029147082008421 2.7275442334939726e-05 184.20373724024267\n",
      "8 20000 0.00019186978170182556 2.9265347620821558e-05 183.96898582323325\n",
      "9 20000 0.00011650632950477302 4.464131052372977e-05 184.03076229932825\n"
     ]
    }
   ],
   "source": [
    "# 动作学习阶段\n",
    "train(10, 1)"
   ]
  },
  {
   "cell_type": "code",
   "execution_count": 11,
   "metadata": {},
   "outputs": [
    {
     "data": {
      "image/png": "[encoded data removed]",
      "text/plain": [
       "<Figure size 300x300 with 1 Axes>"
      ]
     },
     "metadata": {},
     "output_type": "display_data"
    },
    {
     "data": {
      "text/plain": [
       "183.84983835128406"
      ]
     },
     "execution_count": 11,
     "metadata": {},
     "output_type": "execute_result"
    }
   ],
   "source": [
    "play(True)[-1]"
   ]
  }
 ],
 "metadata": {
  "kernelspec": {
   "display_name": "RL_learning2",
   "language": "python",
   "name": "python3"
  },
  "language_info": {
   "codemirror_mode": {
    "name": "ipython",
    "version": 3
   },
   "file_extension": ".py",
   "mimetype": "text/x-python",
   "name": "python",
   "nbconvert_exporter": "python",
   "pygments_lexer": "ipython3",
   "version": "3.9.21"
  }
 },
 "nbformat": 4,
 "nbformat_minor": 2
}
