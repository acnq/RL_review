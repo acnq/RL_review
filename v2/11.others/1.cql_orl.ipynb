{
 "cells": [
  {
   "cell_type": "markdown",
   "metadata": {},
   "source": [
    "## Others: Conservative Q-Learning(CQL) Offline Reinforcement Learning (ORL)\n",
    "\n",
    "从一份良好的数据集中学习，训练过程中完全不更新数据"
   ]
  },
  {
   "cell_type": "code",
   "execution_count": 1,
   "metadata": {},
   "outputs": [
    {
     "data": {
      "text/plain": [
       "(20000,\n",
       " (tensor([0.9019, 0.4320, 0.8704]),\n",
       "  tensor([-1.5736]),\n",
       "  tensor([0.9651]),\n",
       "  tensor([0.8817, 0.4719, 0.8943]),\n",
       "  tensor([0])))"
      ]
     },
     "execution_count": 1,
     "metadata": {},
     "output_type": "execute_result"
    }
   ],
   "source": [
    "import torch\n",
    "\n",
    "# 封装数据集\n",
    "class Dataset(torch.utils.data.Dataset):\n",
    "  \n",
    "  def __init__(self):\n",
    "    import numpy as np\n",
    "    data = np.loadtxt('orl.txt')\n",
    "    self.state = torch.FloatTensor(data[:, :3]).reshape(-1, 3)\n",
    "    self.action = torch.FloatTensor(data[:, 3]).reshape(-1, 1)\n",
    "    self.reward = torch.FloatTensor(data[:, 4]).reshape(-1, 1)\n",
    "    self.next_state = torch.FloatTensor(data[:, 5:8]).reshape(-1, 3)\n",
    "    self.over = torch.LongTensor(data[:, 8]).reshape(-1, 1)\n",
    "    \n",
    "  def __len__(self):\n",
    "    return len(self.state)\n",
    "  \n",
    "  def __getitem__(self, i):\n",
    "    return self.state[i], self.action[i], self.reward[i], self.next_state[i], self.over[i]\n",
    "  \n",
    "dataset = Dataset()\n",
    "len(dataset), dataset[0]"
   ]
  },
  {
   "cell_type": "code",
   "execution_count": 2,
   "metadata": {},
   "outputs": [
    {
     "data": {
      "text/plain": [
       "312"
      ]
     },
     "execution_count": 2,
     "metadata": {},
     "output_type": "execute_result"
    }
   ],
   "source": [
    "# 数据加载器\n",
    "loader = torch.utils.data.DataLoader(dataset=dataset, batch_size=64, shuffle=True, drop_last=True)\n",
    "len(loader)"
   ]
  },
  {
   "cell_type": "code",
   "execution_count": 3,
   "metadata": {},
   "outputs": [
    {
     "data": {
      "text/plain": [
       "<__main__.CQL at 0x1bff13c5ee0>"
      ]
     },
     "execution_count": 3,
     "metadata": {},
     "output_type": "execute_result"
    }
   ],
   "source": [
    "# 定义模型\n",
    "import torch\n",
    "from sac import SAC\n",
    "\n",
    "# 定义CQL算法，基于SAC\n",
    "class CQL(SAC):\n",
    "  \n",
    "  def get_loss_cql(self, state, next_state, value):\n",
    "    # state, next_state复制5遍\n",
    "    state = state.unsqueeze(dim=1).repeat(1, 5, 1).reshape(-1, 3)\n",
    "    next_state = next_state.unsqueeze(dim=1).repeat(1, 5, 1).reshape(-1, 3)\n",
    "    \n",
    "    # 计算动作和熵\n",
    "    rand_action = torch.empty([len(state), 1]).uniform_(-1, 1)\n",
    "    curr_action, _ = self.get_action_entropy(state)\n",
    "    next_action, _ = self.get_action_entropy(next_state)\n",
    "    \n",
    "    # 计算三份动作分别的value\n",
    "    value_rand = self.model_value(torch.cat([state, rand_action], dim=1))\n",
    "    value_curr = self.model_value(torch.cat([state, curr_action], dim=1))\n",
    "    value_next = self.model_value(torch.cat([state, next_action], dim=1))\n",
    "    \n",
    "    # 拼合三份value\n",
    "    value_cat = torch.cat([value_rand, value_curr, value_next], dim=1)\n",
    "    loss_cat = value_cat.exp().sum(dim=1) + 1e-8\n",
    "    loss_cat = loss_cat.log().mean()\n",
    "    \n",
    "    # value loss 上增加这一部分\n",
    "    return 5.0 * (loss_cat - value.mean())\n",
    "  \n",
    "cql = CQL()\n",
    "cql"
   ]
  },
  {
   "cell_type": "code",
   "execution_count": 4,
   "metadata": {},
   "outputs": [
    {
     "data": {
      "image/png": "[encoded data removed]",
      "text/plain": [
       "<Figure size 300x300 with 1 Axes>"
      ]
     },
     "metadata": {},
     "output_type": "display_data"
    }
   ],
   "source": [
    "import gym\n",
    "\n",
    "# 定义环境\n",
    "class MyWrapper(gym.Wrapper):\n",
    "  \n",
    "  def __init__(self):\n",
    "    env = gym.make('Pendulum-v1', render_mode='rgb_array')\n",
    "    super().__init__(env)\n",
    "    self.env = env\n",
    "    self.step_n = 0\n",
    "    \n",
    "  def reset(self):\n",
    "    state, _ = self.env.reset()\n",
    "    self.step_n = 0\n",
    "    return state\n",
    "  \n",
    "  def step(self, action):\n",
    "    state, reward, terminated, truncated, info = self.env.step([action * 2])\n",
    "    over = terminated or truncated\n",
    "\n",
    "    # 偏移reward, 便于训练\n",
    "    reward = (reward + 8) / 8\n",
    "    \n",
    "    #限制最大步数\n",
    "    self.step_n += 1\n",
    "    if self.step_n >= 200:\n",
    "      over = True\n",
    "\n",
    "    return state, reward, over\n",
    "  \n",
    "  # 打印游戏图像\n",
    "  def show(self):\n",
    "    from matplotlib import pyplot as plt\n",
    "    plt.figure(figsize=(3, 3))\n",
    "    plt.imshow(self.env.render())\n",
    "    plt.show()\n",
    "    \n",
    "env = MyWrapper()\n",
    "\n",
    "env.reset()\n",
    "\n",
    "env.show()"
   ]
  },
  {
   "cell_type": "code",
   "execution_count": 5,
   "metadata": {},
   "outputs": [
    {
     "data": {
      "text/plain": [
       "38.40060412882414"
      ]
     },
     "execution_count": 5,
     "metadata": {},
     "output_type": "execute_result"
    }
   ],
   "source": [
    "from IPython import display\n",
    "import random\n",
    "\n",
    "\n",
    "#玩一局游戏并记录数据\n",
    "def play(show=False):\n",
    "  data = []\n",
    "  reward_sum = 0\n",
    "\n",
    "  state = env.reset()\n",
    "  over = False\n",
    "  while not over:\n",
    "    # 根据概率采样\n",
    "    mu, sigma = cql.model_action(torch.FloatTensor(state).reshape(1, 3))\n",
    "    action = random.normalvariate(mu=mu.item(), sigma=sigma.item())\n",
    "    \n",
    "    next_state, reward, over = env.step(action)\n",
    "\n",
    "    data.append((state, action, reward, next_state, over))  \n",
    "    reward_sum += reward\n",
    "\n",
    "    state = next_state\n",
    "    \n",
    "    if show:\n",
    "      display.clear_output(wait=True)\n",
    "      env.show()\n",
    "\n",
    "  return data, reward_sum\n",
    "\n",
    "play()[-1]"
   ]
  },
  {
   "cell_type": "code",
   "execution_count": 6,
   "metadata": {},
   "outputs": [
    {
     "name": "stdout",
     "output_type": "stream",
     "text": [
      "0 2.3865725994110107 9.518834128799012\n",
      "10 14.000141143798828 42.061501418896675\n",
      "20 24.228418350219727 89.43097661046967\n",
      "30 32.03629684448242 100.77587222037442\n",
      "40 37.52537536621094 101.80207554853867\n",
      "50 44.388275146484375 124.20214183267744\n",
      "60 44.94777297973633 103.14727019574586\n",
      "70 50.612422943115234 132.37568728925248\n",
      "80 50.56443786621094 163.29962293887507\n",
      "90 47.1673583984375 117.77889007392689\n",
      "100 51.54493713378906 148.48324852309517\n",
      "110 53.06547546386719 114.87067565329582\n",
      "120 54.63275909423828 121.69721483357202\n",
      "130 54.8488883972168 130.9613854381262\n",
      "140 57.31464385986328 142.93313726072512\n",
      "150 56.39596939086914 148.39912217398148\n",
      "160 55.17572784423828 140.67733868161002\n",
      "170 60.36277389526367 177.6654745020834\n",
      "180 60.43495178222656 179.20849897969748\n",
      "190 59.726402282714844 184.18955033231276\n"
     ]
    }
   ],
   "source": [
    "# 训练\n",
    "def train():\n",
    "  for epoch in range(200):\n",
    "    for i, (state, action, reward, next_state, over) in enumerate(loader):\n",
    "      cql.train_value(state, action, reward, next_state, over)\n",
    "      cql.train_action(state)\n",
    "      \n",
    "    if epoch % 10 == 0:\n",
    "      value = cql.model_value(torch.cat([state, action], dim=1)).mean().item()\n",
    "      test_result = sum([play()[-1] for _ in range(20)]) / 20\n",
    "      print(epoch, value, test_result)\n",
    "      \n",
    "train()"
   ]
  },
  {
   "cell_type": "code",
   "execution_count": 8,
   "metadata": {},
   "outputs": [
    {
     "data": {
      "image/png": "[encoded data removed]",
      "text/plain": [
       "<Figure size 300x300 with 1 Axes>"
      ]
     },
     "metadata": {},
     "output_type": "display_data"
    },
    {
     "data": {
      "text/plain": [
       "183.86113106128212"
      ]
     },
     "execution_count": 8,
     "metadata": {},
     "output_type": "execute_result"
    }
   ],
   "source": [
    "play(True)[-1]"
   ]
  }
 ],
 "metadata": {
  "kernelspec": {
   "display_name": "RL_learning2",
   "language": "python",
   "name": "python3"
  },
  "language_info": {
   "codemirror_mode": {
    "name": "ipython",
    "version": 3
   },
   "file_extension": ".py",
   "mimetype": "text/x-python",
   "name": "python",
   "nbconvert_exporter": "python",
   "pygments_lexer": "ipython3",
   "version": "3.9.21"
  }
 },
 "nbformat": 4,
 "nbformat_minor": 2
}
