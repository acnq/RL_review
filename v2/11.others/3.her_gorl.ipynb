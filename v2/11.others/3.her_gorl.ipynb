{
 "cells": [
  {
   "cell_type": "markdown",
   "metadata": {},
   "source": [
    "## Others: Hindsight Experience Replay (HER) in Goal Oriented Reinforcement Learning (GoRL)\n",
    "\n",
    "目标导向强化学习： 事后观察经验回放"
   ]
  },
  {
   "cell_type": "code",
   "execution_count": 3,
   "metadata": {},
   "outputs": [
    {
     "data": {
      "image/png": "[encoded data removed]",
      "text/plain": [
       "<Figure size 300x300 with 1 Axes>"
      ]
     },
     "metadata": {},
     "output_type": "display_data"
    }
   ],
   "source": [
    "import random\n",
    "import numpy as np\n",
    "\n",
    "# 定义环境\n",
    "class MyWrapper:\n",
    "  \n",
    "  def reset(self):\n",
    "    # 前两个数是起点,后两个数是终点\n",
    "    self.state = np.random.uniform(size=4, low=-5, high=5)\n",
    "    self.step_n = 0\n",
    "    return self.state.tolist()\n",
    "  \n",
    "  def step(self, action):\n",
    "    action = np.array(action).reshape(2)\n",
    "    \n",
    "    # 裁剪动作范围\n",
    "    action = action.clip(min=-1, max=1)\n",
    "    \n",
    "    # 执行动作\n",
    "    self.state[:2] += action\n",
    "    \n",
    "    # 规范状态空间\n",
    "    self.state[:2] = self.state[:2].clip(min=-5, max=5)\n",
    "    \n",
    "    # 求距离终点的距离\n",
    "    dist = np.linalg.norm(self.state[:2] - self.state[2:], ord=2)\n",
    "    \n",
    "    # 判断到达终点\n",
    "    reward = -1.0\n",
    "    over = False\n",
    "    if dist < 0.1:\n",
    "      reward = 1.0\n",
    "      over = True\n",
    "      \n",
    "    # 限制最大步数\n",
    "    self.step_n += 1\n",
    "    if self.step_n >= 50:\n",
    "      over = True\n",
    "      \n",
    "    return self.state.tolist(), reward, over\n",
    "  \n",
    "  \n",
    "  def show(self):\n",
    "    from matplotlib import pyplot as plt\n",
    "    plt.figure(figsize=(3, 3))\n",
    "    plt.xlim(-5, 5)\n",
    "    plt.ylim(-5, 5)\n",
    "    \n",
    "    plt.plot(*self.state[:2], 'o')\n",
    "    plt.plot(*self.state[2:], 'x')\n",
    "    plt.show()\n",
    "    \n",
    "env = MyWrapper()\n",
    "env.reset()\n",
    "env.show()"
   ]
  },
  {
   "cell_type": "code",
   "execution_count": 4,
   "metadata": {},
   "outputs": [
    {
     "data": {
      "text/plain": [
       "<ddpg.DDPG at 0x2aef46473d0>"
      ]
     },
     "execution_count": 4,
     "metadata": {},
     "output_type": "execute_result"
    }
   ],
   "source": [
    "from ddpg import DDPG \n",
    "import torch\n",
    "\n",
    "ddpg = DDPG()\n",
    "\n",
    "ddpg"
   ]
  },
  {
   "cell_type": "code",
   "execution_count": 5,
   "metadata": {},
   "outputs": [
    {
     "data": {
      "text/plain": [
       "-50.0"
      ]
     },
     "execution_count": 5,
     "metadata": {},
     "output_type": "execute_result"
    }
   ],
   "source": [
    "from IPython import display\n",
    "import random\n",
    "\n",
    "\n",
    "#玩一局游戏并记录数据\n",
    "def play(show=False):\n",
    "  data = []\n",
    "  reward_sum = 0\n",
    "\n",
    "  state = env.reset()\n",
    "  over = False\n",
    "  while not over:\n",
    "    # 根据环境采样\n",
    "    action = ddpg.model_action(torch.FloatTensor(state).reshape(1, 4)).reshape(2)\n",
    "\n",
    "    # 给动作添加噪声，增加探索\n",
    "    action += torch.randn(2) * 0.1\n",
    "    action = action.tolist()\n",
    "    \n",
    "    next_state, reward, over = env.step(action)\n",
    "\n",
    "    data.append((state, action, reward, next_state, over))\n",
    "    reward_sum += reward\n",
    "    \n",
    "    state = next_state\n",
    "\n",
    "    if show:\n",
    "      display.clear_output(wait=True)\n",
    "      env.show()\n",
    "\n",
    "  return data, reward_sum\n",
    "\n",
    "play()[-1]"
   ]
  },
  {
   "cell_type": "code",
   "execution_count": 6,
   "metadata": {},
   "outputs": [
    {
     "data": {
      "text/plain": [
       "([-2.4308068218595382, -4.657759560990988, 5.0, 3.994603575419725],\n",
       " [0.5086904168128967, 0.11522974818944931],\n",
       " -1.0,\n",
       " [-1.9221164050466415, -4.542529812801539, 5.0, 3.994603575419725],\n",
       " False)"
      ]
     },
     "execution_count": 6,
     "metadata": {},
     "output_type": "execute_result"
    }
   ],
   "source": [
    "# 从一局游戏中取一条伪终点的数据\n",
    "def get_fake_goal_data(data_game, step):\n",
    "  # 取出step的数据\n",
    "  state, action, reward, next_state, over = data_game[step]\n",
    "  \n",
    "  # 随机step后面的某一步数据\n",
    "  step = random.randint(step + 1, len(data_game) - 1)\n",
    "  fake_goal_state = data_game[step][0]\n",
    "  \n",
    "  # 以伪终点构建新的state\n",
    "  state[2:] = fake_goal_state[:2]\n",
    "  next_state[2:] = fake_goal_state[:2]\n",
    "  \n",
    "  # 求距离终点的距离\n",
    "  dist = [next_state[0] - next_state[2], next_state[1] - next_state[3]]\n",
    "  dist = np.linalg.norm(dist, ord=2)\n",
    "  \n",
    "  # 重新计算reward和over\n",
    "  reward = -1.0\n",
    "  over = False\n",
    "  if dist < 0.1:\n",
    "    reward = 1.0\n",
    "    over = True\n",
    "  \n",
    "  # 返回作为伪终点的数据\n",
    "  return state, action, reward, next_state, over\n",
    "\n",
    "get_fake_goal_data(play()[0], 0)"
   ]
  },
  {
   "cell_type": "code",
   "execution_count": 7,
   "metadata": {},
   "outputs": [
    {
     "data": {
      "text/plain": [
       "(200,\n",
       " ([-4.537123834744524,\n",
       "   4.439853111305558,\n",
       "   0.6322902699825148,\n",
       "   1.9848531264588098],\n",
       "  [0.024813681840896606, 0.24908727407455444],\n",
       "  -1.0,\n",
       "  [-4.512310152903628,\n",
       "   4.688940385380112,\n",
       "   0.6322902699825148,\n",
       "   1.9848531264588098],\n",
       "  False))"
      ]
     },
     "execution_count": 7,
     "metadata": {},
     "output_type": "execute_result"
    }
   ],
   "source": [
    "class Pool:\n",
    "  \n",
    "  def __init__(self):\n",
    "    self.pool = []\n",
    "    \n",
    "  def __len__(self):\n",
    "    return sum(len(i) for i in self.pool)\n",
    "  \n",
    "  def __getitem__(self, i):\n",
    "    return self.pool[i]\n",
    "  \n",
    "  # 更新动作\n",
    "  def update(self):\n",
    "    # 每次更新至少N条数据\n",
    "    old_len = len(self)\n",
    "    while len(self) - old_len < 200:\n",
    "      self.pool.append(play()[0])\n",
    "      \n",
    "    # 保留最新N条数据\n",
    "    while len(self) > 2_0000:\n",
    "      self.pool = self.pool[1:]\n",
    "      \n",
    "\n",
    "  # 获取一批数据样本\n",
    "  def sample(self):\n",
    "    data = []\n",
    "    for _ in range(64):\n",
    "      # 随机一局游戏\n",
    "      data_game = random.choice(self.pool)\n",
    "      \n",
    "      # 随机取游戏中的一步数据\n",
    "      step = random.randint(0, len(data_game) - 1)\n",
    "      data_step = data_game[step]\n",
    "      \n",
    "      # 随机替换为伪终点数据\n",
    "      if step < len(data_game) - 1 and random.random() < 0.8:\n",
    "        data_step = get_fake_goal_data(data_game, step)\n",
    "        \n",
    "      data.append(data_step)\n",
    "    \n",
    "    state = torch.FloatTensor([i[0] for i in data]).reshape(-1, 4)\n",
    "    action = torch.FloatTensor([i[1] for i in data]).reshape(-1, 2)\n",
    "    reward = torch.FloatTensor([i[2] for i in data]).reshape(-1, 1)\n",
    "    next_state = torch.FloatTensor([i[3] for i in data]).reshape(-1, 4)\n",
    "    over = torch.LongTensor([i[4] for i in data]).reshape(-1, 1)\n",
    "    \n",
    "    return state, action, reward, next_state, over\n",
    "\n",
    "pool = Pool()\n",
    "pool.update()\n",
    "pool.sample()\n",
    "\n",
    "len(pool), pool[0][0]"
   ]
  },
  {
   "cell_type": "code",
   "execution_count": 8,
   "metadata": {},
   "outputs": [
    {
     "name": "stdout",
     "output_type": "stream",
     "text": [
      "0 400 -50.0\n",
      "100 19962 -50.0\n",
      "200 19979 -33.1\n",
      "300 19994 -13.0\n",
      "400 19985 -5.2\n",
      "500 19999 -5.8\n",
      "600 19993 -4.25\n",
      "700 19999 -4.95\n",
      "800 19995 -4.95\n",
      "900 19993 -4.95\n"
     ]
    }
   ],
   "source": [
    "#训练\n",
    "def train():\n",
    "\t# 共更新N轮数据\n",
    "  for epoch in range(1000):\n",
    "    pool.update()\n",
    "    \n",
    "    # 每次更新过数据后,学习N次\n",
    "    for i in range(200):\n",
    "      # 采样一批\n",
    "      state, action, reward, next_state, over = pool.sample()\n",
    "\n",
    "      # 训练\n",
    "      ddpg.train_action(state)\n",
    "      ddpg.train_value(state, action, reward, next_state, over)\n",
    "      ddpg.soft_update()\n",
    "\n",
    "    if epoch % 100 == 0:\n",
    "      test_result = sum([play()[-1] for _ in range(20)]) / 20\n",
    "      print(epoch, len(pool), test_result)\n",
    "      \n",
    "train()"
   ]
  },
  {
   "cell_type": "code",
   "execution_count": 10,
   "metadata": {},
   "outputs": [
    {
     "data": {
      "image/png": "[encoded data removed]",
      "text/plain": [
       "<Figure size 300x300 with 1 Axes>"
      ]
     },
     "metadata": {},
     "output_type": "display_data"
    },
    {
     "data": {
      "text/plain": [
       "-6.0"
      ]
     },
     "execution_count": 10,
     "metadata": {},
     "output_type": "execute_result"
    }
   ],
   "source": [
    "play(True)[-1]"
   ]
  }
 ],
 "metadata": {
  "kernelspec": {
   "display_name": "RL_learning2",
   "language": "python",
   "name": "python3"
  },
  "language_info": {
   "codemirror_mode": {
    "name": "ipython",
    "version": 3
   },
   "file_extension": ".py",
   "mimetype": "text/x-python",
   "name": "python",
   "nbconvert_exporter": "python",
   "pygments_lexer": "ipython3",
   "version": "3.9.21"
  }
 },
 "nbformat": 4,
 "nbformat_minor": 2
}
