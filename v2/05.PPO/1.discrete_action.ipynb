{
 "cells": [
  {
   "cell_type": "markdown",
   "metadata": {},
   "source": [
    "## AC and A2C: Actor_Critic (AC) algorithm\n",
    "\n",
    "将REINFORCE中估计$Q(s, a)$的MC方法替换为神经网络\n",
    "\n",
    "用td误差训练神经网络"
   ]
  },
  {
   "cell_type": "code",
   "execution_count": 26,
   "metadata": {},
   "outputs": [
    {
     "data": {
      "image/png": "[encoded data removed]",
      "text/plain": [
       "<Figure size 300x300 with 1 Axes>"
      ]
     },
     "metadata": {},
     "output_type": "display_data"
    }
   ],
   "source": [
    "import gym\n",
    "\n",
    "# 定义环境\n",
    "class MyWrapper(gym.Wrapper):\n",
    "  \n",
    "  def __init__(self):\n",
    "    env = gym.make('CartPole-v1', render_mode='rgb_array')\n",
    "    super().__init__(env)\n",
    "    self.env = env\n",
    "    self.step_n = 0\n",
    "    \n",
    "  def reset(self):\n",
    "    state, _ = self.env.reset()\n",
    "    self.step_n = 0\n",
    "    return state\n",
    "  \n",
    "  def step(self, action):\n",
    "    state, reward, terminated, truncated, info = self.env.step(action)\n",
    "    over = terminated or truncated\n",
    "\n",
    "    #限制最大步数\n",
    "    self.step_n += 1\n",
    "    if self.step_n >= 200:\n",
    "        over = True\n",
    "    \n",
    "    #没坚持到最后,扣分\n",
    "    if over and self.step_n < 200:\n",
    "        reward = -1000\n",
    "\n",
    "    return state, reward, over\n",
    "  \n",
    "  # 打印游戏图像\n",
    "  def show(self):\n",
    "    from matplotlib import pyplot as plt\n",
    "    plt.figure(figsize=(3, 3))\n",
    "    plt.imshow(self.env.render())\n",
    "    plt.show()\n",
    "    \n",
    "env = MyWrapper()\n",
    "\n",
    "env.reset()\n",
    "\n",
    "env.show()"
   ]
  },
  {
   "cell_type": "code",
   "execution_count": 27,
   "metadata": {},
   "outputs": [
    {
     "data": {
      "text/plain": [
       "(Sequential(\n",
       "   (0): Linear(in_features=4, out_features=64, bias=True)\n",
       "   (1): ReLU()\n",
       "   (2): Linear(in_features=64, out_features=64, bias=True)\n",
       "   (3): ReLU()\n",
       "   (4): Linear(in_features=64, out_features=2, bias=True)\n",
       "   (5): Softmax(dim=1)\n",
       " ),\n",
       " Sequential(\n",
       "   (0): Linear(in_features=4, out_features=64, bias=True)\n",
       "   (1): ReLU()\n",
       "   (2): Linear(in_features=64, out_features=64, bias=True)\n",
       "   (3): ReLU()\n",
       "   (4): Linear(in_features=64, out_features=1, bias=True)\n",
       " ))"
      ]
     },
     "execution_count": 27,
     "metadata": {},
     "output_type": "execute_result"
    }
   ],
   "source": [
    "import torch\n",
    "\t\n",
    "# 演员模型：计算动作概率\n",
    "model_actor = torch.nn.Sequential(\n",
    "\ttorch.nn.Linear(4, 64),\n",
    "\ttorch.nn.ReLU(),\n",
    "\ttorch.nn.Linear(64, 64),\n",
    "\ttorch.nn.ReLU(),\n",
    "\ttorch.nn.Linear(64, 2),\n",
    "\ttorch.nn.Softmax(dim=1),\n",
    ")\n",
    "\n",
    "# 评委模型：计算每个动作价值\n",
    "model_critic = torch.nn.Sequential(\n",
    "\ttorch.nn.Linear(4, 64),\n",
    "\ttorch.nn.ReLU(),\n",
    "\ttorch.nn.Linear(64, 64),\n",
    "\ttorch.nn.ReLU(),\n",
    "\ttorch.nn.Linear(64, 1),\n",
    ")\n",
    "\n",
    "model_critic_delay = torch.nn.Sequential(\n",
    "\ttorch.nn.Linear(4, 64),\n",
    "\ttorch.nn.ReLU(),\n",
    "\ttorch.nn.Linear(64, 64),\n",
    "\ttorch.nn.ReLU(),\n",
    "\ttorch.nn.Linear(64, 1),\n",
    ")\n",
    "\n",
    "model_critic_delay.load_state_dict(model_critic.state_dict())\n",
    "\n",
    "model_actor, model_critic"
   ]
  },
  {
   "cell_type": "code",
   "execution_count": 28,
   "metadata": {},
   "outputs": [
    {
     "data": {
      "text/plain": [
       "-986.0"
      ]
     },
     "execution_count": 28,
     "metadata": {},
     "output_type": "execute_result"
    }
   ],
   "source": [
    "from IPython import display\n",
    "import random\n",
    "\n",
    "\n",
    "#玩一局游戏并记录数据\n",
    "def play(show=False):\n",
    "\tstate = []\n",
    "\taction = []\n",
    "\treward = []\n",
    "\tnext_state = []\n",
    "\tover = []\n",
    "\n",
    "\ts = env.reset()\n",
    "\to = False\n",
    "\twhile not o:\n",
    "\t\t# 根据环境采样\n",
    "\t\tprob = model_actor(torch.FloatTensor(s).reshape(1, 4))[0].tolist()\n",
    "\t\ta = random.choices(range(2), weights=prob, k=1)[0]\n",
    "\t\t\n",
    "\t\tns, r, o = env.step(a)\n",
    "\n",
    "\t\tstate.append(s)\n",
    "\t\taction.append(a)\n",
    "\t\treward.append(r)\n",
    "\t\tnext_state.append(ns)\n",
    "\t\tover.append(o)\n",
    "  \n",
    "\t\ts = ns\n",
    "\n",
    "\t\tif show:\n",
    "\t\t\tdisplay.clear_output(wait=True)\n",
    "\t\t\tenv.show()\n",
    "  \n",
    "\tstate = torch.FloatTensor(state).reshape(-1, 4)\n",
    "\taction = torch.LongTensor(action).reshape(-1, 1)\n",
    "\treward = torch.FloatTensor(reward).reshape(-1, 1)\n",
    "\tnext_state = torch.FloatTensor(next_state).reshape(-1, 4)\n",
    "\tover = torch.LongTensor(over).reshape(-1, 1)\n",
    "\n",
    "\treturn state, action, reward, next_state, over, reward.sum().item()\n",
    "\n",
    "state, action, reward, next_state, over, reward_sum = play()\n",
    "\n",
    "reward_sum"
   ]
  },
  {
   "cell_type": "code",
   "execution_count": 29,
   "metadata": {},
   "outputs": [],
   "source": [
    "optimizer_actor = torch.optim.Adam(model_actor.parameters(), lr=4e-3)\n",
    "optimizer_critic = torch.optim.Adam(model_critic.parameters(), lr=4e-2)\n",
    "\n",
    "def requires_grad(model, value):\n",
    "  for param in model.parameters():\n",
    "    param.requires_grad_(value)"
   ]
  },
  {
   "cell_type": "code",
   "execution_count": 30,
   "metadata": {},
   "outputs": [
    {
     "data": {
      "text/plain": [
       "torch.Size([15, 1])"
      ]
     },
     "execution_count": 30,
     "metadata": {},
     "output_type": "execute_result"
    }
   ],
   "source": [
    "# critic 模型训练\n",
    "def train_critic(state, reward, next_state, over):\n",
    "  requires_grad(model_actor, False)\n",
    "  requires_grad(model_critic, True)\n",
    "  \n",
    "  # 计算values和targets\n",
    "  value = model_critic(state)\n",
    "  \n",
    "  with torch.no_grad():\n",
    "    target = model_critic_delay(next_state)\n",
    "  target = target * 0.99 * (1 - over) + reward\n",
    "  \n",
    "  # 时序差分： tdloss\n",
    "  loss = torch.nn.functional.mse_loss(value, target)\n",
    "  \n",
    "  loss.backward()\n",
    "  optimizer_critic.step()\n",
    "  optimizer_critic.zero_grad()\n",
    "  \n",
    "  return value.detach()\n",
    "\n",
    "value = train_critic(state, reward, next_state, over)\n",
    "value.shape"
   ]
  },
  {
   "cell_type": "code",
   "execution_count": 31,
   "metadata": {},
   "outputs": [
    {
     "data": {
      "text/plain": [
       "-0.022671669721603394"
      ]
     },
     "execution_count": 31,
     "metadata": {},
     "output_type": "execute_result"
    }
   ],
   "source": [
    "# 训练actor\n",
    "def train_actor(state, action, value):\n",
    "  requires_grad(model_actor, True)\n",
    "  requires_grad(model_critic, False)\n",
    "  \n",
    "  # 重新计算动作概率\n",
    "  prob = model_actor(state)\n",
    "  prob = prob.gather(dim=1, index=action)\n",
    "  \n",
    "  # 根据策略梯度算法发的导函数\n",
    "  # 函数中的Q(state, action), 用critic模型估计\n",
    "  prob = (prob + 1e-8).log() * value\n",
    "  loss = -prob.mean()\n",
    "  \n",
    "  loss.backward()\n",
    "  optimizer_actor.step()\n",
    "  optimizer_actor.zero_grad()\n",
    "  \n",
    "  return loss.item()\n",
    "\n",
    "train_actor(state, action, value)"
   ]
  },
  {
   "cell_type": "code",
   "execution_count": 32,
   "metadata": {},
   "outputs": [
    {
     "name": "stdout",
     "output_type": "stream",
     "text": [
      "0 -6.459356784820557 -976.3\n",
      "100 -130.2356719970703 -891.9\n",
      "200 -29.019628524780273 200.0\n",
      "300 -12.627197265625 200.0\n",
      "400 -87.03160858154297 200.0\n",
      "500 -35.234317779541016 200.0\n",
      "600 -7.990650177001953 200.0\n",
      "700 -1.7405095100402832 200.0\n",
      "800 -0.7395690083503723 200.0\n",
      "900 -0.19511210918426514 200.0\n"
     ]
    }
   ],
   "source": [
    "#训练\n",
    "def train():\n",
    "\tmodel_actor.train()\n",
    "\tmodel_critic.train()\n",
    "\n",
    "\t# 共更新N轮数据\n",
    "\tfor epoch in range(1000):\n",
    "\t\t# 一个epoch玩N步\n",
    "\t\tsteps = 0\n",
    "\t\twhile steps < 200:\n",
    "\t\t\t# 玩一局，得到数据\n",
    "\t\t\tstate, action, reward, next_state, over, _ = play()\n",
    "\t\t\tsteps += len(state)\n",
    "\n",
    "\t\t\t# 训练两个模型\n",
    "\t\t\tvalue = train_critic(state, reward, next_state, over)\n",
    "\t\t\tloss = train_actor(state, action, value)\n",
    "  \n",
    "\t\t# 复制参数\n",
    "\t\tfor param, param_delay in zip(model_critic.parameters(),\n",
    "                                model_critic_delay.parameters()):\n",
    "\t\t\tvalue = param_delay.data * 0.7 + param.data * 0.3\n",
    "\t\t\tparam_delay.data.copy_(value)\n",
    "  \n",
    "\t\tif epoch % 100 == 0:\n",
    "\t\t\ttest_result = sum([play()[-1] for _ in range(20)]) / 20\n",
    "\t\t\tprint(epoch, loss, test_result)\n",
    "\n",
    "train()"
   ]
  },
  {
   "cell_type": "code",
   "execution_count": 33,
   "metadata": {},
   "outputs": [
    {
     "data": {
      "image/png": "[encoded data removed]",
      "text/plain": [
       "<Figure size 300x300 with 1 Axes>"
      ]
     },
     "metadata": {},
     "output_type": "display_data"
    },
    {
     "data": {
      "text/plain": [
       "200.0"
      ]
     },
     "execution_count": 33,
     "metadata": {},
     "output_type": "execute_result"
    }
   ],
   "source": [
    "play(True)[-1]"
   ]
  }
 ],
 "metadata": {
  "kernelspec": {
   "display_name": "RL_learning2",
   "language": "python",
   "name": "python3"
  },
  "language_info": {
   "codemirror_mode": {
    "name": "ipython",
    "version": 3
   },
   "file_extension": ".py",
   "mimetype": "text/x-python",
   "name": "python",
   "nbconvert_exporter": "python",
   "pygments_lexer": "ipython3",
   "version": "3.9.21"
  }
 },
 "nbformat": 4,
 "nbformat_minor": 2
}
