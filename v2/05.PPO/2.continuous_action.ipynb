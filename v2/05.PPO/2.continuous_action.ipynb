{
 "cells": [
  {
   "cell_type": "markdown",
   "metadata": {},
   "source": [
    "## PPO: continuous action\n",
    "\n",
    "proximal policy optimization: 近端策略优化\n",
    "\n",
    "状态函数： $V(s) = \\text{所有动作求和} → \\text{概率}(a) * Q(s, a)$\n",
    "\n",
    "修改为：\n",
    "$$\n",
    "V(s) = \\text{所有动作求和} → \\text{现概率}(a) * [\\text{旧概率}(a) / \\text{新概率}(a)] * Q(s, a)\n",
    "$$\n",
    "\n",
    "初始现概率和旧概率相等，但随着模型更新现概率会变化\n",
    "\n",
    "$Q(s, a)$ 用蒙特卡洛估计\n",
    "\n",
    "基本原理和离散动作是一样的,连续动作的概率使用高斯密度函数计算即可."
   ]
  },
  {
   "cell_type": "code",
   "execution_count": 25,
   "metadata": {},
   "outputs": [
    {
     "data": {
      "image/png": "[encoded data removed]",
      "text/plain": [
       "<Figure size 300x300 with 1 Axes>"
      ]
     },
     "metadata": {},
     "output_type": "display_data"
    }
   ],
   "source": [
    "import gym\n",
    "\n",
    "# 定义环境\n",
    "class MyWrapper(gym.Wrapper):\n",
    "  \n",
    "  def __init__(self):\n",
    "    env = gym.make('Pendulum-v1', render_mode='rgb_array')\n",
    "    super().__init__(env)\n",
    "    self.env = env\n",
    "    self.step_n = 0\n",
    "    \n",
    "  def reset(self):\n",
    "    state, _ = self.env.reset()\n",
    "    self.step_n = 0\n",
    "    return state\n",
    "  \n",
    "  def step(self, action):\n",
    "    state, reward, terminated, truncated, info = self.env.step([action * 2])\n",
    "    over = terminated or truncated\n",
    "\n",
    "    # 偏移reward便于训练\n",
    "    reward = (reward + 8) / 8\n",
    "    \n",
    "    #限制最大步数\n",
    "    self.step_n += 1\n",
    "    if self.step_n >= 200:\n",
    "        over = True\n",
    "\n",
    "    return state, reward, over\n",
    "  \n",
    "  # 打印游戏图像\n",
    "  def show(self):\n",
    "    from matplotlib import pyplot as plt\n",
    "    plt.figure(figsize=(3, 3))\n",
    "    plt.imshow(self.env.render())\n",
    "    plt.show()\n",
    "    \n",
    "env = MyWrapper()\n",
    "\n",
    "env.reset()\n",
    "\n",
    "env.show()"
   ]
  },
  {
   "cell_type": "code",
   "execution_count": 26,
   "metadata": {},
   "outputs": [
    {
     "data": {
      "text/plain": [
       "((tensor([[-0.0742],\n",
       "          [-0.0349]], grad_fn=<TanhBackward0>),\n",
       "  tensor([[1.1097],\n",
       "          [1.1436]], grad_fn=<ExpBackward0>)),\n",
       " tensor([[-0.2236],\n",
       "         [-0.0569]], grad_fn=<AddmmBackward0>))"
      ]
     },
     "execution_count": 26,
     "metadata": {},
     "output_type": "execute_result"
    }
   ],
   "source": [
    "import torch\n",
    "\t\n",
    "# 定义模型\n",
    "class Model(torch.nn.Module):\n",
    "  def __init__(self):\n",
    "    super().__init__()\n",
    "    self.s = torch.nn.Sequential(\n",
    "      torch.nn.Linear(3, 64),\n",
    "      torch.nn.ReLU(),\n",
    "      torch.nn.Linear(64, 64),\n",
    "      torch.nn.ReLU(),\n",
    "    )\n",
    "    self.mu = torch.nn.Sequential(\n",
    "      torch.nn.Linear(64, 1),\n",
    "      torch.nn.Tanh(),\n",
    "    )\n",
    "    self.sigma = torch.nn.Sequential(\n",
    "      torch.nn.Linear(64, 1),\n",
    "      torch.nn.Tanh(),\n",
    "    )\n",
    "  def forward(self, state):\n",
    "    state = self.s(state)\n",
    "    return self.mu(state), self.sigma(state).exp()\n",
    "  \n",
    "model_action = Model()\n",
    "\n",
    "model_value = torch.nn.Sequential(\n",
    "  torch.nn.Linear(3, 64),\n",
    "  torch.nn.ReLU(),\n",
    "  torch.nn.Linear(64, 64),\n",
    "  torch.nn.ReLU(),\n",
    "  torch.nn.Linear(64, 1),\n",
    ")\n",
    "\n",
    "model_action(torch.randn(2, 3)), model_value(torch.randn(2, 3))"
   ]
  },
  {
   "cell_type": "code",
   "execution_count": 27,
   "metadata": {},
   "outputs": [
    {
     "data": {
      "text/plain": [
       "89.5005111694336"
      ]
     },
     "execution_count": 27,
     "metadata": {},
     "output_type": "execute_result"
    }
   ],
   "source": [
    "from IPython import display\n",
    "import random\n",
    "\n",
    "\n",
    "#玩一局游戏并记录数据\n",
    "def play(show=False):\n",
    "\tstate = []\n",
    "\taction = []\n",
    "\treward = []\n",
    "\tnext_state = []\n",
    "\tover = []\n",
    "\n",
    "\ts = env.reset()\n",
    "\to = False\n",
    "\twhile not o:\n",
    "\t\t# 根据环境采样\n",
    "\t\tmu, sigma = model_action(torch.FloatTensor(s).reshape(1, 3))\n",
    "\t\ta = random.normalvariate(mu=mu.item(), sigma=sigma.item())\n",
    "\t\t\n",
    "\t\tns, r, o = env.step(a)\n",
    "\n",
    "\t\tstate.append(s)\n",
    "\t\taction.append(a)\n",
    "\t\treward.append(r)\n",
    "\t\tnext_state.append(ns)\n",
    "\t\tover.append(o)\n",
    "  \n",
    "\t\ts = ns\n",
    "\n",
    "\t\tif show:\n",
    "\t\t\tdisplay.clear_output(wait=True)\n",
    "\t\t\tenv.show()\n",
    "  \n",
    "\tstate = torch.FloatTensor(state).reshape(-1, 3)\n",
    "\taction = torch.FloatTensor(action).reshape(-1, 1)\n",
    "\treward = torch.FloatTensor(reward).reshape(-1, 1)\n",
    "\tnext_state = torch.FloatTensor(next_state).reshape(-1, 3)\n",
    "\tover = torch.LongTensor(over).reshape(-1, 1)\n",
    "\n",
    "\treturn state, action, reward, next_state, over, reward.sum().item()\n",
    "\n",
    "state, action, reward, next_state, over, reward_sum = play()\n",
    "\n",
    "reward_sum"
   ]
  },
  {
   "cell_type": "code",
   "execution_count": 28,
   "metadata": {},
   "outputs": [],
   "source": [
    "optimizer_action = torch.optim.Adam(model_action.parameters(), lr=5e-4)\n",
    "optimizer_value = torch.optim.Adam(model_value.parameters(), lr=5e-3)\n",
    "\n",
    "def requires_grad(model, value):\n",
    "  for param in model.parameters():\n",
    "    param.requires_grad_(value)"
   ]
  },
  {
   "cell_type": "code",
   "execution_count": 29,
   "metadata": {},
   "outputs": [
    {
     "data": {
      "text/plain": [
       "torch.Size([200, 1])"
      ]
     },
     "execution_count": 29,
     "metadata": {},
     "output_type": "execute_result"
    }
   ],
   "source": [
    "# critic 模型训练\n",
    "def train_value(state, reward, next_state, over):\n",
    "  requires_grad(model_action, False)\n",
    "  requires_grad(model_value, True)\n",
    "  \n",
    "  # 计算targets\n",
    "  with torch.no_grad():\n",
    "    target = model_value(next_state)\n",
    "  target = target * 0.98 * (1 - over) + reward\n",
    "  \n",
    "  # 每批数据反复训练10次\n",
    "  for _ in range(10):\n",
    "    # 计算value\n",
    "    value = model_value(state)\n",
    "    \n",
    "    loss = torch.nn.functional.mse_loss(value, target)\n",
    "    loss.backward()\n",
    "    optimizer_value.step()\n",
    "    optimizer_value.zero_grad()\n",
    "  \n",
    "  # 减去value相当于去基线\n",
    "  return (target - value).detach()\n",
    "\n",
    "value = train_value(state, reward, next_state, over)\n",
    "value.shape"
   ]
  },
  {
   "cell_type": "code",
   "execution_count": 30,
   "metadata": {},
   "outputs": [
    {
     "data": {
      "text/plain": [
       "-0.7926292419433594"
      ]
     },
     "execution_count": 30,
     "metadata": {},
     "output_type": "execute_result"
    }
   ],
   "source": [
    "# 训练actor\n",
    "def train_action(state, action, value):\n",
    "  requires_grad(model_action, True)\n",
    "  requires_grad(model_value, False)\n",
    "  \n",
    "  # 计算当前state的价值,其实就是Q(state,action),\n",
    "  # 这里是用蒙特卡洛法估计的\n",
    "  delta = []\n",
    "  for i in range(len(value)):\n",
    "    s = 0\n",
    "    for j in range(i, len(value)):\n",
    "      s += value[j] * (0.98 * 0.95) ** (j - i)\n",
    "    delta.append(s)\n",
    "  delta = torch.FloatTensor(delta).reshape(-1, 1)\n",
    "  \n",
    "  # 更新前动作概率\n",
    "  with torch.no_grad():\n",
    "    mu, sigma = model_action(state)\n",
    "    prob_old = torch.distributions.Normal(mu, sigma).log_prob(action).exp()\n",
    "    \n",
    "  # 每批数据反复训练10次\n",
    "  for _ in range(10):\n",
    "    # 更新后的动作概率\n",
    "    mu, sigma = model_action(state)\n",
    "    prob_new = torch.distributions.Normal(mu, sigma).log_prob(action).exp()\n",
    "    \n",
    "    # 求出概率的变化\n",
    "    ratio = prob_new / prob_old\n",
    "    \n",
    "    # 计算截断和不截断的两份loss, 取其中小的\n",
    "    surr1 = ratio * delta\n",
    "    surr2 = ratio.clamp(0.8, 1.2) * delta\n",
    "    \n",
    "    loss = -torch.min(surr1, surr2).mean()\n",
    "  \n",
    "    # 更新参数\n",
    "    loss.backward()\n",
    "    optimizer_action.step()\n",
    "    optimizer_action.zero_grad()\n",
    "  \n",
    "  return loss.item()\n",
    "\n",
    "train_action(state, action, value)"
   ]
  },
  {
   "cell_type": "code",
   "execution_count": 31,
   "metadata": {},
   "outputs": [
    {
     "name": "stdout",
     "output_type": "stream",
     "text": [
      "0 0.8381876349449158 31.515884149074555\n",
      "100 1.7545100450515747 64.68820114135742\n",
      "200 0.9809221029281616 49.002770805358885\n",
      "300 0.48976364731788635 116.5735580444336\n",
      "400 -1.4165841341018677 144.53936004638672\n",
      "500 1.1892672777175903 148.6092529296875\n",
      "600 -1.4660520553588867 160.85569496154784\n",
      "700 -4.122585296630859 110.87574462890625\n",
      "800 0.6725428104400635 148.99422912597657\n",
      "900 0.37050411105155945 171.60491256713868\n"
     ]
    }
   ],
   "source": [
    "#训练\n",
    "def train():\n",
    "\tmodel_action.train()\n",
    "\tmodel_value.train()\n",
    "\n",
    "\t# 训练N局\n",
    "\tfor epoch in range(1000):\n",
    "\t\t# 一个epoch玩N步\n",
    "\t\tsteps = 0\n",
    "\t\twhile steps < 200:\n",
    "\t\t\t# 玩一局，得到数据\n",
    "\t\t\tstate, action, reward, next_state, over, _ = play()\n",
    "\t\t\tsteps += len(state)\n",
    "\n",
    "\t\t\t# 训练两个模型\n",
    "\t\t\tdelta = train_value(state, reward, next_state, over)\n",
    "\t\t\tloss = train_action(state, action, delta)\n",
    "\n",
    "\t\tif epoch % 100 == 0:\n",
    "\t\t\ttest_result = sum([play()[-1] for _ in range(20)]) / 20\n",
    "\t\t\tprint(epoch, loss, test_result)\n",
    "\n",
    "train()"
   ]
  },
  {
   "cell_type": "code",
   "execution_count": 32,
   "metadata": {},
   "outputs": [
    {
     "data": {
      "image/png": "[encoded data removed]",
      "text/plain": [
       "<Figure size 300x300 with 1 Axes>"
      ]
     },
     "metadata": {},
     "output_type": "display_data"
    },
    {
     "data": {
      "text/plain": [
       "166.5684814453125"
      ]
     },
     "execution_count": 32,
     "metadata": {},
     "output_type": "execute_result"
    }
   ],
   "source": [
    "play(True)[-1]"
   ]
  }
 ],
 "metadata": {
  "kernelspec": {
   "display_name": "RL_learning2",
   "language": "python",
   "name": "python3"
  },
  "language_info": {
   "codemirror_mode": {
    "name": "ipython",
    "version": 3
   },
   "file_extension": ".py",
   "mimetype": "text/x-python",
   "name": "python",
   "nbconvert_exporter": "python",
   "pygments_lexer": "ipython3",
   "version": "3.9.21"
  }
 },
 "nbformat": 4,
 "nbformat_minor": 2
}
