{
 "cells": [
  {
   "cell_type": "markdown",
   "metadata": {},
   "source": [
    "## TD3: Twin Delayed Deep Deterministic policy gradient\n",
    "\n",
    "双延迟深度确定性策略梯度\n",
    "\n",
    "时序差分和策略迭代的结合体\n",
    "\n",
    "使用delay模型,类似DQN的双模型的思路,缓解自举\n",
    "\n",
    "action模型根据state计算动作,**两个**value模型评估action的价值, 取小值，进一步缓解自举"
   ]
  },
  {
   "cell_type": "code",
   "execution_count": 1,
   "metadata": {},
   "outputs": [
    {
     "data": {
      "image/png": "[encoded data removed]",
      "text/plain": [
       "<Figure size 300x300 with 1 Axes>"
      ]
     },
     "metadata": {},
     "output_type": "display_data"
    }
   ],
   "source": [
    "import gym\n",
    "\n",
    "# 定义环境\n",
    "class MyWrapper(gym.Wrapper):\n",
    "  \n",
    "  def __init__(self):\n",
    "    env = gym.make('Pendulum-v1', render_mode='rgb_array')\n",
    "    super().__init__(env)\n",
    "    self.env = env\n",
    "    self.step_n = 0\n",
    "    \n",
    "  def reset(self):\n",
    "    state, _ = self.env.reset()\n",
    "    self.step_n = 0\n",
    "    return state\n",
    "  \n",
    "  def step(self, action):\n",
    "    state, reward, terminated, truncated, info = self.env.step([action * 2])\n",
    "    over = terminated or truncated\n",
    "\n",
    "    # 偏移reward便于训练\n",
    "    reward = (reward + 8) / 8\n",
    "    \n",
    "    #限制最大步数\n",
    "    self.step_n += 1\n",
    "    if self.step_n >= 200:\n",
    "      over = True\n",
    "\n",
    "    return state, reward, over\n",
    "  \n",
    "  # 打印游戏图像\n",
    "  def show(self):\n",
    "    from matplotlib import pyplot as plt\n",
    "    plt.figure(figsize=(3, 3))\n",
    "    plt.imshow(self.env.render())\n",
    "    plt.show()\n",
    "    \n",
    "env = MyWrapper()\n",
    "\n",
    "env.reset()\n",
    "\n",
    "env.show()"
   ]
  },
  {
   "cell_type": "code",
   "execution_count": 2,
   "metadata": {},
   "outputs": [
    {
     "data": {
      "text/plain": [
       "tensor([[0.1187],\n",
       "        [0.1347]], grad_fn=<TanhBackward0>)"
      ]
     },
     "execution_count": 2,
     "metadata": {},
     "output_type": "execute_result"
    }
   ],
   "source": [
    "import torch\n",
    "\t\n",
    "# 演员模型：计算动作概率\n",
    "class Model(torch.nn.Module):\n",
    "  \n",
    "  def __init__(self):\n",
    "    super().__init__()\n",
    "    self.s = torch.nn.Sequential(\n",
    "      torch.nn.Linear(3, 64),\n",
    "      torch.nn.ReLU(),\n",
    "      torch.nn.Linear(64, 64),\n",
    "      torch.nn.ReLU(),\n",
    "      torch.nn.Linear(64, 1),\n",
    "      torch.nn.Tanh(),\n",
    "    )\n",
    "    \n",
    "  def forward(self, state):\n",
    "    return  self.s(state)\n",
    "\n",
    "model_action = Model()\n",
    "model_action_delay = Model()\n",
    "model_action_delay.load_state_dict(model_action.state_dict())\n",
    "\n",
    "model_action(torch.randn(2, 3))"
   ]
  },
  {
   "cell_type": "code",
   "execution_count": 3,
   "metadata": {},
   "outputs": [
    {
     "data": {
      "text/plain": [
       "(tensor([[0.1375],\n",
       "         [0.1209]], grad_fn=<AddmmBackward0>),\n",
       " tensor([[-0.0401],\n",
       "         [ 0.0662]], grad_fn=<AddmmBackward0>))"
      ]
     },
     "execution_count": 3,
     "metadata": {},
     "output_type": "execute_result"
    }
   ],
   "source": [
    "model_value1 = torch.nn.Sequential(\n",
    "\ttorch.nn.Linear(4, 64),\n",
    "\ttorch.nn.ReLU(),\n",
    "\ttorch.nn.Linear(64, 64),\n",
    "\ttorch.nn.ReLU(),\n",
    "\ttorch.nn.Linear(64, 1),\n",
    ")\n",
    "\n",
    "model_value1_delay = torch.nn.Sequential(\n",
    "\ttorch.nn.Linear(4, 64),\n",
    "\ttorch.nn.ReLU(),\n",
    "\ttorch.nn.Linear(64, 64),\n",
    "\ttorch.nn.ReLU(),\n",
    "\ttorch.nn.Linear(64, 1),\n",
    ")\n",
    "\n",
    "\n",
    "model_value1_delay.load_state_dict(model_value1.state_dict())\n",
    "\n",
    "model_value2 = torch.nn.Sequential(\n",
    "\ttorch.nn.Linear(4, 64),\n",
    "\ttorch.nn.ReLU(),\n",
    "\ttorch.nn.Linear(64, 64),\n",
    "\ttorch.nn.ReLU(),\n",
    "\ttorch.nn.Linear(64, 1),\n",
    ")\n",
    "\n",
    "model_value2_delay = torch.nn.Sequential(\n",
    "\ttorch.nn.Linear(4, 64),\n",
    "\ttorch.nn.ReLU(),\n",
    "\ttorch.nn.Linear(64, 64),\n",
    "\ttorch.nn.ReLU(),\n",
    "\ttorch.nn.Linear(64, 1),\n",
    ")\n",
    "\n",
    "\n",
    "model_value2_delay.load_state_dict(model_value2.state_dict())\n",
    "\n",
    "model_value1(torch.randn(2, 4)), model_value2(torch.randn(2, 4))"
   ]
  },
  {
   "cell_type": "code",
   "execution_count": 4,
   "metadata": {},
   "outputs": [
    {
     "data": {
      "text/plain": [
       "-10.353331249425546"
      ]
     },
     "execution_count": 4,
     "metadata": {},
     "output_type": "execute_result"
    }
   ],
   "source": [
    "from IPython import display\n",
    "import random\n",
    "\n",
    "\n",
    "#玩一局游戏并记录数据\n",
    "def play(show=False):\n",
    "  data = []\n",
    "  reward_sum = 0\n",
    "\n",
    "  state = env.reset()\n",
    "  over = False\n",
    "  while not over:\n",
    "    # 根据环境采样\n",
    "    action = model_action(torch.FloatTensor(state).reshape(1, 3)).item()\n",
    "\n",
    "    # 给动作添加噪声，增加探索\n",
    "    action += random.normalvariate(mu=0, sigma=0.2)\n",
    "    \n",
    "    next_state, reward, over = env.step(action)\n",
    "\n",
    "    data.append((state, action, reward, next_state, over))\n",
    "    reward_sum += reward\n",
    "    \n",
    "    state = next_state\n",
    "\n",
    "    if show:\n",
    "      display.clear_output(wait=True)\n",
    "      env.show()\n",
    "\n",
    "  return data, reward_sum\n",
    "\n",
    "play()[-1]"
   ]
  },
  {
   "cell_type": "code",
   "execution_count": 5,
   "metadata": {},
   "outputs": [
    {
     "name": "stderr",
     "output_type": "stream",
     "text": [
      "C:\\Users\\fanyu\\AppData\\Local\\Temp\\ipykernel_1872\\2499438979.py:25: UserWarning: Creating a tensor from a list of numpy.ndarrays is extremely slow. Please consider converting the list to a single numpy.ndarray with numpy.array() before converting to a tensor. (Triggered internally at  C:\\actions-runner\\_work\\pytorch\\pytorch\\builder\\windows\\pytorch\\torch\\csrc\\utils\\tensor_new.cpp:204.)\n",
      "  state = torch.FloatTensor([i[0] for i in data]).reshape(-1, 3)\n"
     ]
    },
    {
     "data": {
      "text/plain": [
       "(torch.Size([64, 3]),\n",
       " 200,\n",
       " (array([-0.3383915 , -0.9410054 ,  0.82540524], dtype=float32),\n",
       "  0.3068658066304367,\n",
       "  0.5325531355693616,\n",
       "  array([-0.32841167, -0.94453466,  0.21171091], dtype=float32),\n",
       "  False))"
      ]
     },
     "execution_count": 5,
     "metadata": {},
     "output_type": "execute_result"
    }
   ],
   "source": [
    "class Pool:\n",
    "  \n",
    "  def __init__(self):\n",
    "    self.pool = []\n",
    "    \n",
    "  def __len__(self):\n",
    "    return len(self.pool)\n",
    "  \n",
    "  def __getitem__(self, i):\n",
    "    return self.pool[i]\n",
    "  \n",
    "  # 更新动作\n",
    "  def update(self):\n",
    "    # 每次更新至少N条数据\n",
    "    old_len = len(self.pool)\n",
    "    while len(pool) - old_len < 200:\n",
    "      self.pool.extend(play()[0])\n",
    "      \n",
    "    # 保留最新N条数据\n",
    "    self.pool = self.pool[-2_0000:]\n",
    "    \n",
    "  def sample(self):\n",
    "    data = random.sample(self.pool, 64)\n",
    "    \n",
    "    state = torch.FloatTensor([i[0] for i in data]).reshape(-1, 3)\n",
    "    action = torch.FloatTensor([i[1] for i in data]).reshape(-1, 1)\n",
    "    reward = torch.FloatTensor([i[2] for i in data]).reshape(-1, 1)\n",
    "    next_state = torch.FloatTensor([i[3] for i in data]).reshape(-1, 3)\n",
    "    over = torch.LongTensor([i[4] for i in data]).reshape(-1, 1)\n",
    "    \n",
    "    return state, action, reward, next_state, over\n",
    "  \n",
    "pool = Pool()\n",
    "pool.update()\n",
    "state, action, reward, next_state, over = pool.sample()\n",
    "next_state.shape, len(pool), pool[0]"
   ]
  },
  {
   "cell_type": "code",
   "execution_count": 6,
   "metadata": {},
   "outputs": [],
   "source": [
    "optimizer_action = torch.optim.Adam(model_action.parameters(), lr=5e-4)\n",
    "optimizer_value1 = torch.optim.Adam(model_value1.parameters(), lr=5e-3)\n",
    "optimizer_value2 = torch.optim.Adam(model_value2.parameters(), lr=5e-3)\n",
    "\n",
    "def soft_update(_from, _to):\n",
    "  for _from, _to in zip(_from.parameters(), _to.parameters()):\n",
    "    value = _to.data * 0.7 + _from.data * 0.3\n",
    "    _to.data.copy_(value)\n",
    "    \n",
    "def requires_grad(model, value):\n",
    "  for param in model.parameters():\n",
    "    param.requires_grad_(value)\n",
    "    \n",
    "requires_grad(model_action_delay, False)\n",
    "requires_grad(model_value1_delay, False)\n",
    "requires_grad(model_value2_delay, False)"
   ]
  },
  {
   "cell_type": "code",
   "execution_count": 7,
   "metadata": {},
   "outputs": [
    {
     "data": {
      "text/plain": [
       "0.03143426030874252"
      ]
     },
     "execution_count": 7,
     "metadata": {},
     "output_type": "execute_result"
    }
   ],
   "source": [
    "# 训练actor\n",
    "def train_action(state):\n",
    "  requires_grad(model_action, True)\n",
    "  requires_grad(model_value1, False)\n",
    "  requires_grad(model_value2, False)\n",
    "  \n",
    "  # 首先把动作计算出来\n",
    "  action = model_action(state)\n",
    "  \n",
    "  # 使用value网络评估动作的价值,价值是越高越好\n",
    "  input = torch.cat([state, action], dim=1)\n",
    "  value1 = model_value1(input)\n",
    "  value2 = model_value2(input)\n",
    "  loss = -torch.min(value1, value2).mean()\n",
    "  \n",
    "  loss.backward()\n",
    "  optimizer_action.step()\n",
    "  optimizer_action.zero_grad()\n",
    "  \n",
    "  return loss.item()\n",
    "\n",
    "train_action(state)"
   ]
  },
  {
   "cell_type": "code",
   "execution_count": 9,
   "metadata": {},
   "outputs": [
    {
     "data": {
      "text/plain": [
       "(0.085939422249794, 0.04970201104879379)"
      ]
     },
     "execution_count": 9,
     "metadata": {},
     "output_type": "execute_result"
    }
   ],
   "source": [
    "# critic 模型训练\n",
    "def train_value(state, action, reward, next_state, over):\n",
    "  requires_grad(model_value1, True)\n",
    "  requires_grad(model_value2, True)\n",
    "  requires_grad(model_action, False)\n",
    "  \n",
    "  # 计算value\n",
    "  input = torch.cat([state, action], dim=1)\n",
    "  value1 = model_value1(input)\n",
    "  value2 = model_value2(input)\n",
    "  \n",
    "  # 计算targets\n",
    "  next_action = model_action_delay(next_state)\n",
    "  input = torch.cat([next_state, next_action], dim=1)\n",
    "  with torch.no_grad():\n",
    "    target1 = model_value1_delay(input)\n",
    "    target2 = model_value2_delay(input)\n",
    "    \n",
    "  target = torch.min(target1, target2)\n",
    "  target = target * 0.99 * (1 - over) + reward\n",
    "  \n",
    "  # 计算td loss, 更新参数\n",
    "  loss1 = torch.nn.functional.mse_loss(value1, target)\n",
    "  loss2 = torch.nn.functional.mse_loss(value2, target)\n",
    "  \n",
    "  loss1.backward()\n",
    "  optimizer_value1.step()\n",
    "  optimizer_value1.zero_grad()\n",
    "  \n",
    "  loss2.backward()\n",
    "  optimizer_value2.step()\n",
    "  optimizer_value2.zero_grad()\n",
    "  \n",
    "  return loss1.item(), loss2.item()\n",
    "\n",
    "train_value(state, action, reward, next_state, over)"
   ]
  },
  {
   "cell_type": "code",
   "execution_count": 10,
   "metadata": {},
   "outputs": [
    {
     "name": "stdout",
     "output_type": "stream",
     "text": [
      "0 400 26.381450460761886\n",
      "20 4400 54.02173398141434\n",
      "40 8400 178.48170174273258\n",
      "60 12400 161.30276167465732\n",
      "80 16400 177.96170802288867\n",
      "100 20000 181.91651783690364\n",
      "120 20000 184.02769105736746\n",
      "140 20000 177.53535868484326\n",
      "160 20000 170.1979507315417\n",
      "180 20000 180.07379120401524\n"
     ]
    }
   ],
   "source": [
    "#训练\n",
    "def train():\n",
    "  model_action.train()\n",
    "  model_value1.train()\n",
    "  model_value2.train()\n",
    "\n",
    "\t# 共更新N轮数据\n",
    "  for epoch in range(200):\n",
    "    # 更新N条数据\n",
    "    pool.update()\n",
    "    \n",
    "    # 每次更新过数据后,学习N次\n",
    "    for i in range(200):\n",
    "      # 采样一批\n",
    "      state, action, reward, next_state, over = pool.sample()\n",
    "\n",
    "      # 训练\n",
    "      train_action(state)\n",
    "      train_value(state, action, reward, next_state, over)\n",
    "\n",
    "    soft_update(model_action, model_action_delay)\n",
    "    soft_update(model_value1, model_value1_delay)\n",
    "    soft_update(model_value2, model_value2_delay)\n",
    "\n",
    "    if epoch % 20 == 0:\n",
    "      test_result = sum([play()[-1] for _ in range(20)]) / 20\n",
    "      print(epoch, len(pool), test_result)\n",
    "\n",
    "train()"
   ]
  },
  {
   "cell_type": "code",
   "execution_count": 13,
   "metadata": {},
   "outputs": [
    {
     "data": {
      "image/png": "[encoded data removed]",
      "text/plain": [
       "<Figure size 300x300 with 1 Axes>"
      ]
     },
     "metadata": {},
     "output_type": "display_data"
    },
    {
     "data": {
      "text/plain": [
       "198.48259084339077"
      ]
     },
     "execution_count": 13,
     "metadata": {},
     "output_type": "execute_result"
    }
   ],
   "source": [
    "play(True)[-1]"
   ]
  },
  {
   "cell_type": "code",
   "execution_count": null,
   "metadata": {},
   "outputs": [],
   "source": []
  }
 ],
 "metadata": {
  "kernelspec": {
   "display_name": "RL_learning2",
   "language": "python",
   "name": "python3"
  },
  "language_info": {
   "codemirror_mode": {
    "name": "ipython",
    "version": 3
   },
   "file_extension": ".py",
   "mimetype": "text/x-python",
   "name": "python",
   "nbconvert_exporter": "python",
   "pygments_lexer": "ipython3",
   "version": "3.9.21"
  }
 },
 "nbformat": 4,
 "nbformat_minor": 2
}
