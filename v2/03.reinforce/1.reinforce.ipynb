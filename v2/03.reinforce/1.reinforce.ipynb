{
 "cells": [
  {
   "cell_type": "markdown",
   "metadata": {},
   "source": [
    "## REINFORCE: REINFORCE algorithm\n",
    "\n",
    "target funct:\n",
    "$$\n",
    "J(θ) = \\mathbb{E}_{S_0}[V^{π_θ}(S_0)]\n",
    "$$\n",
    "\n",
    "derivative of the above:\n",
    "$$\n",
    "\\begin{aligned}\n",
    "∇_θJ(θ) &∝ \\sum_{s \\in S} v^{π_θ}(s) \\sum_{a \\in A} Q^{π_θ}(s, a)∇_θπ_θ(a | s) \\\\ \n",
    "  &= \\sum_{s \\in S} v^{π_θ}(s) \\sum_{a \\in A}π_θ(a | s) Q^{π_θ}(s, a)\\frac{∇_θπ_θ(a | s)}{π_θ(a | s)} \\\\ \n",
    "  &= \\mathbb{E}_{π_θ}[ Q^{π_θ}(s, a)∇_θ \\logπ_θ(a | s)]\n",
    "\\end{aligned}\n",
    "$$\n",
    "\n",
    "MC sampling:\n",
    "$$\n",
    "J(θ) = \\mathbb{E}_{π_0}[\\sum_{t=0}^T(\\sum_{t'=t}^Tγ^{t'-t}r_{t'})∇_θ \\logπ_θ(a_t | s_t)]\n",
    "$$"
   ]
  },
  {
   "cell_type": "code",
   "execution_count": 1,
   "metadata": {},
   "outputs": [
    {
     "data": {
      "image/png": "[encoded data removed]",
      "text/plain": [
       "<Figure size 300x300 with 1 Axes>"
      ]
     },
     "metadata": {},
     "output_type": "display_data"
    }
   ],
   "source": [
    "import gym\n",
    "\n",
    "# 定义环境\n",
    "class MyWrapper(gym.Wrapper):\n",
    "  \n",
    "  def __init__(self):\n",
    "    env = gym.make('CartPole-v1', render_mode='rgb_array')\n",
    "    super().__init__(env)\n",
    "    self.env = env\n",
    "    self.step_n = 0\n",
    "    \n",
    "  def reset(self):\n",
    "    state, _ = self.env.reset()\n",
    "    self.step_n = 0\n",
    "    return state\n",
    "  \n",
    "  def step(self, action):\n",
    "    state, reward, terminated, truncated, info = self.env.step(action)\n",
    "    over = terminated or truncated\n",
    "\n",
    "    #限制最大步数\n",
    "    self.step_n += 1\n",
    "    if self.step_n >= 200:\n",
    "        over = True\n",
    "    \n",
    "    #没坚持到最后,扣分\n",
    "    if over and self.step_n < 200:\n",
    "        reward = -1000\n",
    "\n",
    "    return state, reward, over\n",
    "  \n",
    "  # 打印游戏图像\n",
    "  def show(self):\n",
    "    from matplotlib import pyplot as plt\n",
    "    plt.figure(figsize=(3, 3))\n",
    "    plt.imshow(self.env.render())\n",
    "    plt.show()\n",
    "    \n",
    "env = MyWrapper()\n",
    "\n",
    "env.reset()\n",
    "\n",
    "env.show()"
   ]
  },
  {
   "cell_type": "code",
   "execution_count": 2,
   "metadata": {},
   "outputs": [
    {
     "data": {
      "text/plain": [
       "Sequential(\n",
       "  (0): Linear(in_features=4, out_features=64, bias=True)\n",
       "  (1): ReLU()\n",
       "  (2): Linear(in_features=64, out_features=64, bias=True)\n",
       "  (3): ReLU()\n",
       "  (4): Linear(in_features=64, out_features=2, bias=True)\n",
       "  (5): Softmax(dim=1)\n",
       ")"
      ]
     },
     "execution_count": 2,
     "metadata": {},
     "output_type": "execute_result"
    }
   ],
   "source": [
    "import torch\n",
    "\t\n",
    "#定义模型,评估状态下每个动作的价值\n",
    "model = torch.nn.Sequential(\n",
    "\ttorch.nn.Linear(4, 64),\n",
    "\ttorch.nn.ReLU(),\n",
    "\ttorch.nn.Linear(64, 64),\n",
    "\ttorch.nn.ReLU(),\n",
    "\ttorch.nn.Linear(64, 2),\n",
    "\ttorch.nn.Softmax(dim=1),\n",
    ")\n",
    "\n",
    "model"
   ]
  },
  {
   "cell_type": "code",
   "execution_count": 3,
   "metadata": {},
   "outputs": [
    {
     "name": "stderr",
     "output_type": "stream",
     "text": [
      "C:\\Users\\fanyu\\AppData\\Local\\Temp\\ipykernel_39492\\2909018427.py:30: UserWarning: Creating a tensor from a list of numpy.ndarrays is extremely slow. Please consider converting the list to a single numpy.ndarray with numpy.array() before converting to a tensor. (Triggered internally at  C:\\actions-runner\\_work\\pytorch\\pytorch\\builder\\windows\\pytorch\\torch\\csrc\\utils\\tensor_new.cpp:204.)\n",
      "  state = torch.FloatTensor(state).reshape(-1, 4)\n"
     ]
    },
    {
     "data": {
      "text/plain": [
       "-976.0"
      ]
     },
     "execution_count": 3,
     "metadata": {},
     "output_type": "execute_result"
    }
   ],
   "source": [
    "from IPython import display\n",
    "import random\n",
    "\n",
    "\n",
    "#玩一局游戏并记录数据\n",
    "def play(show=False):\n",
    "\tstate = []\n",
    "\taction = []\n",
    "\treward = []\n",
    "\n",
    "\ts = env.reset()\n",
    "\to = False\n",
    "\twhile not o:\n",
    "\t\t# 根据环境采样\n",
    "\t\tprob = model(torch.FloatTensor(s).reshape(1, 4))[0].tolist()\n",
    "\t\ta = random.choices(range(2), weights=prob, k=1)[0]\n",
    "\t\t\n",
    "\t\tns, r, o = env.step(a)\n",
    "\n",
    "\t\tstate.append(s)\n",
    "\t\taction.append(a)\n",
    "\t\treward.append(r)\n",
    "  \n",
    "\t\ts = ns\n",
    "\n",
    "\t\tif show:\n",
    "\t\t\tdisplay.clear_output(wait=True)\n",
    "\t\t\tenv.show()\n",
    "  \n",
    "\tstate = torch.FloatTensor(state).reshape(-1, 4)\n",
    "\taction = torch.LongTensor(action).reshape(-1, 1)\n",
    "\treward = torch.FloatTensor(reward).reshape(-1, 1)\n",
    "\n",
    "\treturn state, action, reward, reward.sum().item()\n",
    "\n",
    "state, action, reward, reward_sum = play()\n",
    "\n",
    "reward_sum"
   ]
  },
  {
   "cell_type": "code",
   "execution_count": 4,
   "metadata": {},
   "outputs": [
    {
     "name": "stdout",
     "output_type": "stream",
     "text": [
      "0 -627.2378540039062 -983.25\n",
      "100 11.657674789428711 -333.7\n",
      "200 12.974897384643555 92.4\n",
      "300 13.778868675231934 200.0\n",
      "400 12.777483940124512 200.0\n",
      "500 13.124218940734863 200.0\n",
      "600 12.778105735778809 200.0\n",
      "700 11.676695823669434 200.0\n",
      "800 14.949150085449219 200.0\n",
      "900 12.241456031799316 200.0\n"
     ]
    }
   ],
   "source": [
    "#训练\n",
    "def train():\n",
    "\tmodel.train()\n",
    "\t# model_delay.eval()  # code changed here\n",
    "\toptimizer = torch.optim.Adam(model.parameters(), lr=5e-3)\n",
    "\t# loss_fn = torch.nn.MSELoss()\n",
    "\n",
    "\t#共更新N轮数据\n",
    "\tfor epoch in range(1000):\n",
    "\t\t# y一个epoch玩N步\n",
    "\t\tsteps = 0\n",
    "\t\twhile steps < 200:\n",
    "\t\t\t# 玩一局，得到数据\n",
    "\t\t\tstate, action, reward, _ = play()\n",
    "\t\t\tsteps += len(state)\n",
    "\n",
    "\t\t\t#计算当前state的价值，即Q(state, action), 用MC估计\n",
    "\t\t\tvalue = []\n",
    "\t\t\tfor i in range(len(reward)):\n",
    "\t\t\t\ts = 0\n",
    "\t\t\t\tfor j in range(i, len(reward)):\n",
    "\t\t\t\t\ts += reward[j] * 0.99**(j - i)\n",
    "\t\t\t\tvalue.append(s)\n",
    "\t\t\tvalue = torch.FloatTensor(value).reshape(-1, 1)\n",
    "\n",
    "\t\t\t# 重新计算动作的概率\n",
    "\t\t\tprob = model(state).gather(dim=1, index=action)\n",
    "  \n",
    "\t\t\t# 求Q最大的导函数 -> partial value / partial action\n",
    "\t\t\tprob = (prob + 1e-8).log() * value\n",
    "\t\t\tfor i in range(len(prob)):\n",
    "\t\t\t\tprob[i] = prob[i] * 0.99 ** i\n",
    "\t\t\tloss = -prob.mean()\n",
    "\n",
    "\t\t\tloss.backward()\n",
    "\t\t\toptimizer.step()\n",
    "\t\t\toptimizer.zero_grad()\n",
    "\n",
    "\n",
    "\t\tif epoch % 100 == 0:\n",
    "\t\t\ttest_result = sum([play()[-1] for _ in range(20)]) / 20\n",
    "\t\t\tprint(epoch, loss.item(), test_result)\n",
    "\n",
    "train()"
   ]
  },
  {
   "cell_type": "code",
   "execution_count": 5,
   "metadata": {},
   "outputs": [
    {
     "data": {
      "image/png": "[encoded data removed]",
      "text/plain": [
       "<Figure size 300x300 with 1 Axes>"
      ]
     },
     "metadata": {},
     "output_type": "display_data"
    },
    {
     "data": {
      "text/plain": [
       "200.0"
      ]
     },
     "execution_count": 5,
     "metadata": {},
     "output_type": "execute_result"
    }
   ],
   "source": [
    "play(True)[-1]"
   ]
  }
 ],
 "metadata": {
  "kernelspec": {
   "display_name": "RL_learning2",
   "language": "python",
   "name": "python3"
  },
  "language_info": {
   "codemirror_mode": {
    "name": "ipython",
    "version": 3
   },
   "file_extension": ".py",
   "mimetype": "text/x-python",
   "name": "python",
   "nbconvert_exporter": "python",
   "pygments_lexer": "ipython3",
   "version": "3.9.21"
  }
 },
 "nbformat": 4,
 "nbformat_minor": 2
}
