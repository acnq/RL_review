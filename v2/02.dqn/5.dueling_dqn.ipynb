{
 "cells": [
  {
   "cell_type": "markdown",
   "metadata": {},
   "source": [
    "## Deep Q-Network: Dueling DQN\n",
    "\n",
    "$Q(s, a) = s\\text{下最优的}a\\text{分数} + \\text{误差}$\n",
    "\n",
    "去基线：\n",
    "$Q(s, a) = s\\text{下最优的}a\\text{分数} + \\text{误差} - mean(\\text{误差})$ i.e.\n",
    "\n",
    "$Q(s, a) = s\\text{分数} + a\\text{分数} - mean(\\text{误差})$"
   ]
  },
  {
   "cell_type": "code",
   "execution_count": 1,
   "metadata": {},
   "outputs": [
    {
     "data": {
      "image/png": "[encoded data removed]",
      "text/plain": [
       "<Figure size 300x300 with 1 Axes>"
      ]
     },
     "metadata": {},
     "output_type": "display_data"
    }
   ],
   "source": [
    "import gym\n",
    "\n",
    "# 定义环境\n",
    "class MyWrapper(gym.Wrapper):\n",
    "  \n",
    "  def __init__(self):\n",
    "    env = gym.make('CartPole-v1', render_mode='rgb_array')\n",
    "    super().__init__(env)\n",
    "    self.env = env\n",
    "    self.step_n = 0\n",
    "    \n",
    "  def reset(self):\n",
    "    state, _ = self.env.reset()\n",
    "    self.step_n = 0\n",
    "    return state\n",
    "  \n",
    "  def step(self, action):\n",
    "    state, reward, terminated, truncated, info = self.env.step(action)\n",
    "    over = terminated or truncated\n",
    "\n",
    "    #限制最大步数\n",
    "    self.step_n += 1\n",
    "    if self.step_n >= 200:\n",
    "        over = True\n",
    "    \n",
    "    #没坚持到最后,扣分\n",
    "    if over and self.step_n < 200:\n",
    "        reward = -1000\n",
    "\n",
    "    return state, reward, over\n",
    "  \n",
    "  # 打印游戏图像\n",
    "  def show(self):\n",
    "    from matplotlib import pyplot as plt\n",
    "    plt.figure(figsize=(3, 3))\n",
    "    plt.imshow(self.env.render())\n",
    "    plt.show()\n",
    "    \n",
    "env = MyWrapper()\n",
    "\n",
    "env.reset()\n",
    "\n",
    "env.show()"
   ]
  },
  {
   "cell_type": "code",
   "execution_count": 2,
   "metadata": {},
   "outputs": [
    {
     "data": {
      "text/plain": [
       "torch.Size([64, 2])"
      ]
     },
     "execution_count": 2,
     "metadata": {},
     "output_type": "execute_result"
    }
   ],
   "source": [
    "import torch\n",
    "\t\n",
    "\"code changed this cell\"\n",
    "#定义模型,评估状态下每个动作的价值\n",
    "class Model(torch.nn.Module):\n",
    "  def __init__(self):\n",
    "    super().__init__()\n",
    "    \n",
    "    self.fc = torch.nn.Sequential(\n",
    "\t\t\ttorch.nn.Linear(4, 64),\n",
    "\t\t\ttorch.nn.ReLU(),\n",
    "\t\t\ttorch.nn.Linear(64, 64),\n",
    "\t\t\ttorch.nn.ReLU(),\n",
    "\t\t)\n",
    "    \n",
    "    self.fc_action = torch.nn.Linear(64, 2)\n",
    "    self.fc_state = torch.nn.Linear(64, 1)\n",
    "    \n",
    "  def forward(self, state):\n",
    "    state = self.fc(state)\n",
    "    \n",
    "    # 评估state的价值\n",
    "    value_state = self.fc_state(state)\n",
    "    \n",
    "    # 每个state下每个action的价值\n",
    "    value_action = self.fc_action(state)\n",
    "    \n",
    "    # 总和\n",
    "    return value_state + value_action - value_action.mean(dim=-1, keepdim=True)\n",
    "\n",
    "model = Model()\n",
    "model_delay = Model()\n",
    "\n",
    "#复制参数\n",
    "model_delay.load_state_dict(model.state_dict())\n",
    "\n",
    "model(torch.randn(64, 4)).shape\n"
   ]
  },
  {
   "cell_type": "code",
   "execution_count": 3,
   "metadata": {},
   "outputs": [
    {
     "data": {
      "text/plain": [
       "-986.0"
      ]
     },
     "execution_count": 3,
     "metadata": {},
     "output_type": "execute_result"
    }
   ],
   "source": [
    "from IPython import display\n",
    "import random\n",
    "\n",
    "\n",
    "#玩一局游戏并记录数据\n",
    "def play(show=False):\n",
    "  data = []\n",
    "  reward_sum = 0\n",
    "\n",
    "  state = env.reset()\n",
    "  over = False\n",
    "  while not over:\n",
    "    action = model(torch.FloatTensor(state).reshape(1, 4)).argmax().item()\n",
    "    if random.random() < 0.1:\n",
    "      action = env.action_space.sample()\n",
    "\n",
    "    next_state, reward, over = env.step(action)\n",
    "\n",
    "    data.append((state, action, reward, next_state, over))\n",
    "    reward_sum += reward\n",
    "\n",
    "    state = next_state\n",
    "\n",
    "    if show:\n",
    "      display.clear_output(wait=True)\n",
    "      env.show()\n",
    "\n",
    "  return data, reward_sum\n",
    "\n",
    "\n",
    "play()[-1]"
   ]
  },
  {
   "cell_type": "code",
   "execution_count": 4,
   "metadata": {},
   "outputs": [
    {
     "name": "stderr",
     "output_type": "stream",
     "text": [
      "C:\\Users\\fanyu\\AppData\\Local\\Temp\\ipykernel_43920\\732246400.py:27: UserWarning: Creating a tensor from a list of numpy.ndarrays is extremely slow. Please consider converting the list to a single numpy.ndarray with numpy.array() before converting to a tensor. (Triggered internally at  C:\\actions-runner\\_work\\pytorch\\pytorch\\builder\\windows\\pytorch\\torch\\csrc\\utils\\tensor_new.cpp:204.)\n",
      "  state = torch.FloatTensor([i[0] for i in data]).reshape(-1, 4)\n"
     ]
    },
    {
     "data": {
      "text/plain": [
       "(202,\n",
       " (array([-0.04110961,  0.038087  ,  0.00961973, -0.04896734], dtype=float32),\n",
       "  1,\n",
       "  1.0,\n",
       "  array([-0.04034787,  0.23306969,  0.00864039, -0.3385997 ], dtype=float32),\n",
       "  False))"
      ]
     },
     "execution_count": 4,
     "metadata": {},
     "output_type": "execute_result"
    }
   ],
   "source": [
    "#数据池\n",
    "class Pool:\n",
    "\n",
    "  def __init__(self):\n",
    "    self.pool = []\n",
    "\n",
    "  def __len__(self):\n",
    "    return len(self.pool)\n",
    "\n",
    "  def __getitem__(self, i):\n",
    "    return self.pool[i]\n",
    "\n",
    "  #更新动作池\n",
    "  def update(self):\n",
    "    #每次更新不少于N条新数据\n",
    "    old_len = len(self.pool)\n",
    "    while len(pool) - old_len < 200:\n",
    "        self.pool.extend(play()[0])\n",
    "\n",
    "    #只保留最新的N条数据\n",
    "    self.pool = self.pool[-2_0000:]\n",
    "\n",
    "  #获取一批数据样本\n",
    "  def sample(self):\n",
    "    data = random.sample(self.pool, 64)\n",
    "\n",
    "    state = torch.FloatTensor([i[0] for i in data]).reshape(-1, 4)\n",
    "    action = torch.LongTensor([i[1] for i in data]).reshape(-1, 1)\n",
    "    reward = torch.FloatTensor([i[2] for i in data]).reshape(-1, 1)\n",
    "    next_state = torch.FloatTensor([i[3] for i in data]).reshape(-1, 4)\n",
    "    over = torch.LongTensor([i[4] for i in data]).reshape(-1, 1)\n",
    "\n",
    "    return state, action, reward, next_state, over\n",
    "\n",
    "\n",
    "pool = Pool()\n",
    "pool.update()\n",
    "pool.sample()\n",
    "\n",
    "len(pool), pool[0]"
   ]
  },
  {
   "cell_type": "code",
   "execution_count": 5,
   "metadata": {},
   "outputs": [
    {
     "name": "stdout",
     "output_type": "stream",
     "text": [
      "0 410 -991.45\n",
      "100 20000 -114.15\n",
      "200 20000 200.0\n",
      "300 20000 200.0\n",
      "400 20000 200.0\n",
      "500 20000 200.0\n",
      "600 20000 200.0\n",
      "700 20000 200.0\n",
      "800 20000 200.0\n",
      "900 20000 200.0\n"
     ]
    }
   ],
   "source": [
    "#训练\n",
    "def train():\n",
    "  model.train()\n",
    "  optimizer = torch.optim.Adam(model.parameters(), lr=2e-4)\n",
    "  loss_fn = torch.nn.MSELoss()\n",
    "\n",
    "  #共更新N轮数据\n",
    "  for epoch in range(1000):\n",
    "    pool.update()\n",
    "\n",
    "    #每次更新数据后,训练N次\n",
    "    for i in range(200):\n",
    "\n",
    "      #采样N条数据\n",
    "      state, action, reward, next_state, over = pool.sample()\n",
    "\n",
    "      #计算value\n",
    "      value = model(state).gather(dim=1, index=action)\n",
    "\n",
    "      #计算target\n",
    "      with torch.no_grad():\n",
    "          target = model_delay(next_state)\n",
    "      target = target.max(dim=1)[0].reshape(-1, 1)\n",
    "      target = target * 0.99 * (1 - over) + reward\n",
    "\n",
    "      loss = loss_fn(value, target)\n",
    "      loss.backward()\n",
    "      optimizer.step()\n",
    "      optimizer.zero_grad()\n",
    "\n",
    "    #复制参数\n",
    "    if (epoch + 1) % 5 == 0:\n",
    "      model_delay.load_state_dict(model.state_dict())\n",
    "\n",
    "    if epoch % 100 == 0:\n",
    "      test_result = sum([play()[-1] for _ in range(20)]) / 20\n",
    "      print(epoch, len(pool), test_result)\n",
    "\n",
    "\n",
    "train()"
   ]
  },
  {
   "cell_type": "code",
   "execution_count": 7,
   "metadata": {},
   "outputs": [
    {
     "data": {
      "image/png": "[encoded data removed]",
      "text/plain": [
       "<Figure size 300x300 with 1 Axes>"
      ]
     },
     "metadata": {},
     "output_type": "display_data"
    },
    {
     "data": {
      "text/plain": [
       "200.0"
      ]
     },
     "execution_count": 7,
     "metadata": {},
     "output_type": "execute_result"
    }
   ],
   "source": [
    "play(True)[-1]"
   ]
  }
 ],
 "metadata": {
  "kernelspec": {
   "display_name": "RL_learning2",
   "language": "python",
   "name": "python3"
  },
  "language_info": {
   "codemirror_mode": {
    "name": "ipython",
    "version": 3
   },
   "file_extension": ".py",
   "mimetype": "text/x-python",
   "name": "python",
   "nbconvert_exporter": "python",
   "pygments_lexer": "ipython3",
   "version": "3.9.21"
  }
 },
 "nbformat": 4,
 "nbformat_minor": 2
}
