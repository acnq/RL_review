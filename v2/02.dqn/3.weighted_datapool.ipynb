{
 "cells": [
  {
   "cell_type": "markdown",
   "metadata": {},
   "source": [
    "## Deep Q-Network: Weighted Data Pool\n",
    "\n",
    "高loss高权重，提高这些数据被采样采中的概率\n",
    "\n",
    "需要降低这些数字的lr缓解过拟合（这里用削减loss的方法实现）"
   ]
  },
  {
   "cell_type": "code",
   "execution_count": 1,
   "metadata": {},
   "outputs": [
    {
     "data": {
      "image/png": "[encoded data removed]",
      "text/plain": [
       "<Figure size 300x300 with 1 Axes>"
      ]
     },
     "metadata": {},
     "output_type": "display_data"
    }
   ],
   "source": [
    "import gym\n",
    "\n",
    "# 定义环境\n",
    "class MyWrapper(gym.Wrapper):\n",
    "  \n",
    "  def __init__(self):\n",
    "    env = gym.make('CartPole-v1', render_mode='rgb_array')\n",
    "    super().__init__(env)\n",
    "    self.env = env\n",
    "    self.step_n = 0\n",
    "    \n",
    "  def reset(self):\n",
    "    state, _ = self.env.reset()\n",
    "    self.step_n = 0\n",
    "    return state\n",
    "  \n",
    "  def step(self, action):\n",
    "    state, reward, terminated, truncated, info = self.env.step(action)\n",
    "    over = terminated or truncated\n",
    "\n",
    "    #限制最大步数\n",
    "    self.step_n += 1\n",
    "    if self.step_n >= 200:\n",
    "        over = True\n",
    "    \n",
    "    #没坚持到最后,扣分\n",
    "    if over and self.step_n < 200:\n",
    "        reward = -1000\n",
    "\n",
    "    return state, reward, over\n",
    "  \n",
    "  # 打印游戏图像\n",
    "  def show(self):\n",
    "    from matplotlib import pyplot as plt\n",
    "    plt.figure(figsize=(3, 3))\n",
    "    plt.imshow(self.env.render())\n",
    "    plt.show()\n",
    "    \n",
    "env = MyWrapper()\n",
    "\n",
    "env.reset()\n",
    "\n",
    "env.show()"
   ]
  },
  {
   "cell_type": "code",
   "execution_count": 2,
   "metadata": {},
   "outputs": [
    {
     "data": {
      "text/plain": [
       "(Sequential(\n",
       "   (0): Linear(in_features=4, out_features=64, bias=True)\n",
       "   (1): ReLU()\n",
       "   (2): Linear(in_features=64, out_features=64, bias=True)\n",
       "   (3): ReLU()\n",
       "   (4): Linear(in_features=64, out_features=2, bias=True)\n",
       " ),\n",
       " Sequential(\n",
       "   (0): Linear(in_features=4, out_features=64, bias=True)\n",
       "   (1): ReLU()\n",
       "   (2): Linear(in_features=64, out_features=64, bias=True)\n",
       "   (3): ReLU()\n",
       "   (4): Linear(in_features=64, out_features=2, bias=True)\n",
       " ))"
      ]
     },
     "execution_count": 2,
     "metadata": {},
     "output_type": "execute_result"
    }
   ],
   "source": [
    "import torch\n",
    "\n",
    "#定义模型,评估状态下每个动作的价值\n",
    "model = torch.nn.Sequential(\n",
    "    torch.nn.Linear(4, 64),\n",
    "    torch.nn.ReLU(),\n",
    "    torch.nn.Linear(64, 64),\n",
    "    torch.nn.ReLU(),\n",
    "    torch.nn.Linear(64, 2),\n",
    ")\n",
    "\n",
    "#延迟更新的模型,用于计算target\n",
    "model_delay = torch.nn.Sequential(\n",
    "    torch.nn.Linear(4, 64),\n",
    "    torch.nn.ReLU(),\n",
    "    torch.nn.Linear(64, 64),\n",
    "    torch.nn.ReLU(),\n",
    "    torch.nn.Linear(64, 2),\n",
    ")\n",
    "\n",
    "#复制参数\n",
    "model_delay.load_state_dict(model.state_dict())\n",
    "\n",
    "model, model_delay\n"
   ]
  },
  {
   "cell_type": "code",
   "execution_count": 3,
   "metadata": {},
   "outputs": [
    {
     "data": {
      "text/plain": [
       "-991.0"
      ]
     },
     "execution_count": 3,
     "metadata": {},
     "output_type": "execute_result"
    }
   ],
   "source": [
    "from IPython import display\n",
    "import random\n",
    "\n",
    "\n",
    "#玩一局游戏并记录数据\n",
    "def play(show=False):\n",
    "  data = []\n",
    "  reward_sum = 0\n",
    "\n",
    "  state = env.reset()\n",
    "  over = False\n",
    "  while not over:\n",
    "    action = model(torch.FloatTensor(state).reshape(1, 4)).argmax().item()\n",
    "    if random.random() < 0.1:\n",
    "      action = env.action_space.sample()\n",
    "\n",
    "    next_state, reward, over = env.step(action)\n",
    "\n",
    "    data.append((state, action, reward, next_state, over))\n",
    "    reward_sum += reward\n",
    "\n",
    "    state = next_state\n",
    "\n",
    "    if show:\n",
    "      display.clear_output(wait=True)\n",
    "      env.show()\n",
    "\n",
    "  return data, reward_sum\n",
    "\n",
    "\n",
    "play()[-1]"
   ]
  },
  {
   "cell_type": "code",
   "execution_count": 4,
   "metadata": {},
   "outputs": [
    {
     "name": "stderr",
     "output_type": "stream",
     "text": [
      "C:\\Users\\fanyu\\AppData\\Local\\Temp\\ipykernel_31864\\3122306411.py:37: UserWarning: Creating a tensor from a list of numpy.ndarrays is extremely slow. Please consider converting the list to a single numpy.ndarray with numpy.array() before converting to a tensor. (Triggered internally at  C:\\actions-runner\\_work\\pytorch\\pytorch\\builder\\windows\\pytorch\\torch\\csrc\\utils\\tensor_new.cpp:204.)\n",
      "  state = torch.FloatTensor([i[0] for i in data]).reshape(-1, 4)\n"
     ]
    },
    {
     "data": {
      "text/plain": [
       "(202,\n",
       " (array([-0.02975219, -0.02488638,  0.00738605,  0.02581706], dtype=float32),\n",
       "  0,\n",
       "  1.0,\n",
       "  array([-0.03024992, -0.22011347,  0.00790239,  0.3208212 ], dtype=float32),\n",
       "  False))"
      ]
     },
     "execution_count": 4,
     "metadata": {},
     "output_type": "execute_result"
    }
   ],
   "source": [
    "#数据池\n",
    "class Pool:\n",
    "\n",
    "  def __init__(self):\n",
    "    self.pool = []\n",
    "    self.prob = [] # code changed\n",
    "\n",
    "  def __len__(self):\n",
    "    return len(self.pool)\n",
    "\n",
    "  def __getitem__(self, i):\n",
    "    return self.pool[i]\n",
    "\n",
    "  #更新动作池\n",
    "  def update(self):\n",
    "    #每次更新不少于N条新数据\n",
    "    old_len = len(self.pool)\n",
    "    while len(pool) - old_len < 200:\n",
    "      \"code change begin\"\n",
    "      data = play()[0]\n",
    "      self.pool.extend(data)\n",
    "      # 维护概率表\n",
    "      self.prob.extend([1.0] * len(data))\n",
    "      \"code change end\"\n",
    "\n",
    "    #只保留最新的N条数据\n",
    "    self.pool = self.pool[-2_0000:]\n",
    "    self.prob = self.prob[-2_0000:] # code changed\n",
    "\n",
    "  #获取一批数据样本\n",
    "  def sample(self):\n",
    "    idx = torch.FloatTensor(self.prob).clamp(0.1, 1.0).multinomial(\n",
    "      num_samples=64, replacement=False\n",
    "    ) # code chaged\n",
    "    data = [self.pool[i] for i in idx]\n",
    "\n",
    "    state = torch.FloatTensor([i[0] for i in data]).reshape(-1, 4)\n",
    "    action = torch.LongTensor([i[1] for i in data]).reshape(-1, 1)\n",
    "    reward = torch.FloatTensor([i[2] for i in data]).reshape(-1, 1)\n",
    "    next_state = torch.FloatTensor([i[3] for i in data]).reshape(-1, 4)\n",
    "    over = torch.LongTensor([i[4] for i in data]).reshape(-1, 1)\n",
    "\n",
    "    return idx, state, action, reward, next_state, over\n",
    "\n",
    "\n",
    "pool = Pool()\n",
    "pool.update()\n",
    "pool.sample()\n",
    "\n",
    "len(pool), pool[0]"
   ]
  },
  {
   "cell_type": "code",
   "execution_count": 5,
   "metadata": {},
   "outputs": [
    {
     "name": "stderr",
     "output_type": "stream",
     "text": [
      "c:\\Users\\fanyu\\miniconda3\\envs\\RL_learning2\\lib\\site-packages\\torch\\nn\\_reduction.py:42: UserWarning: size_average and reduce args will be deprecated, please use reduction='mean' instead.\n",
      "  warnings.warn(warning.format(ret))\n"
     ]
    },
    {
     "name": "stdout",
     "output_type": "stream",
     "text": [
      "0 402 [1.0] -954.25\n",
      "100 20000 [1.0, 1.0, 1.0, 1.0] -106.85\n",
      "200 20000 [1.0, 1.0, 1.0, 0.9999998807907104] 99.55\n",
      "300 20000 [0.9700559377670288, 1.0, 0.9788766503334045, 1.0] 200.0\n",
      "400 20000 [0.63624507188797, 1.0, 0.6350902915000916, 0.6296626329421997] 200.0\n",
      "500 20000 [1.0, 1.0, 1.0, 1.0] 200.0\n",
      "600 20000 [1.0, 1.0, 1.0, 1.0] 200.0\n",
      "700 20000 [0.9999847412109375, 1.0, 0.9753013849258423, 1.0] 200.0\n",
      "800 20000 [0.6180229187011719, 1.0, 1.0, 1.0] 200.0\n",
      "900 20000 [0.9607473611831665, 0.9759421348571777, 0.9986811280250549, 1.0] 95.65\n"
     ]
    }
   ],
   "source": [
    "#训练\n",
    "def train():\n",
    "  model.train()\n",
    "  optimizer = torch.optim.Adam(model.parameters(), lr=2e-4)\n",
    "  loss_fn = torch.nn.MSELoss(reduce='none')\n",
    "\n",
    "  #共更新N轮数据\n",
    "  for epoch in range(1000):\n",
    "    pool.update()\n",
    "\n",
    "    #每次更新数据后,训练N次\n",
    "    for i in range(200):\n",
    "\n",
    "      #采样N条数据\n",
    "      idx, state, action, reward, next_state, over = pool.sample() # code changed\n",
    "\n",
    "      #计算value\n",
    "      value = model(state).gather(dim=1, index=action)\n",
    "\n",
    "      #计算target\n",
    "      with torch.no_grad():\n",
    "        target = model_delay(next_state)\n",
    "      target = target.max(dim=1)[0].reshape(-1, 1)\n",
    "      target = target * 0.99 * (1 - over) + reward\n",
    "\n",
    "      \"code change begin\"\n",
    "      # 根据概率缩放loss\n",
    "      r = torch.FloatTensor([pool.prob[i] for i in idx])\n",
    "      r = (1 - r).clamp(0.1, 1.0).reshape(-1, 1)\n",
    "      \n",
    "      loss = loss_fn(value, target)\n",
    "      (loss * r).mean(0).backward()\n",
    "      \n",
    "      optimizer.step()\n",
    "      optimizer.zero_grad()\n",
    "      \n",
    "      # 根据loss调整权重\n",
    "      for i, j in zip(idx.tolist(), loss.abs().sigmoid().flatten().tolist()):\n",
    "        pool.prob[i] = j\n",
    "      \"code change end\"\n",
    "\n",
    "    #复制参数\n",
    "    if (epoch + 1) % 5 == 0:\n",
    "      model_delay.load_state_dict(model.state_dict())\n",
    "\n",
    "    if epoch % 100 == 0:\n",
    "      test_result = sum([play()[-1] for _ in range(20)]) / 20\n",
    "      print(epoch, len(pool), pool.prob[::5000], test_result) # code changed\n",
    "\n",
    "\n",
    "train()"
   ]
  },
  {
   "cell_type": "code",
   "execution_count": 6,
   "metadata": {},
   "outputs": [
    {
     "data": {
      "image/png": "[encoded data removed]",
      "text/plain": [
       "<Figure size 300x300 with 1 Axes>"
      ]
     },
     "metadata": {},
     "output_type": "display_data"
    },
    {
     "data": {
      "text/plain": [
       "200.0"
      ]
     },
     "execution_count": 6,
     "metadata": {},
     "output_type": "execute_result"
    }
   ],
   "source": [
    "play(True)[-1]"
   ]
  }
 ],
 "metadata": {
  "kernelspec": {
   "display_name": "RL_learning2",
   "language": "python",
   "name": "python3"
  },
  "language_info": {
   "codemirror_mode": {
    "name": "ipython",
    "version": 3
   },
   "file_extension": ".py",
   "mimetype": "text/x-python",
   "name": "python",
   "nbconvert_exporter": "python",
   "pygments_lexer": "ipython3",
   "version": "3.9.21"
  }
 },
 "nbformat": 4,
 "nbformat_minor": 2
}
