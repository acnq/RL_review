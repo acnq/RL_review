{
 "cells": [
  {
   "cell_type": "markdown",
   "metadata": {},
   "source": [
    "## Imitative Learning: IL in continuous action space\n",
    "\n",
    "模仿学习：连续动作空间\n",
    "\n",
    "模拟数据集中的动作,就是传统的深度学习而已"
   ]
  },
  {
   "cell_type": "code",
   "execution_count": 49,
   "metadata": {},
   "outputs": [
    {
     "data": {
      "text/plain": [
       "(20000, (tensor([ 0.4413,  0.8974, -0.7139]), tensor([-1.0650])))"
      ]
     },
     "execution_count": 49,
     "metadata": {},
     "output_type": "execute_result"
    }
   ],
   "source": [
    "import torch\n",
    "\n",
    "# 封装数据集\n",
    "class Dataset(torch.utils.data.Dataset):\n",
    "  \n",
    "  def __init__(self):\n",
    "    import numpy as np\n",
    "    data = np.loadtxt('continuous_act.txt')\n",
    "    self.state = torch.FloatTensor(data[:, :3])\n",
    "    self.action = torch.FloatTensor(data[:, -1]).reshape(-1, 1)\n",
    "    \n",
    "  def __len__(self):\n",
    "    return len(self.state)\n",
    "  \n",
    "  def __getitem__(self, i):\n",
    "    return self.state[i], self.action[i]\n",
    "  \n",
    "dataset = Dataset()\n",
    "len(dataset), dataset[0]"
   ]
  },
  {
   "cell_type": "code",
   "execution_count": 50,
   "metadata": {},
   "outputs": [
    {
     "data": {
      "text/plain": [
       "(2500,\n",
       " [tensor([[-0.9830,  0.1837, -8.0000],\n",
       "          [ 0.8635,  0.5043, -2.2452],\n",
       "          [ 0.9721,  0.2344, -0.0878],\n",
       "          [ 0.9717,  0.2363,  0.1394],\n",
       "          [ 0.9749,  0.2226, -0.0159],\n",
       "          [ 0.4976, -0.8674,  5.9369],\n",
       "          [ 0.9990, -0.0449, -1.5520],\n",
       "          [ 0.8682,  0.4962, -2.3543]]),\n",
       "  tensor([[-0.9551],\n",
       "          [-0.3260],\n",
       "          [-0.5088],\n",
       "          [-0.6730],\n",
       "          [-0.0062],\n",
       "          [-1.3066],\n",
       "          [ 0.3254],\n",
       "          [-0.3072]])])"
      ]
     },
     "execution_count": 50,
     "metadata": {},
     "output_type": "execute_result"
    }
   ],
   "source": [
    "# 数据加载器\n",
    "loader = torch.utils.data.DataLoader(dataset=dataset, batch_size=8, shuffle=True, drop_last=True)\n",
    "len(loader), next(iter(loader))"
   ]
  },
  {
   "cell_type": "code",
   "execution_count": 51,
   "metadata": {},
   "outputs": [
    {
     "data": {
      "text/plain": [
       "torch.Size([2, 1])"
      ]
     },
     "execution_count": 51,
     "metadata": {},
     "output_type": "execute_result"
    }
   ],
   "source": [
    "# 定义模型\n",
    "model = torch.nn.Sequential(\n",
    "  torch.nn.Linear(3, 64),\n",
    "  torch.nn.ReLU(),\n",
    "  torch.nn.Linear(64, 64),\n",
    "  torch.nn.ReLU(),\n",
    "  torch.nn.Linear(64, 1),\n",
    "  torch.nn.Tanh(),\n",
    ")\n",
    "\n",
    "model(torch.randn(2, 3)).shape"
   ]
  },
  {
   "cell_type": "code",
   "execution_count": 52,
   "metadata": {},
   "outputs": [
    {
     "name": "stdout",
     "output_type": "stream",
     "text": [
      "0 0.08466440439224243\n",
      "1 0.049497224390506744\n",
      "2 0.0464479997754097\n",
      "3 0.055240996181964874\n",
      "4 0.09435778856277466\n",
      "5 0.09823344647884369\n",
      "6 0.012770024128258228\n",
      "7 0.045108359307050705\n",
      "8 0.03925003856420517\n",
      "9 0.0412198081612587\n"
     ]
    }
   ],
   "source": [
    "# 训练\n",
    "def train():\n",
    "  model.train()\n",
    "  optimizer = torch.optim.Adam(model.parameters(), lr=2e-4)\n",
    "  loss_fn = torch.nn.MSELoss()\n",
    "  \n",
    "  for epoch in range(10):\n",
    "    for i, (state, action) in enumerate(loader):\n",
    "      out = model(state)\n",
    "      \n",
    "      loss = loss_fn(out, action)\n",
    "      loss.backward()\n",
    "      optimizer.step()\n",
    "      optimizer.zero_grad()\n",
    "      \n",
    "    if epoch % 1 == 0:\n",
    "      print(epoch, loss.item())\n",
    "      \n",
    "train()"
   ]
  },
  {
   "cell_type": "code",
   "execution_count": 53,
   "metadata": {},
   "outputs": [
    {
     "data": {
      "image/png": "[encoded data removed]",
      "text/plain": [
       "<Figure size 300x300 with 1 Axes>"
      ]
     },
     "metadata": {},
     "output_type": "display_data"
    }
   ],
   "source": [
    "import gym\n",
    "\n",
    "# 定义环境\n",
    "class MyWrapper(gym.Wrapper):\n",
    "  \n",
    "  def __init__(self):\n",
    "    env = gym.make('Pendulum-v1', render_mode='rgb_array')\n",
    "    super().__init__(env)\n",
    "    self.env = env\n",
    "    self.step_n = 0\n",
    "    \n",
    "  def reset(self):\n",
    "    state, _ = self.env.reset()\n",
    "    self.step_n = 0\n",
    "    return state\n",
    "  \n",
    "  def step(self, action):\n",
    "    state, reward, terminated, truncated, info = self.env.step([action * 2])\n",
    "    over = terminated or truncated\n",
    "\n",
    "    # 偏移reward, 便于训练\n",
    "    reward = (reward + 8) / 8\n",
    "    \n",
    "    #限制最大步数\n",
    "    self.step_n += 1\n",
    "    if self.step_n >= 200:\n",
    "      over = True\n",
    "\n",
    "    return state, reward, over\n",
    "  \n",
    "  # 打印游戏图像\n",
    "  def show(self):\n",
    "    from matplotlib import pyplot as plt\n",
    "    plt.figure(figsize=(3, 3))\n",
    "    plt.imshow(self.env.render())\n",
    "    plt.show()\n",
    "    \n",
    "env = MyWrapper()\n",
    "\n",
    "env.reset()\n",
    "\n",
    "env.show()"
   ]
  },
  {
   "cell_type": "code",
   "execution_count": 54,
   "metadata": {},
   "outputs": [
    {
     "data": {
      "text/plain": [
       "145.42952961886095"
      ]
     },
     "execution_count": 54,
     "metadata": {},
     "output_type": "execute_result"
    }
   ],
   "source": [
    "from IPython import display\n",
    "import random\n",
    "\n",
    "\n",
    "#玩一局游戏并记录数据\n",
    "def play(show=False):\n",
    "  reward_sum = 0\n",
    "\n",
    "  state = env.reset()\n",
    "  over = False\n",
    "  while not over:\n",
    "    action = model(torch.FloatTensor(state).reshape(1, 3)).item()\n",
    "  \n",
    "    # 增加噪声，增加探索\n",
    "    action += random.normalvariate(mu=0, sigma=0.2)  \n",
    "\n",
    "    state, reward, over = env.step(action)\n",
    "    reward_sum += reward\n",
    "\n",
    "    if show:\n",
    "      display.clear_output(wait=True)\n",
    "      env.show()\n",
    "\n",
    "  return reward_sum\n",
    "\n",
    "# 测试\n",
    "sum([play() for _ in range(20)]) / 20"
   ]
  },
  {
   "cell_type": "code",
   "execution_count": 55,
   "metadata": {},
   "outputs": [
    {
     "data": {
      "image/png": "[encoded data removed]",
      "text/plain": [
       "<Figure size 300x300 with 1 Axes>"
      ]
     },
     "metadata": {},
     "output_type": "display_data"
    },
    {
     "data": {
      "text/plain": [
       "198.53143476954068"
      ]
     },
     "execution_count": 55,
     "metadata": {},
     "output_type": "execute_result"
    }
   ],
   "source": [
    "play(True)"
   ]
  }
 ],
 "metadata": {
  "kernelspec": {
   "display_name": "RL_learning2",
   "language": "python",
   "name": "python3"
  },
  "language_info": {
   "codemirror_mode": {
    "name": "ipython",
    "version": 3
   },
   "file_extension": ".py",
   "mimetype": "text/x-python",
   "name": "python",
   "nbconvert_exporter": "python",
   "pygments_lexer": "ipython3",
   "version": "3.9.21"
  }
 },
 "nbformat": 4,
 "nbformat_minor": 2
}
