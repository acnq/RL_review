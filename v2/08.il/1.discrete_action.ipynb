{
 "cells": [
  {
   "cell_type": "markdown",
   "metadata": {},
   "source": [
    "## Imitative Learning: IL in discrete action space\n",
    "\n",
    "模仿学习：离散动作空间\n",
    "\n",
    "模拟数据集中的动作,就是传统的深度学习而已"
   ]
  },
  {
   "cell_type": "code",
   "execution_count": 1,
   "metadata": {},
   "outputs": [
    {
     "data": {
      "text/plain": [
       "(20000, (tensor([-0.0028,  0.0180, -0.0188, -0.0368]), tensor(0)))"
      ]
     },
     "execution_count": 1,
     "metadata": {},
     "output_type": "execute_result"
    }
   ],
   "source": [
    "import torch\n",
    "\n",
    "# 封装数据集\n",
    "class Dataset(torch.utils.data.Dataset):\n",
    "  \n",
    "  def __init__(self):\n",
    "    import numpy as np\n",
    "    data = np.loadtxt('discrete_act.txt')\n",
    "    self.state = torch.FloatTensor(data[:, :4])\n",
    "    self.action = torch.LongTensor(data[:, -1])\n",
    "    \n",
    "  def __len__(self):\n",
    "    return len(self.state)\n",
    "  \n",
    "  def __getitem__(self, i):\n",
    "    return self.state[i], self.action[i]\n",
    "  \n",
    "dataset = Dataset()\n",
    "len(dataset), dataset[0]"
   ]
  },
  {
   "cell_type": "code",
   "execution_count": 2,
   "metadata": {},
   "outputs": [
    {
     "data": {
      "text/plain": [
       "(2500,\n",
       " [tensor([[ 0.0623, -0.1899, -0.0070,  0.3306],\n",
       "          [ 0.0777, -0.0241, -0.0074,  0.1011],\n",
       "          [ 0.0626,  0.2268,  0.0048, -0.2616],\n",
       "          [-0.0168,  0.0035,  0.0312,  0.1129],\n",
       "          [ 0.0899, -0.0381,  0.0091,  0.0839],\n",
       "          [ 0.0327, -0.0116, -0.0010,  0.1070],\n",
       "          [ 0.0989, -0.3522,  0.0062,  0.5993],\n",
       "          [ 0.1507, -0.0397, -0.0036,  0.1151]]),\n",
       "  tensor([1, 0, 0, 1, 0, 1, 1, 1])])"
      ]
     },
     "execution_count": 2,
     "metadata": {},
     "output_type": "execute_result"
    }
   ],
   "source": [
    "# 数据加载器\n",
    "loader = torch.utils.data.DataLoader(dataset=dataset, batch_size=8, shuffle=True, drop_last=True)\n",
    "len(loader), next(iter(loader))"
   ]
  },
  {
   "cell_type": "code",
   "execution_count": 3,
   "metadata": {},
   "outputs": [
    {
     "data": {
      "text/plain": [
       "torch.Size([2, 2])"
      ]
     },
     "execution_count": 3,
     "metadata": {},
     "output_type": "execute_result"
    }
   ],
   "source": [
    "# 定义模型\n",
    "model = torch.nn.Sequential(\n",
    "  torch.nn.Linear(4, 64),\n",
    "  torch.nn.ReLU(),\n",
    "  torch.nn.Linear(64, 64),\n",
    "  torch.nn.ReLU(),\n",
    "  torch.nn.Linear(64, 2)\n",
    ")\n",
    "\n",
    "model(torch.randn(2, 4)).shape"
   ]
  },
  {
   "cell_type": "code",
   "execution_count": 4,
   "metadata": {},
   "outputs": [
    {
     "name": "stdout",
     "output_type": "stream",
     "text": [
      "0 0.2121366560459137 1.0\n",
      "1 0.2145334631204605 1.0\n",
      "2 0.09080201387405396 1.0\n",
      "3 0.11564602702856064 1.0\n",
      "4 0.4120810627937317 0.75\n",
      "5 0.9859985709190369 0.75\n",
      "6 0.11100051552057266 1.0\n",
      "7 0.17572951316833496 0.875\n",
      "8 0.19733551144599915 0.875\n",
      "9 0.3027347922325134 0.875\n"
     ]
    }
   ],
   "source": [
    "# 训练\n",
    "def train():\n",
    "  model.train()\n",
    "  optimizer = torch.optim.Adam(model.parameters(), lr=1e-3)\n",
    "  loss_fn = torch.nn.CrossEntropyLoss()\n",
    "  \n",
    "  for epoch in range(10):\n",
    "    for i, (state, action) in enumerate(loader):\n",
    "      out = model(state)\n",
    "      loss = loss_fn(out, action)\n",
    "      loss.backward()\n",
    "      optimizer.step()\n",
    "      optimizer.zero_grad()\n",
    "      \n",
    "    if epoch % 1 == 0:\n",
    "      out = out.argmax(dim=1)\n",
    "      acc = (out == action).sum().item() / len(action)\n",
    "      print(epoch, loss.item(), acc)\n",
    "      \n",
    "train()"
   ]
  },
  {
   "cell_type": "code",
   "execution_count": 5,
   "metadata": {},
   "outputs": [
    {
     "data": {
      "image/png": "[encoded data removed]",
      "text/plain": [
       "<Figure size 300x300 with 1 Axes>"
      ]
     },
     "metadata": {},
     "output_type": "display_data"
    }
   ],
   "source": [
    "import gym\n",
    "\n",
    "# 定义环境\n",
    "class MyWrapper(gym.Wrapper):\n",
    "  \n",
    "  def __init__(self):\n",
    "    env = gym.make('CartPole-v1', render_mode='rgb_array')\n",
    "    super().__init__(env)\n",
    "    self.env = env\n",
    "    self.step_n = 0\n",
    "    \n",
    "  def reset(self):\n",
    "    state, _ = self.env.reset()\n",
    "    self.step_n = 0\n",
    "    return state\n",
    "  \n",
    "  def step(self, action):\n",
    "    state, reward, terminated, truncated, info = self.env.step(action)\n",
    "    over = terminated or truncated\n",
    "\n",
    "    #限制最大步数\n",
    "    self.step_n += 1\n",
    "    if self.step_n >= 200:\n",
    "      over = True\n",
    "      \n",
    "    #没坚持到最后,扣分\n",
    "    if over and self.step_n < 200:\n",
    "        reward = -1000\n",
    "\n",
    "    return state, reward, over\n",
    "  \n",
    "  # 打印游戏图像\n",
    "  def show(self):\n",
    "    from matplotlib import pyplot as plt\n",
    "    plt.figure(figsize=(3, 3))\n",
    "    plt.imshow(self.env.render())\n",
    "    plt.show()\n",
    "    \n",
    "env = MyWrapper()\n",
    "\n",
    "env.reset()\n",
    "\n",
    "env.show()"
   ]
  },
  {
   "cell_type": "code",
   "execution_count": 8,
   "metadata": {},
   "outputs": [
    {
     "data": {
      "text/plain": [
       "200.0"
      ]
     },
     "execution_count": 8,
     "metadata": {},
     "output_type": "execute_result"
    }
   ],
   "source": [
    "from IPython import display\n",
    "import random\n",
    "\n",
    "\n",
    "#玩一局游戏并记录数据\n",
    "def play(show=False):\n",
    "  reward_sum = 0\n",
    "\n",
    "  state = env.reset()\n",
    "  over = False\n",
    "  while not over:\n",
    "    action = model(torch.FloatTensor(state).reshape(1, 4)).argmax().item()\n",
    "    if random.random() < 0.1:\n",
    "      action = env.action_space.sample()\n",
    "\n",
    "    state, reward, over = env.step(action)\n",
    "    reward_sum += reward\n",
    "\n",
    "    if show:\n",
    "      display.clear_output(wait=True)\n",
    "      env.show()\n",
    "\n",
    "  return reward_sum\n",
    "\n",
    "# 测试\n",
    "sum([play() for _ in range(20)]) / 20"
   ]
  },
  {
   "cell_type": "code",
   "execution_count": 9,
   "metadata": {},
   "outputs": [
    {
     "data": {
      "image/png": "[encoded data removed]",
      "text/plain": [
       "<Figure size 300x300 with 1 Axes>"
      ]
     },
     "metadata": {},
     "output_type": "display_data"
    },
    {
     "data": {
      "text/plain": [
       "200.0"
      ]
     },
     "execution_count": 9,
     "metadata": {},
     "output_type": "execute_result"
    }
   ],
   "source": [
    "play(True)"
   ]
  }
 ],
 "metadata": {
  "kernelspec": {
   "display_name": "RL_learning2",
   "language": "python",
   "name": "python3"
  },
  "language_info": {
   "codemirror_mode": {
    "name": "ipython",
    "version": 3
   },
   "file_extension": ".py",
   "mimetype": "text/x-python",
   "name": "python",
   "nbconvert_exporter": "python",
   "pygments_lexer": "ipython3",
   "version": "3.9.21"
  }
 },
 "nbformat": 4,
 "nbformat_minor": 2
}
