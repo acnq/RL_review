{
 "cells": [
  {
   "cell_type": "markdown",
   "metadata": {},
   "source": [
    "## SAC: discrete action, simplified\n",
    "\n",
    "soft actor-critic\n",
    "\n",
    "最大化动作的熵,增强模型的稳定性\n",
    "\n",
    "$$\n",
    "Q(s, a) + α \\text{Entropy}[Q(s, *)]\n",
    "$$\n",
    "\n",
    "训练时$α$固定，并且只用一个Value模型评估Q函数"
   ]
  },
  {
   "cell_type": "code",
   "execution_count": 2,
   "metadata": {},
   "outputs": [
    {
     "data": {
      "image/png": "[encoded data removed]",
      "text/plain": [
       "<Figure size 300x300 with 1 Axes>"
      ]
     },
     "metadata": {},
     "output_type": "display_data"
    }
   ],
   "source": [
    "import gym\n",
    "\n",
    "# 定义环境\n",
    "class MyWrapper(gym.Wrapper):\n",
    "  \n",
    "  def __init__(self):\n",
    "    env = gym.make('Pendulum-v1', render_mode='rgb_array')\n",
    "    super().__init__(env)\n",
    "    self.env = env\n",
    "    self.step_n = 0\n",
    "    \n",
    "  def reset(self):\n",
    "    state, _ = self.env.reset()\n",
    "    self.step_n = 0\n",
    "    return state\n",
    "  \n",
    "  def step(self, action):\n",
    "    state, reward, terminated, truncated, info = self.env.step([action * 2])\n",
    "    over = terminated or truncated\n",
    "\n",
    "    # 偏移reward便于训练\n",
    "    reward = (reward + 8) / 8\n",
    "    \n",
    "    #限制最大步数\n",
    "    self.step_n += 1\n",
    "    if self.step_n >= 200:\n",
    "      over = True\n",
    "\n",
    "    return state, reward, over\n",
    "  \n",
    "  # 打印游戏图像\n",
    "  def show(self):\n",
    "    from matplotlib import pyplot as plt\n",
    "    plt.figure(figsize=(3, 3))\n",
    "    plt.imshow(self.env.render())\n",
    "    plt.show()\n",
    "    \n",
    "env = MyWrapper()\n",
    "\n",
    "env.reset()\n",
    "\n",
    "env.show()"
   ]
  },
  {
   "cell_type": "code",
   "execution_count": 3,
   "metadata": {},
   "outputs": [
    {
     "data": {
      "text/plain": [
       "(tensor([[0.1118],\n",
       "         [0.1651]], grad_fn=<TanhBackward0>),\n",
       " tensor([[1.0494],\n",
       "         [1.1032]], grad_fn=<ExpBackward0>))"
      ]
     },
     "execution_count": 3,
     "metadata": {},
     "output_type": "execute_result"
    }
   ],
   "source": [
    "import torch\n",
    "\t\n",
    "# 演员模型：计算动作概率\n",
    "class ModelAction(torch.nn.Module):\n",
    "  def __init__(self):\n",
    "    super().__init__()\n",
    "    self.s = torch.nn.Sequential(\n",
    "      torch.nn.Linear(3, 64),\n",
    "      torch.nn.ReLU(),\n",
    "      torch.nn.Linear(64, 64),\n",
    "      torch.nn.ReLU(),\n",
    "    )\n",
    "    \n",
    "    self.mu = torch.nn.Sequential(\n",
    "      torch.nn.Linear(64, 1),\n",
    "      torch.nn.Tanh(),\n",
    "    )\n",
    "    self.sigma = torch.nn.Sequential(\n",
    "      torch.nn.Linear(64, 1),\n",
    "      torch.nn.Tanh(),\n",
    "    )\n",
    "  def forward(self, state):\n",
    "    state = self.s(state)\n",
    "    return self.mu(state), self.sigma(state).exp()\n",
    " \n",
    "model_action = ModelAction()\n",
    "model_action(torch.randn(2, 3))"
   ]
  },
  {
   "cell_type": "code",
   "execution_count": 4,
   "metadata": {},
   "outputs": [
    {
     "data": {
      "text/plain": [
       "tensor([[-0.0693],\n",
       "        [-0.1362]], grad_fn=<AddmmBackward0>)"
      ]
     },
     "execution_count": 4,
     "metadata": {},
     "output_type": "execute_result"
    }
   ],
   "source": [
    "model_value = torch.nn.Sequential(\n",
    "\ttorch.nn.Linear(4, 64),\n",
    "\ttorch.nn.ReLU(),\n",
    "\ttorch.nn.Linear(64, 64),\n",
    "\ttorch.nn.ReLU(),\n",
    "\ttorch.nn.Linear(64, 1),\n",
    ")\n",
    "\n",
    "model_value_next = torch.nn.Sequential(\n",
    "\ttorch.nn.Linear(4, 64),\n",
    "\ttorch.nn.ReLU(),\n",
    "\ttorch.nn.Linear(64, 64),\n",
    "\ttorch.nn.ReLU(),\n",
    "\ttorch.nn.Linear(64, 1),\n",
    ")\n",
    "\n",
    "\n",
    "model_value_next.load_state_dict(model_value.state_dict())\n",
    "model_value(torch.randn(2, 4))"
   ]
  },
  {
   "cell_type": "code",
   "execution_count": 6,
   "metadata": {},
   "outputs": [
    {
     "data": {
      "text/plain": [
       "71.65135911632228"
      ]
     },
     "execution_count": 6,
     "metadata": {},
     "output_type": "execute_result"
    }
   ],
   "source": [
    "from IPython import display\n",
    "import random\n",
    "\n",
    "\n",
    "#玩一局游戏并记录数据\n",
    "def play(show=False):\n",
    "  data = []\n",
    "  reward_sum = 0\n",
    "\n",
    "  state = env.reset()\n",
    "  over = False\n",
    "  while not over:\n",
    "    # 根据环境采样\n",
    "    mu, sigma = model_action(torch.FloatTensor(state).reshape(1, 3))\n",
    "    action = random.normalvariate(mu=mu.item(), sigma=sigma.item())\n",
    "\n",
    "    next_state, reward, over = env.step(action)\n",
    "\n",
    "    data.append((state, action, reward, next_state, over))\n",
    "    reward_sum += reward\n",
    "    \n",
    "    state = next_state\n",
    "\n",
    "    if show:\n",
    "      display.clear_output(wait=True)\n",
    "      env.show()\n",
    "\n",
    "  return data, reward_sum\n",
    "\n",
    "play()[-1]"
   ]
  },
  {
   "cell_type": "code",
   "execution_count": 7,
   "metadata": {},
   "outputs": [
    {
     "name": "stderr",
     "output_type": "stream",
     "text": [
      "C:\\Users\\fanyu\\AppData\\Local\\Temp\\ipykernel_14600\\1686063259.py:25: UserWarning: Creating a tensor from a list of numpy.ndarrays is extremely slow. Please consider converting the list to a single numpy.ndarray with numpy.array() before converting to a tensor. (Triggered internally at  C:\\actions-runner\\_work\\pytorch\\pytorch\\builder\\windows\\pytorch\\torch\\csrc\\utils\\tensor_new.cpp:204.)\n",
      "  state = torch.FloatTensor([i[0] for i in data]).reshape(-1, 3)\n"
     ]
    },
    {
     "data": {
      "text/plain": [
       "(200,\n",
       " (array([ 0.48410323,  0.8750109 , -0.10222378], dtype=float32),\n",
       "  -0.06000919539654043,\n",
       "  0.8579674028090643,\n",
       "  array([0.4604805, 0.8876698, 0.5360316], dtype=float32),\n",
       "  False))"
      ]
     },
     "execution_count": 7,
     "metadata": {},
     "output_type": "execute_result"
    }
   ],
   "source": [
    "class Pool:\n",
    "  \n",
    "  def __init__(self):\n",
    "    self.pool = []\n",
    "    \n",
    "  def __len__(self):\n",
    "    return len(self.pool)\n",
    "  \n",
    "  def __getitem__(self, i):\n",
    "    return self.pool[i]\n",
    "  \n",
    "  # 更新动作\n",
    "  def update(self):\n",
    "    # 每次更新至少N条数据\n",
    "    old_len = len(self.pool)\n",
    "    while len(pool) - old_len < 200:\n",
    "      self.pool.extend(play()[0])\n",
    "      \n",
    "    # 保留最新N条数据\n",
    "    self.pool = self.pool[-2_0000:]\n",
    "    \n",
    "  def sample(self):\n",
    "    data = random.sample(self.pool, 64)\n",
    "    \n",
    "    state = torch.FloatTensor([i[0] for i in data]).reshape(-1, 3)\n",
    "    action = torch.FloatTensor([i[1] for i in data]).reshape(-1, 1)\n",
    "    reward = torch.FloatTensor([i[2] for i in data]).reshape(-1, 1)\n",
    "    next_state = torch.FloatTensor([i[3] for i in data]).reshape(-1, 3)\n",
    "    over = torch.LongTensor([i[4] for i in data]).reshape(-1, 1)\n",
    "    \n",
    "    return state, action, reward, next_state, over\n",
    "  \n",
    "pool = Pool()\n",
    "pool.update()\n",
    "state, action, reward, next_state, over = pool.sample()\n",
    "len(pool), pool[0]"
   ]
  },
  {
   "cell_type": "code",
   "execution_count": 9,
   "metadata": {},
   "outputs": [],
   "source": [
    "optimizer_action = torch.optim.Adam(model_action.parameters(), lr=5e-4)\n",
    "optimizer_value = torch.optim.Adam(model_value.parameters(), lr=5e-3)\n",
    "\n",
    "\n",
    "def soft_update(_from, _to):\n",
    "  for _from, _to in zip(_from.parameters(), _to.parameters()):\n",
    "    value = _to.data * 0.995 + _from.data * 0.005\n",
    "    _to.data.copy_(value)\n",
    "    \n",
    "def get_action_entroy(state):\n",
    "  mu, sigma = model_action(torch.FloatTensor(state).reshape(-1, 3))\n",
    "  dist = torch.distributions.Normal(mu, sigma)\n",
    "  \n",
    "  action = dist.rsample()\n",
    "  \n",
    "  return action, sigma\n",
    "    \n",
    "def requires_grad(model, value):\n",
    "  for param in model.parameters():\n",
    "    param.requires_grad_(value)"
   ]
  },
  {
   "cell_type": "code",
   "execution_count": 10,
   "metadata": {},
   "outputs": [
    {
     "data": {
      "text/plain": [
       "0.3770737051963806"
      ]
     },
     "execution_count": 10,
     "metadata": {},
     "output_type": "execute_result"
    }
   ],
   "source": [
    "# critic 模型训练\n",
    "def train_value(state, action, reward, next_state, over):\n",
    "  requires_grad(model_value, True)\n",
    "  requires_grad(model_action, False)\n",
    "  \n",
    "  # 计算targets\n",
    "  with torch.no_grad():\n",
    "    # 计算动作熵\n",
    "    next_action, entropy = get_action_entroy(next_state)\n",
    "    \n",
    "    # 评估next_state价值\n",
    "    input = torch.cat([next_state, next_action], dim=1)\n",
    "    target = model_value_next(input)\n",
    "    \n",
    "  # 加权熵，越大越好\n",
    "  target = target + 5e-3 * entropy\n",
    "  target = target * 0.99 * (1 - over) + reward\n",
    "  \n",
    "  # 计算value\n",
    "  value = model_value(torch.cat([state, action], dim=1))\n",
    "  \n",
    "  loss = torch.nn.functional.mse_loss(value, target)\n",
    "  \n",
    "  loss.backward()\n",
    "  optimizer_value.step()\n",
    "  optimizer_value.zero_grad()\n",
    "  \n",
    "  return loss.item()\n",
    "\n",
    "train_value(state, action, reward, next_state, over)"
   ]
  },
  {
   "cell_type": "code",
   "execution_count": 11,
   "metadata": {},
   "outputs": [
    {
     "data": {
      "text/plain": [
       "-0.11048859357833862"
      ]
     },
     "execution_count": 11,
     "metadata": {},
     "output_type": "execute_result"
    }
   ],
   "source": [
    "# 训练actor\n",
    "def train_action(state):\n",
    "  requires_grad(model_action, True)\n",
    "  requires_grad(model_value, False)\n",
    "  \n",
    "  # 计算熵\n",
    "  action, entropy = get_action_entroy(state)\n",
    "  \n",
    "  # 计算value\n",
    "  value = model_value(torch.cat([state, action], dim=1))\n",
    "  \n",
    "  # 加权熵\n",
    "  loss = -(value + 5e-3 * entropy).mean()\n",
    "  \n",
    "  # 使用model_value计算model_action的loss\n",
    "  loss.backward()\n",
    "  optimizer_action.step()\n",
    "  optimizer_action.zero_grad()\n",
    "  \n",
    "  return loss.item()\n",
    "\n",
    "train_action(state)"
   ]
  },
  {
   "cell_type": "code",
   "execution_count": 12,
   "metadata": {},
   "outputs": [
    {
     "name": "stdout",
     "output_type": "stream",
     "text": [
      "0 400 -7.514155944258805\n",
      "10 2400 25.754206168141117\n",
      "20 4400 170.5237385643297\n",
      "30 6400 173.52128826888588\n",
      "40 8400 181.0996780462193\n",
      "50 10400 176.22230261133765\n",
      "60 12400 169.07225215488756\n",
      "70 14400 172.0458041352938\n",
      "80 16400 164.51358475688093\n",
      "90 18400 174.91340305582602\n",
      "100 20000 177.36928121805195\n",
      "110 20000 180.32899372617146\n",
      "120 20000 93.61343487315551\n",
      "130 20000 181.7154805319696\n",
      "140 20000 175.80455643845514\n",
      "150 20000 166.53411429963836\n",
      "160 20000 180.20399339066523\n",
      "170 20000 180.77739054622208\n",
      "180 20000 173.80450234376138\n",
      "190 20000 177.50072569777726\n"
     ]
    }
   ],
   "source": [
    "#训练\n",
    "def train():\n",
    "  model_action.train()\n",
    "  model_value.train()\n",
    "\n",
    "\t# 共更新N轮数据\n",
    "  for epoch in range(200):\n",
    "    # 更新N条数据\n",
    "    pool.update()\n",
    "    \n",
    "    # 每次更新过数据后,学习N次\n",
    "    for i in range(200):\n",
    "      # 采样一批\n",
    "      state, action, reward, next_state, over = pool.sample()\n",
    "\n",
    "      # 训练\n",
    "      train_value(state, action, reward, next_state, over)\n",
    "      train_action(state)\n",
    "      soft_update(model_value, model_value_next)\n",
    "\n",
    "    if epoch % 10 == 0:\n",
    "      test_result = sum([play()[-1] for _ in range(20)]) / 20\n",
    "      print(epoch, len(pool), test_result)\n",
    "\n",
    "train()"
   ]
  },
  {
   "cell_type": "code",
   "execution_count": 13,
   "metadata": {},
   "outputs": [
    {
     "data": {
      "image/png": "[encoded data removed]",
      "text/plain": [
       "<Figure size 300x300 with 1 Axes>"
      ]
     },
     "metadata": {},
     "output_type": "display_data"
    },
    {
     "data": {
      "text/plain": [
       "183.2736874696301"
      ]
     },
     "execution_count": 13,
     "metadata": {},
     "output_type": "execute_result"
    }
   ],
   "source": [
    "play(True)[-1]"
   ]
  }
 ],
 "metadata": {
  "kernelspec": {
   "display_name": "RL_learning2",
   "language": "python",
   "name": "python3"
  },
  "language_info": {
   "codemirror_mode": {
    "name": "ipython",
    "version": 3
   },
   "file_extension": ".py",
   "mimetype": "text/x-python",
   "name": "python",
   "nbconvert_exporter": "python",
   "pygments_lexer": "ipython3",
   "version": "3.9.21"
  }
 },
 "nbformat": 4,
 "nbformat_minor": 2
}
