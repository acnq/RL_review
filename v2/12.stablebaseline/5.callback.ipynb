{
 "cells": [
  {
   "cell_type": "markdown",
   "metadata": {},
   "source": [
    "## CallBack Class"
   ]
  },
  {
   "cell_type": "code",
   "execution_count": 1,
   "metadata": {},
   "outputs": [
    {
     "data": {
      "text/plain": [
       "<__main__.CustomCallback at 0x16464e91670>"
      ]
     },
     "execution_count": 1,
     "metadata": {},
     "output_type": "execute_result"
    }
   ],
   "source": [
    "from stable_baselines3.common.callbacks import BaseCallback\n",
    "\n",
    "# Callback 语法\n",
    "class CustomCallback(BaseCallback):\n",
    "  \n",
    "  def __init__(self, verbose = 0):\n",
    "    super().__init__(verbose)\n",
    "    \n",
    "    # 可访问变量\n",
    "    #self.model\n",
    "    #self.training_env\n",
    "    #self.n_calls\n",
    "    #self.num_timesteps\n",
    "    #self.locals\n",
    "    #self.globals\n",
    "    #self.logger\n",
    "    #self.parent\n",
    "    \n",
    "  def _on_training_start(self)-> None:\n",
    "    # 第一个rollout前调用\n",
    "    pass\n",
    "  \n",
    "  def _on_rollout_start(self) -> None:\n",
    "    # rollout开始前\n",
    "    pass\n",
    "  \n",
    "  def _on_step(self) -> bool:\n",
    "    # env.step() 之后调用，返回False之后停止训练\n",
    "    return True\n",
    "  \n",
    "  def _on_rollout_end(self) -> None:\n",
    "    # 更新参数前调用\n",
    "    pass\n",
    "  \n",
    "  def _on_training_end(self) -> None:\n",
    "    # 训练结束前调用\n",
    "    pass\n",
    "  \n",
    "CustomCallback()"
   ]
  },
  {
   "cell_type": "code",
   "execution_count": 2,
   "metadata": {},
   "outputs": [
    {
     "data": {
      "text/html": [
       "<pre style=\"white-space:pre;overflow-x:auto;line-height:normal;font-family:Menlo,'DejaVu Sans Mono',consolas,'Courier New',monospace\">c:\\Users\\fanyu\\miniconda3\\envs\\RL_learning2\\lib\\site-packages\\rich\\live.py:231: UserWarning: install \"ipywidgets\" \n",
       "for Jupyter support\n",
       "  warnings.warn('install \"ipywidgets\" for Jupyter support')\n",
       "</pre>\n"
      ],
      "text/plain": [
       "c:\\Users\\fanyu\\miniconda3\\envs\\RL_learning2\\lib\\site-packages\\rich\\live.py:231: UserWarning: install \"ipywidgets\" \n",
       "for Jupyter support\n",
       "  warnings.warn('install \"ipywidgets\" for Jupyter support')\n"
      ]
     },
     "metadata": {},
     "output_type": "display_data"
    },
    {
     "data": {
      "text/html": [
       "<pre style=\"white-space:pre;overflow-x:auto;line-height:normal;font-family:Menlo,'DejaVu Sans Mono',consolas,'Courier New',monospace\">20\n",
       "</pre>\n"
      ],
      "text/plain": [
       "20\n"
      ]
     },
     "metadata": {},
     "output_type": "display_data"
    },
    {
     "data": {
      "text/html": [
       "<pre style=\"white-space:pre;overflow-x:auto;line-height:normal;font-family:Menlo,'DejaVu Sans Mono',consolas,'Courier New',monospace\">40\n",
       "</pre>\n"
      ],
      "text/plain": [
       "40\n"
      ]
     },
     "metadata": {},
     "output_type": "display_data"
    },
    {
     "data": {
      "text/html": [
       "<pre style=\"white-space:pre;overflow-x:auto;line-height:normal;font-family:Menlo,'DejaVu Sans Mono',consolas,'Courier New',monospace\">60\n",
       "</pre>\n"
      ],
      "text/plain": [
       "60\n"
      ]
     },
     "metadata": {},
     "output_type": "display_data"
    },
    {
     "data": {
      "text/html": [
       "<pre style=\"white-space:pre;overflow-x:auto;line-height:normal;font-family:Menlo,'DejaVu Sans Mono',consolas,'Courier New',monospace\">80\n",
       "</pre>\n"
      ],
      "text/plain": [
       "80\n"
      ]
     },
     "metadata": {},
     "output_type": "display_data"
    },
    {
     "data": {
      "text/html": [
       "<pre style=\"white-space:pre;overflow-x:auto;line-height:normal;font-family:Menlo,'DejaVu Sans Mono',consolas,'Courier New',monospace\">100\n",
       "</pre>\n"
      ],
      "text/plain": [
       "100\n"
      ]
     },
     "metadata": {},
     "output_type": "display_data"
    },
    {
     "name": "stderr",
     "output_type": "stream",
     "text": [
      "c:\\Users\\fanyu\\miniconda3\\envs\\RL_learning2\\lib\\site-packages\\stable_baselines3\\common\\callbacks.py:703: TqdmExperimentalWarning: rich is experimental/alpha\n",
      "  self.pbar = tqdm(total=self.locals[\"total_timesteps\"] - self.model.num_timesteps)\n"
     ]
    },
    {
     "data": {
      "text/html": [
       "<pre style=\"white-space:pre;overflow-x:auto;line-height:normal;font-family:Menlo,'DejaVu Sans Mono',consolas,'Courier New',monospace\"></pre>\n"
      ],
      "text/plain": []
     },
     "metadata": {},
     "output_type": "display_data"
    },
    {
     "data": {
      "text/plain": [
       "<stable_baselines3.ppo.ppo.PPO at 0x16465eb69d0>"
      ]
     },
     "execution_count": 2,
     "metadata": {},
     "output_type": "execute_result"
    }
   ],
   "source": [
    "from stable_baselines3 import PPO\n",
    "\n",
    "# 让训练只执行N步callback\n",
    "class LimitStepCallBack(BaseCallback):\n",
    "  \n",
    "  def __init__(self, verbose = 0):\n",
    "    super().__init__(verbose)\n",
    "    self.call_count = 0\n",
    "    \n",
    "  def _on_step(self):\n",
    "    self.call_count += 1\n",
    "    \n",
    "    if self.call_count % 20 == 0:\n",
    "      print(self.call_count)\n",
    "    \n",
    "    if self.call_count >= 100:\n",
    "      return False\n",
    "    \n",
    "    return True\n",
    "  \n",
    "model = PPO('MlpPolicy', 'CartPole-v1', verbose=0)\n",
    "model.learn(8000, callback=[LimitStepCallBack()], progress_bar=True)"
   ]
  }
 ],
 "metadata": {
  "kernelspec": {
   "display_name": "RL_learning2",
   "language": "python",
   "name": "python3"
  },
  "language_info": {
   "codemirror_mode": {
    "name": "ipython",
    "version": 3
   },
   "file_extension": ".py",
   "mimetype": "text/x-python",
   "name": "python",
   "nbconvert_exporter": "python",
   "pygments_lexer": "ipython3",
   "version": "3.9.21"
  }
 },
 "nbformat": 4,
 "nbformat_minor": 2
}
